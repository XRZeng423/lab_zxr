{
 "cells": [
  {
   "cell_type": "code",
   "execution_count": 1,
   "metadata": {},
   "outputs": [],
   "source": [
    "import numpy as np\n",
    "import pandas as pd\n",
    "import warnings\n",
    "warnings.filterwarnings('ignore')"
   ]
  },
  {
   "cell_type": "code",
   "execution_count": 2,
   "metadata": {},
   "outputs": [],
   "source": [
    "_DATA_DIR = '/classes/2080001_spr2022/Data/'"
   ]
  },
  {
   "cell_type": "code",
   "execution_count": 3,
   "metadata": {},
   "outputs": [
    {
     "name": "stderr",
     "output_type": "stream",
     "text": [
      "[nltk_data] Downloading package wordnet to /home/ilai0/nltk_data...\n",
      "[nltk_data]   Package wordnet is already up-to-date!\n"
     ]
    },
    {
     "data": {
      "text/plain": [
       "True"
      ]
     },
     "execution_count": 3,
     "metadata": {},
     "output_type": "execute_result"
    }
   ],
   "source": [
    "import nltk\n",
    "nltk.download('wordnet')"
   ]
  },
  {
   "cell_type": "markdown",
   "metadata": {},
   "source": [
    "# Wordnet"
   ]
  },
  {
   "cell_type": "code",
   "execution_count": 4,
   "metadata": {},
   "outputs": [
    {
     "name": "stdout",
     "output_type": "stream",
     "text": [
      "noun:good\n",
      "noun:good,goodness\n",
      "noun:good,goodness\n",
      "noun:commodity,trade_good,good\n",
      "adj:good\n",
      "adj(s):full,good\n",
      "adj:good\n",
      "adj(s):estimable,good,honorable,respectable\n",
      "adj(s):beneficial,good\n",
      "adj(s):good\n",
      "adj(s):good,just,upright\n",
      "adj(s):adept,expert,good,practiced,proficient,skillful,skilful\n",
      "adj(s):good\n",
      "adj(s):dear,good,near\n",
      "adj(s):dependable,good,safe,secure\n",
      "adj(s):good,right,ripe\n",
      "adj(s):good,well\n",
      "adj(s):effective,good,in_effect,in_force\n",
      "adj(s):good\n",
      "adj(s):good,serious\n",
      "adj(s):good,sound\n",
      "adj(s):good,salutary\n",
      "adj(s):good,honest\n",
      "adj(s):good,undecomposed,unspoiled,unspoilt\n",
      "adj(s):good\n",
      "adv:well,good\n",
      "adv:thoroughly,soundly,good\n"
     ]
    }
   ],
   "source": [
    "from nltk.corpus import wordnet as wn\n",
    "poses = {'n':'noun','v':'verb','s':'adj(s)','a':'adj','r':'adv'}\n",
    "for synset in wn.synsets('good'):\n",
    "    print(\"{}:{}\".format(poses[synset.pos()],\n",
    "                         \",\".join([l.name() for l in synset.lemmas()])))"
   ]
  },
  {
   "cell_type": "code",
   "execution_count": 5,
   "metadata": {},
   "outputs": [
    {
     "name": "stdout",
     "output_type": "stream",
     "text": [
      "noun:bank\n",
      "noun:depository_financial_institution,bank,banking_concern,banking_company\n",
      "noun:bank\n",
      "noun:bank\n",
      "noun:bank\n",
      "noun:bank\n",
      "noun:bank,cant,camber\n",
      "noun:savings_bank,coin_bank,money_box,bank\n",
      "noun:bank,bank_building\n",
      "noun:bank\n",
      "verb:bank\n",
      "verb:bank\n",
      "verb:bank\n",
      "verb:bank\n",
      "verb:bank\n",
      "verb:deposit,bank\n",
      "verb:bank\n",
      "verb:trust,swear,rely,bank\n"
     ]
    }
   ],
   "source": [
    "from nltk.corpus import wordnet as wn\n",
    "poses = {'n':'noun','v':'verb','s':'adj(s)','a':'adj','r':'adv'}\n",
    "for synset in wn.synsets('bank'):\n",
    "    print(\"{}:{}\".format(poses[synset.pos()],\n",
    "                         \",\".join([l.name() for l in synset.lemmas()])))"
   ]
  },
  {
   "cell_type": "code",
   "execution_count": 6,
   "metadata": {},
   "outputs": [
    {
     "data": {
      "text/plain": [
       "[Synset('procyonid.n.01'),\n",
       " Synset('carnivore.n.01'),\n",
       " Synset('placental.n.01'),\n",
       " Synset('mammal.n.01'),\n",
       " Synset('vertebrate.n.01'),\n",
       " Synset('chordate.n.01'),\n",
       " Synset('animal.n.01'),\n",
       " Synset('organism.n.01'),\n",
       " Synset('living_thing.n.01'),\n",
       " Synset('whole.n.02'),\n",
       " Synset('object.n.01'),\n",
       " Synset('physical_entity.n.01'),\n",
       " Synset('entity.n.01')]"
      ]
     },
     "execution_count": 6,
     "metadata": {},
     "output_type": "execute_result"
    }
   ],
   "source": [
    "from nltk.corpus import wordnet as wn\n",
    "panda = wn.synset(\"panda.n.01\")\n",
    "hyper = lambda s: s.hypernyms()\n",
    "list(panda.closure(hyper))"
   ]
  },
  {
   "cell_type": "markdown",
   "metadata": {},
   "source": [
    "# We8there"
   ]
  },
  {
   "cell_type": "code",
   "execution_count": 95,
   "metadata": {},
   "outputs": [],
   "source": [
    "import gensim \n",
    "import spacy \n",
    "from spacy.lang.en.stop_words import STOP_WORDS\n",
    "# in terminal: python -m spacy download en_core_web_md\n",
    "#from pyLDAvis import gensimvis\n",
    "import pyLDAvis.gensim as gensimvis\n",
    "import future\n",
    "# lateset verion\n",
    "# import pyLDAvis.gensim_models as gensimvis\n",
    "import re\n",
    "import string\n",
    "import operator\n",
    "from collections import defaultdict\n",
    "import pprint\n",
    "from vaderSentiment.vaderSentiment import SentimentIntensityAnalyzer # pip install vaderSentiment"
   ]
  },
  {
   "cell_type": "code",
   "execution_count": 89,
   "metadata": {},
   "outputs": [
    {
     "data": {
      "text/plain": [
       "'3.2.2'"
      ]
     },
     "execution_count": 89,
     "metadata": {},
     "output_type": "execute_result"
    }
   ],
   "source": [
    "pyLDAvis.__version__"
   ]
  },
  {
   "cell_type": "code",
   "execution_count": 90,
   "metadata": {},
   "outputs": [
    {
     "name": "stdout",
     "output_type": "stream",
     "text": [
      "Defaulting to user installation because normal site-packages is not writeable\n",
      "Requirement already satisfied: pyLDAvis in /home/ilai0/.local/lib/python3.6/site-packages (3.2.2)\n",
      "Collecting pyLDAvis\n",
      "  Using cached pyLDAvis-3.3.1.tar.gz (1.7 MB)\n",
      "  Installing build dependencies ... \u001b[?25ldone\n",
      "\u001b[?25h  Getting requirements to build wheel ... \u001b[?25ldone\n",
      "\u001b[?25h  Installing backend dependencies ... \u001b[?25ldone\n",
      "\u001b[?25h  Preparing metadata (pyproject.toml) ... \u001b[?25ldone\n",
      "\u001b[?25hRequirement already satisfied: setuptools in /usr/local/lib/python3.6/site-packages (from pyLDAvis) (59.6.0)\n",
      "  Using cached pyLDAvis-3.3.0.tar.gz (1.7 MB)\n",
      "  Installing build dependencies ... \u001b[?25ldone\n",
      "\u001b[?25h  Getting requirements to build wheel ... \u001b[?25ldone\n",
      "\u001b[?25h  Installing backend dependencies ... \u001b[?25ldone\n",
      "\u001b[?25h  Preparing metadata (pyproject.toml) ... \u001b[?25ldone\n",
      "\u001b[?25hRequirement already satisfied: scipy>=0.18.0 in /usr/local/lib64/python3.6/site-packages (from pyLDAvis) (1.5.4)\n",
      "Requirement already satisfied: joblib>=0.8.4 in /usr/local/lib/python3.6/site-packages (from pyLDAvis) (1.1.0)\n",
      "Requirement already satisfied: jinja2>=2.7.2 in /usr/local/lib64/python3.6/site-packages (from pyLDAvis) (2.11.1)\n",
      "Requirement already satisfied: wheel>=0.23.0 in /usr/local/lib/python3.6/site-packages (from pyLDAvis) (0.37.1)\n",
      "Requirement already satisfied: numexpr in /usr/local/lib64/python3.6/site-packages (from pyLDAvis) (2.7.1)\n",
      "Requirement already satisfied: future in /home/ilai0/.local/lib/python3.6/site-packages (from pyLDAvis) (0.18.2)\n",
      "Requirement already satisfied: pandas>=0.17.0 in /usr/local/lib64/python3.6/site-packages (from pyLDAvis) (1.1.5)\n",
      "Requirement already satisfied: numpy>=1.9.2 in /usr/local/lib64/python3.6/site-packages (from pyLDAvis) (1.19.5)\n",
      "Requirement already satisfied: funcy in /home/ilai0/.local/lib/python3.6/site-packages (from pyLDAvis) (1.17)\n",
      "Requirement already satisfied: MarkupSafe>=0.23 in /usr/local/lib64/python3.6/site-packages (from jinja2>=2.7.2->pyLDAvis) (1.1.1)\n",
      "Requirement already satisfied: python-dateutil>=2.7.3 in /usr/local/lib/python3.6/site-packages (from pandas>=0.17.0->pyLDAvis) (2.8.2)\n",
      "Requirement already satisfied: pytz>=2017.2 in /usr/local/lib/python3.6/site-packages (from pandas>=0.17.0->pyLDAvis) (2022.1)\n",
      "Requirement already satisfied: six>=1.5 in /usr/local/lib/python3.6/site-packages (from python-dateutil>=2.7.3->pandas>=0.17.0->pyLDAvis) (1.16.0)\n"
     ]
    }
   ],
   "source": [
    "!pip install --upgrade pyLDAvis"
   ]
  },
  {
   "cell_type": "code",
   "execution_count": 12,
   "metadata": {},
   "outputs": [],
   "source": [
    "texts = np.load(_DATA_DIR+\"we8there_texts.npy\",allow_pickle=True)"
   ]
  },
  {
   "cell_type": "code",
   "execution_count": 13,
   "metadata": {},
   "outputs": [],
   "source": [
    "dictionary     = gensim.corpora.Dictionary(texts)\n",
    "bow_corpus     = [dictionary.doc2bow(doc) for doc in texts]"
   ]
  },
  {
   "cell_type": "code",
   "execution_count": 14,
   "metadata": {},
   "outputs": [],
   "source": [
    "# Running LDA using Bag of Words\n",
    "lda_model = gensim.models.LdaMulticore(corpus=bow_corpus,id2word=dictionary,num_topics=10, passes=20,random_state = 1)"
   ]
  },
  {
   "cell_type": "code",
   "execution_count": 15,
   "metadata": {},
   "outputs": [
    {
     "data": {
      "text/html": [
       "\n",
       "<link rel=\"stylesheet\" type=\"text/css\" href=\"https://cdn.jsdelivr.net/gh/bmabey/pyLDAvis@3.2.2/pyLDAvis/js/ldavis.v1.0.0.css\">\n",
       "\n",
       "\n",
       "<div id=\"ldavis_el184691406559176449202052884845\"></div>\n",
       "<script type=\"text/javascript\">\n",
       "\n",
       "var ldavis_el184691406559176449202052884845_data = {\"mdsDat\": {\"x\": [-0.25342448977553445, -0.0639150039675129, 0.09634786260990381, 0.11100522220550042, 0.07954208110982842, 0.11922231692726326, 0.010178929157701844, 0.10203917853198254, -0.05174240187835248, -0.14925369492078067], \"y\": [-0.0964898388771496, 0.14833334178875535, -0.007642195266605903, -0.10552253582557006, -0.048530356153729255, -0.06995780262053385, -0.02050539022490223, 0.13663302729870075, 0.05589069581452454, 0.007791054066510612], \"topics\": [1, 2, 3, 4, 5, 6, 7, 8, 9, 10], \"cluster\": [1, 1, 1, 1, 1, 1, 1, 1, 1, 1], \"Freq\": [18.85015484278351, 10.90672461075677, 9.769641376918962, 9.746306490077048, 9.105808406595985, 8.689540597433446, 8.597555793058193, 8.201539869026504, 8.169534626764326, 7.963193386585253]}, \"tinfo\": {\"Term\": [\"food great\", \"veri good\", \"go back\", \"great food\", \"high recommend\", \"pull pork\", \"ice cream\", \"dine experi\", \"good food\", \"veri nice\", \"can eat\", \"great servic\", \"servic great\", \"realli good\", \"great place\", \"veri friend\", \"wine list\", \"food veri\", \"great atmospher\", \"place eat\", \"servic excel\", \"new york\", \"food servic\", \"excel food\", \"never go\", \"realli like\", \"wait staff\", \"bbq sauc\", \"sever time\", \"drink order\", \"cut fri\", \"bill just\", \"befor tip\", \"booth along\", \"just over\", \"along wall\", \"fresh cut\", \"tabl near\", \"out bag\", \"girlfriend got\", \"over drink\", \"fri realli\", \"south side\", \"girlfriend order\", \"room bar\", \"fri out\", \"took seat\", \"crinkl cut\", \"cedar street\", \"pretti empti\", \"wasn whole\", \"golden brown\", \"got littl\", \"near bar\", \"just under\", \"wall tabl\", \"toast bun\", \"didn realli\", \"near back\", \"seed bun\", \"waitress came\", \"readi order\", \"realli like\", \"whole lot\", \"grill chees\", \"east lans\", \"good size\", \"bleu chees\", \"italian beef\", \"sandwich came\", \"lettuc tomato\", \"non smoke\", \"came fri\", \"look over\", \"made way\", \"pretti much\", \"littl bit\", \"dine room\", \"came back\", \"realli good\", \"pretti good\", \"ice cream\", \"came over\", \"look like\", \"drink order\", \"park lot\", \"right away\", \"few minut\", \"end up\", \"m sure\", \"bbq sauc\", \"even though\", \"came out\", \"go back\", \"th birthday\", \"expect much\", \"veri long\", \"never go\", \"ask waitress\", \"wait anoth\", \"run out\", \"poor servic\", \"great friend\", \"wait over\", \"salad veri\", \"place doe\", \"just ok\", \"after hour\", \"m sorri\", \"wait go\", \"time wait\", \"gift shop\", \"one even\", \"food horribl\", \"restaur busi\", \"after ask\", \"over minut\", \"worst servic\", \"order wait\", \"after left\", \"pm saturday\", \"definit one\", \"get great\", \"three time\", \"came tabl\", \"wait minut\", \"over cook\", \"anoth minut\", \"go back\", \"servic just\", \"back again\", \"minut get\", \"restaur anyon\", \"bake potato\", \"go here\", \"bottl wine\", \"recommend restaur\", \"servic food\", \"italian restaur\", \"can wait\", \"long wait\", \"credit card\", \"veri disappoint\", \"long time\", \"don know\", \"saturday night\", \"come out\", \"drink order\", \"take order\", \"minut later\", \"wait staff\", \"came back\", \"veri good\", \"even though\", \"dine experi\", \"food servic\", \"mani year\", \"good work\", \"rave review\", \"dine spot\", \"seafood restaur\", \"fri rice\", \"short rib\", \"bell pepper\", \"potato fri\", \"go wrong\", \"soon after\", \"veri hard\", \"egg roll\", \"open kitchen\", \"wine beer\", \"ahi tuna\", \"good friend\", \"fri shrimp\", \"pm friday\", \"up good\", \"garlic mash\", \"fresh seafood\", \"tabl food\", \"highlight menu\", \"don wast\", \"dip sauc\", \"everyth order\", \"iceberg lettuc\", \"open daili\", \"great can\", \"definit recommend\", \"white wine\", \"can go\", \"wide varieti\", \"until pm\", \"never disappoint\", \"year now\", \"main cours\", \"chines restaur\", \"mash potato\", \"san francisco\", \"well worth\", \"take out\", \"can wait\", \"again again\", \"sweet potato\", \"restaur locat\", \"out order\", \"eat here\", \"someth els\", \"lunch dinner\", \"spring roll\", \"more like\", \"oliv oil\", \"veri friend\", \"dine room\", \"reason price\", \"go back\", \"dine experi\", \"can get\", \"veri good\", \"bit high\", \"chees steak\", \"go great\", \"food fabul\", \"bloodi mari\", \"atmospher excel\", \"absolut best\", \"great atmospher\", \"fresh bake\", \"great littl\", \"forward return\", \"place get\", \"menu vari\", \"excel wine\", \"live entertain\", \"here sever\", \"indian food\", \"food great\", \"new favorit\", \"atmospher wonder\", \"enjoy even\", \"review submit\", \"excel food\", \"menu great\", \"veri romant\", \"bake bread\", \"fun place\", \"saturday even\", \"recommend place\", \"wonder time\", \"great servic\", \"great food\", \"servic great\", \"great price\", \"excel servic\", \"food servic\", \"special occas\", \"place go\", \"food excel\", \"great place\", \"servic excel\", \"sever time\", \"servic friend\", \"soup salad\", \"look forward\", \"high recommend\", \"make reserv\", \"can eat\", \"wine list\", \"atmospher great\", \"reason price\", \"check out\", \"make sure\", \"dine room\", \"can get\", \"come close\", \"best meal\", \"outstand food\", \"food area\", \"best kept\", \"web site\", \"kept secret\", \"mani dish\", \"kitchen staff\", \"staff knowledg\", \"wonder atmospher\", \"great wine\", \"tri restaur\", \"owner chef\", \"list extens\", \"serv lunch\", \"top notch\", \"menu well\", \"great tast\", \"soup veri\", \"servic outstand\", \"worth time\", \"restaur near\", \"sandwich salad\", \"restaur staff\", \"food still\", \"best dine\", \"order wine\", \"restaur went\", \"enough share\", \"best italian\", \"staff friend\", \"best place\", \"such great\", \"wine list\", \"high recommend\", \"some best\", \"friend help\", \"lunch menu\", \"larg enough\", \"go out\", \"one favorit\", \"wait staff\", \"over year\", \"out way\", \"just right\", \"fine dine\", \"one best\", \"great time\", \"italian food\", \"great place\", \"dine experi\", \"menu offer\", \"hang out\", \"pasta dish\", \"place eat\", \"great food\", \"fast food\", \"check out\", \"ice cream\", \"veri nice\", \"atmospher great\", \"bar area\", \"main cours\", \"food good\", \"best chines\", \"bad experi\", \"dim sum\", \"restaur high\", \"good home\", \"coconut shrimp\", \"onc week\", \"best sushi\", \"place visit\", \"time visit\", \"buffet style\", \"never bad\", \"staff alway\", \"pot roast\", \"menu sever\", \"home cook\", \"great varieti\", \"home style\", \"lunch hour\", \"restaur alway\", \"chile relleno\", \"servic prompt\", \"egg benedict\", \"friend great\", \"breakfast lunch\", \"experi great\", \"beer wine\", \"alway friend\", \"least onc\", \"one expect\", \"can eat\", \"chines food\", \"go tri\", \"alway veri\", \"daili special\", \"everi time\", \"place great\", \"mexican restaur\", \"don miss\", \"veri good\", \"sushi bar\", \"best food\", \"food alway\", \"ice cream\", \"sever time\", \"love place\", \"hand down\", \"food veri\", \"each time\", \"favorit restaur\", \"salad bar\", \"make sure\", \"reason price\", \"high recommend\", \"servic excel\", \"one best\", \"great servic\", \"food good\", \"good food\", \"next time\", \"excel place\", \"fri green\", \"great job\", \"menu full\", \"hour drive\", \"good veri\", \"green tomato\", \"pizza great\", \"out place\", \"still veri\", \"price good\", \"atmospher servic\", \"veri clean\", \"thai food\", \"kung pao\", \"york citi\", \"onc month\", \"good place\", \"fanci place\", \"thai restaur\", \"doggi bag\", \"york style\", \"time place\", \"everi penni\", \"sweet sour\", \"worth everi\", \"order wrong\", \"attent staff\", \"good good\", \"wonder food\", \"new york\", \"good food\", \"select wine\", \"place eat\", \"place food\", \"place take\", \"style pizza\", \"veri good\", \"servic excel\", \"great place\", \"food good\", \"realli good\", \"take out\", \"food excel\", \"good price\", \"reason price\", \"qualiti food\", \"veri friend\", \"go back\", \"servic veri\", \"chicago style\", \"good servic\", \"veri nice\", \"staff veri\", \"salad bar\", \"servic good\", \"want go\", \"wait staff\", \"alway excel\", \"alway great\", \"here year\", \"whole experi\", \"return restaur\", \"bad food\", \"time money\", \"experi veri\", \"tourist trap\", \"restaur after\", \"wait until\", \"veri limit\", \"one better\", \"great find\", \"peopl friend\", \"authent mexican\", \"just plain\", \"french quarter\", \"great dine\", \"take some\", \"restaur onli\", \"pleasant even\", \"mediocr best\", \"price more\", \"good italian\", \"food some\", \"everyth great\", \"sever year\", \"experi wonder\", \"onli restaur\", \"servic fast\", \"veri rude\", \"great restaur\", \"servic alway\", \"dine experi\", \"custom servic\", \"food veri\", \"veri reason\", \"crust pizza\", \"restaur area\", \"food alway\", \"mexican food\", \"crab cake\", \"friend staff\", \"veri good\", \"price veri\", \"thin crust\", \"experi food\", \"veri nice\", \"italian food\", \"realli enjoy\", \"food servic\", \"servic great\", \"good servic\", \"veri poor\", \"good food\", \"mani time\", \"high recommend\", \"servic veri\", \"wait staff\", \"reason price\", \"food excel\", \"year ago\", \"great place\", \"recommend restaur\", \"feel welcom\", \"good got\", \"back rib\", \"owner came\", \"pleasant experi\", \"veri slow\", \"veri enjoy\", \"server veri\", \"food averag\", \"babi back\", \"onli problem\", \"decid eat\", \"manag came\", \"almost too\", \"ice tea\", \"wait get\", \"never again\", \"know whi\", \"feel home\", \"ate here\", \"good excel\", \"orang juic\", \"veri pleasant\", \"go somewher\", \"lunch rush\", \"time tri\", \"up some\", \"meal arriv\", \"wife order\", \"time re\", \"make feel\", \"atmospher veri\", \"definit return\", \"corn beef\", \"veri nice\", \"out world\", \"eat again\", \"veri friend\", \"staff veri\", \"came out\", \"veri relax\", \"restaur veri\", \"veri pleas\", \"servic veri\", \"went back\", \"veri good\", \"come back\", \"veri fresh\", \"best burger\", \"veri well\", \"just right\", \"veri veri\", \"go back\", \"prime rib\", \"feel like\", \"onli thing\", \"realli good\", \"wait staff\", \"look like\", \"food excel\", \"new york\", \"long time\", \"pull pork\", \"pork sandwich\", \"bbq place\", \"bbq joint\", \"potato salad\", \"bring food\", \"way too\", \"side order\", \"best bbq\", \"bake bean\", \"cole slaw\", \"littl shop\", \"up counter\", \"twenti minut\", \"sauc side\", \"pretti busi\", \"order taken\", \"flag down\", \"barbecu sauc\", \"gas station\", \"italian place\", \"plate food\", \"dessert great\", \"past few\", \"two side\", \"non exist\", \"despit fact\", \"salad sandwich\", \"monday through\", \"serv one\", \"out one\", \"minut befor\", \"over price\", \"order chicken\", \"minut after\", \"order drink\", \"bbq sauc\", \"bar food\", \"chicken salad\", \"new year\", \"food good\", \"brought out\", \"much better\", \"too much\", \"end up\", \"minut later\", \"too long\", \"set up\", \"look like\", \"tast like\", \"fast food\", \"long time\", \"pretti good\", \"pick up\", \"go back\", \"half hour\", \"noth special\", \"can get\"], \"Freq\": [249.0, 468.0, 409.0, 256.0, 225.0, 79.0, 234.0, 256.0, 189.0, 190.0, 130.0, 157.0, 143.0, 247.0, 224.0, 192.0, 145.0, 140.0, 82.0, 148.0, 107.0, 116.0, 202.0, 82.0, 72.0, 103.0, 198.0, 82.0, 117.0, 118.0, 33.90248775767986, 28.914164966231287, 24.872705468525986, 21.00521233960272, 41.96082254025938, 27.57144667137322, 45.59187626160733, 21.81295904322002, 51.14407213689378, 23.636112538188844, 16.04983648613513, 17.880187483593264, 15.96607789892344, 28.17652862581826, 16.866575104595857, 14.977278806674665, 17.783055561075212, 14.960128806047686, 14.006602515622715, 14.91321904921252, 13.043977409192797, 15.83405954592251, 13.02151442083819, 13.011232056259255, 27.868231784627522, 12.999165969442357, 12.048714614570585, 39.792479086099235, 17.569662516764524, 12.000667887524664, 70.97808909529998, 30.990527606699274, 92.53842847656865, 51.80410739699877, 32.648763152629144, 18.387578575161438, 40.77115005687356, 42.20321023389365, 62.3441404270286, 47.068459245241755, 49.436109224942925, 37.15491283651251, 25.88551150733363, 44.2227228366644, 28.072718435024, 53.336514167179814, 71.31058225082143, 182.60073283768062, 83.6073312310938, 143.15002592792294, 114.08488292411512, 130.8342302149863, 67.42124310596148, 113.31664841695569, 70.44668036705679, 64.93826509889182, 52.5782061964474, 48.11454819710945, 64.04714312508484, 47.747535129373205, 42.849742350138996, 46.35567895204197, 41.882864104639964, 41.386986268167675, 11.626572690796277, 11.576843638644851, 25.35061764189774, 60.23912593107796, 17.46964574789904, 24.83387872155172, 13.180237323358249, 34.366531290311954, 9.519600669662365, 12.519543139764812, 15.159564757938767, 9.08989090414316, 11.0142865527094, 10.006707511188608, 9.231979969374558, 27.480774875977886, 9.088405544832112, 9.755183427923809, 11.111617792133192, 9.008011466190112, 12.287315473296381, 8.324928208103296, 11.554841588171843, 8.268995284611671, 11.564229129706993, 8.904787388428788, 8.816510567125354, 8.714197497959923, 9.956622361593784, 21.66439410564977, 22.841429582171035, 37.512460457960515, 23.99618201817711, 21.65173188142173, 203.50289919317484, 12.882522188347403, 35.79163502602573, 20.91743244463947, 23.087712936064133, 24.474340475561174, 21.047499023977863, 21.31526839631681, 35.179727075794375, 30.942414911967948, 31.807319934144363, 27.457910415815654, 20.890743692330762, 25.256157272433256, 20.644458571204698, 34.156545134383926, 31.885304390632154, 27.61967408569894, 25.61924058776106, 29.624781914841726, 24.231307063099393, 23.065933556945307, 28.134477885943113, 24.80193775285701, 29.663687548670104, 25.087216869459937, 25.99830675806701, 25.433575091962318, 30.10974566004191, 12.603805666189487, 12.560024129515044, 18.36586351238504, 27.995640799869015, 33.95899715239741, 15.170204708082597, 18.299371614474047, 14.891463972827449, 28.014345405756938, 11.324965303034391, 11.114611304319878, 18.464866852046722, 16.170736492161236, 15.2260367535859, 12.288360149559656, 9.397950825451355, 15.7554803111403, 10.018535012998742, 14.034857609138951, 13.1725152823974, 24.891084633807587, 13.028465597318515, 10.279926181519663, 10.16785367917935, 21.162702317363763, 9.486742298780694, 13.504810932521984, 12.77084511018089, 8.660340960900207, 17.4693357323215, 21.441598185606132, 31.78454556019511, 35.03040571576056, 24.992419717246598, 20.88177230740118, 16.15579148672895, 43.606470681352356, 24.348532338832918, 37.51886863595571, 41.23824532419233, 36.13900820430505, 47.41664449082454, 30.126848280388312, 22.387550069006902, 22.911304361703383, 28.98758644800181, 19.38221411219134, 28.99265201493151, 21.605287231970436, 26.320885223426448, 19.029582585328498, 21.907756982311906, 20.45182281630478, 27.68117357085248, 30.332355164746968, 24.617113446414685, 27.956265514928578, 24.0884867115277, 22.218399708296513, 22.211749568711618, 11.370341967357676, 30.101255566600603, 12.561888078871549, 14.899677542531435, 11.735337362842625, 17.821371519122966, 18.341788684750718, 65.87717643114453, 17.315713637806994, 31.499818564605697, 10.321024127079824, 24.158063204127984, 10.494440190512863, 11.851462104222925, 8.97134395451736, 13.08093291215745, 25.666006932850696, 177.1472155605268, 12.101604021313985, 20.530971453321033, 9.793719242799618, 9.768448745521948, 56.451063015775865, 12.976451676365718, 11.623166170389625, 9.019624311849043, 13.868354785148162, 8.139395503224403, 40.65239408630733, 7.8865555081056655, 90.9830948971481, 139.65551289225598, 78.62120096377329, 31.94754949237572, 38.782254109482786, 79.29187825597728, 26.984576694441397, 43.75753210144209, 52.84770361299346, 64.96987682734841, 39.45451692720027, 39.26522349971088, 23.984733997172277, 27.37719955615708, 26.22467727030428, 44.25420586458454, 23.423191079132007, 32.06732931224303, 33.46314132872971, 26.363988743110614, 30.905808695338607, 28.191480610356304, 27.03712960085349, 32.293152994889724, 24.591554407241546, 10.993903947099446, 23.589635607206407, 19.36243016951893, 10.505302748197517, 24.285642119970383, 12.878965110955669, 22.834361159221316, 10.201871428311978, 8.431648712800305, 8.2576935605854, 12.04344583282772, 15.22397466559846, 9.330740486791832, 12.253683230375524, 8.570872294313066, 7.957007274144694, 32.833860695653, 8.431483464885323, 12.564386196234107, 7.65326021270732, 13.596633854860206, 8.16174575223596, 7.617978307431178, 8.832669254476492, 9.274586441968628, 7.508934601819537, 9.73700396119912, 7.451945464854555, 7.313703042836991, 10.125020082137471, 19.47100837765578, 41.438083560235874, 25.69220876543911, 13.811348438104513, 72.32524709517274, 103.68337604037082, 33.74445638029723, 19.095122486476466, 17.819795144914103, 15.11325413627811, 29.765260029866997, 32.69047271913995, 71.83256043665848, 26.002969272982373, 25.67958500507685, 31.535794060647074, 29.895705553610327, 45.8459890683823, 22.38760309307694, 28.84474356861269, 45.761110657194834, 45.71768586582247, 19.647355936068372, 20.57899269674418, 18.107353074680734, 30.576972542529166, 38.144542121038334, 25.971188557904878, 25.150596920668132, 29.08330254073199, 27.054031587071247, 22.758265969800625, 21.46493545807226, 21.475002302035758, 21.515458532649728, 18.815100721043972, 35.799915628598114, 22.28896584311061, 10.286113964689038, 10.18415514266532, 9.506749543090253, 27.837868638779305, 13.100016942901823, 10.124373748971957, 24.299413873661976, 11.182675064437365, 23.11469079958166, 21.352714510490124, 9.27564874641697, 8.57248627726114, 28.29526479872717, 12.375587650197595, 8.184312716296704, 10.63571804431526, 12.37776861015499, 7.852125340784731, 10.289973939978383, 8.457236834502867, 10.782697708893963, 29.955708883527134, 11.651292115528197, 11.660332750703427, 10.447531753143211, 28.49363782023605, 9.709448581041414, 73.37105797038078, 27.40326766392519, 13.483860263486035, 15.335147496423575, 22.92579488683535, 39.72223905792731, 21.398931431472356, 25.281927182602747, 26.89456755373359, 108.86033112292984, 19.233205810255196, 20.86784585816738, 26.53521744129582, 55.45250497328165, 34.54964126159564, 22.94990371662907, 14.685862059707826, 30.305177797139212, 17.67472336343758, 20.93056711266839, 22.984268267746003, 25.639131534565973, 27.866132415528657, 30.111082216786283, 23.81585182614263, 25.77143935070308, 25.154823258010204, 25.193804573297765, 23.369014103070494, 22.255060293250043, 15.20707005246156, 11.345566095502704, 20.162627454469078, 10.294208305852386, 11.873714912086555, 16.81817786576569, 11.028972416041505, 12.216017091883783, 22.345150900455387, 9.291037672769487, 17.166571962004408, 14.982453445282792, 29.274646646966456, 20.269636501222557, 10.121563839684558, 8.796524649114916, 10.513327839562573, 41.1559983955342, 8.585129019065796, 17.050349118007848, 10.888977445789335, 13.422966021582907, 8.481882667557795, 13.173839655000627, 8.339045824554505, 17.53828055940131, 10.433197476042643, 8.036635736963651, 8.02490813610322, 24.032380504318006, 65.3834623196174, 93.19123733999795, 15.312222130402665, 65.21831050668088, 18.964630423935976, 17.142633363300877, 15.834049869727595, 111.33029815743478, 39.04772444747035, 54.78698810942403, 48.793428326621566, 45.82867801281528, 33.24968272379502, 33.46558704068678, 20.277118706392287, 31.67273867879893, 26.158691985902184, 32.24218589667849, 38.006827257078925, 23.410740343059338, 20.65106876126789, 22.04208049537236, 24.124936399212245, 21.40219941166118, 19.80043355848891, 19.508379589541097, 18.47986126251557, 19.892095099311472, 16.197391672255435, 36.03849178417248, 9.978382795509543, 16.212927933614633, 13.037893389352645, 19.55143940263612, 11.650327575000214, 8.821238966410236, 9.603097897374292, 8.926776174538954, 7.7278162674258555, 7.738519291032646, 12.484889661318345, 7.521578411190385, 10.273556478894363, 14.128601129654548, 10.221604156460309, 9.025090768649433, 12.408605036644367, 8.354396970444682, 12.801076699655036, 7.222198734545633, 8.314254651834014, 7.585158677076069, 7.089988353046701, 8.673439831693095, 8.51558219366334, 15.500023371772649, 7.433661191887398, 10.159789344617538, 12.63710542118537, 14.596396616983135, 20.852091987545872, 29.870172102974838, 100.87614898949451, 26.820703401096566, 58.5183922001362, 43.47117157763256, 13.045143910435169, 18.985574504690405, 28.50259306228098, 35.15596675670507, 31.31717730643635, 21.314784468833974, 94.6300058083638, 25.738222929127122, 19.130543730198376, 16.926604590901807, 42.88849599572535, 26.068305027661555, 19.51635889392342, 36.53740364817762, 28.22455365191257, 24.22812384004316, 15.104826118816916, 29.279262608196053, 21.896306558750783, 26.606292097295466, 20.89450540962612, 24.855230126106, 22.790609696253824, 21.946236283478164, 19.59967742770477, 21.361534117140813, 19.559080622618616, 16.40649067033393, 9.834910698336623, 11.32828682776316, 10.239203846644026, 29.589186218274232, 12.365749947112919, 9.527949502435632, 36.75904417402343, 15.38506311887509, 12.60611667650902, 12.047447763271904, 8.95446681668182, 13.61379869907738, 9.172664512459535, 23.634941855167128, 10.06518801891115, 10.128084006244235, 13.340508356953617, 9.11178852484591, 9.516541666536348, 9.565607406773156, 9.436803964635311, 44.46650003676179, 9.344941631390636, 6.931337156634084, 10.687151359792987, 9.003586829519218, 7.897802448360483, 11.036979967827003, 6.795181100838479, 39.208321632030135, 36.19646763354395, 23.34388716426541, 13.113364286271596, 72.69209113641891, 30.43732400349831, 18.488886672085158, 68.82126865958635, 38.19199702874857, 44.5759083046601, 14.659355054524635, 25.08492306925736, 13.625386561163982, 27.420958760553464, 18.09910747326925, 56.7949263193335, 27.685343101292872, 17.19365649810188, 17.08315218841608, 18.133512330876385, 19.695051537337015, 15.620263361439571, 29.699931445357766, 19.499200253921074, 17.68875498766445, 16.703138086540182, 20.458186516542, 19.72060731360431, 18.81217399284851, 17.997082926494894, 17.373800496674363, 17.310521291832245, 75.03295721247329, 31.07771347478254, 22.705159893701875, 17.37298719851039, 38.288416737810515, 12.41351940656902, 34.14180727692675, 11.53121389455622, 14.09424750543106, 15.169711739242235, 33.1750020819982, 9.289686551769913, 8.528764255571343, 13.225895169845616, 10.449253059736009, 8.361027436728387, 14.786514212475637, 11.563689157872298, 9.034604964564346, 10.721338709781216, 11.936392770834228, 8.528661032516581, 8.44019306828935, 8.843406190518248, 16.520593147191036, 7.997315196980255, 7.854526745329003, 14.120041656527714, 9.505718212215202, 9.994845818354172, 12.116611192430097, 25.537492132143367, 19.775370898395725, 23.095064338451586, 26.491038325687832, 13.837122746885314, 32.58281657798559, 13.76741234714048, 20.914963745265517, 12.593327516522212, 38.12724942125902, 24.022048659429608, 23.985102547554185, 26.845784997985856, 28.884484199319026, 20.757022149175313, 15.625444106589569, 16.76679432596667, 25.73479009843767, 21.458782796681557, 20.528950809680307, 20.9880030885264, 22.941899389220456, 19.40972903266765, 23.478401216342107, 17.019110180448727, 16.99477534528876, 17.06698374295882], \"Total\": [249.0, 468.0, 409.0, 256.0, 225.0, 79.0, 234.0, 256.0, 189.0, 190.0, 130.0, 157.0, 143.0, 247.0, 224.0, 192.0, 145.0, 140.0, 82.0, 148.0, 107.0, 116.0, 202.0, 82.0, 72.0, 103.0, 198.0, 82.0, 117.0, 118.0, 34.90295082781187, 29.912146316364797, 25.913235349597475, 21.925389995470102, 43.86018925564295, 28.897214844747708, 47.82405750052735, 22.915892487180002, 53.81975925846276, 24.910148403822443, 16.934672358419732, 18.92287651146674, 16.928786545193415, 29.88045209973261, 17.924815216155693, 15.932978898898964, 18.920051017635277, 15.931279214210821, 14.935275800614075, 15.929530020676134, 13.938214193033577, 16.925208605891875, 13.937187697934984, 13.936508446550118, 29.86280559841135, 13.935399061413975, 12.939952077373103, 42.82312691004985, 18.917920489863224, 12.937576616797529, 77.55187465263681, 33.83272227899265, 103.38225064468801, 57.65326184394357, 35.83582587987186, 19.912473712272078, 45.68847707620897, 47.67778642138929, 72.35028427824, 53.69244356550659, 57.64485295218154, 42.63355143284818, 28.821375784452652, 51.63850685137132, 31.814650069380047, 69.1082006994814, 98.77761124240824, 315.7120631266437, 122.50746411495838, 247.20622476684719, 196.15261950048188, 234.5052239862011, 99.68384769855719, 205.21849300655145, 118.32090795663142, 105.09730648522257, 77.85975806032258, 69.1366152621458, 137.88539955176546, 82.34071709613984, 82.69439654836435, 141.84515637473098, 135.0082548466488, 409.6082415362351, 13.520276720820107, 13.51854518338806, 29.931168461406063, 72.50940010259637, 21.22710282002048, 30.802282149897056, 16.44496801400146, 44.38210359874904, 12.497940424457578, 16.451410996644324, 20.215712559875183, 12.555491284652376, 15.436464557000836, 14.452383551533101, 13.512344725790019, 40.59157416814047, 13.434932074075261, 14.446701926954624, 16.46541451869351, 13.473111775808668, 18.393608813770147, 12.515397569539113, 17.383389162007337, 12.472129710698539, 17.467951373509827, 13.45477452087295, 13.522157534271988, 13.446898381525921, 15.398150637736935, 33.7064745819888, 35.65483354308234, 60.97233179549252, 38.48973198059685, 34.72307333878274, 409.6082415362351, 20.18051016887472, 63.41106308885157, 35.168868411061915, 43.088680936647755, 47.220235115073685, 40.54138414522112, 41.34712347963357, 87.04100201959298, 75.54672087033178, 79.62891297910585, 66.6115364962739, 43.39272793132017, 60.021316869132505, 45.35982517203429, 114.80087458057916, 109.63080001844365, 81.99013858439768, 76.34216704935156, 118.32090795663142, 75.69668411698807, 73.1618486173251, 198.76907543733742, 122.50746411495838, 468.1970689077713, 141.84515637473098, 256.550298200298, 202.6604902341708, 31.874752125522157, 13.517864038744257, 14.471797099302204, 21.23018418703474, 32.80388574473483, 40.45998816206241, 18.320283697963045, 22.17652062549174, 18.31770640427651, 34.70688373355963, 14.515607588268672, 14.453130742983662, 24.04477866545219, 21.186886298696404, 20.1887169223327, 16.350281638261563, 12.508266017207351, 21.16403444730754, 13.518487191412795, 19.350197380745886, 18.25556462637691, 34.586810513809695, 18.288059437005572, 14.475265951497178, 14.428642540714447, 30.136791937890486, 13.522798059493466, 19.32567362431322, 18.30356019728229, 12.484597257450108, 26.17353084113039, 32.79997781880916, 50.98723491051875, 63.412671711902995, 42.318932814294456, 34.5091997239511, 25.07088148811359, 102.98695816224318, 45.007265725423935, 84.752138405555, 101.43560989753708, 84.98113470977766, 136.46933066500824, 66.6115364962739, 43.26443197134903, 47.18074192328647, 79.48655445115541, 34.064912341746826, 92.45462446175448, 45.85936286797445, 78.71743105504937, 35.521258466217866, 62.41527120239261, 48.45161425540682, 192.18504292169663, 315.7120631266437, 164.60616626987414, 409.6082415362351, 256.550298200298, 131.29852118075277, 468.1970689077713, 12.287705577346527, 33.04031876616587, 14.18905110292882, 17.034479457995428, 14.218703901738156, 21.783952873075204, 22.74500539161212, 82.48960203410692, 21.78891809843013, 39.88558300108415, 13.270607967711346, 32.273100513143866, 14.223928820358156, 16.115764565855123, 12.292255667800466, 18.054139088869814, 36.01080522148311, 249.11277652725275, 17.104773844253057, 29.39479013410382, 14.23393447486121, 14.208956788529646, 82.30805775012013, 19.018721382529247, 17.072027734409442, 13.300836505038161, 20.80360025413582, 12.370672428586026, 63.547160267676006, 12.364543217302856, 157.15762825994585, 256.1154770243113, 143.07004336138775, 56.848894003370766, 72.80357644558171, 202.6604902341708, 52.26484959346032, 110.39452227911099, 157.81911956953454, 224.88870786253068, 107.39563180187174, 117.09042515565424, 52.100342901499126, 72.85696302845297, 71.0159374196564, 225.09533236235782, 61.789628330921694, 130.85027369443796, 145.8199280026933, 90.64251256128406, 164.60616626987414, 129.1068676313462, 122.3166958691984, 315.7120631266437, 131.29852118075277, 13.38923440508409, 28.72930116182642, 23.914878553802225, 13.355493475335239, 31.408003604979772, 17.16435944405196, 30.44762368368986, 14.370943760902586, 12.407784700047031, 12.384454012767645, 18.114475215985163, 22.90146302403786, 14.300744745938825, 18.997698424814715, 13.328446645632352, 12.416062288690817, 51.686126623617014, 13.421055741714193, 20.17072102017784, 12.353203146072115, 22.045879363245902, 13.30575792097671, 12.45593281066528, 14.447432184387381, 15.297723399810481, 12.427911686740275, 16.231714666056003, 12.441080526629078, 12.398830048277736, 17.237944556591867, 33.281705480935926, 73.24836054219348, 45.695395841941966, 23.93882129240983, 145.8199280026933, 225.09533236235782, 69.58316650867457, 36.159690463430906, 33.65740531075204, 27.721046922405566, 63.63913436676183, 72.28177000540225, 198.76907543733742, 60.95427241280566, 60.7892587542865, 82.54168599125818, 79.77723493606314, 160.723498158709, 52.41767921084515, 81.97931950867277, 224.88870786253068, 256.550298200298, 47.97392961305095, 56.96541843410772, 42.56702262102463, 148.54435162138347, 256.1154770243113, 104.97231809434454, 129.1068676313462, 234.5052239862011, 190.1946297018929, 90.64251256128406, 78.52081235269264, 102.98695816224318, 198.24015467045731, 19.86035662618127, 40.74982649729, 25.581596497252512, 12.296178241466382, 12.311256880196476, 12.282806885318953, 36.03551510177659, 17.090215138215093, 13.274112085263727, 32.19400468843156, 15.108508468483471, 32.23686141110644, 30.266979692503313, 13.281759607445158, 12.330556433191408, 40.84307102013624, 17.99440322657033, 12.346285601009324, 16.108089350422496, 19.06489686800705, 12.318120987521475, 16.16176228188049, 13.298901013279009, 17.110249444540308, 48.51350866235848, 18.99082799385904, 19.041110621669226, 17.061199625766815, 46.606417827412464, 16.12665022712019, 130.85027369443796, 50.47450255282946, 22.87418323638453, 26.64312032570375, 43.826600423279494, 93.43119358578059, 43.642495444060124, 56.97541836544791, 62.51433093421542, 468.1970689077713, 39.99087790573066, 45.7691844822365, 69.02820907296541, 234.5052239862011, 117.09042515565424, 65.6665944901515, 27.54374189629929, 140.24903861411062, 41.818351583129804, 62.80229651335739, 84.6996111130951, 122.3166958691984, 164.60616626987414, 225.09533236235782, 107.39563180187174, 160.723498158709, 157.15762825994585, 198.24015467045731, 189.04146814882384, 116.19283712636368, 16.289666616879543, 13.396578700894734, 24.0135759733386, 12.455008188540685, 15.314777839779893, 22.042083874982705, 15.304022242835309, 17.207893478673252, 31.643203341197104, 13.385268376333034, 24.957843975413162, 21.993297195587886, 43.07574889816621, 30.5128537384961, 15.297781620745015, 13.45933123801347, 16.224015528926973, 64.05212714547419, 13.483286823243079, 26.88439799593541, 17.176889485072714, 21.279520039537438, 13.476720778111071, 21.013481494612183, 13.438002879026918, 28.674698411831013, 17.169978267930496, 13.35114167256997, 13.385473205485667, 40.870052788912645, 116.0337030228465, 189.04146814882384, 26.852334269602498, 148.54435162138347, 35.321678633300166, 31.58912075972672, 29.050075335457336, 468.1970689077713, 107.39563180187174, 224.88870786253068, 198.24015467045731, 247.20622476684719, 136.46933066500824, 157.81911956953454, 56.72500544920682, 164.60616626987414, 111.69872881173994, 192.18504292169663, 409.6082415362351, 96.23184251302384, 73.71367660374474, 100.97453589378719, 190.1946297018929, 107.12523111465936, 84.6996111130951, 81.82009727745, 49.308302104768394, 198.76907543733742, 18.78499587771458, 43.33078776206164, 12.249695830527669, 20.766353659146613, 16.96152003760806, 28.356659641380542, 17.015397831560275, 13.194769181912188, 15.127851078224486, 14.185209957258182, 12.302374178077347, 12.32782939048542, 19.902202757516996, 12.400630264167367, 17.00805047612131, 23.543268786222402, 17.05352318656665, 15.105118560237742, 20.85770893482747, 14.205147972032831, 21.778697128296045, 12.343175605909153, 14.237689589178313, 13.233900494289887, 12.39012776147577, 15.171142613124783, 15.07601777787066, 27.510442347600048, 13.202527955750195, 18.14785348682956, 22.658291468810045, 26.597996002176277, 41.527578971536755, 62.57197969242279, 256.550298200298, 56.080269638217445, 140.24903861411062, 99.36928330442855, 25.07411312606527, 40.693490394577104, 69.02820907296541, 92.9536708817555, 80.84929556368108, 48.20803336943178, 468.1970689077713, 70.12204638484998, 45.57122363824801, 37.888100319604725, 190.1946297018929, 81.97931950867277, 49.6841398722692, 202.6604902341708, 143.07004336138775, 100.97453589378719, 32.3149322693089, 189.04146814882384, 95.55557398669175, 225.09533236235782, 96.23184251302384, 198.76907543733742, 164.60616626987414, 157.81911956953454, 84.27611594599664, 224.88870786253068, 87.04100201959298, 20.05971638814137, 12.43019428605412, 14.346211522610139, 13.397381274842619, 41.14562672087824, 17.242239000510757, 13.349511610238743, 52.50325981546224, 22.043185163313435, 18.234156114058003, 18.10949529796357, 13.539754436947517, 21.108211335920565, 14.292083183057814, 37.51438125449435, 16.190250321481702, 16.320521726062164, 22.064886110561325, 15.359478265639964, 16.224172909859895, 16.36696885188502, 16.25739178309234, 77.58458016812253, 16.31590656215697, 12.402050733087579, 19.230071885617438, 16.25078351345626, 14.277201691369084, 20.05149004378078, 12.593801339426316, 72.80270630368922, 68.5818021017358, 43.71574857642671, 24.83120579022504, 190.1946297018929, 67.55175003231527, 37.430441506372965, 192.18504292169663, 107.12523111465936, 135.0082548466488, 29.5850967737865, 65.15872294823617, 26.85487807234695, 96.23184251302384, 47.377398527820475, 468.1970689077713, 112.73074487728454, 45.71562966092565, 49.71865557470651, 63.34820867875965, 82.54168599125818, 41.15423356497922, 409.6082415362351, 93.68065378384483, 92.90985073888717, 70.09037464127742, 247.20622476684719, 198.76907543733742, 205.21849300655145, 157.81911956953454, 116.0337030228465, 114.80087458057916, 79.73350948860116, 33.061867135083894, 24.318095267281272, 19.430846381750314, 44.74927193701275, 15.517029858554574, 42.697945741584086, 14.553363269774053, 18.367005538221015, 20.383538882914575, 46.6737783088413, 13.510484234452193, 12.585294929383013, 19.570130201164407, 15.565966915802187, 12.555454663931876, 22.210642935330164, 17.465694558994667, 13.653441688396272, 16.504386860785857, 18.537454659022906, 13.54015261791182, 13.548554557973382, 14.547289173002373, 27.297488862029606, 13.52072973807125, 13.478993619975082, 24.36001410975441, 16.412261781335147, 17.358291383195315, 21.213751114133046, 46.65447253565188, 36.91626557718806, 44.785220113308014, 53.57830768116622, 25.40007171714543, 82.69439654836435, 26.288951036987235, 50.82264757699974, 24.18623786983165, 198.24015467045731, 88.19397288521901, 89.5823242978907, 113.8769513531409, 137.88539955176546, 73.1618486173251, 37.67911118954659, 48.98317164554483, 205.21849300655145, 117.74424077337794, 104.97231809434454, 114.80087458057916, 196.15261950048188, 111.96668310913986, 409.6082415362351, 63.92452442165093, 74.5722490281627, 131.29852118075277], \"Category\": [\"Default\", \"Default\", \"Default\", \"Default\", \"Default\", \"Default\", \"Default\", \"Default\", \"Default\", \"Default\", \"Default\", \"Default\", \"Default\", \"Default\", \"Default\", \"Default\", \"Default\", \"Default\", \"Default\", \"Default\", \"Default\", \"Default\", \"Default\", \"Default\", \"Default\", \"Default\", \"Default\", \"Default\", \"Default\", \"Default\", \"Topic1\", \"Topic1\", \"Topic1\", \"Topic1\", \"Topic1\", \"Topic1\", \"Topic1\", \"Topic1\", \"Topic1\", \"Topic1\", \"Topic1\", \"Topic1\", \"Topic1\", \"Topic1\", \"Topic1\", \"Topic1\", \"Topic1\", \"Topic1\", \"Topic1\", \"Topic1\", \"Topic1\", \"Topic1\", \"Topic1\", \"Topic1\", \"Topic1\", \"Topic1\", \"Topic1\", \"Topic1\", \"Topic1\", \"Topic1\", \"Topic1\", \"Topic1\", \"Topic1\", \"Topic1\", \"Topic1\", \"Topic1\", \"Topic1\", \"Topic1\", \"Topic1\", \"Topic1\", \"Topic1\", \"Topic1\", \"Topic1\", \"Topic1\", \"Topic1\", \"Topic1\", \"Topic1\", \"Topic1\", \"Topic1\", \"Topic1\", \"Topic1\", \"Topic1\", \"Topic1\", \"Topic1\", \"Topic1\", \"Topic1\", \"Topic1\", \"Topic1\", \"Topic1\", \"Topic1\", \"Topic1\", \"Topic1\", \"Topic1\", \"Topic1\", \"Topic2\", \"Topic2\", \"Topic2\", \"Topic2\", \"Topic2\", \"Topic2\", \"Topic2\", \"Topic2\", \"Topic2\", \"Topic2\", \"Topic2\", \"Topic2\", \"Topic2\", \"Topic2\", \"Topic2\", \"Topic2\", \"Topic2\", \"Topic2\", \"Topic2\", \"Topic2\", \"Topic2\", \"Topic2\", \"Topic2\", \"Topic2\", \"Topic2\", \"Topic2\", \"Topic2\", \"Topic2\", \"Topic2\", \"Topic2\", \"Topic2\", \"Topic2\", \"Topic2\", \"Topic2\", \"Topic2\", \"Topic2\", \"Topic2\", \"Topic2\", \"Topic2\", \"Topic2\", \"Topic2\", \"Topic2\", \"Topic2\", \"Topic2\", \"Topic2\", \"Topic2\", \"Topic2\", \"Topic2\", \"Topic2\", \"Topic2\", \"Topic2\", \"Topic2\", \"Topic2\", \"Topic2\", \"Topic2\", \"Topic2\", \"Topic2\", \"Topic2\", \"Topic2\", \"Topic2\", \"Topic2\", \"Topic2\", \"Topic3\", \"Topic3\", \"Topic3\", \"Topic3\", \"Topic3\", \"Topic3\", \"Topic3\", \"Topic3\", \"Topic3\", \"Topic3\", \"Topic3\", \"Topic3\", \"Topic3\", \"Topic3\", \"Topic3\", \"Topic3\", \"Topic3\", \"Topic3\", \"Topic3\", \"Topic3\", \"Topic3\", \"Topic3\", \"Topic3\", \"Topic3\", \"Topic3\", \"Topic3\", \"Topic3\", \"Topic3\", \"Topic3\", \"Topic3\", \"Topic3\", \"Topic3\", \"Topic3\", \"Topic3\", \"Topic3\", \"Topic3\", \"Topic3\", \"Topic3\", \"Topic3\", \"Topic3\", \"Topic3\", \"Topic3\", \"Topic3\", \"Topic3\", \"Topic3\", \"Topic3\", \"Topic3\", \"Topic3\", \"Topic3\", \"Topic3\", \"Topic3\", \"Topic3\", \"Topic3\", \"Topic3\", \"Topic3\", \"Topic3\", \"Topic3\", \"Topic3\", \"Topic3\", \"Topic3\", \"Topic3\", \"Topic4\", \"Topic4\", \"Topic4\", \"Topic4\", \"Topic4\", \"Topic4\", \"Topic4\", \"Topic4\", \"Topic4\", \"Topic4\", \"Topic4\", \"Topic4\", \"Topic4\", \"Topic4\", \"Topic4\", \"Topic4\", \"Topic4\", \"Topic4\", \"Topic4\", \"Topic4\", \"Topic4\", \"Topic4\", \"Topic4\", \"Topic4\", \"Topic4\", \"Topic4\", \"Topic4\", \"Topic4\", \"Topic4\", \"Topic4\", \"Topic4\", \"Topic4\", \"Topic4\", \"Topic4\", \"Topic4\", \"Topic4\", \"Topic4\", \"Topic4\", \"Topic4\", \"Topic4\", \"Topic4\", \"Topic4\", \"Topic4\", \"Topic4\", \"Topic4\", \"Topic4\", \"Topic4\", \"Topic4\", \"Topic4\", \"Topic4\", \"Topic4\", \"Topic4\", \"Topic4\", \"Topic4\", \"Topic4\", \"Topic5\", \"Topic5\", \"Topic5\", \"Topic5\", \"Topic5\", \"Topic5\", \"Topic5\", \"Topic5\", \"Topic5\", \"Topic5\", \"Topic5\", \"Topic5\", \"Topic5\", \"Topic5\", \"Topic5\", \"Topic5\", \"Topic5\", \"Topic5\", \"Topic5\", \"Topic5\", \"Topic5\", \"Topic5\", \"Topic5\", \"Topic5\", \"Topic5\", \"Topic5\", \"Topic5\", \"Topic5\", \"Topic5\", \"Topic5\", \"Topic5\", \"Topic5\", \"Topic5\", \"Topic5\", \"Topic5\", \"Topic5\", \"Topic5\", \"Topic5\", \"Topic5\", \"Topic5\", \"Topic5\", \"Topic5\", \"Topic5\", \"Topic5\", \"Topic5\", \"Topic5\", \"Topic5\", \"Topic5\", \"Topic5\", \"Topic5\", \"Topic5\", \"Topic5\", \"Topic5\", \"Topic5\", \"Topic5\", \"Topic5\", \"Topic5\", \"Topic5\", \"Topic5\", \"Topic5\", \"Topic5\", \"Topic5\", \"Topic5\", \"Topic5\", \"Topic5\", \"Topic6\", \"Topic6\", \"Topic6\", \"Topic6\", \"Topic6\", \"Topic6\", \"Topic6\", \"Topic6\", \"Topic6\", \"Topic6\", \"Topic6\", \"Topic6\", \"Topic6\", \"Topic6\", \"Topic6\", \"Topic6\", \"Topic6\", \"Topic6\", \"Topic6\", \"Topic6\", \"Topic6\", \"Topic6\", \"Topic6\", \"Topic6\", \"Topic6\", \"Topic6\", \"Topic6\", \"Topic6\", \"Topic6\", \"Topic6\", \"Topic6\", \"Topic6\", \"Topic6\", \"Topic6\", \"Topic6\", \"Topic6\", \"Topic6\", \"Topic6\", \"Topic6\", \"Topic6\", \"Topic6\", \"Topic6\", \"Topic6\", \"Topic6\", \"Topic6\", \"Topic6\", \"Topic6\", \"Topic6\", \"Topic6\", \"Topic6\", \"Topic6\", \"Topic6\", \"Topic6\", \"Topic6\", \"Topic6\", \"Topic6\", \"Topic6\", \"Topic6\", \"Topic6\", \"Topic6\", \"Topic7\", \"Topic7\", \"Topic7\", \"Topic7\", \"Topic7\", \"Topic7\", \"Topic7\", \"Topic7\", \"Topic7\", \"Topic7\", \"Topic7\", \"Topic7\", \"Topic7\", \"Topic7\", \"Topic7\", \"Topic7\", \"Topic7\", \"Topic7\", \"Topic7\", \"Topic7\", \"Topic7\", \"Topic7\", \"Topic7\", \"Topic7\", \"Topic7\", \"Topic7\", \"Topic7\", \"Topic7\", \"Topic7\", \"Topic7\", \"Topic7\", \"Topic7\", \"Topic7\", \"Topic7\", \"Topic7\", \"Topic7\", \"Topic7\", \"Topic7\", \"Topic7\", \"Topic7\", \"Topic7\", \"Topic7\", \"Topic7\", \"Topic7\", \"Topic7\", \"Topic7\", \"Topic7\", \"Topic7\", \"Topic7\", \"Topic7\", \"Topic7\", \"Topic7\", \"Topic7\", \"Topic7\", \"Topic7\", \"Topic7\", \"Topic7\", \"Topic7\", \"Topic8\", \"Topic8\", \"Topic8\", \"Topic8\", \"Topic8\", \"Topic8\", \"Topic8\", \"Topic8\", \"Topic8\", \"Topic8\", \"Topic8\", \"Topic8\", \"Topic8\", \"Topic8\", \"Topic8\", \"Topic8\", \"Topic8\", \"Topic8\", \"Topic8\", \"Topic8\", \"Topic8\", \"Topic8\", \"Topic8\", \"Topic8\", \"Topic8\", \"Topic8\", \"Topic8\", \"Topic8\", \"Topic8\", \"Topic8\", \"Topic8\", \"Topic8\", \"Topic8\", \"Topic8\", \"Topic8\", \"Topic8\", \"Topic8\", \"Topic8\", \"Topic8\", \"Topic8\", \"Topic8\", \"Topic8\", \"Topic8\", \"Topic8\", \"Topic8\", \"Topic8\", \"Topic8\", \"Topic8\", \"Topic8\", \"Topic8\", \"Topic8\", \"Topic8\", \"Topic8\", \"Topic8\", \"Topic8\", \"Topic8\", \"Topic8\", \"Topic8\", \"Topic8\", \"Topic8\", \"Topic8\", \"Topic8\", \"Topic8\", \"Topic8\", \"Topic8\", \"Topic9\", \"Topic9\", \"Topic9\", \"Topic9\", \"Topic9\", \"Topic9\", \"Topic9\", \"Topic9\", \"Topic9\", \"Topic9\", \"Topic9\", \"Topic9\", \"Topic9\", \"Topic9\", \"Topic9\", \"Topic9\", \"Topic9\", \"Topic9\", \"Topic9\", \"Topic9\", \"Topic9\", \"Topic9\", \"Topic9\", \"Topic9\", \"Topic9\", \"Topic9\", \"Topic9\", \"Topic9\", \"Topic9\", \"Topic9\", \"Topic9\", \"Topic9\", \"Topic9\", \"Topic9\", \"Topic9\", \"Topic9\", \"Topic9\", \"Topic9\", \"Topic9\", \"Topic9\", \"Topic9\", \"Topic9\", \"Topic9\", \"Topic9\", \"Topic9\", \"Topic9\", \"Topic9\", \"Topic9\", \"Topic9\", \"Topic9\", \"Topic9\", \"Topic9\", \"Topic9\", \"Topic9\", \"Topic9\", \"Topic9\", \"Topic9\", \"Topic9\", \"Topic9\", \"Topic9\", \"Topic9\", \"Topic9\", \"Topic10\", \"Topic10\", \"Topic10\", \"Topic10\", \"Topic10\", \"Topic10\", \"Topic10\", \"Topic10\", \"Topic10\", \"Topic10\", \"Topic10\", \"Topic10\", \"Topic10\", \"Topic10\", \"Topic10\", \"Topic10\", \"Topic10\", \"Topic10\", \"Topic10\", \"Topic10\", \"Topic10\", \"Topic10\", \"Topic10\", \"Topic10\", \"Topic10\", \"Topic10\", \"Topic10\", \"Topic10\", \"Topic10\", \"Topic10\", \"Topic10\", \"Topic10\", \"Topic10\", \"Topic10\", \"Topic10\", \"Topic10\", \"Topic10\", \"Topic10\", \"Topic10\", \"Topic10\", \"Topic10\", \"Topic10\", \"Topic10\", \"Topic10\", \"Topic10\", \"Topic10\", \"Topic10\", \"Topic10\", \"Topic10\", \"Topic10\", \"Topic10\", \"Topic10\", \"Topic10\", \"Topic10\", \"Topic10\", \"Topic10\", \"Topic10\", \"Topic10\"], \"logprob\": [30.0, 29.0, 28.0, 27.0, 26.0, 25.0, 24.0, 23.0, 22.0, 21.0, 20.0, 19.0, 18.0, 17.0, 16.0, 15.0, 14.0, 13.0, 12.0, 11.0, 10.0, 9.0, 8.0, 7.0, 6.0, 5.0, 4.0, 3.0, 2.0, 1.0, -5.9583, -6.1174, -6.268, -6.437, -5.745, -6.165, -5.662, -6.3993, -5.5471, -6.319, -6.7061, -6.5981, -6.7113, -6.1433, -6.6564, -6.7752, -6.6035, -6.7764, -6.8422, -6.7795, -6.9134, -6.7196, -6.9152, -6.9159, -6.1543, -6.9169, -6.9928, -5.7981, -6.6156, -6.9968, -5.2194, -6.0481, -4.9541, -5.5343, -5.9959, -6.5701, -5.7738, -5.7393, -5.3491, -5.6302, -5.5811, -5.8667, -6.2281, -5.6925, -6.147, -5.5051, -5.2147, -4.2745, -5.0556, -4.5179, -4.7448, -4.6078, -5.2708, -4.7516, -5.2269, -5.3083, -5.5195, -5.6082, -5.3221, -5.6158, -5.7241, -5.6454, -5.7469, -5.7588, -6.4813, -6.4856, -5.7018, -4.8363, -6.0741, -5.7224, -6.3559, -5.3975, -6.6813, -6.4073, -6.216, -6.7275, -6.5354, -6.6314, -6.7119, -5.6211, -6.7276, -6.6568, -6.5266, -6.7365, -6.426, -6.8154, -6.4875, -6.8221, -6.4867, -6.748, -6.758, -6.7697, -6.6364, -5.8589, -5.806, -5.3099, -5.7567, -5.8595, -3.6189, -6.3787, -5.3569, -5.894, -5.7953, -5.737, -5.8878, -5.8752, -5.3741, -5.5025, -5.4749, -5.622, -5.8953, -5.7055, -5.9072, -5.4037, -5.4725, -5.6161, -5.6913, -5.546, -5.747, -5.7963, -5.5976, -5.7237, -5.5447, -5.7123, -5.6766, -5.6985, -5.4197, -6.2905, -6.294, -5.914, -5.4925, -5.2994, -6.1052, -5.9176, -6.1237, -5.4918, -6.3975, -6.4163, -5.9086, -6.0413, -6.1015, -6.3159, -6.584, -6.0673, -6.5201, -6.183, -6.2464, -5.61, -6.2574, -6.4943, -6.5053, -5.7723, -6.5746, -6.2215, -6.2773, -6.6658, -5.9641, -5.7592, -5.3655, -5.2683, -5.6059, -5.7856, -6.0422, -5.0493, -5.632, -5.1997, -5.1051, -5.2371, -4.9655, -5.4191, -5.716, -5.6929, -5.4576, -5.8602, -5.4575, -5.7516, -5.5542, -5.8785, -5.7377, -5.8064, -5.5038, -5.4123, -5.6211, -5.4939, -5.6428, -5.7236, -5.7239, -6.3911, -5.4176, -6.2915, -6.1208, -6.3595, -5.9417, -5.9129, -4.6343, -5.9705, -5.3721, -6.4879, -5.6375, -6.4713, -6.3497, -6.6281, -6.251, -5.577, -3.6451, -6.3288, -5.8002, -6.5404, -6.543, -4.7887, -6.259, -6.3691, -6.6227, -6.1925, -6.7254, -5.1171, -6.757, -4.3114, -3.8829, -4.4575, -5.358, -5.1642, -4.449, -5.5269, -5.0435, -4.8547, -4.6482, -5.147, -5.1518, -5.6447, -5.5124, -5.5554, -5.0322, -5.6684, -5.3543, -5.3117, -5.5501, -5.3912, -5.4831, -5.5249, -5.3473, -5.6197, -6.3568, -5.5933, -5.7908, -6.4023, -5.5643, -6.1986, -5.6259, -6.4316, -6.6222, -6.643, -6.2656, -6.0313, -6.5208, -6.2483, -6.6058, -6.6801, -5.2627, -6.6222, -6.2233, -6.719, -6.1443, -6.6547, -6.7236, -6.5757, -6.5269, -6.7381, -6.4782, -6.7457, -6.7644, -6.4391, -5.7852, -5.0299, -5.508, -6.1287, -4.473, -4.1128, -5.2353, -5.8047, -5.8738, -6.0386, -5.3608, -5.2671, -4.4798, -5.4959, -5.5085, -5.303, -5.3564, -4.9289, -5.6456, -5.3922, -4.9307, -4.9317, -5.7762, -5.7299, -5.8578, -5.3339, -5.1128, -5.4972, -5.5293, -5.384, -5.4563, -5.6292, -5.6877, -5.6873, -5.6854, -5.7727, -5.1294, -5.6033, -6.3766, -6.3865, -6.4554, -5.381, -6.1347, -6.3924, -5.5169, -6.293, -5.5669, -5.6462, -6.48, -6.5588, -5.3647, -6.1916, -6.6051, -6.3431, -6.1915, -6.6466, -6.3762, -6.5723, -6.3294, -5.3076, -6.2519, -6.2512, -6.361, -5.3577, -6.4343, -4.4118, -5.3967, -6.1059, -5.9772, -5.5751, -5.0254, -5.644, -5.4773, -5.4154, -4.0173, -5.7507, -5.6691, -5.4289, -4.6918, -5.165, -5.574, -6.0205, -5.296, -5.8352, -5.6661, -5.5725, -5.4632, -5.3799, -5.3025, -5.537, -5.4581, -5.4823, -5.4808, -5.5559, -5.6048, -5.975, -6.2679, -5.6929, -6.3651, -6.2224, -5.8743, -6.2962, -6.194, -5.5901, -6.4677, -5.8537, -5.9898, -5.32, -5.6876, -6.382, -6.5224, -6.3441, -4.9793, -6.5467, -5.8605, -6.309, -6.0997, -6.5588, -6.1185, -6.5758, -5.8323, -6.3517, -6.6127, -6.6142, -5.5173, -4.5164, -4.1621, -5.9681, -4.519, -5.7541, -5.8551, -5.9345, -3.9842, -5.0319, -4.6933, -4.8091, -4.8718, -5.1927, -5.1862, -5.6872, -5.2413, -5.4325, -5.2234, -5.0589, -5.5435, -5.6689, -5.6038, -5.5135, -5.6332, -5.711, -5.7259, -5.78, -5.7064, -5.8647, -5.065, -6.3491, -5.8637, -6.0817, -5.6765, -6.1942, -6.4724, -6.3875, -6.4605, -6.6047, -6.6033, -6.125, -6.6318, -6.32, -6.0014, -6.3251, -6.4495, -6.1312, -6.5268, -6.1, -6.6724, -6.5316, -6.6234, -6.6909, -6.4893, -6.5077, -5.9087, -6.6435, -6.3311, -6.1129, -5.9688, -5.6121, -5.2527, -4.0357, -5.3604, -4.5802, -4.8775, -6.0811, -5.7059, -5.2996, -5.0898, -5.2054, -5.5902, -4.0996, -5.4016, -5.6983, -5.8207, -4.891, -5.3888, -5.6783, -5.0512, -5.3094, -5.462, -5.9345, -5.2727, -5.5632, -5.3684, -5.6101, -5.4365, -5.5232, -5.561, -5.674, -5.588, -5.6761, -5.848, -6.3597, -6.2183, -6.3194, -5.2582, -6.1307, -6.3914, -5.0413, -5.9122, -6.1115, -6.1568, -6.4535, -6.0346, -6.4294, -5.4829, -6.3366, -6.3303, -6.0548, -6.4361, -6.3926, -6.3875, -6.401, -4.8509, -6.4108, -6.7096, -6.2766, -6.448, -6.5791, -6.2444, -6.7294, -4.9768, -5.0567, -5.4953, -6.072, -4.3594, -5.23, -5.7285, -4.4141, -5.003, -4.8485, -5.9606, -5.4234, -6.0337, -5.3343, -5.7498, -4.6062, -5.3247, -5.8011, -5.8076, -5.7479, -5.6653, -5.8971, -5.2545, -5.6753, -5.7727, -5.8301, -5.6273, -5.664, -5.7111, -5.7554, -5.7907, -5.7943, -4.3021, -5.1836, -5.4975, -5.7651, -4.9749, -6.1013, -5.0895, -6.175, -5.9743, -5.9008, -5.1183, -6.3912, -6.4766, -6.0379, -6.2735, -6.4965, -5.9263, -6.1722, -6.419, -6.2478, -6.1405, -6.4766, -6.4871, -6.4404, -5.8155, -6.541, -6.559, -5.9725, -6.3682, -6.318, -6.1255, -5.3799, -5.6356, -5.4804, -5.3433, -5.9927, -5.1363, -5.9978, -5.5796, -6.0869, -4.9791, -5.4411, -5.4426, -5.33, -5.2568, -5.5872, -5.8712, -5.8007, -5.3722, -5.5539, -5.5982, -5.5761, -5.4871, -5.6543, -5.464, -5.7857, -5.7872, -5.7829], \"loglift\": [30.0, 29.0, 28.0, 27.0, 26.0, 25.0, 24.0, 23.0, 22.0, 21.0, 20.0, 19.0, 18.0, 17.0, 16.0, 15.0, 14.0, 13.0, 12.0, 11.0, 10.0, 9.0, 8.0, 7.0, 6.0, 5.0, 4.0, 3.0, 2.0, 1.0, 1.6396, 1.6347, 1.6277, 1.6258, 1.6244, 1.6217, 1.6208, 1.6193, 1.6177, 1.6161, 1.615, 1.612, 1.6101, 1.6099, 1.6078, 1.6068, 1.6067, 1.6058, 1.6045, 1.6027, 1.6023, 1.602, 1.6007, 1.6, 1.5995, 1.5991, 1.5973, 1.5952, 1.5947, 1.5935, 1.5801, 1.5809, 1.5578, 1.5617, 1.5755, 1.589, 1.5548, 1.5467, 1.5198, 1.537, 1.515, 1.5311, 1.5612, 1.5136, 1.5435, 1.4096, 1.3428, 1.1211, 1.2866, 1.1223, 1.1267, 1.0851, 1.2776, 1.0748, 1.1501, 1.1872, 1.276, 1.3061, 0.9018, 1.1237, 1.0112, 0.5503, 0.4982, -0.6236, 2.0649, 2.0607, 2.0497, 2.0304, 2.021, 2.0004, 1.9945, 1.96, 1.9436, 1.9427, 1.928, 1.8928, 1.8783, 1.8482, 1.8349, 1.8257, 1.8249, 1.8231, 1.8225, 1.8132, 1.8124, 1.8081, 1.8074, 1.8048, 1.8033, 1.803, 1.7881, 1.782, 1.7798, 1.7738, 1.7705, 1.73, 1.7433, 1.7435, 1.5163, 1.7669, 1.6439, 1.6962, 1.5918, 1.5586, 1.5602, 1.5532, 1.3099, 1.3232, 1.2981, 1.3296, 1.4848, 1.3502, 1.4286, 1.0035, 0.9808, 1.1277, 1.1239, 0.831, 1.0767, 1.0615, 0.2606, 0.6185, -0.5432, 0.4834, -0.0735, 0.1403, 2.2689, 2.2559, 2.1842, 2.181, 2.1674, 2.1507, 2.1372, 2.1337, 2.1188, 2.1117, 2.0777, 2.0632, 2.0618, 2.0557, 2.0438, 2.0403, 2.04, 2.0308, 2.0263, 2.0047, 1.9996, 1.9969, 1.9868, 1.9836, 1.9759, 1.9724, 1.9714, 1.9675, 1.966, 1.9601, 1.9216, 1.9008, 1.8533, 1.7324, 1.7992, 1.8235, 1.8865, 1.4665, 1.7115, 1.511, 1.4258, 1.4708, 1.2688, 1.5324, 1.6671, 1.6035, 1.3172, 1.762, 1.1662, 1.5732, 1.2304, 1.7018, 1.2789, 1.4634, 0.3882, -0.0167, 0.4258, -0.3587, -0.0397, 0.5493, -0.7224, 2.2507, 2.2351, 2.2065, 2.1944, 2.1363, 2.1275, 2.1131, 2.1034, 2.0985, 2.0922, 2.0769, 2.0387, 2.0242, 2.0209, 2.0133, 2.0061, 1.9896, 1.9874, 1.9823, 1.9694, 1.9544, 1.9536, 1.9512, 1.946, 1.9438, 1.9399, 1.9228, 1.9097, 1.8816, 1.8786, 1.7817, 1.7218, 1.7296, 1.752, 1.6985, 1.3899, 1.6672, 1.4029, 1.2342, 1.0866, 1.3269, 1.2357, 1.5525, 1.3495, 1.3321, 0.7017, 1.3583, 0.9221, 0.8564, 1.0934, 0.6557, 0.8067, 0.8189, 0.0483, 0.6532, 2.1991, 2.1991, 2.1851, 2.1562, 2.1391, 2.109, 2.1085, 2.0536, 2.0099, 1.991, 1.9881, 1.9879, 1.9693, 1.9578, 1.9547, 1.9513, 1.9425, 1.9314, 1.9229, 1.9175, 1.913, 1.9075, 1.9046, 1.9042, 1.8958, 1.8924, 1.8852, 1.8837, 1.8684, 1.8642, 1.8602, 1.8266, 1.8204, 1.8462, 1.6951, 1.6211, 1.6726, 1.7577, 1.7603, 1.7896, 1.6364, 1.6028, 1.3785, 1.5443, 1.5345, 1.4341, 1.4147, 1.1419, 1.5455, 1.3517, 0.8041, 0.6714, 1.5035, 1.3781, 1.5415, 0.8156, 0.492, 0.9995, 0.7605, 0.3089, 0.446, 1.0143, 1.0993, 0.8285, 0.1756, 2.389, 2.3135, 2.3053, 2.2646, 2.2534, 2.1869, 2.1849, 2.1772, 2.1722, 2.1617, 2.1422, 2.1104, 2.0942, 2.0841, 2.0795, 2.076, 2.0687, 2.0319, 2.0279, 2.0111, 1.9928, 1.9916, 1.9904, 1.9813, 1.9609, 1.9545, 1.9526, 1.9526, 1.951, 1.9357, 1.8645, 1.8322, 1.9145, 1.8907, 1.7951, 1.5877, 1.7304, 1.6305, 1.5996, 0.9842, 1.711, 1.6576, 1.487, 1.0011, 1.2225, 1.3918, 1.8142, 0.9109, 1.5819, 1.3443, 1.1387, 0.8806, 0.6669, 0.4314, 0.9369, 0.6126, 0.6109, 0.3802, 0.3525, 0.7904, 2.3849, 2.2875, 2.2789, 2.2632, 2.1992, 2.1832, 2.1261, 2.1111, 2.1058, 2.0886, 2.0795, 2.0698, 2.0675, 2.0447, 2.0407, 2.0284, 2.0198, 2.0114, 2.0023, 1.9983, 1.9979, 1.9929, 1.9907, 1.9868, 1.9766, 1.9621, 1.9555, 1.9461, 1.9421, 1.9227, 1.8801, 1.7464, 1.892, 1.6305, 1.8318, 1.8424, 1.8468, 1.0173, 1.442, 1.0415, 1.0518, 0.7684, 1.0416, 0.9028, 1.425, 0.8056, 1.0021, 0.6685, 0.0763, 1.0401, 1.1813, 0.9318, 0.3889, 0.8432, 1.0003, 1.02, 1.4723, 0.1519, 2.3526, 2.3166, 2.2958, 2.2533, 2.2378, 2.129, 2.1221, 2.0982, 2.0464, 2.0377, 2.0359, 2.0352, 2.0345, 2.0009, 1.9967, 1.9902, 1.989, 1.9858, 1.9815, 1.97, 1.9694, 1.9649, 1.9629, 1.9443, 1.9426, 1.9417, 1.9296, 1.9271, 1.9265, 1.9207, 1.917, 1.9008, 1.8119, 1.7614, 1.5674, 1.7632, 1.6268, 1.6741, 1.8474, 1.7385, 1.6163, 1.5285, 1.5524, 1.6847, 0.9019, 1.4986, 1.6329, 1.6951, 1.0114, 1.3551, 1.5664, 0.7877, 0.8777, 1.0735, 1.7403, 0.6358, 1.0275, 0.3655, 0.9736, 0.4218, 0.5236, 0.528, 1.0423, 0.1468, 1.0079, 2.3037, 2.2706, 2.2686, 2.2359, 2.175, 2.1723, 2.1675, 2.1483, 2.1452, 2.1356, 2.0972, 2.0913, 2.0662, 2.0613, 2.0428, 2.0294, 2.0276, 2.0016, 1.9826, 1.9713, 1.9677, 1.9608, 1.9481, 1.9475, 1.9229, 1.9173, 1.9142, 1.9127, 1.9077, 1.8878, 1.8859, 1.8657, 1.8774, 1.8663, 1.5429, 1.7075, 1.7994, 1.4778, 1.4734, 1.3966, 1.8026, 1.5502, 1.8262, 1.2493, 1.5425, 0.3953, 1.1007, 1.5269, 1.4365, 1.2539, 1.0718, 1.536, -0.1193, 0.9352, 0.8461, 1.0706, 0.0129, 0.1943, 0.1152, 0.3335, 0.6058, 0.6129, 2.4696, 2.4685, 2.4617, 2.4184, 2.3744, 2.3072, 2.3067, 2.2976, 2.2656, 2.2349, 2.189, 2.1558, 2.1413, 2.1385, 2.1318, 2.1238, 2.1235, 2.118, 2.1174, 2.0989, 2.0901, 2.0681, 2.0571, 2.0326, 2.0282, 2.0052, 1.9903, 1.985, 1.9842, 1.9783, 1.9703, 1.9277, 1.9061, 1.8681, 1.826, 1.9229, 1.599, 1.8835, 1.6425, 1.8777, 0.8818, 1.2298, 1.2126, 1.0853, 0.9672, 1.2706, 1.6501, 1.4583, 0.4541, 0.828, 0.8985, 0.8311, 0.3844, 0.7779, -0.3288, 1.207, 1.0515, 0.49]}, \"token.table\": {\"Topic\": [1, 4, 5, 7, 10, 2, 6, 7, 9, 2, 7, 2, 6, 7, 9, 1, 3, 5, 6, 9, 10, 2, 3, 8, 5, 6, 9, 1, 6, 8, 3, 4, 6, 8, 9, 2, 3, 8, 2, 6, 7, 2, 8, 10, 2, 6, 9, 2, 5, 8, 9, 3, 4, 7, 1, 2, 4, 5, 8, 9, 10, 2, 5, 7, 8, 2, 3, 4, 5, 6, 7, 9, 3, 4, 5, 7, 6, 7, 6, 8, 9, 1, 5, 9, 2, 3, 4, 5, 6, 7, 8, 9, 10, 5, 9, 1, 5, 6, 10, 3, 7, 8, 3, 7, 10, 1, 4, 7, 9, 1, 2, 3, 4, 5, 6, 7, 1, 2, 3, 4, 5, 9, 1, 2, 4, 5, 7, 10, 1, 2, 10, 5, 10, 10, 1, 6, 9, 10, 2, 6, 9, 10, 1, 3, 5, 7, 9, 8, 10, 1, 5, 9, 6, 2, 4, 5, 10, 4, 6, 9, 10, 2, 3, 5, 8, 5, 8, 1, 2, 4, 5, 2, 3, 4, 5, 8, 9, 2, 3, 6, 1, 4, 1, 6, 9, 10, 2, 4, 10, 1, 2, 3, 4, 5, 7, 9, 1, 3, 4, 6, 8, 9, 10, 1, 2, 4, 5, 8, 9, 10, 6, 8, 1, 2, 8, 9, 10, 1, 2, 4, 1, 2, 3, 4, 5, 6, 9, 10, 1, 2, 4, 7, 9, 10, 1, 2, 3, 4, 7, 9, 2, 3, 4, 5, 6, 7, 9, 10, 1, 2, 3, 4, 5, 6, 7, 8, 10, 2, 3, 5, 6, 8, 9, 1, 2, 3, 4, 8, 10, 1, 1, 2, 4, 5, 6, 7, 8, 9, 10, 4, 8, 1, 4, 5, 6, 7, 8, 1, 2, 4, 6, 7, 10, 6, 8, 9, 1, 2, 3, 4, 5, 6, 7, 8, 10, 3, 5, 6, 7, 8, 9, 6, 8, 1, 5, 6, 7, 9, 10, 1, 2, 3, 4, 5, 6, 7, 8, 9, 10, 3, 5, 1, 2, 5, 6, 7, 8, 9, 5, 6, 7, 9, 2, 3, 5, 6, 8, 9, 1, 2, 4, 5, 9, 1, 1, 8, 2, 3, 7, 8, 9, 10, 1, 1, 2, 3, 5, 6, 9, 1, 9, 2, 8, 9, 1, 2, 3, 5, 10, 4, 5, 8, 9, 3, 6, 8, 10, 1, 2, 8, 10, 1, 2, 9, 10, 3, 6, 1, 2, 3, 4, 5, 6, 8, 9, 10, 1, 2, 3, 4, 5, 6, 7, 8, 9, 10, 3, 7, 1, 3, 4, 4, 5, 6, 7, 1, 2, 3, 4, 5, 6, 7, 9, 10, 3, 4, 5, 6, 8, 3, 8, 9, 1, 2, 9, 10, 2, 3, 5, 6, 7, 8, 9, 10, 1, 10, 1, 2, 3, 6, 7, 9, 1, 2, 3, 4, 5, 6, 7, 8, 9, 10, 6, 7, 9, 2, 3, 4, 8, 1, 2, 3, 4, 6, 7, 8, 9, 10, 2, 4, 7, 9, 3, 5, 9, 1, 2, 3, 5, 6, 7, 8, 9, 10, 2, 4, 7, 10, 1, 2, 3, 4, 5, 6, 7, 9, 10, 4, 8, 1, 3, 5, 2, 4, 6, 7, 7, 2, 3, 4, 5, 6, 7, 8, 2, 4, 9, 2, 5, 2, 5, 6, 7, 8, 9, 2, 6, 8, 2, 6, 8, 3, 4, 8, 1, 7, 9, 1, 3, 5, 6, 7, 8, 9, 10, 2, 3, 4, 5, 6, 7, 9, 10, 2, 9, 1, 2, 4, 5, 6, 7, 9, 10, 2, 4, 9, 1, 2, 6, 9, 1, 2, 3, 4, 5, 6, 7, 8, 10, 2, 10, 3, 6, 8, 9, 5, 6, 1, 2, 3, 6, 9, 2, 3, 4, 5, 6, 7, 8, 9, 10, 3, 4, 1, 2, 3, 4, 5, 6, 7, 8, 9, 10, 1, 2, 3, 4, 5, 6, 7, 8, 9, 10, 2, 7, 8, 10, 2, 3, 4, 5, 6, 7, 8, 10, 2, 5, 7, 8, 10, 2, 5, 7, 8, 2, 3, 4, 5, 6, 7, 8, 9, 10, 4, 9, 10, 2, 4, 8, 4, 7, 9, 1, 4, 9, 2, 3, 4, 6, 6, 7, 1, 1, 3, 4, 5, 3, 4, 7, 1, 2, 4, 6, 9, 2, 3, 4, 5, 7, 8, 3, 4, 5, 6, 8, 9, 4, 5, 6, 8, 3, 4, 8, 9, 1, 2, 5, 10, 2, 3, 4, 2, 5, 9, 1, 1, 1, 2, 3, 4, 6, 7, 8, 9, 10, 3, 4, 2, 3, 6, 7, 9, 10, 1, 2, 4, 5, 6, 10, 1, 4, 5, 7, 9, 1, 2, 3, 5, 6, 2, 3, 6, 7, 1, 1, 9, 10, 1, 2, 4, 5, 6, 7, 8, 9, 10, 3, 6, 9, 4, 5, 7, 9, 7, 9, 6, 9, 1, 3, 8, 10, 2, 3, 6, 7, 10, 1, 2, 4, 6, 7, 8, 9, 10, 1, 2, 3, 4, 5, 6, 7, 8, 10, 1, 4, 6, 10, 5, 7, 9, 10, 3, 1, 1, 4, 5, 7, 9, 10, 3, 6, 3, 5, 8, 10, 1, 8, 9, 1, 2, 3, 4, 5, 6, 7, 8, 9, 10, 2, 8, 1, 4, 7, 1, 4, 9, 1, 2, 3, 4, 5, 6, 7, 8, 9, 10, 3, 4, 6, 8, 1, 4, 6, 8, 10, 2, 3, 4, 5, 6, 7, 8, 9, 10, 1, 2, 5, 7, 8, 9, 1, 3, 4, 5, 6, 7, 8, 10, 3, 6, 8, 9, 2, 5, 6, 9, 2, 6, 7, 1, 9, 10, 1, 2, 3, 5, 7, 8, 10, 3, 4, 5, 6, 9, 10, 1, 2, 5, 6, 7, 3, 4, 10, 1, 8, 9, 3, 4, 5, 6, 7, 8, 9, 10, 2, 3, 4, 2, 6, 7, 1, 2, 6, 8, 1, 6, 7, 8, 1, 2, 3, 4, 5, 6, 1, 2, 7, 9, 10, 3, 5, 10, 3, 4, 5, 1, 8, 10, 2, 3, 5, 6, 8, 10, 1, 5, 10, 2, 3, 4, 5, 7, 8, 10, 2, 3, 4, 1, 10, 2, 6, 8, 1, 2, 3, 4, 5, 6, 9, 10, 1, 5, 5, 6, 8, 5, 7, 8, 2, 6, 7, 9, 10, 6, 7, 10, 3, 4, 5, 1, 3, 4, 5, 6, 7, 10, 1, 2, 7, 9, 10, 4, 5, 1, 2, 4, 5, 10, 4, 6, 10, 4, 5, 8, 1, 2, 4, 5, 7, 8, 9, 10, 1, 2, 3, 4, 5, 8, 9, 1, 2, 3, 4, 5, 6, 7, 8, 9, 1, 2, 3, 4, 5, 7, 8, 9, 10, 1, 9, 10, 1, 2, 3, 4, 5, 6, 7, 8, 10, 1, 3, 4, 5, 6, 8, 6, 7, 8, 9, 1, 3, 4, 5, 7, 9, 10, 2, 8, 9, 10, 2, 6, 10, 1, 2, 3, 4, 5, 7, 8, 9, 10, 1, 8, 10, 1, 2, 3, 4, 5, 6, 7, 8, 9, 10, 1, 2, 4, 6, 7, 9, 10, 2, 3, 4, 5, 6, 8, 10, 1, 2, 4, 5, 6, 7, 8, 9, 10, 5, 9, 10, 3, 5, 10, 1, 2, 3, 4, 5, 6, 7, 8, 9, 10, 2, 3, 1, 2, 3, 4, 6, 7, 8, 9, 10, 7, 8, 9, 2, 8, 5, 7, 1, 4, 8, 10, 1, 2, 3, 4, 5, 7, 6, 7, 9, 2, 4, 5, 2, 3, 5, 1, 3, 5, 6, 7, 8, 9, 3, 6, 8, 9, 10, 1, 2, 9, 10, 1, 2, 8, 10, 1, 2, 6, 1, 2, 8, 9, 10, 2, 4, 5, 6, 10, 1, 2, 3, 4, 5, 9, 1, 2, 3, 4, 5, 7, 8, 9, 10, 1, 1, 2, 4, 9, 10, 3, 4, 5, 6, 7, 3, 4, 8, 9, 1, 2, 7, 8, 1, 4, 5, 1, 2, 6, 7, 9, 10, 1, 3, 4, 5, 6, 7, 9, 10, 1, 2, 3, 4, 5, 6, 7, 8, 9, 10, 6, 7, 10, 1, 4, 1, 2, 5, 7, 9, 10, 1, 2, 3, 5, 8, 9, 10, 6, 7, 3, 5, 6, 7, 1, 3, 4, 5, 6, 7, 8, 9, 10, 2, 3, 8, 1, 2, 5, 10, 2, 3, 4, 6, 2, 3, 4, 5, 6, 8, 10, 2, 6, 8, 9, 1, 6, 8, 1, 2, 3, 4, 5, 6, 7, 8, 9, 10, 3, 5, 7, 2, 3, 6, 3, 7, 8, 9, 1, 2, 4, 5, 6, 7, 10, 1, 7, 9, 10, 2, 4, 6, 10, 1, 2, 10, 3, 5, 6, 5, 7, 8, 1, 3, 10, 2, 4, 5, 10, 1, 2, 3, 7, 9, 5, 7, 10, 1, 3, 4, 5, 6, 4, 5, 6, 7, 8, 9, 3, 5, 9, 2, 3, 4, 5, 6, 9, 10, 1, 2, 7, 9, 10, 1, 2, 3, 5, 7, 8, 10, 2, 3, 4, 5, 6, 8, 9, 3, 9, 5, 8, 1, 2, 5, 7, 8, 9, 2, 3, 10, 1, 2, 4, 5, 9, 1, 4, 6, 8, 9, 1, 2, 3, 4, 5, 7, 9, 10, 2, 4, 6, 7, 2, 3, 5, 10, 1, 3, 4, 5, 6, 7, 8, 9, 1, 2, 4, 5, 6, 7, 8, 10, 3, 4, 5, 10, 1, 2, 3, 4, 5, 6, 7, 8, 10, 1, 4, 5, 6, 1, 4, 5, 6, 7, 6, 7, 3, 5, 6, 10, 3, 8, 10, 3, 6, 9, 3, 7, 10, 2, 3, 1, 2, 7, 8, 7, 10, 6, 7, 9, 3, 5, 1, 3, 5, 10, 4, 9, 10, 1, 1, 3, 4, 5, 6, 7, 8, 9, 10, 1, 2, 4, 5, 6, 7, 8, 10, 2, 4, 7, 10, 5, 8, 9, 2, 3, 4, 5, 7, 8, 9, 2, 3, 4, 5, 6, 7, 8, 9, 10, 4, 5, 7, 10, 2, 3, 4, 5, 6, 7, 8, 9, 10, 3, 9, 1, 2, 9, 1, 2, 3, 4, 6, 7, 8, 9, 10, 1, 2, 4, 5, 6, 7, 9, 10, 1, 2, 4, 7, 9, 10, 1, 2, 3, 4, 5, 6, 7, 8, 9, 1, 2, 3, 4, 5, 6, 7, 10, 2, 3, 5, 6, 7, 8, 9, 1, 5, 6, 8, 1, 2, 3, 6, 9, 10, 2, 3, 5, 8, 1, 2, 4, 5, 6, 8, 2, 10, 4, 6, 1, 2, 3, 4, 5, 6, 7, 9, 1, 4, 5, 10, 3, 4, 8, 2, 5, 7, 9, 2, 3, 5, 6, 7, 8, 9, 10, 3, 4, 5, 9, 3, 8, 9, 2, 4, 6, 1, 2, 4, 6, 9, 10, 1, 2, 10, 3, 4, 5, 6, 7, 8, 9, 10, 1, 4, 5, 10, 2, 8, 9, 2, 3, 4, 5, 6, 7, 8, 1, 9, 10, 1, 2, 5, 2, 4, 1, 2, 4, 5, 6, 7, 8, 9, 1, 3, 10, 3, 9, 1, 3, 4, 5, 7, 5, 7, 8, 1, 4, 6, 9, 10, 2, 5, 7, 8, 9, 10, 3, 4, 5, 6, 8, 2, 3, 4, 6, 7, 10, 5, 6, 8, 9, 1, 2, 3, 4, 5, 6, 7, 8, 9, 10, 2, 3, 4, 6, 8, 9, 2, 4, 5, 6, 7, 8, 10, 2, 3, 4, 6, 8, 9, 10, 2, 4, 5, 7, 3, 4, 5, 9, 10, 3, 5, 6, 2, 3, 4, 6, 7, 8, 9, 1, 4, 5, 7, 9, 10, 1, 3, 4, 6, 8, 10, 1, 3, 7, 8, 9, 2, 3, 6, 3, 5, 10, 2, 4, 5, 8, 9, 10, 1, 2, 3, 7, 9, 10, 1, 3, 5, 1, 2, 3, 4, 5, 8, 9, 10, 5, 6, 8, 1, 2, 3, 4, 5, 6, 7, 10, 3, 5, 6, 7, 4, 5, 6, 4, 5, 7, 8, 10, 5, 6, 2, 3, 4, 5, 6, 7, 9, 10, 4, 5, 7, 1, 5, 7, 1, 2, 4, 5, 9, 2, 4, 6, 7, 9, 2, 3, 5, 6, 7, 10, 1, 5, 7, 9, 10, 3, 4, 10, 1, 1, 2, 3, 6, 7, 8, 10, 1, 3, 4, 5, 6, 7, 9, 10, 2, 3, 7, 8, 1, 2, 3, 4, 5, 6, 7, 8, 9, 10, 2, 10, 3, 5, 7, 8, 3, 7, 9, 1, 7, 8, 2, 5, 6, 8, 9, 10, 1, 5, 7, 8, 1, 2, 7, 1, 2, 9, 1, 2, 5, 6, 9, 4, 6, 10, 2, 4, 8, 1, 1, 2, 3, 4, 6, 7, 9, 10, 1, 3, 4, 5, 6, 7, 9, 10, 1, 1, 3, 4, 5, 7, 10, 3, 4, 8, 5, 7, 8, 1, 10, 1, 5, 7, 9, 10, 2, 3, 5, 7, 8, 10, 2, 9, 10, 1, 3, 7, 5, 7, 8, 9, 10, 2, 4, 6, 7, 2, 3, 6, 9, 10, 6, 9, 2, 3, 7, 8, 9, 2, 3, 4, 6, 7, 8, 9, 10, 1, 2, 3, 4, 5, 6, 7, 8, 9, 10, 3, 5, 2, 8, 10, 1, 2, 8, 9, 1, 2, 3, 4, 5, 6, 7, 8, 9, 1, 4, 7, 9, 10, 2, 3, 4, 5, 7, 8, 9, 10, 2, 8, 9, 10, 3, 4, 5, 7, 8, 9, 1, 2, 6, 7, 8, 9, 3, 4, 5, 7, 2, 3, 8, 9, 10, 4, 9, 10, 1, 5, 6, 7, 8, 9, 1, 2, 4, 5, 6, 7, 8, 9, 10, 2, 4, 8, 8, 9, 10, 2, 3, 5, 10, 1, 2, 4, 5, 9, 10, 2, 10, 1, 2, 3, 4, 5, 6, 7, 8, 9, 10, 1, 3, 4, 8, 1, 8, 9, 1, 1, 2, 6, 7, 1, 2, 4, 5, 6, 7, 10, 4, 5, 1, 2, 3, 4, 6, 7, 8, 9, 10, 1, 5, 6, 7, 8, 9, 2, 3, 4, 5, 10, 1, 2, 3, 4, 8, 1, 9, 1, 2, 3, 4, 6, 8, 9, 3, 4, 5, 6, 9, 3, 4, 7, 8, 2, 3, 4, 5, 6, 7, 8, 9, 5, 8, 9, 7, 8, 9, 2, 4, 9, 2, 8, 4, 7, 10, 5, 6, 8, 1, 2, 3, 4, 5, 6, 7, 8, 10, 1, 2, 3, 8, 10, 1, 5, 7, 9, 1, 4, 7], \"Freq\": [0.043965696326841885, 0.791382533883154, 0.043965696326841885, 0.043965696326841885, 0.043965696326841885, 0.6392126143456268, 0.07990157679320335, 0.07990157679320335, 0.07990157679320335, 0.6919273879179054, 0.20757821637537163, 0.6689075306344172, 0.1486461179187594, 0.0743230589593797, 0.0743230589593797, 0.02311367454592329, 0.5085008400103124, 0.04622734909184658, 0.13868204727553976, 0.20802307091330963, 0.04622734909184658, 0.06116102597645068, 0.7339323117174081, 0.12232205195290136, 0.06996880630987543, 0.20990641892962628, 0.6297192567888789, 0.9689515114322242, 0.10646794990105285, 0.8517435992084228, 0.11722505121969758, 0.11722505121969758, 0.5861252560984879, 0.05861252560984879, 0.05861252560984879, 0.04615655757246823, 0.09231311514493647, 0.8308180363044282, 0.15013256522138774, 0.562997119580204, 0.26273198913742857, 0.6335844694780476, 0.11519717626873592, 0.23039435253747184, 0.8008629413132319, 0.047109584783131285, 0.09421916956626257, 0.061636423967860406, 0.12327284793572081, 0.12327284793572081, 0.6163642396786041, 0.0459053508711907, 0.8262963156814326, 0.0918107017423814, 0.0882588067557278, 0.02206470168893195, 0.28684112195611533, 0.25374406942271743, 0.16548526266698962, 0.11032350844465975, 0.05516175422232988, 0.04546839844462302, 0.13640519533386905, 0.6820259766693453, 0.09093679688924604, 0.014581127490884204, 0.029162254981768408, 0.2916225498176841, 0.10206789243618943, 0.014581127490884204, 0.014581127490884204, 0.5249205896718313, 0.03401963393641653, 0.7144123126647471, 0.1360785357456661, 0.10205890180924958, 0.2995998468219413, 0.5991996936438826, 0.2973248984056293, 0.5946497968112586, 0.04247498548651848, 0.10968426438216454, 0.1645263965732468, 0.7129477184840696, 0.5677242778528536, 0.09462071297547561, 0.047310356487737806, 0.03154023765849187, 0.09462071297547561, 0.06308047531698374, 0.06308047531698374, 0.015770118829245935, 0.015770118829245935, 0.13940962719306968, 0.7667529495618832, 0.02453998178535811, 0.04907996357071622, 0.8834393442728921, 0.02453998178535811, 0.17632542278370328, 0.10579525367022197, 0.7053016911348131, 0.14717758369792164, 0.04905919456597388, 0.7358879184896082, 0.07518324126615757, 0.676649171395418, 0.07518324126615757, 0.15036648253231513, 0.042354723459679645, 0.5082566815161558, 0.08470944691935929, 0.021177361729839823, 0.16941889383871858, 0.042354723459679645, 0.12706417037903894, 0.2674450170697943, 0.17829667804652954, 0.165561201043206, 0.05094190801329415, 0.2674450170697943, 0.05094190801329415, 0.22823276560400987, 0.07607758853466996, 0.07607758853466996, 0.07607758853466996, 0.03803879426733498, 0.5325431197426898, 0.1464832124855194, 0.1464832124855194, 0.6591744561848373, 0.05146456208614835, 0.8748975554645219, 0.945797758714487, 0.5199868648276691, 0.012092717786689978, 0.06046358893344989, 0.3990596869607693, 0.15755383494206113, 0.6302153397682445, 0.10503588996137408, 0.05251794498068704, 0.9647579571876322, 0.8116692561460312, 0.04509273645255729, 0.04509273645255729, 0.04509273645255729, 0.16333636932580645, 0.7622363901870968, 0.4626030155912109, 0.1810185713182999, 0.3419239680456776, 0.9566796990419049, 0.0616077857807108, 0.1848233573421324, 0.616077857807108, 0.0616077857807108, 0.19663885432551229, 0.45882399342619534, 0.021848761591723588, 0.30588266228413025, 0.0600930742910882, 0.0300465371455441, 0.5708842057653379, 0.300465371455441, 0.7641364380190906, 0.19103410950477265, 0.06961533762114154, 0.03480766881057077, 0.03480766881057077, 0.8353840514536984, 0.021884042835714757, 0.043768085671429514, 0.24072447119286233, 0.5689851137285837, 0.06565212850714428, 0.06565212850714428, 0.05851301413777523, 0.11702602827555046, 0.760669183791078, 0.9695058219253974, 0.8952037409066403, 0.8809133802646065, 0.02097412810153825, 0.06292238430461475, 0.02097412810153825, 0.07032989834451477, 0.8439587801341772, 0.07032989834451477, 0.957793681404924, 0.5078950657920378, 0.09674191729372147, 0.12092739661715185, 0.12092739661715185, 0.09674191729372147, 0.04837095864686074, 0.10306407715835833, 0.08245126172668667, 0.041225630863343334, 0.61838446295015, 0.12367689259003, 0.12889064584079507, 0.7733438750447704, 0.44220708880817705, 0.15874100623883278, 0.07937050311941639, 0.01133864330277377, 0.01133864330277377, 0.03401592990832131, 0.27212743926657046, 0.7280665740728895, 0.19856361111078805, 0.685672506625198, 0.20406919840035653, 0.00816276793601426, 0.04081383968007131, 0.06530214348811408, 0.9021082197618543, 0.03469646999084055, 0.03469646999084055, 0.31109208875936023, 0.14813908988540964, 0.06666259044843434, 0.03703477247135241, 0.051848681459893374, 0.0074069544942704825, 0.33331295224217167, 0.03703477247135241, 0.6721249384615172, 0.14044401699195883, 0.01003171549942563, 0.01003171549942563, 0.1003171549942563, 0.060190292996553776, 0.028046688222276597, 0.6450738291123618, 0.028046688222276597, 0.05609337644455319, 0.05609337644455319, 0.19632681755593617, 0.02292696771124538, 0.06878090313373614, 0.24455432225328408, 0.0076423225704151275, 0.5578895476403043, 0.06878090313373614, 0.0076423225704151275, 0.015284645140830255, 0.06854608809805332, 0.11424348016342221, 0.1675571042396859, 0.19040580027237033, 0.09901101614163257, 0.09901101614163257, 0.02284869603268444, 0.1066272481525274, 0.12947594418521183, 0.15690201702523757, 0.6276080681009503, 0.058838256384464084, 0.03922550425630939, 0.09806376064077348, 0.03922550425630939, 0.030024829109172035, 0.4053351929738225, 0.45037243663758053, 0.04503724366375805, 0.030024829109172035, 0.030024829109172035, 0.9373780696720967, 0.24785668328173918, 0.038727606762771746, 0.21687459787152177, 0.19363803381385875, 0.061964170820434795, 0.007745521352554349, 0.05421864946788044, 0.0929462562306522, 0.07745521352554349, 0.9079815546671047, 0.06053210364447365, 0.39341410354407375, 0.013566003570485301, 0.17635804641630892, 0.0406980107114559, 0.2848860749801913, 0.10852802856388241, 0.35417281188920324, 0.059028801981533874, 0.07870506930871182, 0.019676267327177956, 0.059028801981533874, 0.4132016138707371, 0.649449701630969, 0.08118121270387113, 0.16236242540774226, 0.0198119832672614, 0.05943594980178419, 0.11887189960356838, 0.0396239665345228, 0.0792479330690456, 0.5349235482160577, 0.0792479330690456, 0.0198119832672614, 0.0396239665345228, 0.5332472349335089, 0.044437269577792406, 0.26662361746675445, 0.044437269577792406, 0.044437269577792406, 0.022218634788896203, 0.814146155139223, 0.16282923102784458, 0.10712653188081116, 0.02142530637616223, 0.02142530637616223, 0.08570122550464893, 0.04285061275232446, 0.7070351104133537, 0.15080180671657686, 0.14193111220383706, 0.04435347256369908, 0.035482778050959264, 0.07983625061465834, 0.05322416707643889, 0.017741389025479632, 0.09757763964013796, 0.24837944635671483, 0.13306041769109722, 0.14937373859408798, 0.8215555622674838, 0.20958273282518644, 0.34057194084092796, 0.14408812881731567, 0.026197841603148305, 0.07859352480944491, 0.09169244561101907, 0.09169244561101907, 0.04027190658593213, 0.1208157197577964, 0.28190334610152495, 0.5235347856171177, 0.2597425228455988, 0.09894953251260905, 0.06184345782038066, 0.12368691564076131, 0.3834294384863601, 0.06184345782038066, 0.21658971642265953, 0.4165186854281914, 0.11662523191989359, 0.08330373708563828, 0.1499467267541489, 0.9415439776248404, 0.4386994644514537, 0.5184630034426271, 0.05349474992458965, 0.16048424977376896, 0.05349474992458965, 0.4814527493213069, 0.19614741639016206, 0.0713263332327862, 0.9741296708044419, 0.022817192991059086, 0.09126877196423634, 0.09126877196423634, 0.1597203509374136, 0.524795438794359, 0.09126877196423634, 0.2954263327763708, 0.6647092487468342, 0.6692993242489799, 0.14873318316643996, 0.14873318316643996, 0.11461961392253775, 0.03820653797417925, 0.6495111455610473, 0.03820653797417925, 0.11461961392253775, 0.3202507209850082, 0.022875051498929155, 0.09150020599571662, 0.5261261844753706, 0.07418951504792304, 0.22256854514376911, 0.07418951504792304, 0.5935161203833843, 0.07380861151800844, 0.07380861151800844, 0.14761722303601688, 0.5904688921440675, 0.934074713507497, 0.023351867837687425, 0.023351867837687425, 0.023351867837687425, 0.07818120343719759, 0.8599932378091735, 0.00779574225417009, 0.10134464930421117, 0.09354890705004108, 0.06626380916044576, 0.17930207184591207, 0.07016168028753081, 0.39368498383558953, 0.027285097889595315, 0.06236593803336072, 0.5796420896549397, 0.041176760467290796, 0.09502329338605568, 0.10135817961179273, 0.053846532918764886, 0.012669772451474092, 0.03484187424155375, 0.028506988015816706, 0.00950232933860557, 0.04434420358015932, 0.847849450641723, 0.094205494515747, 0.2322742252867007, 0.696822675860102, 0.03318203218381439, 0.11643551655484925, 0.058217758277424626, 0.11643551655484925, 0.6403953410516708, 0.26452420300792484, 0.2918887757328826, 0.11857981514148355, 0.07297219393322064, 0.01824304848330516, 0.06385066969156807, 0.027364572724957743, 0.1003367666581784, 0.027364572724957743, 0.0639853284874671, 0.07998166060933388, 0.22394864970613487, 0.43190096729040295, 0.17595965334053454, 0.6930658911108377, 0.06930658911108377, 0.13861317822216754, 0.5916114168567516, 0.25354775008146496, 0.01690318333876433, 0.12677387504073248, 0.09565178560538155, 0.02391294640134539, 0.14347767840807232, 0.43043303522421694, 0.04782589280269078, 0.14347767840807232, 0.07173883920403616, 0.02391294640134539, 0.9039559956283373, 0.050219777534907625, 0.10686488961982865, 0.026716222404957163, 0.08014866721487149, 0.16029733442974298, 0.10686488961982865, 0.48089200328922893, 0.05408058308720231, 0.15142563264416647, 0.31366738190577337, 0.03244834985232139, 0.16224174926160692, 0.04326446646976185, 0.16224174926160692, 0.010816116617440462, 0.010816116617440462, 0.06489669970464278, 0.6015534661106182, 0.15038836652765455, 0.15038836652765455, 0.04158907070485167, 0.7486032726873301, 0.08317814140970334, 0.08317814140970334, 0.464153566715908, 0.05076679635955244, 0.007252399479936063, 0.02900959791974425, 0.007252399479936063, 0.0580191958394885, 0.06527159531942456, 0.10878599219904093, 0.2103195849181458, 0.07025464405264172, 0.7025464405264172, 0.14050928810528343, 0.07025464405264172, 0.23204622725569576, 0.5801155681392394, 0.11602311362784788, 0.324297291325731, 0.17624852789441903, 0.02114982334733028, 0.06344947004199085, 0.04934958781043732, 0.11984899896820493, 0.04934958781043732, 0.10574911673665141, 0.0704994111577676, 0.04758849694927507, 0.28553098169565044, 0.6186504603405759, 0.04758849694927507, 0.06421838113939227, 0.04281225409292818, 0.03210919056969613, 0.16054595284848067, 0.03210919056969613, 0.42812254092928176, 0.12843676227878453, 0.08562450818585636, 0.03210919056969613, 0.3316525672541493, 0.5969746210574688, 0.07394919273367141, 0.6655427346030427, 0.14789838546734282, 0.012149478767144648, 0.6803708109601003, 0.19439166027431437, 0.09719583013715719, 0.9208291583117376, 0.013735588947988939, 0.013735588947988939, 0.5356879689715687, 0.027471177895977878, 0.013735588947988939, 0.15109147842787832, 0.2472406010638009, 0.0620510429966646, 0.7446125159599751, 0.1241020859933292, 0.8876694819754652, 0.07397245683128877, 0.02639351119651049, 0.15836106717906295, 0.07918053358953148, 0.10557404478604196, 0.44868969034067835, 0.15836106717906295, 0.21062799375011235, 0.631883981250337, 0.10531399687505617, 0.07578760842371021, 0.15157521684742042, 0.6820884758133919, 0.07574307006594616, 0.30297228026378464, 0.5302014904616231, 0.1483317848399036, 0.6674930317795663, 0.1483317848399036, 0.323894914556829, 0.06668424711464126, 0.24768434642581041, 0.028578963049131968, 0.028578963049131968, 0.057157926098263936, 0.057157926098263936, 0.20005274134392378, 0.03184596919277659, 0.015922984596388294, 0.2547677535422127, 0.14330686136749465, 0.33438267652415415, 0.015922984596388294, 0.06369193838555318, 0.12738387677110635, 0.32553189070134547, 0.5859574032624218, 0.2798411556280519, 0.06457872822185813, 0.04305248548123876, 0.11839433507340658, 0.12915745644371626, 0.0968680923327872, 0.1937361846655744, 0.07534184959216783, 0.049851153458538744, 0.09970230691707749, 0.7976184553366199, 0.6942775520322778, 0.23142585067742594, 0.014464115667339121, 0.04339234700201736, 0.07520942540573955, 0.18802356351434887, 0.08774432964002948, 0.012534904234289925, 0.37604712702869775, 0.02506980846857985, 0.1378839465771892, 0.0501396169371597, 0.0501396169371597, 0.28627547465182523, 0.6870611391643806, 0.144868310134334, 0.39114443736270177, 0.42011809938956857, 0.0434604930403002, 0.8236311163128989, 0.1497511120568907, 0.04536549471372695, 0.1814619788549078, 0.04536549471372695, 0.04536549471372695, 0.6804824207059043, 0.019009103638283894, 0.04435457515599576, 0.33582749760968217, 0.09504551819141947, 0.01267273575885593, 0.20910014002112284, 0.13940009334741524, 0.11405462182970337, 0.019009103638283894, 0.058704464815954954, 0.8805669722393243, 0.0857545739321067, 0.07062141382644081, 0.06557702712455218, 0.015133160105665889, 0.11097650744154985, 0.12610966754721575, 0.24717494839254286, 0.035310706913220406, 0.05548825372077493, 0.19168669467176794, 0.00802849226716078, 0.02809972293506273, 0.012042738400741168, 0.7105215656437289, 0.05619944587012546, 0.044156707469384285, 0.06021369200370585, 0.05218519973654506, 0.00802849226716078, 0.024085476801482337, 0.6679971301180578, 0.07422190334645087, 0.14844380669290175, 0.07422190334645087, 0.12335902262504606, 0.093752857195035, 0.3898145114951455, 0.06908105267002579, 0.014803082715005527, 0.04440924814501658, 0.18257135348506817, 0.07894977448002947, 0.1318292267762199, 0.06591461338810994, 0.06591461338810994, 0.5932315204929894, 0.1318292267762199, 0.16092808272317077, 0.6437123308926831, 0.16092808272317077, 0.08046404136158539, 0.1426034730621517, 0.007130173653107586, 0.014260347306215173, 0.007130173653107586, 0.2139052095932276, 0.09982243114350621, 0.4206802455333476, 0.08556208383729104, 0.007130173653107586, 0.7535449788231974, 0.07535449788231974, 0.07535449788231974, 0.13240544865796286, 0.19860817298694428, 0.5958245189608328, 0.7802131305099005, 0.04589489002999415, 0.0917897800599883, 0.9618589974197141, 0.020909978204776393, 0.020909978204776393, 0.028912755618235562, 0.722818890455889, 0.1445637780911778, 0.08673826685470667, 0.07464592433090486, 0.8211051676399534, 0.9414435364021327, 0.9512295865320739, 0.8403363803225316, 0.09886310356735666, 0.024715775891839164, 0.7559995255080252, 0.14174991103275472, 0.09449994068850315, 0.05844450153934424, 0.11688900307868848, 0.11688900307868848, 0.6428895169327866, 0.05844450153934424, 0.02765510398965727, 0.05531020797931454, 0.11062041595862908, 0.5254469758034881, 0.05531020797931454, 0.1935857279276009, 0.08297372285126982, 0.24892116855380947, 0.12446058427690473, 0.020743430712817455, 0.43561204496916656, 0.08297372285126982, 0.6729604409321774, 0.09613720584745392, 0.1442058087711809, 0.04806860292372696, 0.712111636427651, 0.10955563637348477, 0.054777818186742384, 0.054777818186742384, 0.060589951534399805, 0.18176985460319942, 0.060589951534399805, 0.6664894668783978, 0.649428638234812, 0.1298857276469624, 0.19482859147044362, 0.6921995103492806, 0.06921995103492806, 0.2076598531047842, 0.9634627466256772, 0.9370674816613822, 0.10009564223178119, 0.4980368540313015, 0.06835799957292374, 0.051268499679692804, 0.02197221414843977, 0.09277157084896792, 0.03662035691406629, 0.07324071382813258, 0.05615121393490164, 0.07047687634260376, 0.916199392453849, 0.5179892212060897, 0.049332306781532345, 0.024666153390766173, 0.12333076695383087, 0.09866461356306469, 0.17266307373536322, 0.21999042160623855, 0.09428160925981652, 0.03142720308660551, 0.4714080462990826, 0.1414224138897248, 0.03142720308660551, 0.12257976548105451, 0.061289882740527254, 0.061289882740527254, 0.12257976548105451, 0.5516089446647453, 0.08743481589404799, 0.043717407947023994, 0.08743481589404799, 0.17486963178809597, 0.568326303311312, 0.05762545595720284, 0.8067563834008398, 0.05762545595720284, 0.02881272797860142, 0.9453354680916726, 0.06109866824148247, 0.6109866824148247, 0.30549334120741234, 0.0317390679344305, 0.01586953396721525, 0.010579689311476834, 0.0899273591475531, 0.1216664270819836, 0.4919555529836728, 0.1534054950164141, 0.042318757245907335, 0.042318757245907335, 0.7195241920517915, 0.07994713245019906, 0.07994713245019906, 0.07470785564683492, 0.07470785564683492, 0.5976628451746794, 0.22412356694050478, 0.16089853094604256, 0.8044926547302128, 0.8122647506515525, 0.08122647506515525, 0.08070941795364438, 0.08070941795364438, 0.5649659256755106, 0.16141883590728875, 0.031224568006268258, 0.07806142001567065, 0.23418426004701196, 0.6401036441284993, 0.015612284003134129, 0.1410312777697911, 0.1410312777697911, 0.1410312777697911, 0.035257819442447776, 0.35257819442447774, 0.07051563888489555, 0.07051563888489555, 0.035257819442447776, 0.01980697392958314, 0.02971046089437471, 0.00990348696479157, 0.02971046089437471, 0.10893835661270727, 0.20797322626062298, 0.21787671322541455, 0.23768368715499769, 0.12874533054229043, 0.897381629324424, 0.021887356812790828, 0.043774713625581656, 0.021887356812790828, 0.09073552261861943, 0.7712519422582652, 0.045367761309309716, 0.045367761309309716, 0.9616903944839229, 0.9327563265813057, 0.03636822006681026, 0.8001008414698257, 0.060613700111350435, 0.024245480044540173, 0.04849096008908035, 0.024245480044540173, 0.7208882925421807, 0.24029609751406023, 0.23971952123903575, 0.0958878084956143, 0.5753268509736859, 0.04794390424780715, 0.24192318745836208, 0.6451284998889656, 0.0806410624861207, 0.0039044887549106485, 0.07028079758839167, 0.050758353813838426, 0.5466284256874908, 0.14837057268660464, 0.07808977509821297, 0.02342693252946389, 0.07418528634330232, 0.0039044887549106485, 0.0039044887549106485, 0.8001318345565732, 0.16002636691131467, 0.08328622118673734, 0.04164311059336867, 0.8328622118673734, 0.0752151472856359, 0.7772231886182377, 0.10028686304751454, 0.040019795060148126, 0.040019795060148126, 0.02223321947786007, 0.2890318532121809, 0.20454561919631264, 0.04891308285129215, 0.24456541425646075, 0.0933795218070123, 0.004446643895572014, 0.013339931686716041, 0.1934954090636798, 0.5628957354579776, 0.0527714751991854, 0.175904917330618, 0.02408038283872522, 0.3371253597421531, 0.04816076567745044, 0.5056880396132296, 0.07224114851617566, 0.0636303825065338, 0.01272607650130676, 0.5790364808094576, 0.05090430600522704, 0.1590759562663345, 0.02545215300261352, 0.08271949725849394, 0.01272607650130676, 0.00636303825065338, 0.14873042946749107, 0.09915361964499406, 0.6444985276924613, 0.04957680982249703, 0.04957680982249703, 0.04957680982249703, 0.01907753290597996, 0.05723259871793988, 0.0953876645298998, 0.4197057239315591, 0.1907753290597996, 0.03815506581195992, 0.0953876645298998, 0.05723259871793988, 0.05557283492032741, 0.666874019043929, 0.11114566984065483, 0.05557283492032741, 0.043665332601256907, 0.6549799890188537, 0.17466133040502763, 0.08733066520251381, 0.06534229917681657, 0.13068459835363314, 0.7187652909449822, 0.9208661776240887, 0.027905035685578446, 0.05581007137115689, 0.2502951745790521, 0.18772138093428908, 0.015643448411190756, 0.015643448411190756, 0.015643448411190756, 0.23465172616786137, 0.2659386229902429, 0.14522355078187216, 0.14522355078187216, 0.10891766308640412, 0.5445883154320206, 0.03630588769546804, 0.03630588769546804, 0.2106541184083547, 0.2282086282757176, 0.3686447072146208, 0.12288156907154026, 0.07021803946945157, 0.11077792134840586, 0.720056488764638, 0.11077792134840586, 0.08163468006347419, 0.8163468006347419, 0.08163468006347419, 0.0044425621335861505, 0.19547273387779063, 0.46202646189295965, 0.1332768640075845, 0.044425621335861504, 0.11994917760682605, 0.035540497068689204, 0.0044425621335861505, 0.207250078171428, 0.69083359390476, 0.069083359390476, 0.09793582852836752, 0.6855507996985727, 0.19587165705673504, 0.08099602036731184, 0.16199204073462367, 0.6479681629384947, 0.08099602036731184, 0.06529640915864388, 0.06529640915864388, 0.7835569099037264, 0.06529640915864388, 0.5586229499420806, 0.05543586526142784, 0.012792891983406425, 0.008528594655604283, 0.1236646225062621, 0.2345363530291178, 0.07996933175168895, 0.07996933175168895, 0.1066257756689186, 0.6397546540135116, 0.07996933175168895, 0.7244249422895611, 0.05174463873496866, 0.20697855493987463, 0.027769442917189364, 0.7220055158469235, 0.22215554333751492, 0.856942037180731, 0.09675152032685673, 0.027643291521959067, 0.07318919010257516, 0.09758558680343354, 0.3537477521624466, 0.024396396700858386, 0.31715315711115905, 0.12198198350429193, 0.21577935447858496, 0.05394483861964624, 0.6473380634357548, 0.40186408181154765, 0.16325728323594121, 0.1381407781227195, 0.06279126278305432, 0.050233010226443456, 0.12558252556610863, 0.06279126278305432, 0.7125984035645789, 0.12956334610265072, 0.06478167305132536, 0.9575882072737837, 0.02279971922080437, 0.29319454668103917, 0.058638909336207835, 0.5863890933620783, 0.012115090550802511, 0.1090358149572226, 0.13326599605882763, 0.012115090550802511, 0.38768289762568037, 0.012115090550802511, 0.24230181101605022, 0.09692072440642009, 0.9376212127064697, 0.033486471882373914, 0.7553955684338219, 0.032843285584079215, 0.1970597135044753, 0.6447565132210649, 0.16118912830526622, 0.08059456415263311, 0.09064175495756141, 0.045320877478780705, 0.045320877478780705, 0.5891714072241492, 0.18128350991512282, 0.19610686532037822, 0.6536895510679274, 0.06536895510679275, 0.2525157155714145, 0.1803683682652961, 0.5411051047958882, 0.04291254495048666, 0.04291254495048666, 0.06436881742572999, 0.02145627247524333, 0.6007756293068132, 0.17165017980194663, 0.02145627247524333, 0.8500325265925693, 0.01734760258352182, 0.01734760258352182, 0.01734760258352182, 0.06939041033408729, 0.30010999078506834, 0.6752474792664037, 0.7187863637009835, 0.05061875800711151, 0.08099001281137841, 0.020247503202844602, 0.11136126761564533, 0.1480331841030488, 0.0740165920515244, 0.6661493284637197, 0.7321683052505553, 0.08135203391672836, 0.08135203391672836, 0.1132395554258191, 0.2961649911136807, 0.03484294013102126, 0.0609751452292872, 0.052264410196531885, 0.10452882039306377, 0.14808249555684036, 0.1829254356878616, 0.0921813444485675, 0.48395205835497934, 0.20740802500927688, 0.04609067222428375, 0.06913600833642562, 0.0921813444485675, 0.023045336112141875, 0.21122019288938051, 0.014081346192625369, 0.16897615431150442, 0.36611500100825956, 0.028162692385250737, 0.14081346192625369, 0.028162692385250737, 0.028162692385250737, 0.028162692385250737, 0.5506326371687787, 0.05360140715802271, 0.024364275980919413, 0.014618565588551647, 0.04385569676565494, 0.08771139353130988, 0.009745710392367764, 0.09258424872749377, 0.12669423510078096, 0.8520773097998966, 0.07746157361817242, 0.05809618021362931, 0.07614221567025052, 0.015228443134050106, 0.015228443134050106, 0.16751287447455115, 0.15228443134050104, 0.3502541920831524, 0.015228443134050106, 0.15228443134050104, 0.06091377253620042, 0.127036666034067, 0.33029533168857417, 0.13974033263747368, 0.17785133244769377, 0.17785133244769377, 0.03811099981022009, 0.682886701253087, 0.062080609204826095, 0.062080609204826095, 0.12416121840965219, 0.08913343058686803, 0.05942228705791201, 0.05942228705791201, 0.5348005835212081, 0.029711143528956006, 0.05942228705791201, 0.17826686117373605, 0.08063182626177202, 0.24189547878531606, 0.5644227838324042, 0.08063182626177202, 0.6660576075166557, 0.07400640083518396, 0.14801280167036793, 0.5829436722533748, 0.02428931967722395, 0.060723299193059875, 0.012144659838611975, 0.060723299193059875, 0.08501261887028383, 0.07286795903167186, 0.060723299193059875, 0.0485786393544479, 0.8800976889244038, 0.03143206031872871, 0.06286412063745742, 0.04854983669022557, 0.10680964071849626, 0.42723856287398504, 0.01941993467609023, 0.2039093140989474, 0.04854983669022557, 0.07767973870436091, 0.01941993467609023, 0.01941993467609023, 0.02912990201413534, 0.05494301246597069, 0.06867876558246337, 0.05494301246597069, 0.13735753116492674, 0.06867876558246337, 0.5356943715432143, 0.06867876558246337, 0.12947156692956704, 0.12947156692956704, 0.37223075492250524, 0.0809197293309794, 0.12947156692956704, 0.12947156692956704, 0.03236789173239176, 0.0981059855707059, 0.008175498797558824, 0.22073846753408827, 0.11445698316582355, 0.21256296873652944, 0.11445698316582355, 0.04905299278535295, 0.11445698316582355, 0.07357948917802942, 0.04737492836724947, 0.6632489971414925, 0.23687464183624735, 0.1391697047372195, 0.6958485236860976, 0.06958485236860976, 0.10465114260516842, 0.020930228521033684, 0.1255813711262021, 0.2511627422524042, 0.020930228521033684, 0.010465114260516842, 0.1255813711262021, 0.23023251373137052, 0.05232557130258421, 0.06279068556310105, 0.03137279298869586, 0.9411837896608758, 0.08259378620635714, 0.14158934778232654, 0.44836626797736734, 0.023598224630387753, 0.09439289852155101, 0.08259378620635714, 0.08259378620635714, 0.023598224630387753, 0.023598224630387753, 0.14008347316470626, 0.2101252097470594, 0.560333892658825, 0.3511805738341399, 0.5618889181346239, 0.08028898775996444, 0.8028898775996445, 0.052579770210977914, 0.683537012742713, 0.052579770210977914, 0.15773931063293375, 0.020844654754484767, 0.041689309508969534, 0.35435913082624104, 0.10422327377242384, 0.41689309508969535, 0.0625339642634543, 0.7298940683466473, 0.08109934092740524, 0.16219868185481048, 0.14060812770220546, 0.7030406385110273, 0.07030406385110273, 0.1490195733100019, 0.1490195733100019, 0.5960782932400076, 0.021516094857019254, 0.08606437942807701, 0.10758047428509628, 0.17212875885615403, 0.05379023714254814, 0.37653165999783694, 0.18288680628466367, 0.0877571441060658, 0.438785720530329, 0.24572000349698425, 0.07020571528485264, 0.1404114305697053, 0.1866426998685363, 0.20530696985538993, 0.11198561992112177, 0.48527101965819436, 0.15003920566566947, 0.19290755014157504, 0.08573668895181114, 0.5572884781867723, 0.34121086466988954, 0.5971190131723066, 0.028434238722490793, 0.2733665206385162, 0.3143714987342936, 0.013668326031925809, 0.10934660825540647, 0.287034846670442, 0.12186010841446003, 0.060930054207230015, 0.060930054207230015, 0.12186010841446003, 0.6093005420723002, 0.35247784037757507, 0.1441954801544625, 0.35247784037757507, 0.016021720017162504, 0.06408688006865002, 0.08010860008581251, 0.2902358272547322, 0.17860666292598903, 0.05581458216437157, 0.04465166573149726, 0.011162916432874315, 0.10046624789586883, 0.04465166573149726, 0.011162916432874315, 0.26790999438898355, 0.9514787848719909, 0.9328017881851933, 0.0612725510118408, 0.0612725510118408, 0.612725510118408, 0.2450902040473632, 0.09306116875777559, 0.09306116875777559, 0.031020389585925196, 0.7134689604762795, 0.06204077917185039, 0.6085333814746494, 0.2318222405617712, 0.0289777800702214, 0.0869333402106642, 0.04137394594018408, 0.8274789188036815, 0.09653920719376284, 0.027582630626789385, 0.05846321086180188, 0.7015585303416225, 0.17538963258540563, 0.04134582672104351, 0.12403748016313054, 0.04134582672104351, 0.12403748016313054, 0.12403748016313054, 0.5374957473735656, 0.0603272998933916, 0.0603272998933916, 0.043090928495279714, 0.034472742796223775, 0.07756367129150349, 0.5601820704386363, 0.14650915688395102, 0.008618185699055944, 0.11188297249220325, 0.19794679748620575, 0.068851059995202, 0.07745744249460225, 0.0516382949964015, 0.18934041498680548, 0.103276589992803, 0.04303191249700125, 0.103276589992803, 0.0516382949964015, 0.07396050504465237, 0.2958420201786095, 0.591684040357219, 0.8678610802170317, 0.09382281948292234, 0.49616312344323565, 0.026819628294228955, 0.05363925658845791, 0.14750795561825925, 0.04022944244134343, 0.2279668405009461, 0.18575232504241426, 0.08255658890773968, 0.4127829445386984, 0.18575232504241426, 0.04127829445386984, 0.02063914722693492, 0.061917441680804756, 0.30818510935749155, 0.6780072405864813, 0.055500802315474544, 0.027750401157737272, 0.7770112324166436, 0.11100160463094909, 0.06844052130534065, 0.09332798359819178, 0.1368810426106813, 0.28620581636778814, 0.16176850490353242, 0.10577171474461736, 0.03733119343927671, 0.03733119343927671, 0.07466238687855342, 0.20098277807411108, 0.10049138903705554, 0.6029483342223333, 0.12146672637541925, 0.6680669950648058, 0.12146672637541925, 0.060733363187709624, 0.06200915787943982, 0.12401831575887964, 0.18602747363831948, 0.6200915787943982, 0.013834746989804777, 0.013834746989804777, 0.20752120484707165, 0.45654665066355765, 0.16601696387765733, 0.08300848193882866, 0.055338987959219106, 0.055219650440089904, 0.055219650440089904, 0.1656589513202697, 0.6626358052810788, 0.27551467745916336, 0.11020587098366535, 0.5510293549183267, 0.1284056483655852, 0.07133647131421401, 0.028534588525685606, 0.07133647131421401, 0.05706917705137121, 0.014267294262842803, 0.1284056483655852, 0.15694023689127082, 0.24254400246832764, 0.09987105983989962, 0.7102443382533983, 0.05463417986564602, 0.16390253959693804, 0.04719900724919303, 0.7551841159870885, 0.14159702174757907, 0.12302096342907824, 0.24604192685815648, 0.06151048171453912, 0.5535943354308521, 0.22328795023670053, 0.04465759004734011, 0.06698638507101017, 0.06698638507101017, 0.022328795023670054, 0.04465759004734011, 0.5135622855444112, 0.27558977305071525, 0.03936996757867361, 0.11810990273602082, 0.5511795461014305, 0.09004692056071135, 0.09004692056071135, 0.13507038084106704, 0.6753519042053351, 0.11449539543789908, 0.6869723726273945, 0.17174309315684863, 0.2411366113721999, 0.5626520932017998, 0.08037887045739997, 0.1747235758360451, 0.5824119194534836, 0.1747235758360451, 0.9476073602462394, 0.018580536475416458, 0.018580536475416458, 0.04713923504710956, 0.14141770514132868, 0.18855694018843824, 0.5656708205653147, 0.2642014724626321, 0.029355719162514678, 0.5577586640877789, 0.058711438325029355, 0.058711438325029355, 0.1896141782898587, 0.6952519870628152, 0.09480708914492934, 0.2961049430254937, 0.01645027461252743, 0.03290054922505486, 0.4277071399257132, 0.230303844575384, 0.07401732742094927, 0.05921386193675942, 0.1628381203260884, 0.11842772387351884, 0.11842772387351884, 0.44410396452569567, 0.08362994591423589, 0.794484486185241, 0.041814972957117946, 0.6235429233983416, 0.051961910283195134, 0.051961910283195134, 0.10392382056639027, 0.0779428654247927, 0.025980955141597567, 0.025980955141597567, 0.9448071779224578, 0.6903141779870449, 0.05752618149892041, 0.11505236299784082, 0.11505236299784082, 0.10835332169870805, 0.13544165212338508, 0.10835332169870805, 0.027088330424677013, 0.027088330424677013, 0.027088330424677013, 0.5417666084935403, 0.08202870450389575, 0.0656229636031166, 0.0656229636031166, 0.4265492634202579, 0.1312459272062332, 0.14765166810701236, 0.0656229636031166, 0.14928290529101884, 0.7464145264550942, 0.631655463291577, 0.2631897763714904, 0.6184744611807864, 0.10466490881521001, 0.009514991710473637, 0.09514991710473637, 0.05708995026284182, 0.11417990052568364, 0.20622398883549783, 0.13748265922366523, 0.6186719665064936, 0.23492364239402588, 0.2114312781546233, 0.02349236423940259, 0.4228625563092466, 0.09396945695761036, 0.058795686278328256, 0.11759137255665651, 0.11759137255665651, 0.5879568627832825, 0.058795686278328256, 0.32152421595724945, 0.07144982576827766, 0.08931228221034707, 0.06251859754724295, 0.008931228221034707, 0.1339684233155206, 0.1250371950944859, 0.16969333619965943, 0.058112865542743995, 0.11622573108548799, 0.11622573108548799, 0.697354386512928, 0.7168178286262243, 0.0796464254029138, 0.0796464254029138, 0.0796464254029138, 0.08751594966825117, 0.04712397289828909, 0.12117593030988624, 0.2086918799781374, 0.06058796515494312, 0.43757974834125585, 0.020195988384981038, 0.013463992256654027, 0.02831122525012816, 0.02831122525012816, 0.08493367575038448, 0.08493367575038448, 0.08493367575038448, 0.5379132797524351, 0.11324490100051264, 0.02831122525012816, 0.030985557138916046, 0.7436533713339851, 0.06197111427783209, 0.12394222855566418, 0.036233681865906184, 0.099642625131242, 0.009058420466476546, 0.398570500524968, 0.14493472746362474, 0.018116840932953092, 0.08152578419828892, 0.15399314793010127, 0.04529210233238273, 0.022913446855525835, 0.2062210216997325, 0.2520479154107842, 0.4811823839660425, 0.09496940490425836, 0.2532517464113556, 0.03165646830141945, 0.0633129366028389, 0.5381599611241307, 0.7533460570294199, 0.150669211405884, 0.1477088225249593, 0.07385441126247964, 0.07385441126247964, 0.6646897013623168, 0.1620328563617391, 0.5671149972660869, 0.1620328563617391, 0.17012743656783427, 0.07291175852907184, 0.7291175852907184, 0.7397277416035275, 0.07397277416035275, 0.1479455483207055, 0.6655742604084774, 0.2958107824037678, 0.02253160438362336, 0.7660745490431943, 0.15772123068536353, 0.02253160438362336, 0.030246325651065276, 0.9376360951830236, 0.6776210582033877, 0.1505824573785306, 0.0752912286892653, 0.8188798132771716, 0.10918397510362289, 0.04469346457334811, 0.022346732286674054, 0.04469346457334811, 0.849175826893614, 0.07964665770907568, 0.15929331541815137, 0.6371732616726055, 0.9416473669047595, 0.5811801050136878, 0.010196142193222592, 0.10196142193222593, 0.03568649767627907, 0.025490355483056483, 0.08156913754578074, 0.015294213289833889, 0.025490355483056483, 0.11725563522205981, 0.7669133252430015, 0.028940125480867978, 0.014470062740433989, 0.057880250961735956, 0.028940125480867978, 0.028940125480867978, 0.057880250961735956, 0.014470062740433989, 0.12020269070338785, 0.04006756356779595, 0.6811485806525311, 0.0801351271355919, 0.07556351209014124, 0.6045080967211299, 0.30225404836056496, 0.014260850211240444, 0.0998259514786831, 0.2281736033798471, 0.11408680168992355, 0.028521700422480888, 0.37078210549225155, 0.15686935232364488, 0.19214212618042262, 0.053372812827895175, 0.1601184384836855, 0.08539650052463228, 0.04269825026231614, 0.17079300104926456, 0.053372812827895175, 0.20281668874600167, 0.02134912513115807, 0.012541778311450869, 0.037625334934352606, 0.012541778311450869, 0.9406333733588151, 0.07162122689402685, 0.0805738802557802, 0.19695837395857382, 0.0626685735322735, 0.0805738802557802, 0.23276898740558724, 0.09847918697928691, 0.0626685735322735, 0.10743184034104027, 0.8982989404009009, 0.06909991849237698, 0.9162727061797349, 0.02955718407031403, 0.02955718407031403, 0.16101717812901367, 0.06038144179838013, 0.08050858906450684, 0.14089003086288696, 0.02012714726612671, 0.08050858906450684, 0.40254294532253415, 0.02012714726612671, 0.06038144179838013, 0.5784643980339517, 0.052587672548541055, 0.004045205580657005, 0.00809041116131401, 0.060678083709855064, 0.1860794567102222, 0.08090411161314008, 0.02831643906459903, 0.8995741475935698, 0.009672840296705051, 0.009672840296705051, 0.009672840296705051, 0.06770988207693536, 0.009672840296705051, 0.006075106556825373, 0.006075106556825373, 0.15187766392063434, 0.1883283032615866, 0.060751065568253736, 0.17010298359111045, 0.19440340981841195, 0.1397274508069836, 0.08505149179555523, 0.03147268881214387, 0.03147268881214387, 0.015736344406071936, 0.6451901206489493, 0.047209033218215804, 0.17309978846679128, 0.047209033218215804, 0.015736344406071936, 0.4021093414356774, 0.12637722159407003, 0.09191070661386912, 0.10339954494060276, 0.03446651498020092, 0.2297767665346728, 0.01148883832673364, 0.07049596044141225, 0.07049596044141225, 0.21148788132423677, 0.6344636439727103, 0.05245242116562968, 0.15735726349688903, 0.05245242116562968, 0.6294290539875561, 0.05245242116562968, 0.05245242116562968, 0.5337828752246174, 0.09283180438688998, 0.06962385329016749, 0.27849541316066995, 0.02457395495701352, 0.17201768469909462, 0.07372186487104056, 0.02457395495701352, 0.22116559461312166, 0.46690514418325685, 0.6524005224584503, 0.2718335510243543, 0.08132608200389464, 0.8132608200389464, 0.012580744088165266, 0.1132266967934874, 0.3648415785567927, 0.16354967314614846, 0.16354967314614846, 0.12580744088165266, 0.025161488176330533, 0.050322976352661065, 0.08028302779088203, 0.16056605558176407, 0.6422642223270563, 0.08028302779088203, 0.27549857388872356, 0.09183285796290785, 0.5969135767589011, 0.06536920389163192, 0.5883228350246873, 0.06536920389163192, 0.19610761167489577, 0.1995128113595404, 0.10742997534744483, 0.0767356966767463, 0.030694278670698523, 0.0767356966767463, 0.0767356966767463, 0.38367848338373156, 0.030694278670698523, 0.08065277095550684, 0.16130554191101368, 0.5645693966885479, 0.16130554191101368, 0.0589569801399133, 0.766440741818873, 0.1179139602798266, 0.07037814351066661, 0.7037814351066661, 0.14075628702133322, 0.6807110800285014, 0.05137442113422652, 0.01284360528355663, 0.01284360528355663, 0.19265407925334946, 0.05137442113422652, 0.9484058716922139, 0.7905153715672557, 0.1216177494718855, 0.04722571860051403, 0.059032148250642534, 0.10625786685115657, 0.27154788195295565, 0.23612859300257014, 0.10625786685115657, 0.1534835854516706, 0.03541928895038552, 0.24630527605472272, 0.12315263802736136, 0.041050879342453786, 0.574712310794353, 0.7419970953570293, 0.0989329460476039, 0.0989329460476039, 0.06900929572041706, 0.4041973035052999, 0.19716941634404875, 0.08872623735482194, 0.13801859144083412, 0.08872623735482194, 0.009858470817202437, 0.8753559510223895, 0.037249189405208064, 0.07449837881041613, 0.13843290451027693, 0.2076493567654154, 0.6229480702962462, 0.24250904850310562, 0.6466907960082816, 0.21953859708959328, 0.3415044843615896, 0.0853761210903974, 0.0853761210903974, 0.048786354908798506, 0.048786354908798506, 0.14635906472639554, 0.036589766181598884, 0.06424271652439557, 0.19272814957318674, 0.6424271652439557, 0.8535574174926557, 0.12193677392752224, 0.9275307389808827, 0.2606849717316447, 0.03724071024737781, 0.07448142049475562, 0.5586106537106671, 0.6443266644439122, 0.16108166611097804, 0.08054083305548902, 0.0576093567001708, 0.17282807010051238, 0.1152187134003416, 0.0576093567001708, 0.576093567001708, 0.0952321821078145, 0.019046436421562903, 0.019046436421562903, 0.13332505495094032, 0.7047181475978274, 0.019046436421562903, 0.28766869912827336, 0.11187116077210629, 0.047944783188045556, 0.047944783188045556, 0.4794478318804556, 0.027934097036037126, 0.009311365678679042, 0.36314326146848264, 0.223472776288297, 0.36314326146848264, 0.009311365678679042, 0.22066977145574634, 0.13240186287344782, 0.5737414057849405, 0.04413395429114927, 0.013236841897034786, 0.41034209880807837, 0.026473683794069572, 0.2647368379406957, 0.013236841897034786, 0.15884210276441743, 0.013236841897034786, 0.052947367588139144, 0.013236841897034786, 0.052947367588139144, 0.03838746327987128, 0.0959686581996782, 0.46064955935845536, 0.24951851131916333, 0.11516238983961384, 0.01919373163993564, 0.08555355264689024, 0.1344412970165418, 0.06110968046206446, 0.18332904138619338, 0.24443872184825785, 0.19555097747860628, 0.08555355264689024, 0.11183333438702331, 0.02096875019756687, 0.5521770885359276, 0.048927083794322694, 0.19570833517729078, 0.027958333596755827, 0.04193750039513374, 0.6441858947674409, 0.14865828340787096, 0.04955276113595699, 0.09910552227191398, 0.04535995065214609, 0.04535995065214609, 0.6350393091300452, 0.04535995065214609, 0.18143980260858436, 0.18562332174402812, 0.12374888116268541, 0.618744405813427, 0.11430727826406609, 0.031174712253836206, 0.051957853756393675, 0.051957853756393675, 0.2390061272794109, 0.21822298577685342, 0.28057241028452584, 0.4695490150461076, 0.12249104740333241, 0.02041517456722207, 0.02041517456722207, 0.02041517456722207, 0.3470579676427752, 0.03416163187282476, 0.13664652749129905, 0.3330759107600414, 0.29891427888721667, 0.0768636717138557, 0.11956571155488666, 0.072699667083851, 0.072699667083851, 0.2544488347934785, 0.581597336670808, 0.0363498335419255, 0.05458430756239794, 0.8187646134359692, 0.05458430756239794, 0.06871263923418339, 0.06871263923418339, 0.8245516708102006, 0.11497033551933401, 0.05748516775966701, 0.4886239259571695, 0.20119808715883453, 0.0862277516395005, 0.04311387581975025, 0.348892766915728, 0.065417393796699, 0.479727554509126, 0.065417393796699, 0.021805797932233, 0.021805797932233, 0.1377827271671614, 0.7578049994193876, 0.0688913635835807, 0.10980419259138958, 0.09607866851746588, 0.19215733703493176, 0.37058914999593984, 0.17843181296100807, 0.013725524073923698, 0.013725524073923698, 0.013725524073923698, 0.647605313812371, 0.08095066422654637, 0.2428519926796391, 0.9451356691920056, 0.019133318239284207, 0.038266636478568414, 0.5165995924606736, 0.057399954717852614, 0.19133318239284205, 0.057399954717852614, 0.11479990943570523, 0.534890958834405, 0.16891293436875948, 0.14076077864063288, 0.11260862291250631, 0.2312751411312374, 0.03303930587589106, 0.6938254233937122, 0.09556527884290009, 0.5597394903655576, 0.05460873076737147, 0.2184349230694859, 0.05460873076737147, 0.64597114993947, 0.2422391812273013, 0.0933486900886748, 0.05600921405320489, 0.10268355909754229, 0.07467895207093984, 0.07467895207093984, 0.1960322491862171, 0.3547250223369643, 0.03733947603546992, 0.14941799773968453, 0.07470899886984227, 0.6723809898285803, 0.2753865491782573, 0.13769327458912864, 0.5507730983565146, 0.041773151141617205, 0.12531945342485162, 0.08354630228323441, 0.5848241159826408, 0.12531945342485162, 0.3000684313129422, 0.1500342156564711, 0.4751083495788252, 0.025005702609411852, 0.025005702609411852, 0.2119508848813675, 0.48748703522714526, 0.06358526546441025, 0.084780353952547, 0.10597544244068376, 0.02119508848813675, 0.07441581974660305, 0.1488316394932061, 0.5953265579728244, 0.07441581974660305, 0.07441581974660305, 0.7108463336298396, 0.16404146160688607, 0.054680487202295354, 0.960032432178132, 0.2642123658823722, 0.31705483905884657, 0.026421236588237217, 0.026421236588237217, 0.05284247317647443, 0.1453168012353047, 0.15852741952942329, 0.06594888357804239, 0.3443997253519992, 0.0512935761162552, 0.036638268654468, 0.1172424596942976, 0.24181257311948878, 0.109914805963404, 0.0219829611926808, 0.14079402790717915, 0.07039701395358958, 0.21119104186076876, 0.5631761116287166, 0.3142404227754444, 0.11890178159070869, 0.06794387519469068, 0.01698596879867267, 0.05095790639601801, 0.03397193759734534, 0.13588775038938136, 0.03397193759734534, 0.04246492199668167, 0.17835267238606303, 0.8875557984342874, 0.0739629832028573, 0.03277307355681269, 0.06554614711362539, 0.655461471136254, 0.22941151489768888, 0.2603740653243682, 0.6323370157877514, 0.07439259009267664, 0.526648136344023, 0.021943672347667625, 0.41692977460568487, 0.6526935929323144, 0.059335781175664945, 0.059335781175664945, 0.059335781175664945, 0.059335781175664945, 0.11867156235132989, 0.05877029793245229, 0.17631089379735687, 0.05877029793245229, 0.7052435751894275, 0.07420202707057662, 0.22260608121172984, 0.5936162165646129, 0.31761657121567805, 0.07940414280391951, 0.5558289996274366, 0.10400377137933846, 0.15600565706900768, 0.05200188568966923, 0.05200188568966923, 0.5720207425863615, 0.15530841994927944, 0.7454804157565412, 0.062123367979711776, 0.6698954598636836, 0.14886565774748525, 0.14886565774748525, 0.9273604668894632, 0.05307980833037444, 0.18577932915631057, 0.07961971249556167, 0.07961971249556167, 0.07961971249556167, 0.10615961666074888, 0.02653990416518722, 0.42463846664299554, 0.3424749217166703, 0.02634422474743618, 0.017562816498290786, 0.02634422474743618, 0.09659549074059931, 0.10537689898974471, 0.14050253198632628, 0.2370980227269256, 0.9513716418218058, 0.01934755156411873, 0.17412796407706854, 0.07739020625647491, 0.638469201615918, 0.058042654692356185, 0.01934755156411873, 0.19830972584852427, 0.06610324194950809, 0.6610324194950808, 0.6293378533698989, 0.13985285630442196, 0.13985285630442196, 0.2554914018764425, 0.6642776448787505, 0.21980043770055013, 0.03663340628342503, 0.10990021885027507, 0.03663340628342503, 0.6227679068182255, 0.023630085484155232, 0.5907521371038809, 0.09452034193662093, 0.18904068387324185, 0.0708902564524657, 0.023630085484155232, 0.07945781212208941, 0.15891562424417882, 0.7151203090988048, 0.10335811881640386, 0.723506831714827, 0.10335811881640386, 0.06153549452996912, 0.24614197811987648, 0.06153549452996912, 0.553819450769722, 0.06153549452996912, 0.13928951100036308, 0.11607459250030257, 0.04642983700012102, 0.6732326365017549, 0.46296474733652937, 0.28659722454166103, 0.06613782104807563, 0.06613782104807563, 0.11022970174679271, 0.2247273224362062, 0.7490910747873539, 0.17499485535551554, 0.08749742767775777, 0.021874356919439442, 0.3281153537915916, 0.37186406763047053, 0.11447300822969673, 0.14569291956506858, 0.05203318555895306, 0.07284645978253429, 0.1665061937886498, 0.07804977833842959, 0.35902898035677616, 0.0052033185558953065, 0.006407558268142342, 0.06407558268142342, 0.046988760633043844, 0.021358527560474475, 0.044852907876996397, 0.23280795040917177, 0.23707965592126665, 0.2029060118245075, 0.1217436070947045, 0.023494380316521922, 0.76108077866382, 0.2075674850901327, 0.24335184280822306, 0.6489382474885949, 0.08111728093607436, 0.03340998869754861, 0.8352497174387152, 0.03340998869754861, 0.06681997739509722, 0.005257772007376755, 0.01051554401475351, 0.005257772007376755, 0.03154663204426053, 0.14195984419917237, 0.07360880810327457, 0.12618652817704212, 0.22608419631720048, 0.38381735653850313, 0.11171154796972119, 0.18618591328286865, 0.07447436531314747, 0.5213205571920322, 0.07447436531314747, 0.012889159132304925, 0.19333738698457387, 0.012889159132304925, 0.012889159132304925, 0.09022411392613447, 0.0515566365292197, 0.5671230018214166, 0.0515566365292197, 0.15472723130998944, 0.46418169392996833, 0.24756357009598312, 0.09283633878599366, 0.07044430398632083, 0.20126943996091665, 0.07044430398632083, 0.09057124798241249, 0.4327292959159708, 0.12076166397655, 0.03380080206078749, 0.06760160412157498, 0.10140240618236246, 0.06760160412157498, 0.16900401030393744, 0.5070120309118124, 0.058575350014483336, 0.7029042001738001, 0.17572605004345002, 0.058575350014483336, 0.30077453953092675, 0.037596817441365844, 0.5639522616204876, 0.07519363488273169, 0.037596817441365844, 0.0579971081464755, 0.695965297757706, 0.1739913244394265, 0.14579302006746117, 0.048597673355820395, 0.048597673355820395, 0.09719534671164079, 0.2672872034570122, 0.38878138684656316, 0.06314306408069248, 0.26835802234294304, 0.06314306408069248, 0.0789288301008656, 0.01578576602017312, 0.01578576602017312, 0.11050036214121184, 0.28414378836311616, 0.09471459612103872, 0.8116281734690737, 0.032465126938762946, 0.12986050775505179, 0.24706227022893412, 0.6176556755723354, 0.06176556755723353, 0.6651626736169245, 0.2709922003624507, 0.02463565457840461, 0.02463565457840461, 0.09840529012609552, 0.6232335041319382, 0.08200440843841293, 0.016400881687682587, 0.06560352675073035, 0.1148061718137781, 0.7902057764316797, 0.18235517917654145, 0.005030963683861644, 0.140866983148126, 0.0804954189417863, 0.04527867315475479, 0.3622293852380383, 0.020123854735446575, 0.10061927367723288, 0.12577409209654108, 0.10061927367723288, 0.02515481841930822, 0.08128512314167663, 0.08128512314167663, 0.16257024628335326, 0.650280985133413, 0.9155162311422727, 0.025789189609641484, 0.03868378441446223, 0.9328760477334287, 0.16224448335296368, 0.3650500875441683, 0.08112224167648184, 0.3650500875441683, 0.9326876327167863, 0.09368132191203635, 0.023420330478009087, 0.023420330478009087, 0.046840660956018174, 0.023420330478009087, 0.7962912362523089, 0.17478077231944725, 0.7573833467176048, 0.011767317574837503, 0.011767317574837503, 0.4236234326941501, 0.07060390544902502, 0.15297512847288752, 0.05883658787418751, 0.20004439877223754, 0.05883658787418751, 0.011767317574837503, 0.31660666195489506, 0.12664266478195801, 0.021107110796993005, 0.04221422159398601, 0.08442844318797202, 0.3799279943458741, 0.12195130198247263, 0.6402443354079813, 0.030487825495618157, 0.12195130198247263, 0.060975650991236315, 0.0481548189159124, 0.0481548189159124, 0.0963096378318248, 0.0481548189159124, 0.7704771026545983, 0.9019437640970623, 0.08672536193240983, 0.06307887512093537, 0.04730915634070153, 0.5519401573081845, 0.04730915634070153, 0.20500634414303995, 0.06307887512093537, 0.01576971878023384, 0.09974321088523418, 0.04987160544261709, 0.09974321088523418, 0.09974321088523418, 0.548587659868788, 0.742989267604572, 0.0990652356806096, 0.0495326178403048, 0.0495326178403048, 0.06171995915286537, 0.08915105210969443, 0.22630651689383968, 0.49375967322292297, 0.048004412674450846, 0.02057331971762179, 0.048004412674450846, 0.013715546478414527, 0.662453637597548, 0.11040893959959133, 0.165613409399387, 0.5872270369690052, 0.36701689810562826, 0.024467793207041885, 0.24262926234119356, 0.6470113662431828, 0.08087642078039785, 0.6414301475022052, 0.24053630531332695, 0.24411765032241248, 0.6277311008290607, 0.10462185013817678, 0.6012434652360457, 0.07515543315450571, 0.22546629946351712, 0.15425485446351467, 0.07119454821392986, 0.07119454821392986, 0.11865758035654976, 0.09492606428523981, 0.08306030624958483, 0.1423890964278597, 0.23731516071309952, 0.023731516071309952, 0.039886910257787, 0.079773820515574, 0.638190564124592, 0.119660730773361, 0.079773820515574, 0.1485957931068193, 0.07429789655340965, 0.6686810689806869, 0.07429789655340965, 0.2819612467222933, 0.04699354112038222, 0.6109160345649688], \"Term\": [\"absolut best\", \"absolut best\", \"absolut best\", \"absolut best\", \"absolut best\", \"after ask\", \"after ask\", \"after ask\", \"after ask\", \"after hour\", \"after hour\", \"after left\", \"after left\", \"after left\", \"after left\", \"again again\", \"again again\", \"again again\", \"again again\", \"again again\", \"again again\", \"ahi tuna\", \"ahi tuna\", \"ahi tuna\", \"almost too\", \"almost too\", \"almost too\", \"along wall\", \"alway excel\", \"alway excel\", \"alway friend\", \"alway friend\", \"alway friend\", \"alway friend\", \"alway friend\", \"alway great\", \"alway great\", \"alway great\", \"alway veri\", \"alway veri\", \"alway veri\", \"anoth minut\", \"anoth minut\", \"anoth minut\", \"ask waitress\", \"ask waitress\", \"ask waitress\", \"ate here\", \"ate here\", \"ate here\", \"ate here\", \"atmospher excel\", \"atmospher excel\", \"atmospher excel\", \"atmospher great\", \"atmospher great\", \"atmospher great\", \"atmospher great\", \"atmospher great\", \"atmospher great\", \"atmospher great\", \"atmospher servic\", \"atmospher servic\", \"atmospher servic\", \"atmospher servic\", \"atmospher veri\", \"atmospher veri\", \"atmospher veri\", \"atmospher veri\", \"atmospher veri\", \"atmospher veri\", \"atmospher veri\", \"atmospher wonder\", \"atmospher wonder\", \"atmospher wonder\", \"atmospher wonder\", \"attent staff\", \"attent staff\", \"authent mexican\", \"authent mexican\", \"authent mexican\", \"babi back\", \"babi back\", \"babi back\", \"back again\", \"back again\", \"back again\", \"back again\", \"back again\", \"back again\", \"back again\", \"back again\", \"back again\", \"back rib\", \"back rib\", \"bad experi\", \"bad experi\", \"bad experi\", \"bad experi\", \"bad food\", \"bad food\", \"bad food\", \"bake bean\", \"bake bean\", \"bake bean\", \"bake bread\", \"bake bread\", \"bake bread\", \"bake bread\", \"bake potato\", \"bake potato\", \"bake potato\", \"bake potato\", \"bake potato\", \"bake potato\", \"bake potato\", \"bar area\", \"bar area\", \"bar area\", \"bar area\", \"bar area\", \"bar area\", \"bar food\", \"bar food\", \"bar food\", \"bar food\", \"bar food\", \"bar food\", \"barbecu sauc\", \"barbecu sauc\", \"barbecu sauc\", \"bbq joint\", \"bbq joint\", \"bbq place\", \"bbq sauc\", \"bbq sauc\", \"bbq sauc\", \"bbq sauc\", \"beer wine\", \"beer wine\", \"beer wine\", \"beer wine\", \"befor tip\", \"bell pepper\", \"bell pepper\", \"bell pepper\", \"bell pepper\", \"best bbq\", \"best bbq\", \"best burger\", \"best burger\", \"best burger\", \"best chines\", \"best dine\", \"best dine\", \"best dine\", \"best dine\", \"best food\", \"best food\", \"best food\", \"best food\", \"best italian\", \"best italian\", \"best italian\", \"best italian\", \"best kept\", \"best kept\", \"best meal\", \"best meal\", \"best meal\", \"best meal\", \"best place\", \"best place\", \"best place\", \"best place\", \"best place\", \"best place\", \"best sushi\", \"best sushi\", \"best sushi\", \"bill just\", \"bit high\", \"bleu chees\", \"bleu chees\", \"bleu chees\", \"bleu chees\", \"bloodi mari\", \"bloodi mari\", \"bloodi mari\", \"booth along\", \"bottl wine\", \"bottl wine\", \"bottl wine\", \"bottl wine\", \"bottl wine\", \"bottl wine\", \"breakfast lunch\", \"breakfast lunch\", \"breakfast lunch\", \"breakfast lunch\", \"breakfast lunch\", \"bring food\", \"bring food\", \"brought out\", \"brought out\", \"brought out\", \"brought out\", \"brought out\", \"brought out\", \"brought out\", \"buffet style\", \"buffet style\", \"came back\", \"came back\", \"came back\", \"came back\", \"came back\", \"came fri\", \"came fri\", \"came fri\", \"came out\", \"came out\", \"came out\", \"came out\", \"came out\", \"came out\", \"came out\", \"came out\", \"came over\", \"came over\", \"came over\", \"came over\", \"came over\", \"came over\", \"came tabl\", \"came tabl\", \"came tabl\", \"came tabl\", \"came tabl\", \"came tabl\", \"can eat\", \"can eat\", \"can eat\", \"can eat\", \"can eat\", \"can eat\", \"can eat\", \"can eat\", \"can get\", \"can get\", \"can get\", \"can get\", \"can get\", \"can get\", \"can get\", \"can get\", \"can get\", \"can go\", \"can go\", \"can go\", \"can go\", \"can go\", \"can go\", \"can wait\", \"can wait\", \"can wait\", \"can wait\", \"can wait\", \"can wait\", \"cedar street\", \"check out\", \"check out\", \"check out\", \"check out\", \"check out\", \"check out\", \"check out\", \"check out\", \"check out\", \"chees steak\", \"chees steak\", \"chicago style\", \"chicago style\", \"chicago style\", \"chicago style\", \"chicago style\", \"chicago style\", \"chicken salad\", \"chicken salad\", \"chicken salad\", \"chicken salad\", \"chicken salad\", \"chicken salad\", \"chile relleno\", \"chile relleno\", \"chile relleno\", \"chines food\", \"chines food\", \"chines food\", \"chines food\", \"chines food\", \"chines food\", \"chines food\", \"chines food\", \"chines food\", \"chines restaur\", \"chines restaur\", \"chines restaur\", \"chines restaur\", \"chines restaur\", \"chines restaur\", \"coconut shrimp\", \"coconut shrimp\", \"cole slaw\", \"cole slaw\", \"cole slaw\", \"cole slaw\", \"cole slaw\", \"cole slaw\", \"come back\", \"come back\", \"come back\", \"come back\", \"come back\", \"come back\", \"come back\", \"come back\", \"come back\", \"come back\", \"come close\", \"come close\", \"come out\", \"come out\", \"come out\", \"come out\", \"come out\", \"come out\", \"come out\", \"corn beef\", \"corn beef\", \"corn beef\", \"corn beef\", \"crab cake\", \"crab cake\", \"crab cake\", \"crab cake\", \"crab cake\", \"crab cake\", \"credit card\", \"credit card\", \"credit card\", \"credit card\", \"credit card\", \"crinkl cut\", \"crust pizza\", \"crust pizza\", \"custom servic\", \"custom servic\", \"custom servic\", \"custom servic\", \"custom servic\", \"custom servic\", \"cut fri\", \"daili special\", \"daili special\", \"daili special\", \"daili special\", \"daili special\", \"daili special\", \"decid eat\", \"decid eat\", \"definit one\", \"definit one\", \"definit one\", \"definit recommend\", \"definit recommend\", \"definit recommend\", \"definit recommend\", \"definit recommend\", \"definit return\", \"definit return\", \"definit return\", \"definit return\", \"despit fact\", \"despit fact\", \"despit fact\", \"despit fact\", \"dessert great\", \"dessert great\", \"dessert great\", \"dessert great\", \"didn realli\", \"didn realli\", \"didn realli\", \"didn realli\", \"dim sum\", \"dim sum\", \"dine experi\", \"dine experi\", \"dine experi\", \"dine experi\", \"dine experi\", \"dine experi\", \"dine experi\", \"dine experi\", \"dine experi\", \"dine room\", \"dine room\", \"dine room\", \"dine room\", \"dine room\", \"dine room\", \"dine room\", \"dine room\", \"dine room\", \"dine room\", \"dine spot\", \"dine spot\", \"dip sauc\", \"dip sauc\", \"dip sauc\", \"doggi bag\", \"doggi bag\", \"doggi bag\", \"doggi bag\", \"don know\", \"don know\", \"don know\", \"don know\", \"don know\", \"don know\", \"don know\", \"don know\", \"don know\", \"don miss\", \"don miss\", \"don miss\", \"don miss\", \"don miss\", \"don wast\", \"don wast\", \"don wast\", \"drink order\", \"drink order\", \"drink order\", \"drink order\", \"each time\", \"each time\", \"each time\", \"each time\", \"each time\", \"each time\", \"each time\", \"each time\", \"east lans\", \"east lans\", \"eat again\", \"eat again\", \"eat again\", \"eat again\", \"eat again\", \"eat again\", \"eat here\", \"eat here\", \"eat here\", \"eat here\", \"eat here\", \"eat here\", \"eat here\", \"eat here\", \"eat here\", \"eat here\", \"egg benedict\", \"egg benedict\", \"egg benedict\", \"egg roll\", \"egg roll\", \"egg roll\", \"egg roll\", \"end up\", \"end up\", \"end up\", \"end up\", \"end up\", \"end up\", \"end up\", \"end up\", \"end up\", \"enjoy even\", \"enjoy even\", \"enjoy even\", \"enjoy even\", \"enough share\", \"enough share\", \"enough share\", \"even though\", \"even though\", \"even though\", \"even though\", \"even though\", \"even though\", \"even though\", \"even though\", \"even though\", \"everi penni\", \"everi penni\", \"everi penni\", \"everi penni\", \"everi time\", \"everi time\", \"everi time\", \"everi time\", \"everi time\", \"everi time\", \"everi time\", \"everi time\", \"everi time\", \"everyth great\", \"everyth great\", \"everyth order\", \"everyth order\", \"everyth order\", \"excel food\", \"excel food\", \"excel food\", \"excel food\", \"excel place\", \"excel servic\", \"excel servic\", \"excel servic\", \"excel servic\", \"excel servic\", \"excel servic\", \"excel servic\", \"excel wine\", \"excel wine\", \"excel wine\", \"expect much\", \"expect much\", \"experi food\", \"experi food\", \"experi food\", \"experi food\", \"experi food\", \"experi food\", \"experi great\", \"experi great\", \"experi great\", \"experi veri\", \"experi veri\", \"experi veri\", \"experi wonder\", \"experi wonder\", \"experi wonder\", \"fanci place\", \"fanci place\", \"fanci place\", \"fast food\", \"fast food\", \"fast food\", \"fast food\", \"fast food\", \"fast food\", \"fast food\", \"fast food\", \"favorit restaur\", \"favorit restaur\", \"favorit restaur\", \"favorit restaur\", \"favorit restaur\", \"favorit restaur\", \"favorit restaur\", \"favorit restaur\", \"feel home\", \"feel home\", \"feel like\", \"feel like\", \"feel like\", \"feel like\", \"feel like\", \"feel like\", \"feel like\", \"feel like\", \"feel welcom\", \"feel welcom\", \"feel welcom\", \"few minut\", \"few minut\", \"few minut\", \"few minut\", \"fine dine\", \"fine dine\", \"fine dine\", \"fine dine\", \"fine dine\", \"fine dine\", \"fine dine\", \"fine dine\", \"fine dine\", \"flag down\", \"flag down\", \"food alway\", \"food alway\", \"food alway\", \"food alway\", \"food area\", \"food area\", \"food averag\", \"food averag\", \"food averag\", \"food averag\", \"food averag\", \"food excel\", \"food excel\", \"food excel\", \"food excel\", \"food excel\", \"food excel\", \"food excel\", \"food excel\", \"food excel\", \"food fabul\", \"food fabul\", \"food good\", \"food good\", \"food good\", \"food good\", \"food good\", \"food good\", \"food good\", \"food good\", \"food good\", \"food good\", \"food great\", \"food great\", \"food great\", \"food great\", \"food great\", \"food great\", \"food great\", \"food great\", \"food great\", \"food great\", \"food horribl\", \"food horribl\", \"food horribl\", \"food horribl\", \"food servic\", \"food servic\", \"food servic\", \"food servic\", \"food servic\", \"food servic\", \"food servic\", \"food servic\", \"food some\", \"food some\", \"food some\", \"food some\", \"food some\", \"food still\", \"food still\", \"food still\", \"food still\", \"food veri\", \"food veri\", \"food veri\", \"food veri\", \"food veri\", \"food veri\", \"food veri\", \"food veri\", \"food veri\", \"forward return\", \"forward return\", \"forward return\", \"french quarter\", \"french quarter\", \"french quarter\", \"fresh bake\", \"fresh bake\", \"fresh bake\", \"fresh cut\", \"fresh cut\", \"fresh cut\", \"fresh seafood\", \"fresh seafood\", \"fresh seafood\", \"fresh seafood\", \"fri green\", \"fri green\", \"fri out\", \"fri realli\", \"fri rice\", \"fri rice\", \"fri rice\", \"fri shrimp\", \"fri shrimp\", \"fri shrimp\", \"friend great\", \"friend great\", \"friend great\", \"friend great\", \"friend great\", \"friend help\", \"friend help\", \"friend help\", \"friend help\", \"friend help\", \"friend help\", \"friend staff\", \"friend staff\", \"friend staff\", \"friend staff\", \"friend staff\", \"friend staff\", \"fun place\", \"fun place\", \"fun place\", \"fun place\", \"garlic mash\", \"garlic mash\", \"garlic mash\", \"garlic mash\", \"gas station\", \"gas station\", \"gas station\", \"gas station\", \"get great\", \"get great\", \"get great\", \"gift shop\", \"gift shop\", \"gift shop\", \"girlfriend got\", \"girlfriend order\", \"go back\", \"go back\", \"go back\", \"go back\", \"go back\", \"go back\", \"go back\", \"go back\", \"go back\", \"go great\", \"go great\", \"go here\", \"go here\", \"go here\", \"go here\", \"go here\", \"go here\", \"go out\", \"go out\", \"go out\", \"go out\", \"go out\", \"go out\", \"go somewher\", \"go somewher\", \"go somewher\", \"go somewher\", \"go somewher\", \"go tri\", \"go tri\", \"go tri\", \"go tri\", \"go tri\", \"go wrong\", \"go wrong\", \"go wrong\", \"go wrong\", \"golden brown\", \"good excel\", \"good excel\", \"good excel\", \"good food\", \"good food\", \"good food\", \"good food\", \"good food\", \"good food\", \"good food\", \"good food\", \"good food\", \"good friend\", \"good friend\", \"good friend\", \"good good\", \"good good\", \"good good\", \"good good\", \"good got\", \"good got\", \"good home\", \"good home\", \"good italian\", \"good italian\", \"good italian\", \"good italian\", \"good place\", \"good place\", \"good place\", \"good place\", \"good place\", \"good price\", \"good price\", \"good price\", \"good price\", \"good price\", \"good price\", \"good price\", \"good price\", \"good servic\", \"good servic\", \"good servic\", \"good servic\", \"good servic\", \"good servic\", \"good servic\", \"good servic\", \"good servic\", \"good size\", \"good size\", \"good size\", \"good size\", \"good veri\", \"good veri\", \"good veri\", \"good veri\", \"good work\", \"got littl\", \"great atmospher\", \"great atmospher\", \"great atmospher\", \"great atmospher\", \"great atmospher\", \"great atmospher\", \"great can\", \"great can\", \"great dine\", \"great dine\", \"great dine\", \"great dine\", \"great find\", \"great find\", \"great find\", \"great food\", \"great food\", \"great food\", \"great food\", \"great food\", \"great food\", \"great food\", \"great food\", \"great food\", \"great food\", \"great friend\", \"great friend\", \"great job\", \"great job\", \"great job\", \"great littl\", \"great littl\", \"great littl\", \"great place\", \"great place\", \"great place\", \"great place\", \"great place\", \"great place\", \"great place\", \"great place\", \"great place\", \"great place\", \"great price\", \"great price\", \"great price\", \"great price\", \"great restaur\", \"great restaur\", \"great restaur\", \"great restaur\", \"great restaur\", \"great servic\", \"great servic\", \"great servic\", \"great servic\", \"great servic\", \"great servic\", \"great servic\", \"great servic\", \"great servic\", \"great tast\", \"great tast\", \"great tast\", \"great tast\", \"great tast\", \"great tast\", \"great time\", \"great time\", \"great time\", \"great time\", \"great time\", \"great time\", \"great time\", \"great time\", \"great varieti\", \"great varieti\", \"great varieti\", \"great varieti\", \"great wine\", \"great wine\", \"great wine\", \"great wine\", \"green tomato\", \"green tomato\", \"green tomato\", \"grill chees\", \"grill chees\", \"grill chees\", \"half hour\", \"half hour\", \"half hour\", \"half hour\", \"half hour\", \"half hour\", \"half hour\", \"hand down\", \"hand down\", \"hand down\", \"hand down\", \"hand down\", \"hand down\", \"hang out\", \"hang out\", \"hang out\", \"hang out\", \"hang out\", \"here sever\", \"here sever\", \"here sever\", \"here year\", \"here year\", \"here year\", \"high recommend\", \"high recommend\", \"high recommend\", \"high recommend\", \"high recommend\", \"high recommend\", \"high recommend\", \"high recommend\", \"highlight menu\", \"highlight menu\", \"highlight menu\", \"home cook\", \"home cook\", \"home cook\", \"home style\", \"home style\", \"home style\", \"home style\", \"hour drive\", \"hour drive\", \"hour drive\", \"hour drive\", \"ice cream\", \"ice cream\", \"ice cream\", \"ice cream\", \"ice cream\", \"ice cream\", \"ice tea\", \"ice tea\", \"ice tea\", \"ice tea\", \"ice tea\", \"iceberg lettuc\", \"iceberg lettuc\", \"iceberg lettuc\", \"indian food\", \"indian food\", \"indian food\", \"italian beef\", \"italian beef\", \"italian beef\", \"italian food\", \"italian food\", \"italian food\", \"italian food\", \"italian food\", \"italian food\", \"italian place\", \"italian place\", \"italian place\", \"italian restaur\", \"italian restaur\", \"italian restaur\", \"italian restaur\", \"italian restaur\", \"italian restaur\", \"italian restaur\", \"just ok\", \"just ok\", \"just ok\", \"just over\", \"just over\", \"just plain\", \"just plain\", \"just plain\", \"just right\", \"just right\", \"just right\", \"just right\", \"just right\", \"just right\", \"just right\", \"just right\", \"just under\", \"just under\", \"kept secret\", \"kept secret\", \"kept secret\", \"kitchen staff\", \"kitchen staff\", \"kitchen staff\", \"know whi\", \"know whi\", \"know whi\", \"know whi\", \"know whi\", \"kung pao\", \"kung pao\", \"kung pao\", \"larg enough\", \"larg enough\", \"larg enough\", \"least onc\", \"least onc\", \"least onc\", \"least onc\", \"least onc\", \"least onc\", \"least onc\", \"lettuc tomato\", \"lettuc tomato\", \"lettuc tomato\", \"lettuc tomato\", \"lettuc tomato\", \"list extens\", \"list extens\", \"littl bit\", \"littl bit\", \"littl bit\", \"littl bit\", \"littl bit\", \"littl shop\", \"littl shop\", \"littl shop\", \"live entertain\", \"live entertain\", \"live entertain\", \"long time\", \"long time\", \"long time\", \"long time\", \"long time\", \"long time\", \"long time\", \"long time\", \"long wait\", \"long wait\", \"long wait\", \"long wait\", \"long wait\", \"long wait\", \"long wait\", \"look forward\", \"look forward\", \"look forward\", \"look forward\", \"look forward\", \"look forward\", \"look forward\", \"look forward\", \"look forward\", \"look like\", \"look like\", \"look like\", \"look like\", \"look like\", \"look like\", \"look like\", \"look like\", \"look like\", \"look over\", \"look over\", \"look over\", \"love place\", \"love place\", \"love place\", \"love place\", \"love place\", \"love place\", \"love place\", \"love place\", \"love place\", \"lunch dinner\", \"lunch dinner\", \"lunch dinner\", \"lunch dinner\", \"lunch dinner\", \"lunch dinner\", \"lunch hour\", \"lunch hour\", \"lunch hour\", \"lunch hour\", \"lunch menu\", \"lunch menu\", \"lunch menu\", \"lunch menu\", \"lunch menu\", \"lunch menu\", \"lunch menu\", \"lunch rush\", \"lunch rush\", \"lunch rush\", \"lunch rush\", \"m sorri\", \"m sorri\", \"m sorri\", \"m sure\", \"m sure\", \"m sure\", \"m sure\", \"m sure\", \"m sure\", \"m sure\", \"m sure\", \"m sure\", \"made way\", \"made way\", \"made way\", \"main cours\", \"main cours\", \"main cours\", \"main cours\", \"main cours\", \"main cours\", \"main cours\", \"main cours\", \"main cours\", \"main cours\", \"make feel\", \"make feel\", \"make feel\", \"make feel\", \"make feel\", \"make feel\", \"make feel\", \"make reserv\", \"make reserv\", \"make reserv\", \"make reserv\", \"make reserv\", \"make reserv\", \"make reserv\", \"make sure\", \"make sure\", \"make sure\", \"make sure\", \"make sure\", \"make sure\", \"make sure\", \"make sure\", \"make sure\", \"manag came\", \"manag came\", \"manag came\", \"mani dish\", \"mani dish\", \"mani dish\", \"mani time\", \"mani time\", \"mani time\", \"mani time\", \"mani time\", \"mani time\", \"mani time\", \"mani time\", \"mani time\", \"mani time\", \"mani year\", \"mani year\", \"mash potato\", \"mash potato\", \"mash potato\", \"mash potato\", \"mash potato\", \"mash potato\", \"mash potato\", \"mash potato\", \"mash potato\", \"meal arriv\", \"meal arriv\", \"meal arriv\", \"mediocr best\", \"mediocr best\", \"menu full\", \"menu full\", \"menu great\", \"menu great\", \"menu great\", \"menu great\", \"menu offer\", \"menu offer\", \"menu offer\", \"menu offer\", \"menu offer\", \"menu offer\", \"menu sever\", \"menu sever\", \"menu sever\", \"menu vari\", \"menu vari\", \"menu vari\", \"menu well\", \"menu well\", \"menu well\", \"mexican food\", \"mexican food\", \"mexican food\", \"mexican food\", \"mexican food\", \"mexican food\", \"mexican food\", \"mexican restaur\", \"mexican restaur\", \"mexican restaur\", \"mexican restaur\", \"mexican restaur\", \"minut after\", \"minut after\", \"minut after\", \"minut after\", \"minut befor\", \"minut befor\", \"minut befor\", \"minut befor\", \"minut get\", \"minut get\", \"minut get\", \"minut later\", \"minut later\", \"minut later\", \"minut later\", \"minut later\", \"monday through\", \"monday through\", \"monday through\", \"monday through\", \"monday through\", \"more like\", \"more like\", \"more like\", \"more like\", \"more like\", \"more like\", \"much better\", \"much better\", \"much better\", \"much better\", \"much better\", \"much better\", \"much better\", \"much better\", \"much better\", \"near back\", \"near bar\", \"never again\", \"never again\", \"never again\", \"never again\", \"never bad\", \"never bad\", \"never bad\", \"never bad\", \"never bad\", \"never disappoint\", \"never disappoint\", \"never disappoint\", \"never disappoint\", \"never go\", \"never go\", \"never go\", \"never go\", \"new favorit\", \"new favorit\", \"new favorit\", \"new year\", \"new year\", \"new year\", \"new year\", \"new year\", \"new year\", \"new york\", \"new york\", \"new york\", \"new york\", \"new york\", \"new york\", \"new york\", \"new york\", \"next time\", \"next time\", \"next time\", \"next time\", \"next time\", \"next time\", \"next time\", \"next time\", \"next time\", \"next time\", \"non exist\", \"non exist\", \"non exist\", \"non smoke\", \"non smoke\", \"noth special\", \"noth special\", \"noth special\", \"noth special\", \"noth special\", \"noth special\", \"oliv oil\", \"oliv oil\", \"oliv oil\", \"oliv oil\", \"oliv oil\", \"oliv oil\", \"oliv oil\", \"onc month\", \"onc month\", \"onc week\", \"onc week\", \"onc week\", \"onc week\", \"one best\", \"one best\", \"one best\", \"one best\", \"one best\", \"one best\", \"one best\", \"one best\", \"one best\", \"one better\", \"one better\", \"one better\", \"one even\", \"one even\", \"one even\", \"one even\", \"one expect\", \"one expect\", \"one expect\", \"one expect\", \"one favorit\", \"one favorit\", \"one favorit\", \"one favorit\", \"one favorit\", \"one favorit\", \"one favorit\", \"onli problem\", \"onli problem\", \"onli problem\", \"onli problem\", \"onli restaur\", \"onli restaur\", \"onli restaur\", \"onli thing\", \"onli thing\", \"onli thing\", \"onli thing\", \"onli thing\", \"onli thing\", \"onli thing\", \"onli thing\", \"onli thing\", \"onli thing\", \"open daili\", \"open daili\", \"open daili\", \"open kitchen\", \"open kitchen\", \"open kitchen\", \"orang juic\", \"orang juic\", \"orang juic\", \"orang juic\", \"order chicken\", \"order chicken\", \"order chicken\", \"order chicken\", \"order chicken\", \"order chicken\", \"order chicken\", \"order drink\", \"order drink\", \"order drink\", \"order drink\", \"order taken\", \"order taken\", \"order taken\", \"order taken\", \"order wait\", \"order wait\", \"order wait\", \"order wine\", \"order wine\", \"order wine\", \"order wrong\", \"order wrong\", \"order wrong\", \"out bag\", \"out bag\", \"out bag\", \"out one\", \"out one\", \"out one\", \"out one\", \"out order\", \"out order\", \"out order\", \"out order\", \"out order\", \"out place\", \"out place\", \"out place\", \"out way\", \"out way\", \"out way\", \"out way\", \"out way\", \"out world\", \"out world\", \"out world\", \"out world\", \"out world\", \"out world\", \"outstand food\", \"outstand food\", \"outstand food\", \"over cook\", \"over cook\", \"over cook\", \"over cook\", \"over cook\", \"over cook\", \"over cook\", \"over drink\", \"over minut\", \"over minut\", \"over minut\", \"over minut\", \"over price\", \"over price\", \"over price\", \"over price\", \"over price\", \"over price\", \"over price\", \"over year\", \"over year\", \"over year\", \"over year\", \"over year\", \"over year\", \"over year\", \"owner came\", \"owner came\", \"owner chef\", \"owner chef\", \"park lot\", \"park lot\", \"park lot\", \"park lot\", \"park lot\", \"park lot\", \"past few\", \"past few\", \"past few\", \"pasta dish\", \"pasta dish\", \"pasta dish\", \"pasta dish\", \"pasta dish\", \"peopl friend\", \"peopl friend\", \"peopl friend\", \"peopl friend\", \"peopl friend\", \"pick up\", \"pick up\", \"pick up\", \"pick up\", \"pick up\", \"pick up\", \"pick up\", \"pick up\", \"pizza great\", \"pizza great\", \"pizza great\", \"pizza great\", \"place doe\", \"place doe\", \"place doe\", \"place doe\", \"place eat\", \"place eat\", \"place eat\", \"place eat\", \"place eat\", \"place eat\", \"place eat\", \"place eat\", \"place food\", \"place food\", \"place food\", \"place food\", \"place food\", \"place food\", \"place food\", \"place food\", \"place get\", \"place get\", \"place get\", \"place get\", \"place go\", \"place go\", \"place go\", \"place go\", \"place go\", \"place go\", \"place go\", \"place go\", \"place go\", \"place great\", \"place great\", \"place great\", \"place great\", \"place take\", \"place take\", \"place take\", \"place take\", \"place take\", \"place visit\", \"place visit\", \"plate food\", \"plate food\", \"plate food\", \"plate food\", \"pleasant even\", \"pleasant even\", \"pleasant even\", \"pleasant experi\", \"pleasant experi\", \"pleasant experi\", \"pm friday\", \"pm friday\", \"pm friday\", \"pm saturday\", \"pm saturday\", \"poor servic\", \"poor servic\", \"poor servic\", \"poor servic\", \"pork sandwich\", \"pork sandwich\", \"pot roast\", \"pot roast\", \"pot roast\", \"potato fri\", \"potato fri\", \"potato salad\", \"potato salad\", \"potato salad\", \"potato salad\", \"pretti busi\", \"pretti busi\", \"pretti busi\", \"pretti empti\", \"pretti good\", \"pretti good\", \"pretti good\", \"pretti good\", \"pretti good\", \"pretti good\", \"pretti good\", \"pretti good\", \"pretti good\", \"pretti much\", \"pretti much\", \"pretti much\", \"pretti much\", \"pretti much\", \"pretti much\", \"pretti much\", \"pretti much\", \"price good\", \"price good\", \"price good\", \"price good\", \"price more\", \"price more\", \"price more\", \"price veri\", \"price veri\", \"price veri\", \"price veri\", \"price veri\", \"price veri\", \"price veri\", \"prime rib\", \"prime rib\", \"prime rib\", \"prime rib\", \"prime rib\", \"prime rib\", \"prime rib\", \"prime rib\", \"prime rib\", \"pull pork\", \"pull pork\", \"pull pork\", \"pull pork\", \"qualiti food\", \"qualiti food\", \"qualiti food\", \"qualiti food\", \"qualiti food\", \"qualiti food\", \"qualiti food\", \"qualiti food\", \"qualiti food\", \"rave review\", \"rave review\", \"readi order\", \"readi order\", \"readi order\", \"realli enjoy\", \"realli enjoy\", \"realli enjoy\", \"realli enjoy\", \"realli enjoy\", \"realli enjoy\", \"realli enjoy\", \"realli enjoy\", \"realli enjoy\", \"realli good\", \"realli good\", \"realli good\", \"realli good\", \"realli good\", \"realli good\", \"realli good\", \"realli good\", \"realli like\", \"realli like\", \"realli like\", \"realli like\", \"realli like\", \"realli like\", \"reason price\", \"reason price\", \"reason price\", \"reason price\", \"reason price\", \"reason price\", \"reason price\", \"reason price\", \"reason price\", \"recommend place\", \"recommend place\", \"recommend place\", \"recommend place\", \"recommend place\", \"recommend place\", \"recommend place\", \"recommend place\", \"recommend restaur\", \"recommend restaur\", \"recommend restaur\", \"recommend restaur\", \"recommend restaur\", \"recommend restaur\", \"recommend restaur\", \"restaur after\", \"restaur after\", \"restaur after\", \"restaur after\", \"restaur alway\", \"restaur alway\", \"restaur alway\", \"restaur alway\", \"restaur alway\", \"restaur alway\", \"restaur anyon\", \"restaur anyon\", \"restaur anyon\", \"restaur anyon\", \"restaur area\", \"restaur area\", \"restaur area\", \"restaur area\", \"restaur area\", \"restaur area\", \"restaur busi\", \"restaur busi\", \"restaur high\", \"restaur high\", \"restaur locat\", \"restaur locat\", \"restaur locat\", \"restaur locat\", \"restaur locat\", \"restaur locat\", \"restaur locat\", \"restaur locat\", \"restaur near\", \"restaur near\", \"restaur near\", \"restaur near\", \"restaur onli\", \"restaur onli\", \"restaur onli\", \"restaur staff\", \"restaur staff\", \"restaur staff\", \"restaur staff\", \"restaur veri\", \"restaur veri\", \"restaur veri\", \"restaur veri\", \"restaur veri\", \"restaur veri\", \"restaur veri\", \"restaur veri\", \"restaur went\", \"restaur went\", \"restaur went\", \"restaur went\", \"return restaur\", \"return restaur\", \"return restaur\", \"review submit\", \"review submit\", \"review submit\", \"right away\", \"right away\", \"right away\", \"right away\", \"right away\", \"right away\", \"room bar\", \"run out\", \"run out\", \"salad bar\", \"salad bar\", \"salad bar\", \"salad bar\", \"salad bar\", \"salad bar\", \"salad bar\", \"salad bar\", \"salad sandwich\", \"salad sandwich\", \"salad sandwich\", \"salad sandwich\", \"salad veri\", \"salad veri\", \"salad veri\", \"san francisco\", \"san francisco\", \"san francisco\", \"san francisco\", \"san francisco\", \"san francisco\", \"san francisco\", \"sandwich came\", \"sandwich came\", \"sandwich came\", \"sandwich salad\", \"sandwich salad\", \"sandwich salad\", \"saturday even\", \"saturday even\", \"saturday night\", \"saturday night\", \"saturday night\", \"saturday night\", \"saturday night\", \"saturday night\", \"saturday night\", \"saturday night\", \"sauc side\", \"sauc side\", \"sauc side\", \"seafood restaur\", \"seafood restaur\", \"seed bun\", \"select wine\", \"select wine\", \"select wine\", \"select wine\", \"serv lunch\", \"serv lunch\", \"serv lunch\", \"serv one\", \"serv one\", \"serv one\", \"serv one\", \"serv one\", \"server veri\", \"server veri\", \"server veri\", \"server veri\", \"server veri\", \"server veri\", \"servic alway\", \"servic alway\", \"servic alway\", \"servic alway\", \"servic alway\", \"servic excel\", \"servic excel\", \"servic excel\", \"servic excel\", \"servic excel\", \"servic excel\", \"servic fast\", \"servic fast\", \"servic fast\", \"servic fast\", \"servic food\", \"servic food\", \"servic food\", \"servic food\", \"servic food\", \"servic food\", \"servic food\", \"servic food\", \"servic food\", \"servic food\", \"servic friend\", \"servic friend\", \"servic friend\", \"servic friend\", \"servic friend\", \"servic friend\", \"servic good\", \"servic good\", \"servic good\", \"servic good\", \"servic good\", \"servic good\", \"servic good\", \"servic great\", \"servic great\", \"servic great\", \"servic great\", \"servic great\", \"servic great\", \"servic great\", \"servic just\", \"servic just\", \"servic just\", \"servic just\", \"servic outstand\", \"servic outstand\", \"servic outstand\", \"servic outstand\", \"servic outstand\", \"servic prompt\", \"servic prompt\", \"servic prompt\", \"servic veri\", \"servic veri\", \"servic veri\", \"servic veri\", \"servic veri\", \"servic veri\", \"servic veri\", \"set up\", \"set up\", \"set up\", \"set up\", \"set up\", \"set up\", \"sever time\", \"sever time\", \"sever time\", \"sever time\", \"sever time\", \"sever time\", \"sever year\", \"sever year\", \"sever year\", \"sever year\", \"sever year\", \"short rib\", \"short rib\", \"short rib\", \"side order\", \"side order\", \"side order\", \"some best\", \"some best\", \"some best\", \"some best\", \"some best\", \"some best\", \"someth els\", \"someth els\", \"someth els\", \"someth els\", \"someth els\", \"someth els\", \"soon after\", \"soon after\", \"soon after\", \"soup salad\", \"soup salad\", \"soup salad\", \"soup salad\", \"soup salad\", \"soup salad\", \"soup salad\", \"soup salad\", \"soup veri\", \"soup veri\", \"soup veri\", \"south side\", \"special occas\", \"special occas\", \"special occas\", \"special occas\", \"special occas\", \"special occas\", \"special occas\", \"spring roll\", \"spring roll\", \"spring roll\", \"spring roll\", \"staff alway\", \"staff alway\", \"staff alway\", \"staff friend\", \"staff friend\", \"staff friend\", \"staff friend\", \"staff friend\", \"staff knowledg\", \"staff knowledg\", \"staff veri\", \"staff veri\", \"staff veri\", \"staff veri\", \"staff veri\", \"staff veri\", \"staff veri\", \"staff veri\", \"still veri\", \"still veri\", \"still veri\", \"style pizza\", \"style pizza\", \"style pizza\", \"such great\", \"such great\", \"such great\", \"such great\", \"such great\", \"sushi bar\", \"sushi bar\", \"sushi bar\", \"sushi bar\", \"sushi bar\", \"sweet potato\", \"sweet potato\", \"sweet potato\", \"sweet potato\", \"sweet potato\", \"sweet potato\", \"sweet sour\", \"sweet sour\", \"sweet sour\", \"sweet sour\", \"sweet sour\", \"tabl food\", \"tabl food\", \"tabl food\", \"tabl near\", \"take order\", \"take order\", \"take order\", \"take order\", \"take order\", \"take order\", \"take order\", \"take out\", \"take out\", \"take out\", \"take out\", \"take out\", \"take out\", \"take out\", \"take out\", \"take some\", \"take some\", \"take some\", \"take some\", \"tast like\", \"tast like\", \"tast like\", \"tast like\", \"tast like\", \"tast like\", \"tast like\", \"tast like\", \"tast like\", \"tast like\", \"th birthday\", \"th birthday\", \"thai food\", \"thai food\", \"thai food\", \"thai food\", \"thai restaur\", \"thai restaur\", \"thai restaur\", \"thin crust\", \"thin crust\", \"thin crust\", \"three time\", \"three time\", \"three time\", \"three time\", \"three time\", \"three time\", \"time money\", \"time money\", \"time money\", \"time money\", \"time place\", \"time place\", \"time place\", \"time re\", \"time re\", \"time re\", \"time tri\", \"time tri\", \"time tri\", \"time tri\", \"time tri\", \"time visit\", \"time visit\", \"time visit\", \"time wait\", \"time wait\", \"time wait\", \"toast bun\", \"too long\", \"too long\", \"too long\", \"too long\", \"too long\", \"too long\", \"too long\", \"too long\", \"too much\", \"too much\", \"too much\", \"too much\", \"too much\", \"too much\", \"too much\", \"too much\", \"took seat\", \"top notch\", \"top notch\", \"top notch\", \"top notch\", \"top notch\", \"top notch\", \"tourist trap\", \"tourist trap\", \"tourist trap\", \"tri restaur\", \"tri restaur\", \"tri restaur\", \"twenti minut\", \"twenti minut\", \"two side\", \"two side\", \"two side\", \"two side\", \"two side\", \"until pm\", \"until pm\", \"until pm\", \"until pm\", \"until pm\", \"until pm\", \"up counter\", \"up counter\", \"up counter\", \"up good\", \"up good\", \"up good\", \"up some\", \"up some\", \"up some\", \"up some\", \"up some\", \"veri clean\", \"veri clean\", \"veri clean\", \"veri clean\", \"veri disappoint\", \"veri disappoint\", \"veri disappoint\", \"veri disappoint\", \"veri disappoint\", \"veri enjoy\", \"veri enjoy\", \"veri fresh\", \"veri fresh\", \"veri fresh\", \"veri fresh\", \"veri fresh\", \"veri friend\", \"veri friend\", \"veri friend\", \"veri friend\", \"veri friend\", \"veri friend\", \"veri friend\", \"veri friend\", \"veri good\", \"veri good\", \"veri good\", \"veri good\", \"veri good\", \"veri good\", \"veri good\", \"veri good\", \"veri good\", \"veri good\", \"veri hard\", \"veri hard\", \"veri limit\", \"veri limit\", \"veri limit\", \"veri long\", \"veri long\", \"veri long\", \"veri long\", \"veri nice\", \"veri nice\", \"veri nice\", \"veri nice\", \"veri nice\", \"veri nice\", \"veri nice\", \"veri nice\", \"veri nice\", \"veri pleas\", \"veri pleas\", \"veri pleas\", \"veri pleas\", \"veri pleas\", \"veri pleasant\", \"veri pleasant\", \"veri pleasant\", \"veri pleasant\", \"veri pleasant\", \"veri pleasant\", \"veri pleasant\", \"veri pleasant\", \"veri poor\", \"veri poor\", \"veri poor\", \"veri poor\", \"veri reason\", \"veri reason\", \"veri reason\", \"veri reason\", \"veri reason\", \"veri reason\", \"veri relax\", \"veri relax\", \"veri relax\", \"veri relax\", \"veri relax\", \"veri relax\", \"veri romant\", \"veri romant\", \"veri romant\", \"veri romant\", \"veri rude\", \"veri rude\", \"veri rude\", \"veri rude\", \"veri rude\", \"veri slow\", \"veri slow\", \"veri slow\", \"veri veri\", \"veri veri\", \"veri veri\", \"veri veri\", \"veri veri\", \"veri veri\", \"veri well\", \"veri well\", \"veri well\", \"veri well\", \"veri well\", \"veri well\", \"veri well\", \"veri well\", \"veri well\", \"wait anoth\", \"wait anoth\", \"wait anoth\", \"wait get\", \"wait get\", \"wait get\", \"wait go\", \"wait go\", \"wait go\", \"wait go\", \"wait minut\", \"wait minut\", \"wait minut\", \"wait minut\", \"wait minut\", \"wait minut\", \"wait over\", \"wait over\", \"wait staff\", \"wait staff\", \"wait staff\", \"wait staff\", \"wait staff\", \"wait staff\", \"wait staff\", \"wait staff\", \"wait staff\", \"wait staff\", \"wait until\", \"wait until\", \"wait until\", \"wait until\", \"waitress came\", \"waitress came\", \"waitress came\", \"wall tabl\", \"want go\", \"want go\", \"want go\", \"want go\", \"wasn whole\", \"way too\", \"way too\", \"way too\", \"way too\", \"way too\", \"way too\", \"web site\", \"web site\", \"well worth\", \"well worth\", \"well worth\", \"well worth\", \"well worth\", \"well worth\", \"well worth\", \"well worth\", \"well worth\", \"went back\", \"went back\", \"went back\", \"went back\", \"went back\", \"went back\", \"white wine\", \"white wine\", \"white wine\", \"white wine\", \"white wine\", \"whole experi\", \"whole experi\", \"whole experi\", \"whole experi\", \"whole experi\", \"whole lot\", \"whole lot\", \"wide varieti\", \"wide varieti\", \"wide varieti\", \"wide varieti\", \"wide varieti\", \"wide varieti\", \"wide varieti\", \"wife order\", \"wife order\", \"wife order\", \"wife order\", \"wife order\", \"wine beer\", \"wine beer\", \"wine beer\", \"wine beer\", \"wine list\", \"wine list\", \"wine list\", \"wine list\", \"wine list\", \"wine list\", \"wine list\", \"wine list\", \"wonder atmospher\", \"wonder atmospher\", \"wonder atmospher\", \"wonder food\", \"wonder food\", \"wonder food\", \"wonder time\", \"wonder time\", \"wonder time\", \"worst servic\", \"worst servic\", \"worth everi\", \"worth everi\", \"worth everi\", \"worth time\", \"worth time\", \"worth time\", \"year ago\", \"year ago\", \"year ago\", \"year ago\", \"year ago\", \"year ago\", \"year ago\", \"year ago\", \"year ago\", \"year now\", \"year now\", \"year now\", \"year now\", \"year now\", \"york citi\", \"york citi\", \"york citi\", \"york citi\", \"york style\", \"york style\", \"york style\"]}, \"R\": 30, \"lambda.step\": 0.01, \"plot.opts\": {\"xlab\": \"PC1\", \"ylab\": \"PC2\"}, \"topic.order\": [5, 6, 3, 8, 10, 2, 9, 4, 1, 7]};\n",
       "\n",
       "function LDAvis_load_lib(url, callback){\n",
       "  var s = document.createElement('script');\n",
       "  s.src = url;\n",
       "  s.async = true;\n",
       "  s.onreadystatechange = s.onload = callback;\n",
       "  s.onerror = function(){console.warn(\"failed to load library \" + url);};\n",
       "  document.getElementsByTagName(\"head\")[0].appendChild(s);\n",
       "}\n",
       "\n",
       "if(typeof(LDAvis) !== \"undefined\"){\n",
       "   // already loaded: just create the visualization\n",
       "   !function(LDAvis){\n",
       "       new LDAvis(\"#\" + \"ldavis_el184691406559176449202052884845\", ldavis_el184691406559176449202052884845_data);\n",
       "   }(LDAvis);\n",
       "}else if(typeof define === \"function\" && define.amd){\n",
       "   // require.js is available: use it to load d3/LDAvis\n",
       "   require.config({paths: {d3: \"https://d3js.org/d3.v5\"}});\n",
       "   require([\"d3\"], function(d3){\n",
       "      window.d3 = d3;\n",
       "      LDAvis_load_lib(\"https://cdn.jsdelivr.net/gh/bmabey/pyLDAvis@3.2.2/pyLDAvis/js/ldavis.v3.0.0.js\", function(){\n",
       "        new LDAvis(\"#\" + \"ldavis_el184691406559176449202052884845\", ldavis_el184691406559176449202052884845_data);\n",
       "      });\n",
       "    });\n",
       "}else{\n",
       "    // require.js not available: dynamically load d3 & LDAvis\n",
       "    LDAvis_load_lib(\"https://d3js.org/d3.v5.js\", function(){\n",
       "         LDAvis_load_lib(\"https://cdn.jsdelivr.net/gh/bmabey/pyLDAvis@3.2.2/pyLDAvis/js/ldavis.v3.0.0.js\", function(){\n",
       "                 new LDAvis(\"#\" + \"ldavis_el184691406559176449202052884845\", ldavis_el184691406559176449202052884845_data);\n",
       "            })\n",
       "         });\n",
       "}\n",
       "</script>"
      ],
      "text/plain": [
       "<IPython.core.display.HTML object>"
      ]
     },
     "execution_count": 15,
     "metadata": {},
     "output_type": "execute_result"
    }
   ],
   "source": [
    "# display the topics we've found\n",
    "with warnings.catch_warnings():\n",
    "    warnings.simplefilter(\"ignore\")\n",
    "    vis_data1 = gensimvis.prepare(lda_model, bow_corpus, dictionary)\n",
    "pyLDAvis.display(vis_data1)"
   ]
  },
  {
   "cell_type": "code",
   "execution_count": 16,
   "metadata": {},
   "outputs": [
    {
     "name": "stdout",
     "output_type": "stream",
     "text": [
      "Topic: 0 \n",
      "Words: 0.013*\"veri nice\" + 0.012*\"veri friend\" + 0.010*\"veri good\" + 0.008*\"came out\" + 0.008*\"veri pleasant\" + 0.007*\"make feel\" + 0.007*\"staff veri\" + 0.006*\"server veri\" + 0.006*\"atmospher veri\" + 0.005*\"out world\"\n",
      "Topic: 1 \n",
      "Words: 0.018*\"veri good\" + 0.012*\"can eat\" + 0.009*\"ice cream\" + 0.007*\"everi time\" + 0.006*\"bad experi\" + 0.006*\"sever time\" + 0.005*\"food veri\" + 0.005*\"high recommend\" + 0.005*\"breakfast lunch\" + 0.005*\"least onc\"\n",
      "Topic: 2 \n",
      "Words: 0.007*\"take out\" + 0.006*\"main cours\" + 0.006*\"san francisco\" + 0.006*\"mash potato\" + 0.005*\"well worth\" + 0.005*\"wide varieti\" + 0.005*\"fri rice\" + 0.005*\"can go\" + 0.004*\"dine room\" + 0.004*\"can wait\"\n",
      "Topic: 3 \n",
      "Words: 0.018*\"dine experi\" + 0.017*\"veri good\" + 0.010*\"food veri\" + 0.008*\"veri reason\" + 0.008*\"veri nice\" + 0.006*\"food servic\" + 0.006*\"alway great\" + 0.006*\"mexican food\" + 0.005*\"crab cake\" + 0.005*\"servic alway\"\n",
      "Topic: 4 \n",
      "Words: 0.014*\"dine room\" + 0.011*\"realli good\" + 0.010*\"ice cream\" + 0.009*\"pretti good\" + 0.009*\"look like\" + 0.007*\"realli like\" + 0.006*\"came back\" + 0.005*\"littl bit\" + 0.005*\"waitress came\" + 0.005*\"drink order\"\n",
      "Topic: 5 \n",
      "Words: 0.027*\"go back\" + 0.008*\"never go\" + 0.005*\"wait minut\" + 0.005*\"back again\" + 0.005*\"recommend restaur\" + 0.005*\"poor servic\" + 0.005*\"long time\" + 0.004*\"don know\" + 0.004*\"italian restaur\" + 0.004*\"servic food\"\n",
      "Topic: 6 \n",
      "Words: 0.014*\"pull pork\" + 0.007*\"potato salad\" + 0.007*\"food good\" + 0.006*\"way too\" + 0.006*\"cole slaw\" + 0.006*\"bbq sauc\" + 0.006*\"pork sandwich\" + 0.005*\"end up\" + 0.005*\"too much\" + 0.005*\"minut after\"\n",
      "Topic: 7 \n",
      "Words: 0.026*\"food great\" + 0.021*\"great food\" + 0.013*\"great servic\" + 0.012*\"food servic\" + 0.012*\"servic great\" + 0.010*\"great atmospher\" + 0.010*\"great place\" + 0.008*\"excel food\" + 0.008*\"food excel\" + 0.007*\"high recommend\"\n",
      "Topic: 8 \n",
      "Words: 0.019*\"veri good\" + 0.016*\"good food\" + 0.011*\"new york\" + 0.011*\"place eat\" + 0.009*\"great place\" + 0.008*\"food good\" + 0.008*\"realli good\" + 0.007*\"good place\" + 0.007*\"servic excel\" + 0.006*\"go back\"\n",
      "Topic: 9 \n",
      "Words: 0.016*\"high recommend\" + 0.011*\"wine list\" + 0.011*\"wait staff\" + 0.007*\"one best\" + 0.007*\"great place\" + 0.007*\"dine experi\" + 0.007*\"staff friend\" + 0.006*\"great food\" + 0.005*\"some best\" + 0.005*\"top notch\"\n"
     ]
    }
   ],
   "source": [
    "# list all topics: we choose topic 10 which means each topic concludes 10 variables.\n",
    "for idx, topic in lda_model.print_topics(-1):\n",
    "    print('Topic: {} \\nWords: {}'.format(idx, topic))"
   ]
  },
  {
   "cell_type": "markdown",
   "metadata": {},
   "source": [
    "# Trump&Tweets"
   ]
  },
  {
   "cell_type": "code",
   "execution_count": 17,
   "metadata": {},
   "outputs": [],
   "source": [
    "df = pd.read_csv(_DATA_DIR+\"trump.csv\")"
   ]
  },
  {
   "cell_type": "code",
   "execution_count": 18,
   "metadata": {},
   "outputs": [
    {
     "data": {
      "text/html": [
       "<div>\n",
       "<style scoped>\n",
       "    .dataframe tbody tr th:only-of-type {\n",
       "        vertical-align: middle;\n",
       "    }\n",
       "\n",
       "    .dataframe tbody tr th {\n",
       "        vertical-align: top;\n",
       "    }\n",
       "\n",
       "    .dataframe thead th {\n",
       "        text-align: right;\n",
       "    }\n",
       "</style>\n",
       "<table border=\"1\" class=\"dataframe\">\n",
       "  <thead>\n",
       "    <tr style=\"text-align: right;\">\n",
       "      <th></th>\n",
       "      <th>date</th>\n",
       "      <th>text</th>\n",
       "    </tr>\n",
       "  </thead>\n",
       "  <tbody>\n",
       "    <tr>\n",
       "      <th>0</th>\n",
       "      <td>9/26/19 2:46</td>\n",
       "      <td>One of our best fundraising days EVER!</td>\n",
       "    </tr>\n",
       "    <tr>\n",
       "      <th>1</th>\n",
       "      <td>9/26/19 2:45</td>\n",
       "      <td>So true but it will never work!</td>\n",
       "    </tr>\n",
       "    <tr>\n",
       "      <th>2</th>\n",
       "      <td>9/25/19 20:17</td>\n",
       "      <td>I have informed @GOPLeader Kevin McCarthy and ...</td>\n",
       "    </tr>\n",
       "    <tr>\n",
       "      <th>3</th>\n",
       "      <td>9/25/19 18:13</td>\n",
       "      <td>Wow! “Ukraine Whistleblower’s lead attorney do...</td>\n",
       "    </tr>\n",
       "    <tr>\n",
       "      <th>4</th>\n",
       "      <td>9/25/19 15:56</td>\n",
       "      <td>“He (President Trump) didn’t specifically ment...</td>\n",
       "    </tr>\n",
       "  </tbody>\n",
       "</table>\n",
       "</div>"
      ],
      "text/plain": [
       "            date                                               text\n",
       "0   9/26/19 2:46            One of our best fundraising days EVER! \n",
       "1   9/26/19 2:45                   So true but it will never work! \n",
       "2  9/25/19 20:17  I have informed @GOPLeader Kevin McCarthy and ...\n",
       "3  9/25/19 18:13  Wow! “Ukraine Whistleblower’s lead attorney do...\n",
       "4  9/25/19 15:56  “He (President Trump) didn’t specifically ment..."
      ]
     },
     "execution_count": 18,
     "metadata": {},
     "output_type": "execute_result"
    }
   ],
   "source": [
    "df.head()"
   ]
  },
  {
   "cell_type": "code",
   "execution_count": 19,
   "metadata": {},
   "outputs": [],
   "source": [
    "# print out how many tweets we collected\n",
    "text_data = list(df[\"text\"].values)\n",
    "date      = list(df[\"date\"].values)\n",
    "T         = len(text_data) # 8411 tweets remaining"
   ]
  },
  {
   "cell_type": "code",
   "execution_count": 32,
   "metadata": {},
   "outputs": [
    {
     "name": "stdout",
     "output_type": "stream",
     "text": [
      "/usr/local/lib/python3.6/site-packages/tensorflow/python/framework/dtypes.py:516: FutureWarning: Passing (type, 1) or '1type' as a synonym of type is deprecated; in a future version of numpy, it will be understood as (type, (1,)) / '(1,)type'.\n",
      "  _np_qint8 = np.dtype([(\"qint8\", np.int8, 1)])\n",
      "/usr/local/lib/python3.6/site-packages/tensorflow/python/framework/dtypes.py:517: FutureWarning: Passing (type, 1) or '1type' as a synonym of type is deprecated; in a future version of numpy, it will be understood as (type, (1,)) / '(1,)type'.\n",
      "  _np_quint8 = np.dtype([(\"quint8\", np.uint8, 1)])\n",
      "/usr/local/lib/python3.6/site-packages/tensorflow/python/framework/dtypes.py:518: FutureWarning: Passing (type, 1) or '1type' as a synonym of type is deprecated; in a future version of numpy, it will be understood as (type, (1,)) / '(1,)type'.\n",
      "  _np_qint16 = np.dtype([(\"qint16\", np.int16, 1)])\n",
      "/usr/local/lib/python3.6/site-packages/tensorflow/python/framework/dtypes.py:519: FutureWarning: Passing (type, 1) or '1type' as a synonym of type is deprecated; in a future version of numpy, it will be understood as (type, (1,)) / '(1,)type'.\n",
      "  _np_quint16 = np.dtype([(\"quint16\", np.uint16, 1)])\n",
      "/usr/local/lib/python3.6/site-packages/tensorflow/python/framework/dtypes.py:520: FutureWarning: Passing (type, 1) or '1type' as a synonym of type is deprecated; in a future version of numpy, it will be understood as (type, (1,)) / '(1,)type'.\n",
      "  _np_qint32 = np.dtype([(\"qint32\", np.int32, 1)])\n",
      "/usr/local/lib/python3.6/site-packages/tensorflow/python/framework/dtypes.py:525: FutureWarning: Passing (type, 1) or '1type' as a synonym of type is deprecated; in a future version of numpy, it will be understood as (type, (1,)) / '(1,)type'.\n",
      "  np_resource = np.dtype([(\"resource\", np.ubyte, 1)])\n",
      "/usr/local/lib/python3.6/site-packages/tensorboard/compat/tensorflow_stub/dtypes.py:541: FutureWarning: Passing (type, 1) or '1type' as a synonym of type is deprecated; in a future version of numpy, it will be understood as (type, (1,)) / '(1,)type'.\n",
      "  _np_qint8 = np.dtype([(\"qint8\", np.int8, 1)])\n",
      "/usr/local/lib/python3.6/site-packages/tensorboard/compat/tensorflow_stub/dtypes.py:542: FutureWarning: Passing (type, 1) or '1type' as a synonym of type is deprecated; in a future version of numpy, it will be understood as (type, (1,)) / '(1,)type'.\n",
      "  _np_quint8 = np.dtype([(\"quint8\", np.uint8, 1)])\n",
      "/usr/local/lib/python3.6/site-packages/tensorboard/compat/tensorflow_stub/dtypes.py:543: FutureWarning: Passing (type, 1) or '1type' as a synonym of type is deprecated; in a future version of numpy, it will be understood as (type, (1,)) / '(1,)type'.\n",
      "  _np_qint16 = np.dtype([(\"qint16\", np.int16, 1)])\n",
      "/usr/local/lib/python3.6/site-packages/tensorboard/compat/tensorflow_stub/dtypes.py:544: FutureWarning: Passing (type, 1) or '1type' as a synonym of type is deprecated; in a future version of numpy, it will be understood as (type, (1,)) / '(1,)type'.\n",
      "  _np_quint16 = np.dtype([(\"quint16\", np.uint16, 1)])\n",
      "/usr/local/lib/python3.6/site-packages/tensorboard/compat/tensorflow_stub/dtypes.py:545: FutureWarning: Passing (type, 1) or '1type' as a synonym of type is deprecated; in a future version of numpy, it will be understood as (type, (1,)) / '(1,)type'.\n",
      "  _np_qint32 = np.dtype([(\"qint32\", np.int32, 1)])\n",
      "/usr/local/lib/python3.6/site-packages/tensorboard/compat/tensorflow_stub/dtypes.py:550: FutureWarning: Passing (type, 1) or '1type' as a synonym of type is deprecated; in a future version of numpy, it will be understood as (type, (1,)) / '(1,)type'.\n",
      "  np_resource = np.dtype([(\"resource\", np.ubyte, 1)])\n",
      "Defaulting to user installation because normal site-packages is not writeable\n",
      "Collecting en-core-web-md==3.3.0\n",
      "  Downloading https://github.com/explosion/spacy-models/releases/download/en_core_web_md-3.3.0/en_core_web_md-3.3.0-py3-none-any.whl (33.5 MB)\n",
      "     |████████████████████████████████| 33.5 MB 703 kB/s            \n",
      "\u001b[?25hRequirement already satisfied: spacy<3.4.0,>=3.3.0.dev0 in /home/ilai0/.local/lib/python3.6/site-packages (from en-core-web-md==3.3.0) (3.3.0)\n",
      "Requirement already satisfied: thinc<8.1.0,>=8.0.14 in /home/ilai0/.local/lib/python3.6/site-packages (from spacy<3.4.0,>=3.3.0.dev0->en-core-web-md==3.3.0) (8.0.16)\n",
      "Requirement already satisfied: preshed<3.1.0,>=3.0.2 in /home/ilai0/.local/lib/python3.6/site-packages (from spacy<3.4.0,>=3.3.0.dev0->en-core-web-md==3.3.0) (3.0.6)\n",
      "Requirement already satisfied: jinja2 in /usr/local/lib64/python3.6/site-packages (from spacy<3.4.0,>=3.3.0.dev0->en-core-web-md==3.3.0) (2.11.1)\n",
      "Requirement already satisfied: wasabi<1.1.0,>=0.9.1 in /home/ilai0/.local/lib/python3.6/site-packages (from spacy<3.4.0,>=3.3.0.dev0->en-core-web-md==3.3.0) (0.9.1)\n",
      "Requirement already satisfied: spacy-loggers<2.0.0,>=1.0.0 in /home/ilai0/.local/lib/python3.6/site-packages (from spacy<3.4.0,>=3.3.0.dev0->en-core-web-md==3.3.0) (1.0.2)\n",
      "Requirement already satisfied: packaging>=20.0 in /usr/local/lib/python3.6/site-packages (from spacy<3.4.0,>=3.3.0.dev0->en-core-web-md==3.3.0) (20.1)\n",
      "Requirement already satisfied: requests<3.0.0,>=2.13.0 in /usr/local/lib/python3.6/site-packages (from spacy<3.4.0,>=3.3.0.dev0->en-core-web-md==3.3.0) (2.23.0)\n",
      "Requirement already satisfied: pydantic!=1.8,!=1.8.1,<1.9.0,>=1.7.4 in /home/ilai0/.local/lib/python3.6/site-packages (from spacy<3.4.0,>=3.3.0.dev0->en-core-web-md==3.3.0) (1.8.2)\n",
      "Requirement already satisfied: numpy>=1.15.0 in /usr/local/lib64/python3.6/site-packages (from spacy<3.4.0,>=3.3.0.dev0->en-core-web-md==3.3.0) (1.19.5)\n",
      "Requirement already satisfied: blis<0.8.0,>=0.4.0 in /home/ilai0/.local/lib/python3.6/site-packages (from spacy<3.4.0,>=3.3.0.dev0->en-core-web-md==3.3.0) (0.7.7)\n",
      "Requirement already satisfied: tqdm<5.0.0,>=4.38.0 in /usr/local/lib/python3.6/site-packages (from spacy<3.4.0,>=3.3.0.dev0->en-core-web-md==3.3.0) (4.63.1)\n",
      "Requirement already satisfied: pathy>=0.3.5 in /home/ilai0/.local/lib/python3.6/site-packages (from spacy<3.4.0,>=3.3.0.dev0->en-core-web-md==3.3.0) (0.6.1)\n",
      "Requirement already satisfied: setuptools in /usr/local/lib/python3.6/site-packages (from spacy<3.4.0,>=3.3.0.dev0->en-core-web-md==3.3.0) (59.6.0)\n",
      "Requirement already satisfied: spacy-legacy<3.1.0,>=3.0.9 in /home/ilai0/.local/lib/python3.6/site-packages (from spacy<3.4.0,>=3.3.0.dev0->en-core-web-md==3.3.0) (3.0.9)\n",
      "Requirement already satisfied: catalogue<2.1.0,>=2.0.6 in /home/ilai0/.local/lib/python3.6/site-packages (from spacy<3.4.0,>=3.3.0.dev0->en-core-web-md==3.3.0) (2.0.7)\n",
      "Requirement already satisfied: murmurhash<1.1.0,>=0.28.0 in /home/ilai0/.local/lib/python3.6/site-packages (from spacy<3.4.0,>=3.3.0.dev0->en-core-web-md==3.3.0) (1.0.7)\n",
      "Requirement already satisfied: langcodes<4.0.0,>=3.2.0 in /home/ilai0/.local/lib/python3.6/site-packages (from spacy<3.4.0,>=3.3.0.dev0->en-core-web-md==3.3.0) (3.3.0)\n",
      "Requirement already satisfied: cymem<2.1.0,>=2.0.2 in /home/ilai0/.local/lib/python3.6/site-packages (from spacy<3.4.0,>=3.3.0.dev0->en-core-web-md==3.3.0) (2.0.6)\n",
      "Requirement already satisfied: typer<0.5.0,>=0.3.0 in /home/ilai0/.local/lib/python3.6/site-packages (from spacy<3.4.0,>=3.3.0.dev0->en-core-web-md==3.3.0) (0.4.1)\n",
      "Requirement already satisfied: typing-extensions<4.0.0.0,>=3.7.4 in /home/ilai0/.local/lib/python3.6/site-packages (from spacy<3.4.0,>=3.3.0.dev0->en-core-web-md==3.3.0) (3.10.0.2)\n",
      "Requirement already satisfied: srsly<3.0.0,>=2.4.3 in /home/ilai0/.local/lib/python3.6/site-packages (from spacy<3.4.0,>=3.3.0.dev0->en-core-web-md==3.3.0) (2.4.3)\n",
      "Requirement already satisfied: zipp>=0.5 in /usr/local/lib/python3.6/site-packages (from catalogue<2.1.0,>=2.0.6->spacy<3.4.0,>=3.3.0.dev0->en-core-web-md==3.3.0) (3.1.0)\n",
      "Requirement already satisfied: six in /usr/local/lib/python3.6/site-packages (from packaging>=20.0->spacy<3.4.0,>=3.3.0.dev0->en-core-web-md==3.3.0) (1.16.0)\n",
      "Requirement already satisfied: pyparsing>=2.0.2 in /usr/local/lib/python3.6/site-packages (from packaging>=20.0->spacy<3.4.0,>=3.3.0.dev0->en-core-web-md==3.3.0) (3.0.7)\n",
      "Requirement already satisfied: smart-open<6.0.0,>=5.0.0 in /home/ilai0/.local/lib/python3.6/site-packages (from pathy>=0.3.5->spacy<3.4.0,>=3.3.0.dev0->en-core-web-md==3.3.0) (5.2.1)\n",
      "Requirement already satisfied: dataclasses<1.0,>=0.6 in /home/ilai0/.local/lib/python3.6/site-packages (from pathy>=0.3.5->spacy<3.4.0,>=3.3.0.dev0->en-core-web-md==3.3.0) (0.8)\n",
      "Requirement already satisfied: idna<3,>=2.5 in /usr/local/lib/python3.6/site-packages (from requests<3.0.0,>=2.13.0->spacy<3.4.0,>=3.3.0.dev0->en-core-web-md==3.3.0) (2.9)\n",
      "Requirement already satisfied: urllib3!=1.25.0,!=1.25.1,<1.26,>=1.21.1 in /usr/local/lib/python3.6/site-packages (from requests<3.0.0,>=2.13.0->spacy<3.4.0,>=3.3.0.dev0->en-core-web-md==3.3.0) (1.25.8)\n",
      "Requirement already satisfied: certifi>=2017.4.17 in /usr/local/lib/python3.6/site-packages (from requests<3.0.0,>=2.13.0->spacy<3.4.0,>=3.3.0.dev0->en-core-web-md==3.3.0) (2019.11.28)\n",
      "Requirement already satisfied: chardet<4,>=3.0.2 in /usr/lib/python3.6/site-packages (from requests<3.0.0,>=2.13.0->spacy<3.4.0,>=3.3.0.dev0->en-core-web-md==3.3.0) (3.0.4)\n",
      "Requirement already satisfied: contextvars<3,>=2.4 in /home/ilai0/.local/lib/python3.6/site-packages (from thinc<8.1.0,>=8.0.14->spacy<3.4.0,>=3.3.0.dev0->en-core-web-md==3.3.0) (2.4)\n",
      "Requirement already satisfied: importlib-resources in /usr/local/lib/python3.6/site-packages (from tqdm<5.0.0,>=4.38.0->spacy<3.4.0,>=3.3.0.dev0->en-core-web-md==3.3.0) (5.4.0)\n",
      "Requirement already satisfied: click<9.0.0,>=7.1.1 in /usr/local/lib/python3.6/site-packages (from typer<0.5.0,>=0.3.0->spacy<3.4.0,>=3.3.0.dev0->en-core-web-md==3.3.0) (8.0.4)\n",
      "Requirement already satisfied: MarkupSafe>=0.23 in /usr/local/lib64/python3.6/site-packages (from jinja2->spacy<3.4.0,>=3.3.0.dev0->en-core-web-md==3.3.0) (1.1.1)\n",
      "Requirement already satisfied: importlib-metadata in /usr/local/lib/python3.6/site-packages (from click<9.0.0,>=7.1.1->typer<0.5.0,>=0.3.0->spacy<3.4.0,>=3.3.0.dev0->en-core-web-md==3.3.0) (1.5.0)\n",
      "Requirement already satisfied: immutables>=0.9 in /home/ilai0/.local/lib/python3.6/site-packages (from contextvars<3,>=2.4->thinc<8.1.0,>=8.0.14->spacy<3.4.0,>=3.3.0.dev0->en-core-web-md==3.3.0) (0.17)\n",
      "Installing collected packages: en-core-web-md\n",
      "Successfully installed en-core-web-md-3.3.0\n",
      "\u001b[38;5;2m✔ Download and installation successful\u001b[0m\n",
      "You can now load the package via spacy.load('en_core_web_md')\n"
     ]
    }
   ],
   "source": [
    "# !python3.6 -m spacy download en_core_web_md"
   ]
  },
  {
   "cell_type": "code",
   "execution_count": 33,
   "metadata": {},
   "outputs": [],
   "source": [
    "\n",
    "spacy_nlp   = spacy.load('en_core_web_md')"
   ]
  },
  {
   "cell_type": "code",
   "execution_count": 34,
   "metadata": {},
   "outputs": [],
   "source": [
    "#Emoji patterns\n",
    "emoji_pattern = re.compile(\"[\"\n",
    "                           u\"\\U0001F600-\\U0001F64F\"  # emoticons\n",
    "                           u\"\\U0001F300-\\U0001F5FF\"  # symbols & pictographs\n",
    "                           u\"\\U0001F680-\\U0001F6FF\"  # transport & map symbols\n",
    "                           u\"\\U0001F1E0-\\U0001F1FF\"  # flags (iOS)\n",
    "                           u\"\\U00002702-\\U000027B0\"\n",
    "                           u\"\\U000024C2-\\U0001F251\"\n",
    "                           \"]+\", flags=re.UNICODE)"
   ]
  },
  {
   "cell_type": "code",
   "execution_count": 35,
   "metadata": {},
   "outputs": [],
   "source": [
    "def clean_tweets(tweet):\n",
    "    \"\"\"\n",
    "    Tokenize and lemmatize an input tweet\n",
    "    Args:\n",
    "        tweet: string\n",
    "    Returns:\n",
    "        a list containing tokens\n",
    "    \"\"\"\n",
    "    tweet       = re.sub('&amp;', ' ',tweet)\n",
    "    tweet       = emoji_pattern.sub(r' ', tweet)\n",
    "    word_tokens = spacy_nlp(tweet)\n",
    "    tokens      = []\n",
    "    for w in word_tokens:\n",
    "        if not w.is_stop: # not stop words\n",
    "            s   = w.text.lower()\n",
    "#            print(s)\n",
    "#            if s[0] == '@' or s[0] == '#':\n",
    "#                continue\n",
    "            s   = re.sub(r'^[@#]', '', s)\n",
    "            s   = re.sub(r'[^a-zA-Z0-9_]+$', '', s)\n",
    "            s   = re.sub(r'[-,#()@=!\\\"\\'\\?\\/:]+', ' ', s)\n",
    "            #replace consecutive non-ASCII characters with a space\n",
    "            s   = re.sub(r'[^\\x00-\\x7F]+',' ', s)\n",
    "            tokens += s.split()\n",
    "    text = \" \".join(tokens)\n",
    "#    print(tokens)\n",
    "    word_tokens    = spacy_nlp(text)\n",
    "    filtered_tweet = []\n",
    "    for w in word_tokens:\n",
    "        if not w.is_stop:\n",
    "            if w.lemma_ != \"-PRON-\":\n",
    "                s = w.lemma_.lower()\n",
    "            else:\n",
    "                s = w.lower_\n",
    "            s = s.strip('-')\n",
    "            if re.match(r'^[a-zA-Z_\\.]+$', s):\n",
    "                filtered_tweet.append(s)\n",
    "#            if s not in string.punctuation and not re.match(r\"^[0-9\\.]+$\", s) and re.match(r'[a-zA-Z_]+', s):\n",
    "#                filtered_tweet.append((s, w.pos_))\n",
    "    \n",
    "    return filtered_tweet"
   ]
  },
  {
   "cell_type": "code",
   "execution_count": 36,
   "metadata": {},
   "outputs": [],
   "source": [
    "# bag-of-words model\n",
    "# clean each tweet in text data and then store them as processed_docs\n",
    "processed_docs = []\n",
    "for t in text_data:\n",
    "    try: \n",
    "        processed_docs.append(clean_tweets(t))\n",
    "    except: pass\n",
    "\n",
    "\n",
    "# create a dictionary for all tweets\n",
    "dictionary     = gensim.corpora.Dictionary(processed_docs)\n",
    "# create word bow for all tweets, this can help us record the times of each word appeared in each tweet.\n",
    "bow_corpus     = [dictionary.doc2bow(doc) for doc in processed_docs]"
   ]
  },
  {
   "cell_type": "code",
   "execution_count": 38,
   "metadata": {},
   "outputs": [],
   "source": [
    "# Running LDA using Bag of Words\n",
    "lda_model = gensim.models.LdaMulticore(corpus=bow_corpus,id2word=dictionary,num_topics=10, passes=20,random_state = 1)"
   ]
  },
  {
   "cell_type": "code",
   "execution_count": 39,
   "metadata": {},
   "outputs": [
    {
     "name": "stdout",
     "output_type": "stream",
     "text": [
      "Topic: 0 \n",
      "Words: 0.031*\"great\" + 0.011*\"state\" + 0.010*\"endorsement\" + 0.010*\"total\" + 0.010*\"strong\" + 0.009*\"job\" + 0.009*\"people\" + 0.009*\"win\" + 0.008*\"military\" + 0.008*\"crime\"\n",
      "Topic: 1 \n",
      "Words: 0.016*\"fbi\" + 0.012*\"comey\" + 0.009*\"trump\" + 0.008*\"medium\" + 0.008*\"clinton\" + 0.007*\"say\" + 0.007*\"president\" + 0.007*\"news\" + 0.007*\"lie\" + 0.007*\"people\"\n",
      "Topic: 2 \n",
      "Words: 0.027*\"vote\" + 0.018*\"big\" + 0.017*\"great\" + 0.015*\"republican\" + 0.013*\"tax\" + 0.013*\"cut\" + 0.012*\"win\" + 0.011*\"bill\" + 0.011*\"house\" + 0.010*\"republicans\"\n",
      "Topic: 3 \n",
      "Words: 0.011*\"good\" + 0.010*\"great\" + 0.009*\"president\" + 0.009*\"state\" + 0.008*\"news\" + 0.007*\"bad\" + 0.006*\"new\" + 0.006*\"time\" + 0.006*\"go\" + 0.006*\"know\"\n",
      "Topic: 4 \n",
      "Words: 0.042*\"great\" + 0.019*\"thank\" + 0.012*\"work\" + 0.010*\"honor\" + 0.010*\"minister\" + 0.010*\"prime\" + 0.010*\"today\" + 0.009*\"happy\" + 0.009*\"look\" + 0.009*\"forward\"\n",
      "Topic: 5 \n",
      "Words: 0.017*\"china\" + 0.016*\"u.s\" + 0.015*\"year\" + 0.015*\"country\" + 0.013*\"trade\" + 0.012*\"great\" + 0.011*\"deal\" + 0.010*\"president\" + 0.010*\"job\" + 0.010*\"good\"\n",
      "Topic: 6 \n",
      "Words: 0.046*\"great\" + 0.020*\"america\" + 0.016*\"thank\" + 0.014*\"today\" + 0.013*\"honor\" + 0.013*\"join\" + 0.011*\"maga\" + 0.011*\"people\" + 0.009*\"state\" + 0.007*\"american\"\n",
      "Topic: 7 \n",
      "Words: 0.038*\"border\" + 0.021*\"wall\" + 0.018*\"country\" + 0.016*\"security\" + 0.016*\"want\" + 0.012*\"democrats\" + 0.011*\"people\" + 0.011*\"immigration\" + 0.009*\"come\" + 0.009*\"law\"\n",
      "Topic: 8 \n",
      "Words: 0.026*\"thank\" + 0.026*\"trump\" + 0.015*\"president\" + 0.011*\"god\" + 0.009*\"law\" + 0.008*\"enforcement\" + 0.008*\"bless\" + 0.008*\"donald\" + 0.008*\"people\" + 0.006*\"great\"\n",
      "Topic: 9 \n",
      "Words: 0.022*\"fake\" + 0.021*\"news\" + 0.013*\"trump\" + 0.013*\"medium\" + 0.012*\"collusion\" + 0.011*\"hunt\" + 0.011*\"witch\" + 0.011*\"hillary\" + 0.010*\"russia\" + 0.010*\"report\"\n"
     ]
    }
   ],
   "source": [
    "# list all topics: we choose topic 10 which means each topic concludes 10 variables.\n",
    "for idx, topic in lda_model.print_topics(-1):\n",
    "    print('Topic: {} \\nWords: {}'.format(idx, topic))"
   ]
  },
  {
   "cell_type": "code",
   "execution_count": 40,
   "metadata": {},
   "outputs": [
    {
     "data": {
      "text/html": [
       "\n",
       "<link rel=\"stylesheet\" type=\"text/css\" href=\"https://cdn.jsdelivr.net/gh/bmabey/pyLDAvis@3.2.2/pyLDAvis/js/ldavis.v1.0.0.css\">\n",
       "\n",
       "\n",
       "<div id=\"ldavis_el18469140655888383216460316232\"></div>\n",
       "<script type=\"text/javascript\">\n",
       "\n",
       "var ldavis_el18469140655888383216460316232_data = {\"mdsDat\": {\"x\": [-0.007515189543879214, -0.21881789438745328, -0.06360609608085026, 0.1762309789287716, 0.01772234180912539, 0.03470056762907228, -0.038962044072699556, 0.1769169911037129, -0.11290650874197501, 0.03623685335617558], \"y\": [0.1167362961256964, -0.06785815343748479, 0.14115822998576175, -0.031690739396284334, 0.1239353752641986, 0.030728620030681487, 0.011014888615973982, -0.07551675860705032, -0.134929940389904, -0.11357781819158923], \"topics\": [1, 2, 3, 4, 5, 6, 7, 8, 9, 10], \"cluster\": [1, 1, 1, 1, 1, 1, 1, 1, 1, 1], \"Freq\": [16.957845684946037, 16.4870598044152, 11.304851709968835, 9.112275554990704, 8.85301036081087, 8.416672523371908, 8.191108481939278, 7.7944869952173965, 6.977759148849707, 5.9049297354900645]}, \"tinfo\": {\"Term\": [\"border\", \"great\", \"thank\", \"trump\", \"vote\", \"wall\", \"china\", \"fake\", \"fbi\", \"security\", \"honor\", \"trade\", \"hunt\", \"witch\", \"news\", \"collusion\", \"tax\", \"cut\", \"hillary\", \"tariff\", \"democrats\", \"america\", \"republican\", \"clinton\", \"president\", \"join\", \"billion\", \"medium\", \"state\", \"law\", \"tariff\", \"inflation\", \"deficit\", \"product\", \"currency\", \"china\", \"gdp\", \"quantitative\", \"fed\", \"korean\", \"trade\", \"trillion\", \"billion\", \"property\", \"invest\", \"auto\", \"manufacturer\", \"jobless\", \"agricultural\", \"intellectual\", \"chrysler\", \"unemployment\", \"harley\", \"consumer\", \"feed\", \"advantage\", \"reserve\", \"pump\", \"testing\", \"reciprocal\", \"optimism\", \"aluminum\", \"company\", \"dollar\", \"growth\", \"rate\", \"rico\", \"puerto\", \"xi\", \"market\", \"worker\", \"wealth\", \"economy\", \"stock\", \"steel\", \"low\", \"u.s\", \"korea\", \"deal\", \"states\", \"farmer\", \"year\", \"united\", \"pay\", \"high\", \"country\", \"business\", \"good\", \"job\", \"president\", \"north\", \"world\", \"big\", \"great\", \"come\", \"american\", \"people\", \"time\", \"new\", \"witch\", \"hunt\", \"russian\", \"collude\", \"paper\", \"washingtonpost\", \"mcgahn\", \"councel\", \"nadler\", \"conflicted\", \"hoax\", \"meddling\", \"spy\", \"fabricate\", \"russians\", \"rig\", \"gee\", \"dishonesty\", \"proof\", \"collusion\", \"census\", \"schiff\", \"delusion\", \"testimony\", \"finding\", \"reporting\", \"wikileaks\", \"incorrect\", \"aide\", \"phony\", \"crooked\", \"mueller\", \"excuse\", \"dossier\", \"dishonest\", \"scam\", \"hillary\", \"cnn\", \"fake\", \"evidence\", \"times\", \"russia\", \"story\", \"report\", \"news\", \"obstruction\", \"clinton\", \"medium\", \"angry\", \"campaign\", \"false\", \"election\", \"lawyer\", \"trump\", \"obama\", \"corrupt\", \"democrats\", \"bad\", \"fail\", \"time\", \"people\", \"totally\", \"like\", \"look\", \"democrat\", \"president\", \"go\", \"want\", \"say\", \"southern\", \"loophole\", \"alien\", \"caravan\", \"wall\", \"merit\", \"asylum\", \"lottery\", \"immigration\", \"apprehend\", \"migration\", \"honduras\", \"migrant\", \"drain\", \"swamp\", \"cross\", \"guatemala\", \"homeland\", \"detain\", \"immigrant\", \"trafficking\", \"patrol\", \"unchecked\", \"disrespect\", \"kneel\", \"visa\", \"chain\", \"nfl\", \"vetting\", \"brandon\", \"security\", \"humanitarian\", \"border\", \"daca\", \"drug\", \"safety\", \"fix\", \"secure\", \"build\", \"mexico\", \"illegal\", \"stop\", \"law\", \"crisis\", \"criminal\", \"want\", \"sanctuary\", \"democrats\", \"country\", \"national\", \"democrat\", \"come\", \"congress\", \"need\", \"crime\", \"open\", \"people\", \"change\", \"great\", \"bad\", \"big\", \"go\", \"u.s\", \"work\", \"job\", \"troy\", \"ticket\", \"firework\", \"bay\", \"gratitude\", \"join\", \"tragic\", \"balderson\", \"cincinnati\", \"cindy\", \"worship\", \"sanford\", \"mob\", \"dayton\", \"rosendale\", \"katie\", \"reno\", \"cleveland\", \"greet\", \"mississippi\", \"ralph\", \"convention\", \"tribute\", \"debatenight\", \"orlando\", \"montana\", \"arkansas\", \"troy_balderson\", \"panama\", \"crown\", \"paso\", \"ohio\", \"crowd\", \"tennessee\", \"maga\", \"icymi\", \"pence\", \"rally\", \"cherish\", \"pm\", \"saturday\", \"honor\", \"live\", \"veteran\", \"americafirst\", \"america\", \"d.c\", \"land\", \"great\", \"nation\", \"today\", \"freedom\", \"pennsylvania\", \"tonight\", \"thank\", \"florida\", \"tomorrow\", \"state\", \"incredible\", \"american\", \"day\", \"people\", \"whitehouse\", \"love\", \"support\", \"leave\", \"big\", \"job\", \"country\", \"watch\", \"win\", \"vote\", \"mitch\", \"mcconnell\", \"roy\", \"premium\", \"senatemajldr\", \"repeal\", \"deductible\", \"strange\", \"broward\", \"ballot\", \"obamacare\", \"passage\", \"murphy\", \"speakerryan\", \"philadelphia\", \"charlotte\", \"oreillyfactor\", \"veto\", \"v.p\", \"requirement\", \"rand\", \"fayetteville\", \"donnabrazile\", \"deplete\", \"spiral\", \"voting\", \"healthcare\", \"unpopular\", \"judy\", \"yale\", \"luther\", \"carolina\", \"enjoy\", \"interview\", \"reform\", \"alabama\", \"bill\", \"p.m\", \"vote\", \"republicans\", \"senate\", \"republican\", \"schumer\", \"cut\", \"pass\", \"replace\", \"tax\", \"pelosi\", \"house\", \"big\", \"win\", \"senator\", \"party\", \"tonight\", \"foxnew\", \"support\", \"great\", \"democrats\", \"north\", \"election\", \"work\", \"need\", \"thank\", \"get\", \"barletta\", \"otto\", \"desantis\", \"rick\", \"filibuster\", \"endorsement\", \"karen\", \"keith\", \"amendment\", \"ted\", \"unhinge\", \"hampshire\", \"cumming\", \"petestauber\", \"warmbier\", \"beto\", \"ricardorossello\", \"saccone\", \"congressman\", \"derby\", \"boo\", \"jimhagedornmn\", \"dave\", \"marsha\", \"overflow\", \"agony\", \"baldwin\", \"seldom\", \"meltdown\", \"colleague\", \"vet\", \"egypt\", \"language\", \"minnesota\", \"calm\", \"socialist\", \"television\", \"pack\", \"scott\", \"ron\", \"district\", \"friday\", \"elijah\", \"fighter\", \"total\", \"governor\", \"fantastic\", \"complete\", \"second\", \"congratulation\", \"lou\", \"strong\", \"love\", \"john\", \"run\", \"state\", \"great\", \"military\", \"night\", \"crime\", \"tuesday\", \"watch\", \"win\", \".\", \"job\", \"michigan\", \"border\", \"people\", \"guy\", \"new\", \"vote\", \"know\", \"big\", \"work\", \"president\", \"year\", \"kemp\", \"pundit\", \"tlaib\", \"megan\", \"envy\", \"rex\", \"fat\", \"boston\", \"misdemeanor\", \"fred\", \"type\", \"reset\", \"lavar\", \"aoc\", \"soccer\", \"grid\", \"rampant\", \"existent\", \"keller\", \"waiver\", \"accumulate\", \"globe\", \"beloved\", \"treason\", \"tillerson\", \"yates\", \"melbourne\", \"roar\", \"cox\", \"additionally\", \"singapore\", \"brian\", \"denuclearization\", \"owner\", \"putin\", \"vladimir\", \"un\", \"hate\", \"jong\", \"kim\", \"businessman\", \"iran\", \"summit\", \"congresswoman\", \"bank\", \"israel\", \"develop\", \"eye\", \"california\", \"state\", \"good\", \"korea\", \"meeting\", \"crazy\", \"peace\", \"fail\", \"attack\", \"war\", \"president\", \"bad\", \"meet\", \"fact\", \"know\", \"world\", \"north\", \"news\", \"say\", \"new\", \"try\", \"deal\", \"time\", \"go\", \"great\", \"look\", \"fake\", \"big\", \"trump\", \"people\", \"job\", \"thing\", \"country\", \"want\", \"minister\", \"birthday\", \"prime\", \"abeshinzo\", \"italy\", \"briefing\", \"mattis\", \"kelly\", \"marklevinshow\", \"woodward\", \"dinner\", \"roll\", \"knight\", \"christian\", \"coach\", \"zealand\", \"sean\", \"jackson\", \"abe\", \"emmanuelmacron\", \"boris\", \"model\", \"pirro\", \"chancellor\", \"h.w\", \"theresa\", \"barbara\", \"merkel\", \"walter\", \"angela\", \"u.k\", \"japan\", \"heed\", \"flotus\", \"wish\", \"melania\", \"talented\", \"lady\", \"george\", \"joint\", \"happy\", \"france\", \"welcome\", \"conference\", \"whitehouse\", \"path\", \"book\", \"wonderful\", \"bush\", \"forward\", \"army\", \"honor\", \"host\", \"great\", \"thank\", \"friend\", \"morning\", \"secretary\", \"work\", \"general\", \"service\", \"man\", \"today\", \"look\", \"press\", \"white\", \"meeting\", \"new\", \"hard\", \"congratulation\", \"good\", \"house\", \"president\", \"day\", \"people\", \"america\", \"mccabe\", \"delete\", \"text\", \"liar\", \"conspiracy\", \"blumenthal\", \"fusion\", \"lover\", \"gps\", \"mail\", \"strzok\", \"leaker\", \"opec\", \"connecticut\", \"memos\", \"oath\", \"weekly\", \"wallace\", \"sweden\", \"wash\", \"lisa\", \"theory\", \"arabia\", \"nang\", \"da\", \"acid\", \"social\", \"expedition\", \"fishing\", \"ohr\", \"comey\", \"saudi\", \"remembrance\", \"peter\", \"gas\", \"email\", \"fbi\", \"oil\", \"server\", \"james\", \"brennan\", \"agent\", \"page\", \"lie\", \"wife\", \"clinton\", \"fire\", \"director\", \"say\", \"vietnam\", \"medium\", \"leak\", \"give\", \"day\", \"trump\", \"hillary\", \"report\", \"american\", \"president\", \"news\", \"big\", \"people\", \"justice\", \"campaign\", \"fake\", \"job\", \"time\", \"good\", \"great\", \"democrats\", \"bless\", \"bigleaguetruth\", \"scene\", \"iowa\", \"god\", \"victim\", \"gina\", \"whitaker\", \"ethanol\", \"haspel\", \"scheme\", \"billy\", \"jump\", \"infiltrate\", \"digenova\", \"birth\", \"kanye\", \"precious\", \"illicit\", \"obrador\", \"eradicate\", \"j\", \"lopez\", \"disclosure\", \"varney\", \"wilmington\", \"iranians\", \"unfortunate\", \"refinery\", \"ultimate\", \"hillaryclinton\", \"responder\", \"tragedy\", \"pray\", \"enforcement\", \"police\", \"mourn\", \"donald\", \"officer\", \"prayer\", \"ceo\", \"trump\", \"thank\", \"makeamericagreatagain\", \"brave\", \"mr\", \"debate\", \"law\", \"condolence\", \"graham\", \"family\", \"policy\", \"president\", \"woman\", \"presidential\", \"draintheswamp\", \"life\", \"administration\", \"serve\", \"people\", \"happen\", \"man\", \"country\", \"great\", \"year\", \"obama\", \".\", \"world\"], \"Freq\": [668.0, 2055.0, 713.0, 673.0, 450.0, 313.0, 381.0, 642.0, 242.0, 269.0, 257.0, 301.0, 239.0, 238.0, 696.0, 279.0, 259.0, 226.0, 300.0, 206.0, 516.0, 526.0, 254.0, 256.0, 754.0, 161.0, 221.0, 422.0, 428.0, 249.0, 202.8527890613971, 30.42237570222453, 24.673038343536156, 65.5980484716646, 28.160439625073778, 364.11259455847363, 32.240420545626314, 14.313936594828265, 28.506454297750736, 14.20955678584987, 281.8550374334173, 29.88999691703183, 205.75004895442868, 10.513884533696706, 14.865312791961381, 11.351417350753051, 14.839900637117726, 9.574518607963428, 16.529587048438362, 9.569456994368673, 9.559373656758043, 78.04640431056248, 10.387725014651188, 41.48729861818324, 36.21493840582406, 33.65197562167414, 33.566768988093095, 8.602190801309254, 11.168749257030175, 8.59072753357933, 18.812533714713506, 17.157715781529177, 132.1931668845568, 202.410892306592, 41.2037959018047, 96.00095307319954, 49.20625872690927, 49.20296285045451, 49.76976883531719, 105.9676036932197, 74.31158791603708, 22.020795202562326, 164.99827677426663, 74.72417580276193, 48.08925079439168, 139.84195374474126, 349.2739903326694, 147.06178801846636, 235.1110726590645, 189.92716936982183, 71.85163747623967, 328.93620876281113, 207.61903528315574, 151.37274455931177, 147.02709405723763, 322.6722484677279, 81.33208897791388, 214.93237072976973, 217.08042455232385, 222.86568995608746, 114.96955476527133, 116.64851711262061, 177.37529508753943, 258.57974738544, 131.13801771648355, 120.05927555454245, 145.92574278442947, 122.71569214270635, 115.25573257653333, 235.25469186568824, 236.15023009687567, 107.80306873321292, 18.68952977332132, 19.599358018263715, 14.761477557943866, 13.836818772901433, 15.668965541961757, 13.801043442901186, 15.62244876578135, 82.40658141932991, 11.866282716193556, 61.214283778548726, 14.498420595381672, 37.87771327910651, 70.06453735213441, 9.851516818760757, 9.813845404754096, 10.69983171130326, 253.96820840452887, 11.495656163192601, 17.618353202433166, 7.884339054658683, 29.74019338113669, 6.941594452021016, 37.139044034467126, 6.911457078427192, 6.9027783583441344, 6.885522721346151, 94.45490880316149, 163.51173052836936, 187.00803747026194, 25.55695819347489, 60.930000855431494, 69.0233769605923, 27.020904718374684, 232.84876304996928, 124.71700582125492, 468.35045848815963, 40.17459635844883, 63.94733526008789, 208.3701234044038, 173.20734791456425, 200.66474825960478, 438.1453227665197, 75.87155488642955, 173.29873807292526, 265.13931243189654, 65.88599722963134, 165.6403862962623, 62.94008017130289, 199.85352244270837, 60.00781928081355, 270.3556485936235, 126.12467216137368, 71.67181546610595, 180.61964628162764, 158.3790280931459, 89.95498577441279, 159.37774625911774, 192.43387485646002, 85.5560320973691, 108.42888674209557, 118.00511325092388, 97.38716969365083, 125.6368507707758, 110.23748304492857, 110.31920675008716, 100.06097657910843, 116.84333903824138, 34.84050840121722, 28.55601275056343, 32.787836173976004, 298.03582685577254, 16.56729731904877, 18.247813905766066, 14.751388403212461, 150.9111423777905, 19.055771863754504, 12.911132701359625, 12.02816988937843, 11.97376980565258, 12.70345456677834, 12.656280902985582, 9.22011157676, 8.36429936184113, 14.15293180488962, 8.320710653843147, 29.78758882994245, 13.27866213675848, 42.804378837646716, 7.42291606369201, 19.537199682599717, 6.493911832301549, 6.48601271377878, 13.721010281018422, 26.526909488609974, 6.433664381526573, 5.610979352004756, 232.77922055958575, 19.93960723104041, 547.3434852761605, 53.906765886719164, 105.40921477236922, 58.48279825075342, 62.651844228509894, 25.703009529701983, 110.76348669171858, 124.42205192910174, 120.70650202837918, 109.14575253668771, 133.2964014167977, 32.27549164317234, 51.87437350676949, 227.4765041936689, 28.70592273794269, 173.74034032012636, 256.7226699640245, 82.44098636079623, 103.28939401289783, 135.13165945426718, 80.98864880329562, 104.58306278977003, 110.8686586911128, 61.965214670138664, 163.22368552001893, 52.27671956083632, 125.13505426380652, 73.98870766308386, 70.27464692341466, 61.708407516877024, 60.98468854102031, 60.424378398609235, 58.72340412951925, 20.972524166670393, 35.576889554031155, 10.951344925483605, 10.072108547994334, 8.220060317090681, 145.6456131376467, 8.183319383447385, 7.352142084316563, 7.306152785633196, 7.301583194389379, 6.450902408268496, 6.4363724209831155, 6.414592176350467, 11.931766735819858, 5.5396705191773865, 5.540406664116841, 5.537246398580587, 5.536912822438778, 5.530234266370694, 13.388156151967964, 6.257531400087268, 6.2570919905510705, 7.0275624508623284, 8.527257150432298, 15.488020643981585, 17.81791200920525, 5.420416378649086, 4.6325691467097005, 4.632573500615166, 4.628682783708144, 16.88464366489065, 75.81118259663072, 63.630439451352274, 20.94967487078809, 128.61150592661414, 21.478825766775337, 23.430149740605696, 69.01043584623982, 10.432922722394661, 33.82105727525946, 20.027923611176824, 150.67494464668954, 74.58134496729969, 31.821425045711713, 20.78348696900624, 234.22247335202877, 37.155910401685475, 28.36564855838514, 524.3385256160248, 72.20138502888739, 166.63032288096727, 27.943984201200696, 41.82365876963962, 61.495996911964234, 187.34785019166787, 61.97799166260339, 46.06276581435896, 102.00090728368015, 42.408266364286796, 80.62543385501033, 74.12849592967737, 124.10317480252738, 41.265632772606, 59.87835357367396, 47.56048785983731, 48.39420850959152, 71.8090458995913, 63.62205851824723, 62.1492381327044, 44.567519466511385, 46.68240292288573, 45.35392856998398, 25.050502699192233, 22.292108702852072, 17.71976986647108, 20.310588420960652, 16.772871199243195, 50.280582402547616, 12.146467413626612, 23.014399452470336, 9.367041073051576, 10.989264827250773, 93.90807446328179, 9.261196039848768, 7.528298514112572, 5.667195382510108, 5.652640185531325, 5.650862272710704, 5.645779732765953, 8.028922841710237, 6.415153284236041, 5.604613762306917, 5.591503932961591, 5.581794394424373, 4.7315541182571605, 4.714189532681518, 4.710218839023017, 20.344265942361524, 87.24299947926316, 5.3898686403608895, 3.8122697170312727, 3.8061628598172472, 23.249807604769213, 83.62166959465435, 69.42791214024051, 89.71027391746702, 54.09878424414565, 54.00419303466429, 126.4698996027071, 60.86973224462158, 301.3220809218521, 117.2087699417411, 115.58763623292057, 164.4019377493024, 48.18132810893218, 143.47536761333222, 72.38053335063321, 45.7972693618698, 147.02547686137848, 50.043565538501824, 124.80813681144988, 199.0279847508059, 130.81253626761324, 65.60673756593216, 63.680037130374394, 54.555455338981666, 54.95601415159027, 57.89544288442088, 192.47935134261752, 95.94757735003843, 67.20517229994181, 71.08769137429523, 70.18456372328808, 62.76549231153233, 55.04646644249946, 54.828389686334845, 9.170306783210973, 9.105333517446073, 10.753704082000029, 22.116890757110312, 6.424503879945432, 109.26062163949553, 8.021795914798975, 10.424475927133377, 57.37384866696503, 5.517871423689585, 5.504094240383681, 16.37697269033622, 5.40807962196817, 4.632751431603755, 4.598938927344237, 4.597557991780254, 4.5666363573337785, 4.543650462139736, 60.10666075300971, 3.729495523663517, 3.7279336187211896, 3.7267840764819953, 3.7271113681098393, 3.7251018346368028, 3.721692185939172, 3.723035071531298, 3.717244051424272, 8.908264360765495, 3.7119025159441428, 3.7093383190602145, 87.06167163250967, 8.832087079710195, 7.3646444406859395, 23.902415693391383, 7.331542821266483, 7.313327093275984, 16.73236437707103, 9.994062688569759, 26.13644771257688, 16.973487358078604, 24.301416978765488, 12.79769783686566, 12.805213789030207, 16.654473919234064, 107.63567129664364, 71.98811650495475, 46.64146494317954, 48.18940956737749, 33.446712247142415, 67.72750957493068, 15.560801412700943, 102.93325407876198, 82.45006948892178, 53.01966974110905, 66.3638233315227, 114.15947817875126, 332.8048769691651, 88.89717752694523, 54.493063643211244, 88.43187648573043, 22.783679701330946, 61.90905884103852, 90.6276531250807, 49.432211978243664, 94.83409174394983, 24.747209211645384, 80.1902501066956, 94.53291910166578, 28.8465535552532, 62.516937767042215, 59.59031954141572, 51.19316715058348, 61.36608883613188, 51.128609650364716, 55.951287052468956, 53.38341509808799, 10.249382997097737, 10.13277927088115, 9.157441148142722, 7.47334473460473, 7.46505718509609, 9.866756397914639, 6.542170146726094, 8.166618361737214, 6.507903622275594, 5.630139894551264, 6.432076518249075, 5.6122690380112745, 5.613926066218756, 6.388323025616497, 5.540272005361132, 4.701325307420893, 4.692064735534604, 4.675277691048926, 3.7802280642350308, 3.7804683092404034, 3.777781960640229, 4.51743220663563, 3.7503783749647566, 7.485907320549822, 9.000266121908579, 4.486863889761566, 3.728488683115597, 4.446394347653554, 5.155332671677694, 7.188552043210958, 12.460057324754747, 19.30067438840552, 11.74628038202591, 10.281633631127216, 24.113336998635756, 6.419035850764469, 37.82462402996776, 40.09439862894641, 32.68413958343414, 48.18084078973027, 8.915796820984538, 53.229179535406274, 21.211577139960355, 13.593361054409158, 16.911581716132044, 30.425790771979177, 9.13428369724892, 9.0422054335858, 30.800428472086377, 95.56999781779652, 108.79966285690456, 55.27785406683403, 49.31134346734209, 27.451892382968765, 20.633789708392904, 43.769364457995415, 28.334007013973352, 26.140077582555463, 97.23723794330091, 69.45018992912792, 39.88992905525112, 45.329215668216115, 60.88843597074742, 52.65676781162821, 49.53265788883261, 81.05558678644942, 57.73461996377875, 66.6276013367844, 37.68711718193034, 55.05600014778758, 66.5287239588339, 61.45218201503346, 104.19874099501843, 56.28389658507112, 59.60877185280748, 57.031264476069936, 50.51308390704823, 53.596326889982564, 44.26096233806151, 40.473636509106356, 45.87025946267116, 43.10374489754651, 98.27760152330444, 37.00232372330475, 98.08094239857977, 16.706506399721764, 12.111603582718194, 12.041467221721703, 17.110955022087687, 24.600567258473074, 10.157514381030984, 9.269230292921398, 21.07198121071554, 8.380289589586733, 7.452364505873003, 6.506127535079396, 9.743388419091243, 6.49545381341447, 8.920192890815017, 10.54295324777938, 24.31505537402377, 15.34823764556404, 5.63757628148267, 5.627380410688351, 5.621058340536932, 5.616007101597751, 5.614408535735647, 5.612464473380765, 5.574820252697566, 4.69873654529935, 5.478365424206484, 4.692509586951912, 10.09064849098105, 57.342984543577145, 10.827720280751718, 37.60093679091018, 33.19614184341003, 58.49007873661215, 18.60401209951722, 23.78434755075997, 12.787504731424347, 20.24626865740984, 90.47722349962454, 42.54385828238471, 56.84943449568582, 32.652054195769225, 66.8901561651285, 14.703600778159533, 67.13600757324272, 80.20939317707881, 21.395040485156038, 85.2702853914006, 16.648454967457713, 98.58713887862461, 29.248889677479312, 414.6951293095726, 186.69945664703064, 52.25989346339106, 41.601261343462774, 41.33449908957674, 117.21190024843942, 51.032492821885604, 38.60569330447298, 59.516245719399, 95.92287160918661, 88.01956198694208, 36.12944488262685, 53.7650159888221, 52.63964854040753, 79.19560677176449, 59.57565048950043, 49.91436303797645, 64.96003742989541, 53.141678435882774, 56.695371708040824, 48.937072063182775, 55.78244506825982, 50.445609446154364, 44.70842492734024, 24.77652427182839, 18.79610384892919, 16.189918304924632, 14.388741496362886, 11.715528825864665, 12.537205606721615, 25.78999641868229, 11.6575158620405, 10.820207146421076, 29.86270323757727, 10.7232282152772, 9.02106460263384, 7.248713213083169, 7.225028339097346, 9.62108243612684, 6.347666252900024, 7.851747051839436, 7.029286007028823, 6.997809786112891, 23.141014375503243, 4.561599220366397, 18.18815104920783, 4.548996626944886, 4.548870960058917, 6.044912155852673, 22.43436229061539, 5.9833143517589535, 5.97748340824997, 21.616101597352547, 108.83473704175258, 21.246413213429328, 8.912117054685018, 31.350974629335656, 14.251980019603527, 43.61609757892958, 144.32239268053692, 22.62169519984526, 25.457815240349404, 52.16631657076936, 18.123019697451074, 27.70818192123325, 35.65624828129674, 61.9564953428046, 23.172343899564535, 68.73919573447985, 42.754907025715305, 26.157949060800934, 65.82373218680489, 20.78864721729739, 69.08521565805133, 24.409790342040615, 45.632135012787366, 56.293844927510946, 75.4841201473066, 50.41196170514164, 48.20038454501109, 52.586255295446286, 64.82029697719447, 62.24554354246424, 56.637681837749014, 60.006584337270034, 35.015025045283444, 38.82018142176268, 44.453291399110405, 41.67184517374609, 40.85671538118512, 36.457451105335906, 37.9221873975195, 32.55567792351481, 59.438614770156626, 32.42236479318442, 10.752350536695372, 25.451608120412544, 83.28898077774366, 32.28311019387008, 6.36462048853004, 5.473446352641323, 5.463120409848293, 5.461899822554418, 8.508889387364412, 7.719155518186714, 5.3730469708274295, 4.577626866390212, 4.5749421820329506, 5.321028335733077, 6.828669807421783, 5.313882344047775, 4.537422578722851, 4.536494116339637, 4.516019328767766, 31.47029628643138, 4.489343072252937, 4.422964305777617, 3.6838756939567814, 3.6801826794844157, 3.680463084673549, 3.6779767674547306, 3.6772740182268557, 3.6726998543211447, 25.136800773895164, 38.2453405547183, 10.004282447865858, 15.39977659199182, 60.177481575395966, 27.152389734742858, 8.06584918853343, 58.60909461671271, 22.2834722282391, 31.282933532438946, 14.414359834664861, 193.20337705020358, 193.5033185810593, 13.30552138774312, 25.88898465529954, 20.435428406345007, 38.685818041108654, 70.69340192251062, 15.805789415816847, 11.826742551729716, 47.53708650504271, 29.99502815811103, 110.77164094639971, 39.62599320083034, 31.847306706050297, 25.396921295383823, 32.383781733661664, 35.79175521593394, 22.19011553093556, 57.03449533749249, 32.24839203806876, 28.97238609270343, 42.524052885109604, 47.60599499511288, 31.808636833775488, 27.993551478237183, 27.20109516115508, 26.497283345195036], \"Total\": [668.0, 2055.0, 713.0, 673.0, 450.0, 313.0, 381.0, 642.0, 242.0, 269.0, 257.0, 301.0, 239.0, 238.0, 696.0, 279.0, 259.0, 226.0, 300.0, 206.0, 516.0, 526.0, 254.0, 256.0, 754.0, 161.0, 221.0, 422.0, 428.0, 249.0, 206.03026786157793, 31.317202889775682, 25.61688102828847, 68.31407511969928, 29.39909590149999, 381.380220211918, 34.12196167594745, 15.170143443603342, 30.341363165057995, 15.166823035218165, 301.51456363746473, 32.20970153761855, 221.8140063039525, 11.370331762255079, 16.09719803929484, 12.315353893094606, 16.103906707980222, 10.420026740366833, 17.99957243884981, 10.420625245605448, 10.419536157543217, 85.27391597179022, 11.371608057826005, 45.47915594271145, 39.774766742464706, 36.962934564682975, 36.89260600260819, 9.46957506193118, 12.302256703786556, 9.468232440994752, 20.81782628004944, 18.985037010472787, 149.40868565705668, 233.78902152274154, 46.35677664637751, 110.62320733231364, 55.85549114447242, 55.85540424276046, 56.7984445984862, 125.7938000058983, 88.79154547346806, 24.589538126645742, 221.17537126642992, 94.47608141232068, 58.550982662403555, 195.06134378159229, 551.4756147762765, 210.92864203909227, 369.94594020999364, 322.97897889204734, 95.99680849533065, 664.2184822559325, 381.0989779633771, 256.8263588528874, 267.623204539793, 920.2139215615175, 129.14697727842997, 594.1122715070372, 604.3467174190058, 754.5484973963405, 255.4572102563992, 283.3572880517706, 761.271058738071, 2055.3719696331004, 422.15980739116736, 374.28983543203344, 998.5672716717955, 563.8064475154398, 506.1768875337884, 238.83067435901262, 239.80939819875263, 111.83064072755383, 19.609797047568378, 20.590360317574053, 15.67381910816642, 14.695228720065128, 16.651072147522417, 14.692137436438362, 16.649205150367436, 88.04329234066277, 12.727292168867764, 65.70795693382406, 15.658507614652898, 41.04269667275211, 76.17804915119311, 10.743560479774295, 10.750771708854353, 11.727319670160618, 279.03582328055444, 12.696973055075853, 19.52940130673883, 8.786652125090503, 33.20620120066887, 7.805545729203539, 41.92897531546395, 7.803346916305467, 7.802856893431002, 7.799953426833232, 107.15312294108571, 188.59257679431548, 216.59519489717187, 29.218395326045144, 70.93204875001288, 81.61323290665746, 31.143590187335317, 300.624149807252, 156.95434846309632, 642.2741260383201, 47.52010970833606, 78.77906455096863, 285.96367022246596, 237.66198540992175, 288.00440131684473, 696.6463504787565, 98.55327174915372, 256.65061752168185, 422.345617810621, 85.82962380256437, 253.37909714390804, 83.74757550710824, 347.60100372620224, 79.41343448856549, 673.4828943240134, 238.6499822521963, 104.74371524475936, 516.6892836820111, 437.24745335393004, 165.3946816004086, 563.8064475154398, 998.5672716717955, 166.2205114811408, 350.5501499471898, 475.2185531061626, 270.55916567605624, 754.5484973963405, 479.6031868406235, 551.3091156119314, 358.62256047367225, 118.93574597863048, 35.950982845066854, 29.50105460376685, 34.12192051819225, 313.83414325983483, 17.514906204770906, 19.358952128673305, 15.673472253412221, 160.3839939522551, 20.272479941519872, 13.830072735528944, 12.90717601251511, 12.908344324833715, 13.819757830465118, 13.81891483878356, 10.140606785637521, 9.219976188287937, 15.672411451129097, 9.22045904875288, 33.132347576821566, 14.772323701491736, 47.845132314608094, 8.297286341530295, 22.10172687695527, 7.374071861071168, 7.375706359856816, 15.702119975823491, 30.385860795893443, 7.377672660662668, 6.454425592390588, 269.3942539549112, 23.104408885116865, 668.597418437243, 65.43065933967576, 141.52361715658625, 77.45618721552168, 87.43235648632765, 32.25657812024069, 175.40415640665364, 205.77743332045577, 198.78604314832748, 191.79641174345014, 249.3990440097034, 43.32394037282598, 81.45908613291913, 551.3091156119314, 38.711027089661414, 516.6892836820111, 920.2139215615175, 188.51323365773882, 270.55916567605624, 422.15980739116736, 192.63524532571213, 291.74829784569596, 327.12251261086215, 133.411478413189, 998.5672716717955, 136.57655847944986, 2055.3719696331004, 437.24745335393004, 761.271058738071, 479.6031868406235, 551.4756147762765, 515.616602184606, 604.3467174190058, 21.83341351740573, 37.299179076154964, 11.834424094525147, 10.925146311491133, 9.106482328096014, 161.98473197853735, 9.105291523919, 8.194911413470596, 8.197515023400463, 8.196655559233696, 7.287752156551509, 7.2876792699245785, 7.287904555207139, 13.664568695833797, 6.377380342449521, 6.378330952192298, 6.378890883623873, 6.3787800584521674, 6.377320282769765, 15.488604306895306, 7.286502548944023, 7.290306514995198, 8.193808256791854, 10.009370055521625, 18.213460541052115, 20.960064398833616, 6.380743237987755, 5.467432366827154, 5.469171047179605, 5.468382996690155, 20.039337803769715, 92.94348063905372, 82.7190683731335, 26.384221292697188, 183.25778092614516, 27.34659547760863, 30.145847627965974, 98.62373342078938, 12.781498634951348, 46.61990029748741, 26.424050064034038, 257.2477008959007, 120.93215761068565, 45.725914314471936, 28.20724242523972, 526.154925678792, 64.95222965291957, 46.43552617928334, 2055.3719696331004, 160.9315356281271, 489.5877138960312, 46.469823870805854, 80.88327143019647, 141.43905261397595, 713.9337175064045, 157.47062175340417, 111.23020006952953, 428.9281624866453, 106.56067743366069, 374.28983543203344, 329.7981241483291, 998.5672716717955, 109.38895565390112, 243.19285404751176, 166.48239758152826, 221.69353242149796, 761.271058738071, 604.3467174190058, 920.2139215615175, 228.68744867087426, 466.8481490923356, 450.39399175012915, 26.038724134374135, 23.249861798197387, 18.597043235857623, 21.38915260328656, 17.667349016895876, 53.06598911594801, 13.015996045456582, 25.081147502418162, 10.22446778604818, 12.078527703015828, 103.38731074669454, 10.223025977393432, 8.365043459470373, 6.504174097962825, 6.499958715950817, 6.50304814251098, 6.503644018965887, 9.282884206251923, 7.4340718846343785, 6.5027813281124285, 6.504739215522733, 6.500455389827008, 5.569429793626812, 5.570425148002801, 5.5692482709973765, 24.10950023648971, 105.01850481746239, 6.498747169848746, 4.6444221164619375, 4.640479664662747, 28.664238419587694, 104.56620983301309, 87.45280954469774, 113.89555540225237, 68.13756338800596, 68.62684728269203, 169.51840488460195, 79.83914743804333, 450.39399175012915, 166.0448674629443, 168.00589062317462, 254.9163442080147, 66.87771690549933, 226.48170172817208, 109.18137274372143, 66.11670791596312, 259.4700659891308, 82.17905659208901, 307.5483493930379, 761.271058738071, 466.8481490923356, 160.59116742343826, 164.37120332696094, 141.43905261397595, 145.47538701222476, 166.48239758152826, 2055.3719696331004, 516.6892836820111, 255.4572102563992, 347.60100372620224, 515.616602184606, 291.74829784569596, 713.9337175064045, 323.65259897263894, 10.02778569587132, 10.024905563995755, 11.853192607448792, 24.60061697423394, 7.2890967986119435, 124.00456722210221, 9.112000656203364, 11.848473739243504, 65.70291969298319, 6.385941502026029, 6.381431027982335, 19.157578898326957, 6.388620990376782, 5.4754939955622985, 5.472351996935649, 5.47563271853844, 5.477292770880619, 5.475034463884018, 73.0649306233869, 4.5653470415571995, 4.563883851666428, 4.564949027242849, 4.565355234858086, 4.564836978610712, 4.561880856634818, 4.565277422753071, 4.565396895093464, 10.944083900510275, 4.563027087158769, 4.562783520247079, 109.69064398117054, 10.925548671782463, 9.104897487847913, 30.12928021758994, 9.12637942183134, 9.123843531113575, 21.939598443732095, 12.787427287315728, 35.617052868071525, 22.865349538222898, 33.92333452625364, 17.282002483579625, 17.377219063890724, 23.779348272325763, 213.25140648696112, 144.67644386185572, 88.085129804154, 101.44162418301856, 63.68944745713155, 159.85151230618098, 24.17746977234602, 305.44269590796694, 243.19285404751176, 132.30578238299628, 188.4425859464087, 428.9281624866453, 2055.3719696331004, 299.22245882123707, 148.54607691331927, 327.12251261086215, 43.12899497140407, 228.68744867087426, 466.8481490923356, 177.3817519846512, 604.3467174190058, 50.54333186523687, 668.597418437243, 998.5672716717955, 73.03269623884574, 506.1768875337884, 450.39399175012915, 353.5004360135829, 761.271058738071, 515.616602184606, 754.5484973963405, 664.2184822559325, 11.093462296882015, 11.090686985110713, 10.166179911760581, 8.320177403563024, 8.315597105768475, 11.09776794175432, 7.395453425555523, 9.243487476224152, 7.38978038769923, 6.466773484159116, 7.392124985725059, 6.4650654778998975, 6.472701855506853, 7.395628520772434, 6.468243636052543, 5.546192938248662, 5.544519573572933, 5.54557209464515, 4.615827681033897, 4.616378006938176, 4.6161895389218595, 5.543974787046449, 4.615623857806515, 9.223307166176518, 11.099339116987682, 5.539045091795927, 4.613358536164646, 5.53285528419913, 6.472982003905382, 9.201451712828938, 16.641245700541013, 26.844633882833385, 15.764288199941136, 13.850126558961163, 35.466107973199726, 8.295589593128616, 59.6711494711216, 64.17028951417814, 51.276405038023675, 82.10708896680237, 12.06616134588209, 107.65908233113332, 35.13246010665628, 22.105801615742656, 30.597685121559206, 71.80609620371317, 12.926886185922891, 12.861743462527265, 78.91905860225668, 428.9281624866453, 594.1122715070372, 210.92864203909227, 179.08645660468727, 70.7109371231033, 47.677970778335066, 165.3946816004086, 81.31386080209306, 74.82889603092852, 754.5484973963405, 437.24745335393004, 159.80098839936534, 201.89801408043064, 353.5004360135829, 283.3572880517706, 255.4572102563992, 696.6463504787565, 358.62256047367225, 506.1768875337884, 161.16230386253562, 369.94594020999364, 563.8064475154398, 479.6031868406235, 2055.3719696331004, 475.2185531061626, 642.2741260383201, 761.271058738071, 673.4828943240134, 998.5672716717955, 604.3467174190058, 294.70492920806834, 920.2139215615175, 551.3091156119314, 99.93649134067437, 37.94179547761818, 101.72037083167322, 17.582105861448277, 12.955183081988412, 12.950691787207514, 18.516427185620064, 26.829247344021073, 11.103022572576355, 10.174222250782826, 23.198169099228213, 9.250858870411024, 8.32646995370575, 7.402648765227467, 11.094404842071107, 7.398968928614265, 10.172380286093116, 12.024620415953997, 27.752596289070457, 17.59869141340219, 6.475910873968192, 6.469444894502614, 6.474263011583343, 6.476585254698213, 6.476790175852824, 6.47542958321617, 6.474992632926799, 5.551361852034167, 6.473719210662709, 5.551414062971432, 12.012399846721866, 70.59921159998896, 12.918642948221883, 47.043785748539946, 41.75784252254325, 76.51576198437401, 23.10254998699002, 30.532616630767304, 15.72494100548192, 25.930160114936186, 136.87572856731384, 60.23298582240506, 83.7587580951216, 46.128509630194806, 109.38895565390112, 18.51783897664598, 118.04658614197172, 153.86126817485294, 29.640650346929213, 171.04830557746857, 22.143274847862557, 257.2477008959007, 48.727046286662265, 2055.3719696331004, 713.9337175064045, 115.16486799643252, 82.80100029015607, 83.76286448774496, 515.616602184606, 126.89880611747701, 78.84617446166156, 176.63568664835745, 489.5877138960312, 475.2185531061626, 73.27939121760126, 176.18788673040578, 179.08645660468727, 506.1768875337884, 247.74228680035202, 159.85151230618098, 594.1122715070372, 307.5483493930379, 754.5484973963405, 329.7981241483291, 998.5672716717955, 526.154925678792, 45.71881751287606, 26.0111147885258, 19.736942001377045, 17.04816741885358, 15.257562621524349, 12.569581089748548, 13.46570948809126, 27.806544396776005, 12.569895822298328, 11.673377954586597, 32.41993726434296, 11.671315548432686, 9.880867576412959, 8.090033638103042, 8.090422679969903, 10.78723554352087, 7.190728394136678, 8.99483540463837, 8.099760963776106, 8.093200332996718, 27.16523064880818, 5.4019823664626685, 21.56211209695797, 5.402720855687865, 5.402716975935732, 7.1947464685774385, 26.947999504461272, 7.197747978921238, 7.197837498758334, 26.161938349249535, 133.7289205808972, 26.0749100212154, 10.788997442542241, 40.53988093009386, 18.00008889766571, 60.48828446014432, 242.41984786766557, 30.77971230974906, 36.76258213708725, 91.35339482077877, 26.488353231520637, 46.294331538385975, 69.18598445890538, 148.4214060102463, 39.90223165226854, 256.65061752168185, 123.72519583648248, 54.17301143523623, 358.62256047367225, 38.00354316546403, 422.345617810621, 52.5265242448068, 201.57923187279917, 329.7981241483291, 673.4828943240134, 300.624149807252, 288.00440131684473, 374.28983543203344, 754.5484973963405, 696.6463504787565, 761.271058738071, 998.5672716717955, 164.26539128228632, 253.37909714390804, 642.2741260383201, 604.3467174190058, 563.8064475154398, 594.1122715070372, 2055.3719696331004, 516.6892836820111, 63.06013361268609, 35.140749663263705, 11.725428932717039, 27.975271680535915, 91.9039085938366, 36.09385552854909, 7.223929415493874, 6.323430454670286, 6.322967857803597, 6.3239920898479705, 9.934402513408163, 9.034793998413, 6.325824911043682, 5.419906275116335, 5.4229044764977665, 6.326873211018023, 8.1239368911672, 6.327061216280574, 5.42321121600024, 5.422706416464233, 5.424909398160146, 37.907451672067936, 5.426278020200935, 5.423559977670486, 4.523232113570807, 4.5196494156214815, 4.522280558984709, 4.521808549138829, 4.523119414136451, 4.5214908439776575, 31.612098139049767, 49.72888994517035, 12.674292136622606, 19.901080142741932, 87.96468000765987, 41.6828016795527, 10.85981855461962, 109.56151065539993, 38.088663565607696, 60.84779955579897, 23.59065329320171, 673.4828943240134, 713.9337175064045, 21.710590815586606, 53.51092016480602, 39.13370977007983, 101.71541431589813, 249.3990440097034, 28.983747288651955, 19.244109921977895, 162.67431241466144, 82.53329495360356, 754.5484973963405, 144.42941426253805, 112.89942531446914, 75.40282504973808, 120.94960848867682, 199.92965626233527, 71.8246175215525, 998.5672716717955, 236.56609222064503, 176.63568664835745, 920.2139215615175, 2055.3719696331004, 664.2184822559325, 238.6499822521963, 177.3817519846512, 283.3572880517706], \"Category\": [\"Default\", \"Default\", \"Default\", \"Default\", \"Default\", \"Default\", \"Default\", \"Default\", \"Default\", \"Default\", \"Default\", \"Default\", \"Default\", \"Default\", \"Default\", \"Default\", \"Default\", \"Default\", \"Default\", \"Default\", \"Default\", \"Default\", \"Default\", \"Default\", \"Default\", \"Default\", \"Default\", \"Default\", \"Default\", \"Default\", \"Topic1\", \"Topic1\", \"Topic1\", \"Topic1\", \"Topic1\", \"Topic1\", \"Topic1\", \"Topic1\", \"Topic1\", \"Topic1\", \"Topic1\", \"Topic1\", \"Topic1\", \"Topic1\", \"Topic1\", \"Topic1\", \"Topic1\", \"Topic1\", \"Topic1\", \"Topic1\", \"Topic1\", \"Topic1\", \"Topic1\", \"Topic1\", \"Topic1\", \"Topic1\", \"Topic1\", \"Topic1\", \"Topic1\", \"Topic1\", \"Topic1\", \"Topic1\", \"Topic1\", \"Topic1\", \"Topic1\", \"Topic1\", \"Topic1\", \"Topic1\", \"Topic1\", \"Topic1\", \"Topic1\", \"Topic1\", \"Topic1\", \"Topic1\", \"Topic1\", \"Topic1\", \"Topic1\", \"Topic1\", \"Topic1\", \"Topic1\", \"Topic1\", \"Topic1\", \"Topic1\", \"Topic1\", \"Topic1\", \"Topic1\", \"Topic1\", \"Topic1\", \"Topic1\", \"Topic1\", \"Topic1\", \"Topic1\", \"Topic1\", \"Topic1\", \"Topic1\", \"Topic1\", \"Topic1\", \"Topic1\", \"Topic1\", \"Topic2\", \"Topic2\", \"Topic2\", \"Topic2\", \"Topic2\", \"Topic2\", \"Topic2\", \"Topic2\", \"Topic2\", \"Topic2\", \"Topic2\", \"Topic2\", \"Topic2\", \"Topic2\", \"Topic2\", \"Topic2\", \"Topic2\", \"Topic2\", \"Topic2\", \"Topic2\", \"Topic2\", \"Topic2\", \"Topic2\", \"Topic2\", \"Topic2\", \"Topic2\", \"Topic2\", \"Topic2\", \"Topic2\", \"Topic2\", \"Topic2\", \"Topic2\", \"Topic2\", \"Topic2\", \"Topic2\", \"Topic2\", \"Topic2\", \"Topic2\", \"Topic2\", \"Topic2\", \"Topic2\", \"Topic2\", \"Topic2\", \"Topic2\", \"Topic2\", \"Topic2\", \"Topic2\", \"Topic2\", \"Topic2\", \"Topic2\", \"Topic2\", \"Topic2\", \"Topic2\", \"Topic2\", \"Topic2\", \"Topic2\", \"Topic2\", \"Topic2\", \"Topic2\", \"Topic2\", \"Topic2\", \"Topic2\", \"Topic2\", \"Topic2\", \"Topic2\", \"Topic2\", \"Topic2\", \"Topic2\", \"Topic2\", \"Topic3\", \"Topic3\", \"Topic3\", \"Topic3\", \"Topic3\", \"Topic3\", \"Topic3\", \"Topic3\", \"Topic3\", \"Topic3\", \"Topic3\", \"Topic3\", \"Topic3\", \"Topic3\", \"Topic3\", \"Topic3\", \"Topic3\", \"Topic3\", \"Topic3\", \"Topic3\", \"Topic3\", \"Topic3\", \"Topic3\", \"Topic3\", \"Topic3\", \"Topic3\", \"Topic3\", \"Topic3\", \"Topic3\", \"Topic3\", \"Topic3\", \"Topic3\", \"Topic3\", \"Topic3\", \"Topic3\", \"Topic3\", \"Topic3\", \"Topic3\", \"Topic3\", \"Topic3\", \"Topic3\", \"Topic3\", \"Topic3\", \"Topic3\", \"Topic3\", \"Topic3\", \"Topic3\", \"Topic3\", \"Topic3\", \"Topic3\", \"Topic3\", \"Topic3\", \"Topic3\", \"Topic3\", \"Topic3\", \"Topic3\", \"Topic3\", \"Topic3\", \"Topic3\", \"Topic3\", \"Topic3\", \"Topic3\", \"Topic3\", \"Topic3\", \"Topic3\", \"Topic4\", \"Topic4\", \"Topic4\", \"Topic4\", \"Topic4\", \"Topic4\", \"Topic4\", \"Topic4\", \"Topic4\", \"Topic4\", \"Topic4\", \"Topic4\", \"Topic4\", \"Topic4\", \"Topic4\", \"Topic4\", \"Topic4\", \"Topic4\", \"Topic4\", \"Topic4\", \"Topic4\", \"Topic4\", \"Topic4\", \"Topic4\", \"Topic4\", \"Topic4\", \"Topic4\", \"Topic4\", \"Topic4\", \"Topic4\", \"Topic4\", \"Topic4\", \"Topic4\", \"Topic4\", \"Topic4\", \"Topic4\", \"Topic4\", \"Topic4\", \"Topic4\", \"Topic4\", \"Topic4\", \"Topic4\", \"Topic4\", \"Topic4\", \"Topic4\", \"Topic4\", \"Topic4\", \"Topic4\", \"Topic4\", \"Topic4\", \"Topic4\", \"Topic4\", \"Topic4\", \"Topic4\", \"Topic4\", \"Topic4\", \"Topic4\", \"Topic4\", \"Topic4\", \"Topic4\", \"Topic4\", \"Topic4\", \"Topic4\", \"Topic4\", \"Topic4\", \"Topic4\", \"Topic4\", \"Topic4\", \"Topic4\", \"Topic4\", \"Topic4\", \"Topic4\", \"Topic5\", \"Topic5\", \"Topic5\", \"Topic5\", \"Topic5\", \"Topic5\", \"Topic5\", \"Topic5\", \"Topic5\", \"Topic5\", \"Topic5\", \"Topic5\", \"Topic5\", \"Topic5\", \"Topic5\", \"Topic5\", \"Topic5\", \"Topic5\", \"Topic5\", \"Topic5\", \"Topic5\", \"Topic5\", \"Topic5\", \"Topic5\", \"Topic5\", \"Topic5\", \"Topic5\", \"Topic5\", \"Topic5\", \"Topic5\", \"Topic5\", \"Topic5\", \"Topic5\", \"Topic5\", \"Topic5\", \"Topic5\", \"Topic5\", \"Topic5\", \"Topic5\", \"Topic5\", \"Topic5\", \"Topic5\", \"Topic5\", \"Topic5\", \"Topic5\", \"Topic5\", \"Topic5\", \"Topic5\", \"Topic5\", \"Topic5\", \"Topic5\", \"Topic5\", \"Topic5\", \"Topic5\", \"Topic5\", \"Topic5\", \"Topic5\", \"Topic5\", \"Topic5\", \"Topic5\", \"Topic5\", \"Topic5\", \"Topic5\", \"Topic5\", \"Topic6\", \"Topic6\", \"Topic6\", \"Topic6\", \"Topic6\", \"Topic6\", \"Topic6\", \"Topic6\", \"Topic6\", \"Topic6\", \"Topic6\", \"Topic6\", \"Topic6\", \"Topic6\", \"Topic6\", \"Topic6\", \"Topic6\", \"Topic6\", \"Topic6\", \"Topic6\", \"Topic6\", \"Topic6\", \"Topic6\", \"Topic6\", \"Topic6\", \"Topic6\", \"Topic6\", \"Topic6\", \"Topic6\", \"Topic6\", \"Topic6\", \"Topic6\", \"Topic6\", \"Topic6\", \"Topic6\", \"Topic6\", \"Topic6\", \"Topic6\", \"Topic6\", \"Topic6\", \"Topic6\", \"Topic6\", \"Topic6\", \"Topic6\", \"Topic6\", \"Topic6\", \"Topic6\", \"Topic6\", \"Topic6\", \"Topic6\", \"Topic6\", \"Topic6\", \"Topic6\", \"Topic6\", \"Topic6\", \"Topic6\", \"Topic6\", \"Topic6\", \"Topic6\", \"Topic6\", \"Topic6\", \"Topic6\", \"Topic6\", \"Topic6\", \"Topic6\", \"Topic6\", \"Topic6\", \"Topic6\", \"Topic6\", \"Topic6\", \"Topic6\", \"Topic6\", \"Topic6\", \"Topic6\", \"Topic6\", \"Topic6\", \"Topic7\", \"Topic7\", \"Topic7\", \"Topic7\", \"Topic7\", \"Topic7\", \"Topic7\", \"Topic7\", \"Topic7\", \"Topic7\", \"Topic7\", \"Topic7\", \"Topic7\", \"Topic7\", \"Topic7\", \"Topic7\", \"Topic7\", \"Topic7\", \"Topic7\", \"Topic7\", \"Topic7\", \"Topic7\", \"Topic7\", \"Topic7\", \"Topic7\", \"Topic7\", \"Topic7\", \"Topic7\", \"Topic7\", \"Topic7\", \"Topic7\", \"Topic7\", \"Topic7\", \"Topic7\", \"Topic7\", \"Topic7\", \"Topic7\", \"Topic7\", \"Topic7\", \"Topic7\", \"Topic7\", \"Topic7\", \"Topic7\", \"Topic7\", \"Topic7\", \"Topic7\", \"Topic7\", \"Topic7\", \"Topic7\", \"Topic7\", \"Topic7\", \"Topic7\", \"Topic7\", \"Topic7\", \"Topic7\", \"Topic7\", \"Topic7\", \"Topic7\", \"Topic7\", \"Topic7\", \"Topic7\", \"Topic7\", \"Topic7\", \"Topic7\", \"Topic7\", \"Topic7\", \"Topic7\", \"Topic7\", \"Topic7\", \"Topic7\", \"Topic7\", \"Topic7\", \"Topic7\", \"Topic7\", \"Topic7\", \"Topic7\", \"Topic7\", \"Topic7\", \"Topic7\", \"Topic7\", \"Topic7\", \"Topic7\", \"Topic8\", \"Topic8\", \"Topic8\", \"Topic8\", \"Topic8\", \"Topic8\", \"Topic8\", \"Topic8\", \"Topic8\", \"Topic8\", \"Topic8\", \"Topic8\", \"Topic8\", \"Topic8\", \"Topic8\", \"Topic8\", \"Topic8\", \"Topic8\", \"Topic8\", \"Topic8\", \"Topic8\", \"Topic8\", \"Topic8\", \"Topic8\", \"Topic8\", \"Topic8\", \"Topic8\", \"Topic8\", \"Topic8\", \"Topic8\", \"Topic8\", \"Topic8\", \"Topic8\", \"Topic8\", \"Topic8\", \"Topic8\", \"Topic8\", \"Topic8\", \"Topic8\", \"Topic8\", \"Topic8\", \"Topic8\", \"Topic8\", \"Topic8\", \"Topic8\", \"Topic8\", \"Topic8\", \"Topic8\", \"Topic8\", \"Topic8\", \"Topic8\", \"Topic8\", \"Topic8\", \"Topic8\", \"Topic8\", \"Topic8\", \"Topic8\", \"Topic8\", \"Topic8\", \"Topic8\", \"Topic8\", \"Topic8\", \"Topic8\", \"Topic8\", \"Topic8\", \"Topic8\", \"Topic8\", \"Topic8\", \"Topic8\", \"Topic8\", \"Topic8\", \"Topic8\", \"Topic8\", \"Topic8\", \"Topic8\", \"Topic8\", \"Topic9\", \"Topic9\", \"Topic9\", \"Topic9\", \"Topic9\", \"Topic9\", \"Topic9\", \"Topic9\", \"Topic9\", \"Topic9\", \"Topic9\", \"Topic9\", \"Topic9\", \"Topic9\", \"Topic9\", \"Topic9\", \"Topic9\", \"Topic9\", \"Topic9\", \"Topic9\", \"Topic9\", \"Topic9\", \"Topic9\", \"Topic9\", \"Topic9\", \"Topic9\", \"Topic9\", \"Topic9\", \"Topic9\", \"Topic9\", \"Topic9\", \"Topic9\", \"Topic9\", \"Topic9\", \"Topic9\", \"Topic9\", \"Topic9\", \"Topic9\", \"Topic9\", \"Topic9\", \"Topic9\", \"Topic9\", \"Topic9\", \"Topic9\", \"Topic9\", \"Topic9\", \"Topic9\", \"Topic9\", \"Topic9\", \"Topic9\", \"Topic9\", \"Topic9\", \"Topic9\", \"Topic9\", \"Topic9\", \"Topic9\", \"Topic9\", \"Topic9\", \"Topic9\", \"Topic9\", \"Topic9\", \"Topic9\", \"Topic9\", \"Topic9\", \"Topic9\", \"Topic9\", \"Topic9\", \"Topic9\", \"Topic9\", \"Topic9\", \"Topic10\", \"Topic10\", \"Topic10\", \"Topic10\", \"Topic10\", \"Topic10\", \"Topic10\", \"Topic10\", \"Topic10\", \"Topic10\", \"Topic10\", \"Topic10\", \"Topic10\", \"Topic10\", \"Topic10\", \"Topic10\", \"Topic10\", \"Topic10\", \"Topic10\", \"Topic10\", \"Topic10\", \"Topic10\", \"Topic10\", \"Topic10\", \"Topic10\", \"Topic10\", \"Topic10\", \"Topic10\", \"Topic10\", \"Topic10\", \"Topic10\", \"Topic10\", \"Topic10\", \"Topic10\", \"Topic10\", \"Topic10\", \"Topic10\", \"Topic10\", \"Topic10\", \"Topic10\", \"Topic10\", \"Topic10\", \"Topic10\", \"Topic10\", \"Topic10\", \"Topic10\", \"Topic10\", \"Topic10\", \"Topic10\", \"Topic10\", \"Topic10\", \"Topic10\", \"Topic10\", \"Topic10\", \"Topic10\", \"Topic10\", \"Topic10\", \"Topic10\", \"Topic10\", \"Topic10\", \"Topic10\", \"Topic10\", \"Topic10\", \"Topic10\", \"Topic10\", \"Topic10\", \"Topic10\", \"Topic10\"], \"logprob\": [30.0, 29.0, 28.0, 27.0, 26.0, 25.0, 24.0, 23.0, 22.0, 21.0, 20.0, 19.0, 18.0, 17.0, 16.0, 15.0, 14.0, 13.0, 12.0, 11.0, 10.0, 9.0, 8.0, 7.0, 6.0, 5.0, 4.0, 3.0, 2.0, 1.0, -4.6594, -6.5567, -6.7662, -5.7883, -6.634, -4.0744, -6.4987, -7.3106, -6.6217, -7.318, -4.3305, -6.5743, -4.6452, -7.6192, -7.2728, -7.5425, -7.2746, -7.7128, -7.1667, -7.7133, -7.7144, -5.6146, -7.6312, -6.2465, -6.3824, -6.4558, -6.4583, -7.8199, -7.5588, -7.8212, -7.0373, -7.1294, -5.0876, -4.6616, -6.2533, -5.4075, -6.0759, -6.0759, -6.0645, -5.3087, -5.6636, -6.8799, -4.8659, -5.6581, -6.0988, -5.0314, -4.116, -4.981, -4.5118, -4.7252, -5.6973, -4.176, -4.6362, -4.9521, -4.9813, -4.1952, -5.5733, -4.6015, -4.5916, -4.5653, -5.2272, -5.2127, -4.7936, -4.4167, -5.0956, -5.1839, -4.9888, -5.162, -5.2247, -4.483, -4.4792, -5.2634, -7.0158, -6.9682, -7.2517, -7.3164, -7.192, -7.319, -7.195, -5.5321, -7.47, -5.8293, -7.2697, -6.3094, -5.6943, -7.6561, -7.6599, -7.5735, -4.4065, -7.5017, -7.0748, -7.8788, -6.5512, -8.0062, -6.329, -8.0105, -8.0118, -8.0143, -5.3956, -4.8468, -4.7126, -6.7028, -5.834, -5.7093, -6.6471, -4.4933, -5.1177, -3.7945, -6.2505, -5.7857, -4.6044, -4.7892, -4.6421, -3.8612, -5.6147, -4.7887, -4.3635, -5.7558, -4.8339, -5.8015, -4.6461, -5.8492, -4.344, -5.1064, -5.6716, -4.7473, -4.8787, -5.4444, -4.8724, -4.684, -5.4945, -5.2576, -5.173, -5.365, -5.1103, -5.2411, -5.2403, -5.3379, -4.8055, -6.0156, -6.2145, -6.0763, -3.8692, -6.7589, -6.6623, -6.875, -4.5497, -6.619, -7.0083, -7.0791, -7.0837, -7.0245, -7.0282, -7.345, -7.4424, -6.9165, -7.4476, -6.1723, -6.9802, -5.8097, -7.5618, -6.5941, -7.6955, -7.6967, -6.9474, -6.2882, -7.7048, -7.8416, -4.1163, -6.5737, -3.2613, -5.5791, -4.9085, -5.4976, -5.4288, -6.3198, -4.859, -4.7427, -4.773, -4.8737, -4.6738, -6.0921, -5.6175, -4.1393, -6.2093, -4.4088, -4.0184, -5.1543, -4.9288, -4.6601, -5.1721, -4.9164, -4.858, -5.4398, -4.4713, -5.6098, -4.737, -5.2625, -5.314, -5.444, -5.4558, -5.465, -5.4935, -6.3076, -5.7791, -6.9573, -7.041, -7.2442, -4.3696, -7.2487, -7.3558, -7.362, -7.3627, -7.4865, -7.4888, -7.4922, -6.8716, -7.6388, -7.6387, -7.6393, -7.6393, -7.6405, -6.7564, -7.517, -7.517, -7.4009, -7.2075, -6.6107, -6.4706, -7.6606, -7.8177, -7.8177, -7.8185, -6.5244, -5.0225, -5.1977, -6.3086, -4.494, -6.2837, -6.1967, -5.1165, -7.0058, -5.8297, -6.3536, -4.3356, -5.0389, -5.8906, -6.3166, -3.8945, -5.7356, -6.0056, -3.0886, -5.0713, -4.235, -6.0206, -5.6173, -5.2318, -4.1178, -5.224, -5.5208, -4.7258, -5.6034, -4.961, -5.045, -4.5297, -5.6307, -5.2584, -5.4888, -5.4714, -5.0768, -5.1978, -5.2212, -5.5538, -5.5074, -5.5363, -6.101, -6.2177, -6.4472, -6.3108, -6.5021, -5.4043, -6.8249, -6.1858, -7.0847, -6.925, -4.7796, -7.0961, -7.3032, -7.5872, -7.5898, -7.5901, -7.591, -7.2388, -7.4632, -7.5983, -7.6007, -7.6024, -7.7676, -7.7713, -7.7722, -6.3091, -4.8532, -7.6374, -7.9837, -7.9853, -6.1756, -4.8956, -5.0816, -4.8253, -5.3311, -5.3328, -4.4819, -5.2132, -3.6137, -4.5579, -4.5719, -4.2196, -5.4469, -4.3557, -5.04, -5.4977, -4.3313, -5.409, -4.4951, -4.0285, -4.4481, -5.1382, -5.168, -5.3227, -5.3154, -5.2633, -4.0619, -4.7581, -5.1141, -5.058, -5.0708, -5.1825, -5.3137, -5.3177, -7.0554, -7.0625, -6.8961, -6.175, -7.4112, -4.5776, -7.1892, -6.9272, -5.2218, -7.5634, -7.5659, -6.4755, -7.5835, -7.7382, -7.7455, -7.7458, -7.7526, -7.7576, -5.1752, -7.9551, -7.9555, -7.9558, -7.9557, -7.9563, -7.9572, -7.9568, -7.9584, -7.0844, -7.9598, -7.9605, -4.8047, -7.093, -7.2747, -6.0974, -7.2792, -7.2817, -6.454, -6.9694, -6.008, -6.4397, -6.0808, -6.7221, -6.7215, -6.4587, -4.5926, -4.9949, -5.4289, -5.3962, -5.7614, -5.0559, -6.5266, -4.6373, -4.8592, -5.3007, -5.0762, -4.5338, -3.4638, -4.7839, -5.2733, -4.7891, -6.1453, -5.1457, -4.7646, -5.3708, -4.7192, -6.0626, -4.887, -4.7224, -5.9094, -5.1359, -5.1839, -5.3358, -5.1545, -5.337, -5.2469, -5.2939, -6.917, -6.9284, -7.0296, -7.2328, -7.234, -6.955, -7.3659, -7.1441, -7.3712, -7.5161, -7.3829, -7.5192, -7.5189, -7.3897, -7.5321, -7.6963, -7.6983, -7.7019, -7.9144, -7.9143, -7.9151, -7.7362, -7.9223, -7.2312, -7.0469, -7.743, -7.9282, -7.7521, -7.6042, -7.2717, -6.7217, -6.2841, -6.7807, -6.9138, -6.0614, -7.3849, -5.6112, -5.553, -5.7573, -5.3692, -7.0564, -5.2696, -6.1896, -6.6346, -6.4162, -5.8289, -7.0322, -7.0423, -5.8167, -4.6843, -4.5547, -5.2318, -5.346, -5.9318, -6.2173, -5.4653, -5.9001, -5.9807, -4.667, -5.0036, -5.5581, -5.4302, -5.1351, -5.2804, -5.3416, -4.8491, -5.1883, -5.0451, -5.6149, -5.2358, -5.0466, -5.1259, -4.5979, -5.2138, -5.1564, -5.2006, -5.322, -5.2627, -5.4541, -5.5435, -5.4184, -5.4806, -4.6068, -5.5836, -4.6088, -6.3788, -6.7004, -6.7062, -6.3548, -5.9918, -6.8763, -6.9679, -6.1466, -7.0687, -7.186, -7.3218, -6.918, -7.3235, -7.0062, -6.8391, -6.0035, -6.4636, -7.4651, -7.4669, -7.468, -7.4689, -7.4692, -7.4696, -7.4763, -7.6473, -7.4938, -7.6486, -6.8829, -5.1455, -6.8124, -5.5675, -5.6921, -5.1257, -6.2712, -6.0255, -6.6461, -6.1866, -4.6895, -5.444, -5.1542, -5.7087, -4.9915, -6.5065, -4.9878, -4.8099, -6.1314, -4.7487, -6.3822, -4.6036, -5.8187, -3.167, -3.9651, -5.2383, -5.4664, -5.4729, -4.4306, -5.2621, -5.5412, -5.1083, -4.631, -4.717, -5.6075, -5.2099, -5.2311, -4.8226, -5.1073, -5.2843, -5.0208, -5.2216, -5.1569, -5.304, -5.1731, -5.2737, -5.2837, -5.874, -6.1502, -6.2995, -6.4174, -6.623, -6.5552, -5.8339, -6.6279, -6.7025, -5.6873, -6.7115, -6.8843, -7.103, -7.1063, -6.8199, -7.2358, -7.0231, -7.1338, -7.1383, -5.9423, -7.5662, -6.1831, -7.569, -7.569, -7.2847, -5.9733, -7.2949, -7.2959, -6.0104, -4.394, -6.0277, -6.8965, -5.6386, -6.427, -5.3084, -4.1118, -5.965, -5.8468, -5.1294, -6.1867, -5.7621, -5.5099, -4.9574, -5.9409, -4.8536, -5.3284, -5.8197, -4.8969, -6.0495, -4.8485, -5.8889, -5.2633, -5.0533, -4.7599, -5.1636, -5.2085, -5.1214, -4.9123, -4.9528, -5.0472, -4.9894, -5.5281, -5.4249, -5.2894, -5.354, -5.3738, -5.4877, -5.4483, -5.6009, -4.832, -5.4381, -6.5418, -5.6802, -4.4946, -5.4424, -7.0662, -7.217, -7.2189, -7.2191, -6.7758, -6.8732, -7.2355, -7.3957, -7.3963, -7.2453, -6.9958, -7.2466, -7.4046, -7.4048, -7.4093, -5.4679, -7.4152, -7.4301, -7.613, -7.614, -7.6139, -7.6146, -7.6148, -7.616, -5.6926, -5.2729, -6.6139, -6.1826, -4.8196, -5.6155, -6.8293, -4.846, -5.8131, -5.4739, -6.2487, -3.6532, -3.6516, -6.3288, -5.6631, -5.8997, -5.2615, -4.6586, -6.1566, -6.4466, -5.0554, -5.5159, -4.2095, -5.2374, -5.456, -5.6823, -5.4393, -5.3392, -5.8173, -4.8733, -5.4435, -5.5506, -5.1669, -5.054, -5.4572, -5.585, -5.6137, -5.6399], \"loglift\": [30.0, 29.0, 28.0, 27.0, 26.0, 25.0, 24.0, 23.0, 22.0, 21.0, 20.0, 19.0, 18.0, 17.0, 16.0, 15.0, 14.0, 13.0, 12.0, 11.0, 10.0, 9.0, 8.0, 7.0, 6.0, 5.0, 4.0, 3.0, 2.0, 1.0, 1.7589, 1.7455, 1.7369, 1.7339, 1.7314, 1.7281, 1.7177, 1.7163, 1.7121, 1.7092, 1.707, 1.6997, 1.6993, 1.6961, 1.6948, 1.6929, 1.6927, 1.6898, 1.6892, 1.6892, 1.6883, 1.6859, 1.6839, 1.6826, 1.6807, 1.6806, 1.68, 1.6784, 1.6778, 1.6772, 1.6732, 1.6732, 1.652, 1.6303, 1.6566, 1.6327, 1.6477, 1.6476, 1.6423, 1.6029, 1.5964, 1.6641, 1.4814, 1.5399, 1.5776, 1.4416, 1.3177, 1.4138, 1.3211, 1.2435, 1.4847, 1.0717, 1.1671, 1.2458, 1.1755, 0.7265, 1.312, 0.7577, 0.7506, 0.5549, 0.9761, 0.8869, 0.3177, -0.2986, 0.6053, 0.6374, -0.1488, 0.2496, 0.2947, 1.7875, 1.7872, 1.7659, 1.7545, 1.7533, 1.7426, 1.7424, 1.7418, 1.74, 1.7389, 1.7364, 1.7325, 1.7318, 1.7256, 1.7223, 1.7189, 1.7159, 1.7114, 1.7109, 1.7085, 1.7032, 1.6996, 1.6942, 1.6924, 1.6853, 1.6813, 1.6812, 1.68, 1.6779, 1.6765, 1.6599, 1.6557, 1.6687, 1.6506, 1.635, 1.6606, 1.5471, 1.5727, 1.4868, 1.6347, 1.594, 1.486, 1.4862, 1.4413, 1.3389, 1.541, 1.4099, 1.337, 1.5382, 1.3775, 1.517, 1.2491, 1.5224, 0.8899, 1.1649, 1.4232, 0.7515, 0.7871, 1.1936, 0.5392, 0.156, 1.1385, 0.6292, 0.4095, 0.7808, 0.0099, 0.3323, 0.1937, 0.5261, 2.1622, 2.1486, 2.1474, 2.1401, 2.1283, 2.1243, 2.1208, 2.1193, 2.1191, 2.118, 2.1112, 2.1094, 2.1048, 2.0957, 2.0921, 2.0848, 2.0825, 2.078, 2.0773, 2.0735, 2.0733, 2.0686, 2.0686, 2.0566, 2.0528, 2.0514, 2.0451, 2.0441, 2.043, 2.0399, 2.0339, 2.0326, 1.9798, 1.9862, 1.8853, 1.899, 1.8467, 1.9528, 1.7202, 1.6768, 1.6811, 1.6162, 1.5535, 1.8855, 1.7287, 1.2947, 1.8809, 1.0901, 0.9033, 1.3529, 1.217, 1.0408, 1.3134, 1.154, 1.0979, 1.4131, 0.3687, 1.2196, -0.6189, 0.4034, -0.2026, 0.1294, -0.022, 0.036, -0.1514, 2.3553, 2.3483, 2.318, 2.3143, 2.2931, 2.2892, 2.2888, 2.287, 2.2804, 2.2799, 2.2736, 2.2713, 2.2679, 2.2599, 2.2547, 2.2547, 2.2541, 2.254, 2.253, 2.2498, 2.2433, 2.2427, 2.242, 2.2353, 2.2335, 2.2331, 2.2324, 2.2299, 2.2295, 2.2288, 2.2243, 2.1918, 2.1332, 2.1649, 2.0415, 2.154, 2.1435, 2.0385, 2.1925, 2.0746, 2.1184, 1.8606, 1.9122, 2.033, 2.0901, 1.5862, 1.837, 1.9027, 1.0295, 1.594, 1.3178, 1.8869, 1.736, 1.5627, 1.0577, 1.4631, 1.514, 0.9592, 1.4742, 0.8603, 0.9029, 0.3103, 1.4207, 0.994, 1.1427, 0.8736, 0.0346, 0.1444, -0.2995, 0.7602, 0.0929, 0.0999, 2.3857, 2.3823, 2.3761, 2.3727, 2.3725, 2.3705, 2.3553, 2.3384, 2.3368, 2.3299, 2.3282, 2.3256, 2.319, 2.2867, 2.2847, 2.2839, 2.283, 2.2793, 2.277, 2.2758, 2.2731, 2.2721, 2.2614, 2.2575, 2.2569, 2.2546, 2.239, 2.2373, 2.227, 2.2262, 2.2151, 2.2009, 2.1936, 2.1857, 2.1937, 2.1848, 2.1315, 2.1531, 2.0225, 2.0761, 2.0504, 1.9858, 2.0965, 1.9679, 2.0133, 2.0572, 1.8564, 1.9284, 1.5226, 1.0829, 1.1522, 1.5292, 1.4762, 1.4718, 1.4509, 1.3682, 0.0562, 0.7408, 1.0891, 0.8373, 0.4302, 0.8879, -0.1382, 0.6489, 2.3856, 2.3787, 2.3776, 2.3685, 2.3487, 2.3484, 2.3475, 2.3469, 2.3394, 2.3288, 2.3271, 2.3181, 2.3083, 2.3078, 2.3011, 2.3002, 2.2931, 2.2885, 2.2797, 2.2727, 2.2726, 2.2721, 2.2721, 2.2717, 2.2714, 2.271, 2.2694, 2.2691, 2.2685, 2.2679, 2.2439, 2.2622, 2.2628, 2.2434, 2.256, 2.2538, 2.204, 2.2285, 2.1655, 2.177, 2.1414, 2.1746, 2.1696, 2.1188, 1.7912, 1.777, 1.8391, 1.7306, 1.8309, 1.6162, 2.0343, 1.3873, 1.3933, 1.5605, 1.4313, 1.1513, 0.6543, 1.2612, 1.4721, 1.1669, 1.8368, 1.1683, 0.8357, 1.1973, 0.6229, 1.7608, 0.3542, 0.1176, 1.546, 0.3835, 0.4523, 0.5427, -0.0432, 0.1639, -0.1267, -0.0462, 2.423, 2.4118, 2.3976, 2.3948, 2.3942, 2.3845, 2.3795, 2.3783, 2.375, 2.3636, 2.363, 2.3607, 2.3598, 2.3557, 2.3473, 2.3369, 2.3352, 2.3314, 2.3024, 2.3024, 2.3017, 2.2974, 2.2945, 2.2934, 2.2925, 2.2915, 2.2892, 2.2835, 2.2745, 2.2552, 2.2128, 2.1722, 2.2079, 2.2042, 2.1163, 2.2457, 2.0462, 2.0318, 2.0518, 1.9691, 2.1995, 1.7978, 1.9975, 2.0159, 1.9092, 1.6434, 2.1548, 2.1498, 1.5612, 1.0007, 0.8046, 1.163, 1.2124, 1.556, 1.6646, 1.1727, 1.4479, 1.4504, 0.4532, 0.6622, 1.1143, 1.0083, 0.7433, 0.8192, 0.8617, 0.351, 0.6757, 0.4744, 1.049, 0.5971, 0.365, 0.4474, -0.4798, 0.3688, 0.1249, -0.0893, -0.0881, -0.4227, -0.1119, 0.5168, -0.4967, -0.0466, 2.535, 2.5267, 2.5153, 2.5007, 2.4844, 2.479, 2.4728, 2.465, 2.4627, 2.4586, 2.4556, 2.4529, 2.4408, 2.4227, 2.4219, 2.4215, 2.4204, 2.4203, 2.4195, 2.4149, 2.4131, 2.4123, 2.4104, 2.4092, 2.4089, 2.4087, 2.4021, 2.385, 2.3848, 2.3837, 2.3774, 2.3438, 2.3752, 2.3277, 2.3223, 2.2831, 2.3352, 2.302, 2.345, 2.3043, 2.1378, 2.2041, 2.1642, 2.2062, 2.0599, 2.3211, 1.9874, 1.9003, 2.2258, 1.8556, 2.2665, 1.5927, 2.0414, 0.9511, 1.2105, 1.7616, 1.8634, 1.8455, 1.0704, 1.6408, 1.8377, 1.4639, 0.9217, 0.8655, 1.8446, 1.3648, 1.3274, 0.6968, 1.1266, 1.3878, 0.3385, 0.7961, -0.0367, 0.6438, -0.3331, 0.2071, 2.6401, 2.6138, 2.6136, 2.6108, 2.6038, 2.5921, 2.591, 2.5872, 2.5871, 2.5865, 2.5803, 2.5777, 2.5714, 2.5526, 2.5493, 2.548, 2.5377, 2.5265, 2.5207, 2.517, 2.5021, 2.4933, 2.4923, 2.4904, 2.4904, 2.4883, 2.4791, 2.4776, 2.4767, 2.4716, 2.4565, 2.4577, 2.4713, 2.4054, 2.429, 2.3354, 2.1438, 2.3545, 2.295, 2.1021, 2.2829, 2.1492, 1.9996, 1.7888, 2.119, 1.345, 1.5999, 1.9344, 0.9672, 2.0592, 0.852, 1.8961, 1.1769, 0.8945, 0.4739, 0.8768, 0.8748, 0.6999, 0.2079, 0.2473, 0.0641, -0.1494, 1.1167, 0.7865, -0.0081, -0.0119, 0.0378, -0.1285, -1.3302, -0.102, 2.7702, 2.7489, 2.7427, 2.7348, 2.731, 2.7178, 2.7027, 2.685, 2.6832, 2.6828, 2.6745, 2.672, 2.6661, 2.6605, 2.6593, 2.6562, 2.6557, 2.6549, 2.6511, 2.6509, 2.646, 2.6433, 2.6398, 2.6254, 2.6241, 2.6239, 2.6234, 2.6228, 2.6224, 2.6215, 2.6002, 2.5668, 2.5928, 2.573, 2.4497, 2.4008, 2.532, 2.2038, 2.2933, 2.1641, 2.3368, 1.5807, 1.5239, 2.3398, 2.1033, 2.1797, 1.8627, 1.5687, 2.223, 2.3425, 1.5991, 1.8172, 0.9107, 1.5361, 1.5638, 1.7412, 1.5117, 1.1091, 1.6548, -0.0333, 0.8366, 1.0216, -0.2452, -0.9359, -0.2095, 0.6864, 0.9543, 0.4597]}, \"token.table\": {\"Topic\": [1, 2, 3, 4, 5, 6, 7, 8, 9, 10, 7, 8, 8, 7, 9, 7, 9, 1, 2, 3, 4, 5, 6, 7, 8, 9, 10, 1, 7, 2, 3, 4, 9, 6, 1, 3, 2, 1, 4, 5, 8, 3, 1, 2, 3, 4, 5, 6, 7, 1, 2, 3, 4, 5, 6, 7, 8, 9, 10, 3, 4, 10, 1, 2, 3, 4, 5, 6, 7, 8, 9, 10, 8, 2, 3, 4, 6, 7, 9, 7, 3, 4, 9, 4, 3, 4, 7, 8, 9, 3, 1, 2, 3, 4, 6, 7, 8, 9, 10, 1, 1, 2, 3, 4, 5, 6, 7, 9, 10, 4, 6, 5, 1, 5, 7, 10, 8, 6, 4, 7, 6, 1, 2, 3, 4, 5, 6, 7, 8, 9, 10, 4, 10, 1, 3, 4, 5, 6, 7, 9, 1, 3, 4, 7, 8, 10, 10, 8, 4, 10, 9, 6, 2, 3, 4, 6, 7, 8, 9, 10, 1, 2, 3, 4, 5, 6, 7, 10, 8, 7, 3, 4, 8, 9, 10, 2, 6, 9, 2, 6, 7, 8, 5, 1, 2, 3, 4, 5, 6, 7, 8, 1, 3, 7, 8, 1, 2, 3, 4, 5, 6, 7, 9, 1, 7, 3, 4, 5, 6, 7, 10, 6, 7, 1, 2, 3, 4, 5, 6, 7, 9, 10, 3, 4, 5, 6, 10, 2, 4, 7, 8, 10, 1, 3, 8, 1, 2, 3, 5, 6, 7, 8, 10, 5, 1, 4, 1, 3, 7, 8, 1, 4, 4, 4, 2, 3, 5, 7, 9, 10, 2, 3, 5, 6, 7, 9, 8, 6, 2, 2, 3, 4, 6, 9, 1, 2, 3, 4, 5, 6, 7, 8, 9, 10, 2, 6, 7, 9, 1, 2, 3, 6, 7, 9, 10, 1, 2, 3, 4, 6, 7, 9, 10, 4, 6, 7, 10, 1, 3, 4, 5, 8, 9, 2, 1, 2, 3, 4, 5, 6, 7, 8, 10, 1, 2, 3, 4, 5, 6, 7, 9, 10, 2, 4, 5, 6, 9, 4, 5, 6, 7, 9, 9, 1, 3, 7, 4, 1, 2, 3, 5, 6, 7, 9, 10, 2, 1, 2, 3, 4, 5, 6, 7, 8, 9, 10, 5, 7, 1, 2, 3, 5, 6, 7, 10, 1, 2, 3, 4, 5, 6, 7, 9, 1, 2, 3, 4, 5, 7, 9, 10, 3, 5, 6, 7, 8, 2, 3, 5, 9, 3, 4, 6, 9, 4, 6, 1, 1, 3, 5, 6, 7, 3, 4, 5, 6, 8, 9, 2, 3, 6, 6, 1, 2, 3, 4, 5, 6, 7, 8, 9, 10, 4, 7, 1, 2, 3, 5, 6, 7, 8, 9, 10, 1, 2, 3, 4, 5, 6, 9, 10, 4, 10, 5, 1, 9, 2, 2, 3, 4, 5, 6, 7, 9, 10, 1, 2, 3, 4, 5, 6, 7, 8, 9, 1, 4, 7, 5, 6, 6, 3, 5, 6, 7, 10, 2, 8, 4, 5, 6, 9, 10, 10, 2, 3, 4, 5, 6, 7, 9, 2, 3, 6, 2, 3, 5, 6, 7, 1, 2, 3, 4, 5, 7, 9, 2, 5, 7, 8, 9, 10, 5, 2, 7, 9, 3, 2, 4, 5, 6, 9, 10, 1, 2, 3, 4, 5, 6, 7, 8, 9, 1, 2, 3, 4, 5, 6, 7, 8, 9, 6, 9, 1, 2, 3, 4, 5, 6, 7, 8, 9, 6, 7, 2, 9, 10, 1, 8, 4, 5, 6, 7, 3, 4, 5, 7, 9, 10, 2, 4, 5, 8, 9, 7, 10, 10, 2, 9, 2, 4, 6, 7, 9, 7, 10, 2, 1, 2, 3, 4, 5, 6, 7, 8, 9, 10, 1, 2, 4, 5, 6, 7, 10, 1, 2, 3, 5, 6, 7, 8, 9, 10, 2, 3, 4, 6, 7, 9, 1, 3, 4, 5, 6, 7, 8, 9, 10, 1, 4, 5, 6, 7, 8, 1, 3, 4, 5, 7, 5, 2, 6, 7, 9, 10, 1, 7, 1, 7, 2, 4, 6, 7, 10, 6, 2, 1, 2, 3, 4, 5, 6, 7, 9, 10, 4, 9, 1, 2, 3, 5, 6, 9, 1, 3, 4, 5, 6, 7, 8, 9, 10, 4, 8, 1, 2, 3, 4, 6, 7, 8, 9, 2, 3, 4, 5, 6, 7, 8, 9, 10, 1, 6, 8, 9, 7, 3, 4, 5, 8, 9, 10, 6, 8, 9, 1, 4, 5, 6, 7, 8, 9, 9, 7, 9, 10, 1, 6, 2, 1, 2, 3, 4, 5, 6, 7, 8, 9, 10, 3, 8, 1, 2, 3, 4, 5, 6, 7, 8, 9, 10, 10, 1, 2, 3, 4, 5, 6, 7, 8, 9, 10, 7, 1, 2, 3, 4, 5, 6, 7, 8, 9, 10, 4, 10, 1, 2, 3, 4, 5, 6, 7, 8, 9, 10, 1, 4, 5, 6, 7, 9, 2, 5, 8, 10, 4, 1, 2, 3, 4, 5, 6, 7, 8, 9, 10, 4, 7, 1, 4, 5, 7, 3, 1, 2, 4, 5, 6, 7, 8, 9, 10, 8, 6, 7, 1, 2, 3, 4, 5, 6, 7, 8, 9, 10, 1, 3, 5, 6, 7, 8, 10, 1, 2, 3, 4, 5, 6, 7, 8, 9, 10, 1, 10, 3, 5, 6, 7, 9, 1, 2, 5, 6, 8, 10, 1, 2, 3, 4, 5, 6, 7, 8, 9, 10, 2, 3, 4, 5, 7, 9, 10, 4, 7, 10, 2, 9, 3, 8, 3, 1, 2, 4, 8, 9, 10, 4, 8, 2, 3, 4, 5, 6, 7, 8, 9, 10, 1, 3, 2, 3, 4, 6, 4, 6, 8, 1, 2, 3, 6, 7, 9, 10, 10, 3, 9, 3, 5, 6, 7, 10, 2, 1, 3, 4, 5, 6, 8, 10, 10, 1, 1, 2, 3, 5, 8, 9, 10, 1, 5, 10, 1, 2, 7, 8, 10, 10, 1, 2, 4, 6, 7, 8, 10, 8, 2, 4, 7, 9, 10, 7, 8, 2, 5, 6, 7, 8, 9, 1, 6, 7, 8, 6, 1, 2, 3, 4, 5, 6, 7, 8, 9, 10, 1, 1, 2, 3, 4, 5, 6, 7, 8, 9, 1, 4, 5, 6, 7, 8, 9, 10, 1, 7, 8, 1, 4, 7, 5, 10, 1, 2, 3, 4, 5, 7, 8, 9, 10, 4, 10, 6, 4, 6, 7, 3, 8, 7, 1, 4, 7, 9, 10, 3, 8, 1, 2, 3, 4, 5, 6, 7, 8, 9, 10, 1, 4, 5, 7, 8, 1, 2, 4, 6, 8, 3, 4, 6, 8, 9, 10, 6, 10, 7, 1, 2, 3, 4, 5, 6, 7, 8, 9, 10, 1, 2, 3, 6, 7, 8, 10, 2, 6, 9, 9, 1, 2, 3, 4, 5, 6, 7, 8, 9, 10, 9, 2, 3, 4, 6, 7, 9, 1, 2, 3, 4, 5, 6, 7, 8, 9, 10, 1, 2, 3, 4, 5, 6, 7, 8, 9, 10, 2, 9, 2, 3, 4, 5, 6, 7, 9, 10, 1, 2, 3, 4, 5, 6, 7, 8, 9, 10, 3, 10, 3, 2, 4, 6, 1, 2, 3, 4, 5, 6, 7, 8, 9, 10, 9, 10, 1, 2, 3, 4, 5, 6, 7, 8, 9, 10, 5, 9, 1, 3, 4, 5, 6, 9, 10, 9, 4, 8, 10, 1, 3, 4, 6, 7, 8, 9, 10, 1, 1, 3, 5, 6, 8, 6, 1, 8, 9, 5, 2, 2, 1, 2, 3, 4, 5, 6, 7, 8, 9, 10, 1, 2, 3, 4, 5, 6, 7, 8, 9, 10, 1, 2, 3, 4, 5, 7, 8, 7, 4, 6, 8, 7, 6, 9, 3, 8, 1, 3, 9, 10, 1, 4, 6, 7, 10, 3, 3, 1, 2, 3, 4, 5, 6, 7, 8, 9, 10, 4, 8, 6, 7, 7, 4, 5, 5, 4, 8, 4, 7, 1, 2, 4, 5, 6, 7, 8, 9, 10, 1, 4, 10, 2, 6, 8, 10, 2, 3, 7, 9, 10, 5, 2, 9, 1, 2, 3, 4, 5, 6, 7, 8, 9, 10, 1, 2, 3, 4, 5, 6, 7, 8, 9, 1, 2, 3, 4, 5, 6, 7, 8, 9, 10, 1, 2, 3, 4, 5, 6, 7, 8, 9, 10, 1, 2, 3, 5, 6, 7, 8, 9, 10, 3, 6, 1, 2, 4, 5, 6, 8, 9, 10, 1, 4, 5, 6, 7, 8, 10, 9, 1, 2, 3, 5, 6, 7, 9, 10, 1, 2, 5, 6, 10, 2, 3, 9, 10, 3, 4, 7, 9, 10, 1, 4, 6, 7, 9, 10, 2, 7, 9, 1, 4, 9, 10, 9, 1, 2, 3, 4, 5, 6, 7, 8, 10, 1, 6, 5, 4, 6, 8, 6, 6, 3, 7, 1, 4, 5, 7, 8, 6, 8, 2, 9, 4, 2, 2, 3, 4, 5, 6, 7, 8, 9, 10, 3, 4, 6, 7, 1, 3, 4, 5, 6, 7, 9, 10, 5, 1, 3, 7, 8, 3, 10, 1, 2, 3, 4, 5, 6, 7, 8, 9, 10, 1, 4, 6, 7, 9, 3, 4, 5, 6, 7, 4, 5, 8, 4, 6, 10, 1, 2, 3, 4, 5, 6, 7, 8, 9, 10, 1, 6, 7, 8, 9, 10, 6, 5, 2, 3, 6, 7, 9, 8, 4, 5, 8, 3, 4, 5, 7, 10, 1, 2, 3, 6, 7, 10, 3, 4, 10, 1, 3, 4, 6, 8, 9, 10, 10, 5, 1, 2, 3, 4, 5, 6, 7, 8, 9, 10, 2, 3, 4, 5, 6, 7, 9, 10, 2, 4, 5, 6, 7, 8, 9, 8, 9, 1, 3, 2, 1, 1, 7, 1, 7, 2, 7, 9, 1, 1, 2, 4, 5, 6, 7, 8, 9, 10, 4, 7, 5, 1, 2, 3, 6, 7, 1, 10, 1, 5, 7, 4, 9, 4, 1, 2, 5, 1, 2, 4, 5, 6, 7, 1, 2, 3, 5, 6, 7, 8, 9, 10, 2, 6, 8, 9, 2, 3, 4, 5, 6, 7, 9, 2, 3, 4, 5, 6, 7, 9, 5, 1, 10, 7, 4, 7, 10, 7, 6, 4, 5, 6, 1, 7, 2, 9, 7, 8, 5, 6, 8, 4, 5, 1, 2, 3, 4, 5, 6, 7, 8, 9, 10, 1, 2, 3, 4, 5, 6, 7, 9, 10, 2, 9, 2, 9, 10, 6, 1, 3, 4, 5, 7, 8, 3, 5, 6, 10, 4, 2, 4, 6, 4, 6, 7, 9, 1, 2, 3, 4, 5, 6, 7, 8, 9, 10, 2, 4, 9, 10, 8, 10, 2, 6, 2, 3, 4, 5, 6, 7, 10, 4, 5, 6, 7, 8, 8, 1, 2, 3, 4, 5, 6, 7, 8, 9, 3, 4, 6, 7, 8, 9, 1, 3, 5, 10, 2, 3, 4, 6, 7, 8, 6, 7, 2, 3, 4, 5, 6, 7, 9, 5, 1, 2, 3, 4, 5, 6, 7, 8, 9, 10, 1, 3, 4, 5, 7, 8, 9, 10, 2, 9, 1, 4, 6, 7, 8, 9, 10, 1, 4, 7, 8, 7, 6, 9, 10, 3, 6, 3, 5, 5, 5, 1, 2, 1, 2, 3, 4, 5, 6, 7, 8, 9, 1, 2, 3, 4, 5, 6, 7, 8, 9, 10, 1, 3, 6, 1, 3, 5, 6, 1, 2, 3, 4, 5, 6, 7, 9, 10, 1, 2, 3, 6, 7, 8, 9, 10, 5, 6, 1, 2, 3, 4, 5, 6, 7, 8, 9, 10, 2, 9, 1, 4, 5, 6, 7, 9, 1, 2, 3, 4, 5, 6, 7, 8, 9, 10, 3, 9, 7, 8, 9, 1, 3, 7, 1, 3, 5, 6, 7, 6, 5, 6, 8, 4, 6, 2, 7, 1, 9, 1, 2, 3, 4, 5, 6, 7, 8, 9, 10, 9, 8, 1, 2, 3, 4, 5, 6, 7, 8, 9, 10, 4, 10, 5, 7, 1, 2, 3, 4, 5, 6, 7, 8, 9, 10, 1, 2, 6, 7, 10, 7, 1, 2, 3, 4, 5, 6, 7, 8, 9, 10, 1, 3, 4, 5, 6, 7, 8, 10, 4, 5, 6, 8, 9, 10, 1, 2, 3, 4, 5, 6, 7, 9, 10, 1, 2, 3, 4, 5, 6, 7, 9, 1, 3, 5, 6, 7, 8, 3, 5, 7, 10, 4, 4, 7, 4, 1, 3, 4, 4, 4, 1, 2, 3, 4, 5, 6, 7, 8, 9, 10, 1, 2, 3, 5, 6, 7, 8, 9, 10, 5, 6, 7, 10, 7, 6, 8, 1, 2, 3, 4, 5, 6, 7, 8, 9, 10, 10, 1, 4, 7, 3, 1, 6, 7, 10, 6, 1, 2, 3, 4, 5, 6, 7, 8, 9, 10, 5, 5, 10, 4, 5, 6, 7, 4, 5, 10, 5, 3, 1, 6, 8, 10, 3, 4, 7, 9, 3, 7, 9, 2, 3, 4, 5, 6, 7, 8, 10, 4, 5, 6, 7, 1, 2, 3, 5, 6, 7, 9, 8, 1, 2, 3, 4, 5, 6, 7, 8, 9, 10, 1, 3, 4, 5, 7, 8, 9, 10, 6, 9, 2, 1, 2, 3, 4, 5, 6, 7, 8, 9, 10, 1, 4, 6, 9, 4, 5, 8, 10, 2, 3, 4, 5, 7, 8, 9, 4, 8, 3, 4, 5, 6, 8, 9, 2, 10, 1, 2, 3, 4, 5, 6, 7, 9, 10, 1, 3, 5, 8, 2, 3, 4, 6, 1, 2, 3, 4, 6, 7, 8, 9, 10, 1, 3, 4, 5, 6, 7, 8, 9, 10, 8, 1, 2, 3, 4, 5, 6, 7, 8, 9, 10, 1, 3, 4, 1, 2, 3, 4, 5, 6, 7, 8, 9, 10, 4, 1, 7, 8, 5, 7, 1, 2, 3, 4, 5, 6, 7, 8, 9, 10, 8], \"Freq\": [0.005637558479445675, 0.06201314327390242, 0.01127511695889135, 0.23677745613671833, 0.005637558479445675, 0.27624036549283804, 0.0676507017533481, 0.09583849415057646, 0.07892581871223944, 0.15221407894503322, 0.07206532964224471, 0.8647839557069367, 0.9668921421566092, 0.8665155462689744, 0.8339418249419335, 0.7607495228432696, 0.10867850326332423, 0.2750967566704182, 0.2550897198216605, 0.030010555273136532, 0.045015832909704796, 0.010003518424378844, 0.10503694345597786, 0.060021110546273064, 0.035012314485325956, 0.010003518424378844, 0.18006333163881919, 0.9198403860630164, 0.05410825800370685, 0.04320183343270991, 0.3240137507453243, 0.021600916716354956, 0.6048256680579387, 0.8761789546598501, 0.9444668787413883, 0.05555687522008167, 0.8974412559847794, 0.014571556753594363, 0.11657245402875491, 0.7868640646940956, 0.08742934052156619, 0.9830157053537038, 0.8954420257712549, 0.05267306033948558, 0.0152200237778291, 0.0152200237778291, 0.09132014266697461, 0.8675413553362588, 0.0152200237778291, 0.14064298629254998, 0.0057017426875358105, 0.08362555941719188, 0.44473592962779324, 0.10073078747979931, 0.04181277970859594, 0.03421045612521486, 0.09502904479226351, 0.02470755164598851, 0.026608132541833782, 0.10635566407993192, 0.7444896485595235, 0.10635566407993192, 0.3206071569148732, 0.05076279984485492, 0.07748006292109434, 0.21640983091753938, 0.029388989383863372, 0.005343452615247886, 0.05076279984485492, 0.06144970507535069, 0.141601494304069, 0.04809107353723097, 0.9006714223229308, 0.7689652718485769, 0.03495296690220804, 0.011650988967402682, 0.023301977934805363, 0.023301977934805363, 0.13981186760883216, 0.8112900726621856, 0.9372311653438257, 0.09275529182886329, 0.8347976264597696, 0.7836077731873773, 0.04516043841168904, 0.09032087682337808, 0.04516043841168904, 0.7677274529987137, 0.04516043841168904, 0.929802392214168, 0.15987434210804774, 0.04919210526401469, 0.03689407894801102, 0.09838421052802938, 0.024596052632007346, 0.34434473684810285, 0.08608618421202571, 0.06149013158001836, 0.12298026316003673, 0.8931939833387862, 0.12121282718392219, 0.3613514470765982, 0.1692405511624574, 0.013722206851010058, 0.1006295169074071, 0.025157379226851774, 0.15780537878661569, 0.03430551712752515, 0.013722206851010058, 0.8541886113001259, 0.8761560258427676, 0.9107070224505479, 0.19609326575402872, 0.13072884383601915, 0.5555975863030814, 0.09804663287701436, 0.9266419809481551, 0.8975062165225087, 0.9153195494949062, 0.8666217445849068, 0.9131364824875624, 0.23250588337537212, 0.057798072703482334, 0.09195147930099462, 0.09457866442388019, 0.26140491972711327, 0.0801291462480096, 0.07487477600223848, 0.015763110737313363, 0.07487477600223848, 0.017076703298756143, 0.02845699108819538, 0.9106237148222521, 0.017697193422992752, 0.09438503158929468, 0.02359625789732367, 0.7432821237656956, 0.053091580268978256, 0.011798128948661835, 0.053091580268978256, 0.92870600658877, 0.009016563170764758, 0.004508281585382379, 0.05409937902458855, 0.11068320984138146, 0.8854656787310516, 0.7902797848537062, 0.9751778885062584, 0.03171575899733982, 0.9356148904215247, 0.9546857539895992, 0.8764464938211487, 0.2456657235739322, 0.025413695542130917, 0.04235615923688486, 0.008471231847376973, 0.05929862293163881, 0.5675725337742572, 0.03388492738950789, 0.008471231847376973, 0.002991336707034754, 0.001495668353517377, 0.8181305893740052, 0.002991336707034754, 0.04786138731255606, 0.11965346828139015, 0.001495668353517377, 0.002991336707034754, 0.9265105892854001, 0.8654742077140671, 0.9295947275422416, 0.2990043892110671, 0.16818996893122526, 0.037375548651383386, 0.48588213246798406, 0.18876220640436397, 0.07550488256174559, 0.6795439430557103, 0.0745027855000459, 0.18625696375011475, 0.707776462250436, 0.9265914282550842, 0.8802414158202904, 0.21094140958792282, 0.005701119178051967, 0.6328242287637684, 0.017103357534155903, 0.005701119178051967, 0.017103357534155903, 0.09121790684883148, 0.011402238356103935, 0.06747490276329922, 0.06747490276329922, 0.10121235414494884, 0.7084864790146418, 0.6271923796200886, 0.07743115797778871, 0.07743115797778871, 0.038715578988894356, 0.007743115797778871, 0.023229347393336614, 0.10066050537112532, 0.038715578988894356, 0.16575279765196865, 0.745887589433859, 0.13938331494092931, 0.07602726269505235, 0.13938331494092931, 0.012671210449175392, 0.39280752392443713, 0.22808178808515706, 0.7670073395431273, 0.10957247707758962, 0.019733277355393774, 0.6551448081990733, 0.03157324376863004, 0.035519899239708795, 0.01578662188431502, 0.05525317659510257, 0.011839966413236265, 0.15391956337207144, 0.019733277355393774, 0.9671202411483817, 0.057379912780444985, 0.8033187789262298, 0.04781659398370416, 0.08606986917066747, 0.8663482195547815, 0.12716900895934627, 0.16955867861246168, 0.04238966965311542, 0.5934553751436159, 0.06368566802060467, 0.8915993522884655, 0.9264141154704185, 0.19769131907114634, 0.15375991483311383, 0.38073883672961517, 0.07321900706338753, 0.007321900706338753, 0.09518470918240379, 0.007321900706338753, 0.08054090776972629, 0.9226442536658293, 0.0782380868285252, 0.7823808682852521, 0.9544281027415095, 0.007866165681935518, 0.03408671795505391, 0.9456074740275625, 0.9597356205497215, 0.8539173127487951, 0.8540068506495141, 0.9406187303871267, 0.6740681229235108, 0.0038963475313497733, 0.0038963475313497733, 0.0038963475313497733, 0.2688479796631344, 0.04285982284484751, 0.7964099193428238, 0.05097023483794072, 0.03822767612845554, 0.05734151419268331, 0.01274255870948518, 0.03822767612845554, 0.901355245490861, 0.876657851999824, 0.9689034493274374, 0.9102773866587648, 0.003583769238814034, 0.003583769238814034, 0.003583769238814034, 0.07884292325390875, 0.3103090292028138, 0.05448173795163906, 0.3197841140639684, 0.021318940937597893, 0.049744195521061754, 0.08053822131981427, 0.059219280382216376, 0.05211296673635041, 0.028425254583463858, 0.02368771215288655, 0.07477814040943116, 0.0972115825322605, 0.007477814040943116, 0.8150817304627996, 0.8834827735717087, 0.006693051314937187, 0.02007915394481156, 0.033465256574685937, 0.006693051314937187, 0.02007915394481156, 0.02007915394481156, 0.05914731796067207, 0.08872097694100811, 0.09857886326778678, 0.039431545307114714, 0.47317854368537654, 0.19715772653557356, 0.029573658980336034, 0.009857886326778679, 0.10350628475064692, 0.2760167593350585, 0.03450209491688231, 0.552033518670117, 0.021678567289878794, 0.021678567289878794, 0.10839283644939396, 0.06503570186963638, 0.7153927205660001, 0.04335713457975759, 0.9610068381941279, 0.012511611376995812, 0.006255805688497906, 0.006255805688497906, 0.06255805688497906, 0.14388353083545183, 0.4253947868178576, 0.01876741706549372, 0.3127902844248953, 0.012511611376995812, 0.03633810618697652, 0.05191158026710931, 0.42048380016358544, 0.025955790133554656, 0.14016126672119514, 0.18688168896159355, 0.03633810618697652, 0.0986320025075077, 0.010382316053421863, 0.04105936971956487, 0.02737291314637658, 0.05474582629275316, 0.8211873943912974, 0.05474582629275316, 0.09047398663777473, 0.09047398663777473, 0.18094797327554946, 0.6333179064644231, 0.8652621624502127, 0.9175777512621667, 0.9015118937485627, 0.02198809496947714, 0.06596428490843141, 0.8230106632222928, 0.028641336551694437, 0.6873920772406665, 0.08592400965508332, 0.009547112183898145, 0.09547112183898146, 0.01909422436779629, 0.06682978528728702, 0.009547112183898145, 0.9608990855511191, 0.35100533955398006, 0.04890167269327895, 0.27928288627050424, 0.06737563793296211, 0.05542189571904948, 0.051075080368535794, 0.049988376530907375, 0.04020804199225158, 0.010867038376284211, 0.04672826501802211, 0.1544883022070298, 0.772441511035149, 0.05656833529212392, 0.31112584410668154, 0.1414208382303098, 0.05656833529212392, 0.01414208382303098, 0.38183626322183645, 0.02828416764606196, 0.003056958666704723, 0.2139871066693306, 0.33932241200422425, 0.003056958666704723, 0.11616442933477947, 0.2690123626700156, 0.04279742133386612, 0.012227834666818892, 0.01227610138380722, 0.04910440553522888, 0.6383572719579754, 0.01227610138380722, 0.23324592629233717, 0.01227610138380722, 0.01227610138380722, 0.03682830415142166, 0.7386216425519623, 0.06924577898924647, 0.06924577898924647, 0.09232770531899528, 0.02308192632974882, 0.8695994444090085, 0.0053024356366402955, 0.010604871273280591, 0.10604871273280592, 0.8875208545456076, 0.77370310448016, 0.169247554105035, 0.04835644403001, 0.914347075365121, 0.7826415133299549, 0.9524102405670031, 0.31790647743549655, 0.0353229419372774, 0.6313975871288334, 0.004415367742159675, 0.004415367742159675, 0.06158372116514713, 0.5696494207776109, 0.06158372116514713, 0.0923755817477207, 0.20014709378672818, 0.9254602864207998, 0.015283355082953006, 0.8253011744794623, 0.13755019574657704, 0.8761640210292069, 0.1212863175110411, 0.018192947626656165, 0.042450211128864386, 0.22437968739542605, 0.12431847544881713, 0.08186826431995275, 0.03335373731553631, 0.14857573895102535, 0.16980084451545754, 0.03638589525331233, 0.8781835905043012, 0.07318196587535843, 0.6352279467281251, 0.02973407410216756, 0.140561077573883, 0.016218585873909577, 0.002703097645651596, 0.14867037051083778, 0.008109292936954789, 0.010812390582606385, 0.008109292936954789, 0.009831351587423067, 0.2654464928604228, 0.0294940547622692, 0.22612108651073054, 0.009831351587423067, 0.0294940547622692, 0.03932540634969227, 0.3834227119094996, 0.8991574844448067, 0.09990638716053409, 0.9219425050600542, 0.9759189642327161, 0.961127587312335, 0.9104719165056964, 0.3585167767561025, 0.3806930722255521, 0.011088147734724819, 0.07761703414307373, 0.03326444320417446, 0.0960972803676151, 0.014784196979633093, 0.022176295469449638, 0.015483193192997366, 0.35030724599156543, 0.3367594519476927, 0.007741596596498683, 0.1857983183159684, 0.005806197447374013, 0.0329017855351194, 0.0019353991491246707, 0.06386817192111413, 0.12686903300889082, 0.06343451650444541, 0.7612141980533449, 0.8975975562283034, 0.876165593456316, 0.9280200165723598, 0.8676357606167173, 0.15471629990662084, 0.07735814995331042, 0.6962233495797938, 0.9220151344485994, 0.04310685018815857, 0.9052438539513299, 0.03691875247494774, 0.07383750494989548, 0.16613438613726483, 0.47994378217432065, 0.22151251484968645, 0.7375229584384665, 0.8454511301974345, 0.024505829860795202, 0.012252914930397601, 0.012252914930397601, 0.024505829860795202, 0.012252914930397601, 0.06126457465198801, 0.9301657844491278, 0.9049066668565763, 0.09049066668565763, 0.058956468399419225, 0.11791293679883845, 0.08843470259912885, 0.7074776207930308, 0.029478234199709612, 0.8640268849422884, 0.021386804082729912, 0.03849624734891384, 0.008554721633091966, 0.004277360816545983, 0.03421888653236786, 0.025664164899275893, 0.1551639795609383, 0.009127292915349312, 0.0730183433227945, 0.009127292915349312, 0.2190550299683835, 0.5385102820056095, 0.8977579725884292, 0.8599779799817064, 0.028195999343662504, 0.09868599770281877, 0.9406821855692729, 0.33155256429065105, 0.19893153857439064, 0.06631051285813021, 0.013262102571626043, 0.026524205143252086, 0.33155256429065105, 0.09892341844619441, 0.021197875381327374, 0.7419256383464581, 0.007065958460442457, 0.03532979230221229, 0.02826383384176983, 0.014131916920884915, 0.03532979230221229, 0.021197875381327374, 0.7460143462412886, 0.0406916916131612, 0.0406916916131612, 0.004521299068129022, 0.07234078509006435, 0.02260649534064511, 0.04521299068129022, 0.013563897204387065, 0.013563897204387065, 0.823757256534347, 0.09152858405937188, 0.10069015803984485, 0.5753723316562562, 0.01726116994968769, 0.014384308291406406, 0.20425717773797097, 0.06041409482390691, 0.002876861658281281, 0.014384308291406406, 0.008630584974843845, 0.7481058938258747, 0.23018642886949991, 0.24798190482461918, 0.7274135874855496, 0.016532126988307944, 0.05682240664998849, 0.8523360997498274, 0.03225687641678291, 0.03225687641678291, 0.8789998823573343, 0.04838531462517437, 0.25010038117667527, 0.01136819914439433, 0.01136819914439433, 0.02273639828878866, 0.01136819914439433, 0.6820919486636599, 0.04573895362338899, 0.04573895362338899, 0.78899695000346, 0.09147790724677798, 0.022869476811694496, 0.8417916249386524, 0.921674378874557, 0.7907678976778548, 0.8417488984244313, 0.1262623347636647, 0.8898503737069954, 0.06845002874669195, 0.03422501437334598, 0.9016202322620674, 0.8335940654731356, 0.6997496121907214, 0.23324987073024048, 0.8940826510758342, 0.0891539229941573, 0.425957632083196, 0.04952995721897628, 0.014858987165692884, 0.02476497860948814, 0.09410691871605494, 0.22288480748539324, 0.01981198288759051, 0.04457696149707865, 0.014858987165692884, 0.0604614362640745, 0.5441529263766705, 0.00604614362640745, 0.03023071813203725, 0.09069215439611175, 0.2660303195619278, 0.00604614362640745, 0.0031139351858005156, 0.7286608334773206, 0.05605083334440928, 0.0031139351858005156, 0.02802541667220464, 0.09341805557401546, 0.015569675929002578, 0.06850657408761134, 0.0015569675929002578, 0.7522605832887993, 0.01194064417918729, 0.03582193253756187, 0.02388128835837458, 0.02388128835837458, 0.14328773015024748, 0.08606152865926123, 0.11065053684762158, 0.22744832574233323, 0.03073626023545044, 0.05532526842381079, 0.006147252047090088, 0.15368130117725218, 0.043030764329630614, 0.2950680982603242, 0.07946857790371205, 0.11352653986244579, 0.04541061594497832, 0.5335747373534953, 0.01135265398624458, 0.215700425738647, 0.7500249344591714, 0.010417012978599602, 0.15625519467899404, 0.07291909085019721, 0.9465274942860156, 0.9230122568627726, 0.3506313560859943, 0.00825014955496457, 0.004125074777482285, 0.5940107679574491, 0.03712567299734057, 0.9557909393272499, 0.03295830825266379, 0.9050964455202033, 0.05028313586223351, 0.08410659439003994, 0.08410659439003994, 0.7149060523153395, 0.04205329719501997, 0.08410659439003994, 0.823147252090626, 0.8967982819971596, 0.0969891372478361, 0.17781341828769953, 0.08890670914384977, 0.03232971241594537, 0.024247284311959025, 0.08082428103986342, 0.0969891372478361, 0.3475444084714127, 0.06465942483189074, 0.9294917870223047, 0.8335836980252794, 0.08006189334602498, 0.10293672001631783, 0.7205570401142248, 0.05718706667573213, 0.022874826670292853, 0.011437413335146427, 0.006350390878407656, 0.012700781756815311, 0.39372423446127464, 0.19051172635222965, 0.20321250810904498, 0.07620469054089186, 0.06350390878407655, 0.012700781756815311, 0.03810234527044593, 0.1913111340168733, 0.8077581214045761, 0.105233430633709, 0.017538905105618167, 0.035077810211236335, 0.1286186374411999, 0.09938712893183628, 0.09354082722996356, 0.49693564465918144, 0.017538905105618167, 0.2887086321789308, 0.013748030103758607, 0.048118105363155125, 0.3780708278533617, 0.06186613546691374, 0.06874015051879304, 0.048118105363155125, 0.07561416557067234, 0.013748030103758607, 0.14941978846169438, 0.0830109935898302, 0.7138945448725397, 0.03320439743593208, 0.9278197256634215, 0.04303868259884836, 0.6025415563838771, 0.12911604779654506, 0.02151934129942418, 0.08607736519769672, 0.1075967064971209, 0.7522276433157478, 0.05786366487044213, 0.11572732974088426, 0.12156485084004681, 0.05209922178859149, 0.008683203631431916, 0.14761446173434256, 0.08683203631431916, 0.45152658883445956, 0.12156485084004681, 0.9654151540620178, 0.11111056236279836, 0.7777739365395885, 0.05555528118139918, 0.9378124359877228, 0.029306638624616337, 0.9307901248218303, 0.07092265306001555, 0.06304235827556938, 0.015760589568892345, 0.015760589568892345, 0.007880294784446172, 0.10244383219780023, 0.007880294784446172, 0.40189503400675475, 0.17336648525781578, 0.1418453061200311, 0.12718648669669247, 0.826712163528501, 0.21937101764476244, 0.1977428891445746, 0.08033304871498342, 0.01853839585730387, 0.1699352953586188, 0.04943572228614365, 0.11123037514382321, 0.052525454929027625, 0.08651251400075138, 0.009269197928651935, 0.8305728994432321, 0.12898154119570493, 0.16866816925592182, 0.14386402671828624, 0.029764971045162673, 0.10913822716559647, 0.07441242761290669, 0.08929491313548803, 0.024804142537635562, 0.22819811134624715, 0.004960828507527112, 0.9018800034377048, 0.13761376448470597, 0.22935627414117662, 0.12927353633411773, 0.05421148297882357, 0.10425285188235302, 0.09799768076941183, 0.12718847929647067, 0.03961608371529415, 0.05838159705411769, 0.020850570376470604, 0.07616651029431239, 0.903117193489704, 0.3618844624343925, 0.0572282405710202, 0.07069370894067202, 0.01514865191585829, 0.08920872794894326, 0.031980487377923056, 0.18346700653650597, 0.10940693050342098, 0.06059460766343316, 0.021881386100684196, 0.006911975255314195, 0.1658874061275407, 0.11059160408502712, 0.49766221838262203, 0.21427123291474004, 0.9546618499982026, 0.15589185533459385, 0.15589185533459385, 0.051963951778197945, 0.6235674213383754, 0.8784950886378805, 0.12601125432601548, 0.008757538910688334, 0.06081624243533566, 0.2549416882889271, 0.09341374838067558, 0.1620144698477342, 0.05059911370619927, 0.2019099248853144, 0.01848813770034204, 0.023353437095168895, 0.9408340390572497, 0.9015193044436107, 0.8844445832107676, 0.0431436382054033, 0.02157181910270165, 0.02157181910270165, 0.8676811996718968, 0.05476998941567789, 0.10953997883135579, 0.013692497353919473, 0.08215498412351684, 0.3970824232636647, 0.04107749206175842, 0.2053874603087921, 0.013692497353919473, 0.06846248676959736, 0.9263848043695435, 0.8351786039830581, 0.10439732549788226, 0.29167324595125727, 0.23672031555464357, 0.08877011833299134, 0.04649863341251927, 0.07608867285684971, 0.021135742460236032, 0.016908593968188824, 0.012681445476141619, 0.07608867285684971, 0.1352687517455106, 0.043835383108476185, 0.10228256058644443, 0.0730589718474603, 0.029223588738984122, 0.043835383108476185, 0.6575307466271427, 0.03652948592373015, 0.11302067306161726, 0.1332029361083346, 0.09283841001489988, 0.060546789140152095, 0.12513003088964766, 0.11705712567096072, 0.07265614696818251, 0.24218715656060838, 0.04036452609343473, 0.008072905218686947, 0.879383104759572, 0.7906398251235321, 0.031167071477184297, 0.015583535738592148, 0.07791767869296075, 0.623341429543686, 0.23375303607888223, 0.05713278826839977, 0.009522131378066628, 0.8284254298917967, 0.09522131378066628, 0.851482624304129, 0.07740751130037536, 0.549279724277954, 0.014946387055182423, 0.05978554822072969, 0.022419580582773636, 0.08967832233109455, 0.0635221449845253, 0.07846853203970772, 0.037365967637956056, 0.08220512880350334, 0.0037365967637956058, 0.7750541669702521, 0.006652825467555812, 0.003326412733777906, 0.009979238201333718, 0.003326412733777906, 0.1663206366888953, 0.029937714604001155, 0.12653383468586932, 0.06326691734293466, 0.7908364667866832, 0.9313599914314917, 0.04543219470397521, 0.8932894624197344, 0.06380639017283816, 0.9297153760330307, 0.003887303935146404, 0.003887303935146404, 0.586982894207107, 0.384843089579494, 0.003887303935146404, 0.015549215740585615, 0.36940470173598483, 0.595152019463531, 0.25687018043150117, 0.009754563813854474, 0.016257606356424124, 0.4064401589106031, 0.016257606356424124, 0.09429411686725991, 0.1723306273780957, 0.01950912762770895, 0.0032515212712848247, 0.08656356498643587, 0.8656356498643587, 0.9841148919626769, 0.004169978355774055, 0.004169978355774055, 0.004169978355774055, 0.7679200877928217, 0.0731352464564592, 0.10970286968468881, 0.010061068515296454, 0.27667938417065246, 0.6086946451754355, 0.030183205545889363, 0.05030534257648227, 0.015091602772944681, 0.010061068515296454, 0.9219629848176244, 0.9054595340834567, 0.06036396893889711, 0.9414904584864706, 0.012470072297834048, 0.006235036148917024, 0.01870510844675107, 0.012470072297834048, 0.897107315385099, 0.1407648708815524, 0.028152974176310477, 0.3941416384683467, 0.07507459780349461, 0.07507459780349461, 0.17830216978329969, 0.10322757197980509, 0.9225251777795139, 0.9579399573323415, 0.9596353159535381, 0.026339921601020375, 0.008779973867006791, 0.7901976480306112, 0.017559947734013582, 0.13169960800510186, 0.017559947734013582, 0.9318391911054039, 0.035745854818481006, 0.8936463704620252, 0.44585184046398985, 0.01857716001933291, 0.49229474051232214, 0.01857716001933291, 0.01857716001933291, 0.8845094743299241, 0.013926394176380376, 0.02785278835276075, 0.15319033594018414, 0.13926394176380374, 0.41779182529141123, 0.18104312429294486, 0.0557055767055215, 0.926270198117354, 0.026380037588674125, 0.026380037588674125, 0.026380037588674125, 0.07914011276602238, 0.8177811652488979, 0.0831627082941614, 0.9147897912357754, 0.15325100974589762, 0.010946500696135543, 0.1751440111381687, 0.021893001392271086, 0.06567900417681326, 0.5692180361990482, 0.15580910538102552, 0.014164464125547775, 0.014164464125547775, 0.8073744551562232, 0.8762419856451127, 0.35906540690209376, 0.008273396472398473, 0.097626078374302, 0.10589947484670047, 0.04302166165647207, 0.157194532975571, 0.07280588895710657, 0.046331020245431453, 0.06949653036814718, 0.04136698236199237, 0.9596904354631199, 0.015116497283621647, 0.0680242377762974, 0.02267474592543247, 0.015116497283621647, 0.037791243209054116, 0.40058717801597366, 0.11337372962716234, 0.18895621604527058, 0.1360484755525948, 0.006173421332897584, 0.9013195146030473, 0.006173421332897584, 0.006173421332897584, 0.006173421332897584, 0.04321394933028309, 0.006173421332897584, 0.03086710666448792, 0.03856513016377342, 0.15426052065509369, 0.7713026032754684, 0.33153650275197266, 0.019502147220704272, 0.643570858283241, 0.8612481595551331, 0.7904107480545273, 0.018263128809918143, 0.4444028010413415, 0.006087709603306048, 0.030438548016530242, 0.17045586889256933, 0.030438548016530242, 0.07914022484297863, 0.21306983611571167, 0.012175419206612095, 0.12309302908141202, 0.8616512035698841, 0.8779630623219584, 0.9406849605283868, 0.8439905611537841, 0.8665834767696617, 0.037272756375808326, 0.9318189093952081, 0.9014318282589423, 0.365376490355536, 0.012179216345184533, 0.5846023845688576, 0.012179216345184533, 0.012179216345184533, 0.8136617208295597, 0.8406923989300656, 0.10749633134410021, 0.27439853000994, 0.11598288381863443, 0.02263080659875794, 0.053748165672050104, 0.14427139206708187, 0.17255990031552929, 0.008486552474534228, 0.03394620989813691, 0.06506356897142908, 0.6969181547793585, 0.028445638970586058, 0.00474093982843101, 0.26075169056370556, 0.00474093982843101, 0.9230674062386869, 0.03275186048064788, 0.06550372096129577, 0.06550372096129577, 0.7860446515355493, 0.08614094270314422, 0.6029865989220096, 0.06460570702735817, 0.08614094270314422, 0.021535235675786055, 0.12921141405471634, 0.7688170030846291, 0.1098310004406613, 0.9269699321768256, 0.004009638465017905, 0.03207710772014324, 0.5332819158473813, 0.02806746925512533, 0.04009638465017905, 0.00801927693003581, 0.04410602311519695, 0.004009638465017905, 0.02405783079010743, 0.2846843310162712, 0.03777698344518724, 0.7555396689037449, 0.03777698344518724, 0.050369311260249655, 0.10073862252049931, 0.012592327815062414, 0.012592327815062414, 0.49498801555617056, 0.01903800059831425, 0.4569120143595421, 0.9424815869601919, 0.21200438049153633, 0.08570389849657851, 0.12178975049513789, 0.21651511199135626, 0.036085851998559376, 0.06766097249729883, 0.07217170399711875, 0.09472536149621837, 0.06766097249729883, 0.02255365749909961, 0.9385172967216164, 0.3907792114298928, 0.013475145221720441, 0.006737572610860221, 0.026950290443440883, 0.14148902482806464, 0.4177295018733337, 0.04133953025956339, 0.057875342363388746, 0.1488223089344282, 0.08267906051912678, 0.016535812103825355, 0.024803718155738032, 0.06614324841530142, 0.1488223089344282, 0.13228649683060284, 0.2645729936612057, 0.1911281453169925, 0.3080871596154506, 0.0741691310185344, 0.002852658885328246, 0.05990583659189316, 0.10269571987181686, 0.09984306098648861, 0.03993722439459545, 0.05420051882123667, 0.06275849547722141, 0.11043528541259115, 0.8466705214965321, 0.06615279308713098, 0.12403648703837059, 0.620182435191853, 0.04961459481534824, 0.02480729740767412, 0.02480729740767412, 0.04134549567945686, 0.03307639654356549, 0.15150923618067452, 0.2483068037405499, 0.09258897766596776, 0.05892025851470675, 0.033668719151261, 0.05471166862079913, 0.1178405170294135, 0.1851779553319355, 0.04839878377993769, 0.006312884840861438, 0.9735477928610414, 0.7371535304878979, 0.9570310750213246, 0.2895257471485515, 0.04136082102122164, 0.6617731363395463, 0.0328957034174905, 0.02467177756311787, 0.012335888781558935, 0.24671777563117872, 0.07812729561653993, 0.3371809600292776, 0.07812729561653993, 0.14803066537870724, 0.008223925854372625, 0.028783740490304185, 0.9350316827938727, 0.03596275703053357, 0.7177229341594008, 0.10765844012391011, 0.03588614670797004, 0.010253184773705725, 0.005126592386852862, 0.0410127390948229, 0.03588614670797004, 0.010253184773705725, 0.025632961934264314, 0.010253184773705725, 0.80239354917879, 0.13954670420500695, 0.06548153065782308, 0.005456794221485256, 0.7039264545715981, 0.0381975595503968, 0.09276550176524936, 0.027283971107426284, 0.06548153065782308, 0.9423150730485841, 0.32242328453698804, 0.04606046921956972, 0.5987860998544065, 0.03396822077038527, 0.016984110385192635, 0.1755024739803239, 0.10756603243955336, 0.08492055192596318, 0.3396822077038527, 0.0735978116691681, 0.16417973372352881, 0.9314509995619146, 0.8426488427492436, 0.02384855215328048, 0.0874446912286951, 0.03179806953770731, 0.90065564891305, 0.8762634939084686, 0.05400609901550577, 0.9181036832635981, 0.9842774255332913, 0.9462421837580862, 0.9526901735720622, 0.9428557025942412, 0.023677290773936672, 0.6274482055093218, 0.054457768780054344, 0.0023677290773936673, 0.007103187232181001, 0.04025139431569234, 0.06866414324441635, 0.007103187232181001, 0.16337330634016303, 0.0023677290773936673, 0.20650685787705092, 0.056320052148286615, 0.025031134288127383, 0.1752179400168917, 0.043804485004222925, 0.025031134288127383, 0.2503113428812738, 0.1752179400168917, 0.006257783572031846, 0.03128891786015923, 0.2959464439959935, 0.022335580678942906, 0.0055838951697357265, 0.05583895169735726, 0.03908726618815008, 0.2736108633170506, 0.2959464439959935, 0.8413282145885889, 0.1829688372293681, 0.039207607977721735, 0.7580137542359536, 0.8670472864061056, 0.8766110574396468, 0.8652205548333651, 0.9706018291647688, 0.9006798931991556, 0.35961183306606953, 0.6025928013539544, 0.004859619365757697, 0.024298096828788484, 0.23742004250917742, 0.1978500354243145, 0.4946250885607863, 0.039570007084862906, 0.039570007084862906, 0.9296312290735693, 0.9399805950841807, 0.20386170289591435, 0.006683990258882438, 0.14704778569541363, 0.10360184901267779, 0.09357586362435413, 0.2974375665202685, 0.03676194642385341, 0.08354987823603048, 0.010025985388323657, 0.020051970776647315, 0.010006354901845527, 0.9806227803808617, 0.7965673201176717, 0.16595152502451493, 0.9472541310770148, 0.839326755491622, 0.06456359657627861, 0.9601084857685904, 0.8232819124549396, 0.9274366035791536, 0.8587759873963776, 0.09541955415515306, 0.012077148784383545, 0.012077148784383545, 0.19323438055013673, 0.06038574392191773, 0.03623144635315064, 0.08454004149068482, 0.5072402489441089, 0.02415429756876709, 0.07246289270630128, 0.09208256979345326, 0.18416513958690653, 0.7366605583476261, 0.38330125327061215, 0.05110683376941496, 0.02555341688470748, 0.5110683376941496, 0.8633617199531036, 0.004616907593332105, 0.004616907593332105, 0.12003959742663473, 0.004616907593332105, 0.9563608412509688, 0.9528906233396801, 0.925459621837784, 0.18020085303238398, 0.018641467555074204, 0.024855290073432273, 0.44739522132178094, 0.024855290073432273, 0.006213822518358068, 0.09942116029372909, 0.062138225183580684, 0.024855290073432273, 0.11184880533044524, 0.03713267161237641, 0.03713267161237641, 0.43498272460212367, 0.14853068644950565, 0.005304667373196631, 0.11670268221032587, 0.01591400211958989, 0.11139801483712923, 0.09017934534434272, 0.08569030285558807, 0.05826940594179989, 0.3598992719934699, 0.06512463017024693, 0.21593956319608196, 0.1062559755409292, 0.0445589574849058, 0.006855224228447046, 0.003427612114223523, 0.05484179382757637, 0.2271933050130099, 0.17977905005377307, 0.04148747308933225, 0.027658315392888166, 0.013829157696444083, 0.12446241926799674, 0.13236479509453622, 0.15607192257415464, 0.05531663078577633, 0.03951187913269738, 0.020096279827460196, 0.6287264688876832, 0.05885339092327629, 0.025838074063877395, 0.028708971182085995, 0.11627133328744828, 0.028708971182085995, 0.08899781066446658, 0.0028708971182085995, 0.8885711739865855, 0.09873013044295395, 0.060587261454583874, 0.006731917939398208, 0.2490809637577337, 0.19522562024254803, 0.36352356872750324, 0.06731917939398208, 0.006731917939398208, 0.047123425575787456, 0.45017323991198344, 0.0469745989473374, 0.26227484412263385, 0.015658199649112466, 0.19572749561390584, 0.003914549912278117, 0.0234872994736687, 0.9270215672639404, 0.1969411418197055, 0.5279698695592105, 0.020951185299968672, 0.004190237059993734, 0.004190237059993734, 0.058663318839912285, 0.0712340300198935, 0.11732663767982457, 0.029017100631915944, 0.029017100631915944, 0.9092024864666995, 0.029017100631915944, 0.922048810317146, 0.7711565395154181, 0.13190835544342677, 0.08117437258057032, 0.01014679657257129, 0.1312726552189867, 0.10501812417518937, 0.10501812417518937, 0.052509062087594684, 0.5775996829635415, 0.05379613465755081, 0.8177012467947723, 0.07531458852057113, 0.010759226931510161, 0.010759226931510161, 0.021518453863020322, 0.038223467491226064, 0.11467040247367818, 0.8409162848069733, 0.16244466321461742, 0.03248893264292348, 0.7472454507872401, 0.06497786528584697, 0.91085119099099, 0.14241653136587734, 0.029982427655974177, 0.46472762866759976, 0.037478034569967726, 0.16490335210785798, 0.10493849679590962, 0.022486820741980634, 0.007495606913993544, 0.022486820741980634, 0.9126793424253167, 0.04803575486449035, 0.9225597192132344, 0.8235667223255484, 0.05490444815503656, 0.05490444815503656, 0.8977640679552451, 0.8768313171051769, 0.14440301259961996, 0.7220150629980998, 0.012525183848888401, 0.050100735395553604, 0.7640362147821924, 0.050100735395553604, 0.125251838488884, 0.782018131975564, 0.15640362639511282, 0.4625214232372041, 0.5203366011418546, 0.9142153274907078, 0.9713283153636619, 0.16426234920415245, 0.17034613991541733, 0.036502744267589426, 0.3893626055209539, 0.04258653497885433, 0.17642993062668225, 0.006083790711264905, 0.006083790711264905, 0.018251372133794713, 0.04990184854371207, 0.8483314252431052, 0.04990184854371207, 0.04990184854371207, 0.009159071505239945, 0.13738607257859917, 0.009159071505239945, 0.659453148377276, 0.01831814301047989, 0.06411350053667961, 0.04579535752619972, 0.04579535752619972, 0.8803655610288034, 0.05400198161681627, 0.05400198161681627, 0.05400198161681627, 0.8100297242522441, 0.8987330146199893, 0.08360307112744086, 0.5879458817017075, 0.19079038545287197, 0.08176730805123084, 0.035043132021956074, 0.007787362671545795, 0.01557472534309159, 0.0038936813357728973, 0.023362088014637385, 0.04672417602927477, 0.011681044007318692, 0.06292214100192377, 0.25168856400769507, 0.08389618800256501, 0.44045498701346636, 0.1468183290044888, 0.07301130298662484, 0.08517985348439565, 0.6084275248885403, 0.20686535846210372, 0.012168550497770806, 0.7629574820335505, 0.16586032218120664, 0.03317206443624132, 0.5192668305490914, 0.3461778870327276, 0.12363495965454557, 0.146209478461644, 0.1922754785249017, 0.16323386978936966, 0.12417791321399901, 0.05207460876716088, 0.09513630447846698, 0.054077478335128604, 0.05608034790309633, 0.06008608703903178, 0.05708178268708019, 0.024667068009508453, 0.04933413601901691, 0.07400120402852536, 0.024667068009508453, 0.764679108294762, 0.04933413601901691, 0.9131596170231088, 0.923082785937713, 0.8772492804683119, 0.009332439153918211, 0.009332439153918211, 0.018664878307836422, 0.06532707407742748, 0.9267464094778323, 0.7293022890019445, 0.1287004039415196, 0.1287004039415196, 0.04798141966021181, 0.14394425898063543, 0.023990709830105907, 0.11995354915052953, 0.6477491654128594, 0.2544427677557916, 0.13327954501493847, 0.10904690046676785, 0.09693057819268253, 0.02423264454817063, 0.36348966822255946, 0.1507455865954151, 0.05024852886513837, 0.7537279329770755, 0.01643444803756584, 0.01643444803756584, 0.21364782448835593, 0.03286889607513168, 0.19721337645079007, 0.01643444803756584, 0.509467889164541, 0.7902563021097652, 0.9350534063199348, 0.29554097684839087, 0.16698727839864239, 0.006626479301533428, 0.01192766274276017, 0.0092770710221468, 0.0742165681771744, 0.1285536984497485, 0.07554186403748107, 0.08614423091993456, 0.1471078404940421, 0.3720125224996809, 0.017714882023794332, 0.11514673315466314, 0.07971696910707449, 0.026572323035691497, 0.008857441011897166, 0.10628929214276599, 0.2834381123807093, 0.3002208347319858, 0.027292803157453256, 0.013646401578726628, 0.10917121262981302, 0.04093920473617988, 0.4912704568341586, 0.013646401578726628, 0.9634255085657357, 0.019661745072770118, 0.9661259394108084, 0.029276543618509343, 0.9379807414978859, 0.9674299950081993, 0.8772651574954987, 0.10742022336679576, 0.9504122350939561, 0.9016574007926683, 0.19737153017437412, 0.6767023891692827, 0.08458779864616034, 0.9228653672291579, 0.03041864159816541, 0.02027909439877694, 0.6996287567578044, 0.08111637759510776, 0.08111637759510776, 0.02027909439877694, 0.02027909439877694, 0.01013954719938847, 0.04055818879755388, 0.8234403212923509, 0.9017913876310765, 0.9224043887388695, 0.8678106729595597, 0.009039694509995413, 0.04519847254997707, 0.0632778615699679, 0.009039694509995413, 0.9505470061162167, 0.8843454337063253, 0.17611431057002433, 0.7925143975651094, 0.014676192547502027, 0.09268701798527512, 0.8341831618674761, 0.9406023883248144, 0.037688923420046774, 0.018844461710023387, 0.9422230855011693, 0.16637246993576002, 0.01512476999416, 0.01512476999416, 0.6957394197313601, 0.09074861996496, 0.01512476999416, 0.04166602991180797, 0.6979060010227836, 0.031249522433855977, 0.003472169159317331, 0.013888676637269323, 0.017360845796586654, 0.003472169159317331, 0.16666411964723188, 0.020833014955903985, 0.8824446512613419, 0.047699710878991455, 0.023849855439495728, 0.023849855439495728, 0.08237996690735434, 0.10199424474243872, 0.011768566701050621, 0.6433483129907672, 0.11768566701050621, 0.023537133402101243, 0.011768566701050621, 0.09635949755309763, 0.13249430913550922, 0.006022468597068602, 0.7046288258570264, 0.04215728017948021, 0.006022468597068602, 0.006022468597068602, 0.9226821105088011, 0.9215938824597077, 0.05421140485057104, 0.9280648464443753, 0.08043614093156484, 0.12065421139734725, 0.764143338849866, 0.9010820961912467, 0.9128597300078444, 0.04064938700713785, 0.04064938700713785, 0.8942865141570328, 0.8772637926190565, 0.10742005623906815, 0.9188998770639121, 0.06563570550456516, 0.7229540254601097, 0.8647845688780411, 0.1312028926120305, 0.7434830581348395, 0.087468595074687, 0.940825178649362, 0.9678957978273427, 0.06898652942332832, 0.2494128371458793, 0.021226624437947175, 0.09021315386127549, 0.07959984164230191, 0.3502393032261284, 0.09551980997076229, 0.010613312218973587, 0.021226624437947175, 0.01591996832846038, 0.06644200637521164, 0.7273651224233695, 0.01049084311187552, 0.0034969477039585068, 0.0034969477039585068, 0.0034969477039585068, 0.1014114834147967, 0.07693284948708715, 0.0069938954079170135, 0.9657460540095967, 0.017884186185362902, 0.9258650888119608, 0.024364870758209495, 0.024364870758209495, 0.9132362605171573, 0.025821048929700142, 0.7488104189613042, 0.0903736712539505, 0.07746314678910043, 0.025821048929700142, 0.012910524464850071, 0.7491405467705882, 0.1291621632363083, 0.07749729794178498, 0.02583243264726166, 0.8233073627102823, 0.03784431219198707, 0.7568862438397413, 0.18922156095993534, 0.11505312952409431, 0.038351043174698105, 0.038351043174698105, 0.8053719066686602, 0.14499924358165833, 0.2788446991954968, 0.06413428081496426, 0.02788446991954968, 0.019519128943684776, 0.0780765157747391, 0.16172992553338814, 0.025096022927594712, 0.1840375014690279, 0.016730681951729807, 0.8669520706376259, 0.0642186718990834, 0.0321093359495417, 0.9381319918546518, 0.10066030630934575, 0.9059427567841118, 0.9216872405499141, 0.051204846697217456, 0.04485799065537943, 0.1345739719661383, 0.029905327103586288, 0.7177278504860709, 0.04485799065537943, 0.014952663551793144, 0.014952663551793144, 0.05615287731436297, 0.028076438657181485, 0.7299874050867186, 0.11230575462872594, 0.05615287731436297, 0.8847486769939281, 0.10990831730345281, 0.09420712911724527, 0.03140237637241509, 0.07850594093103772, 0.07850594093103772, 0.518139210144849, 0.06280475274483018, 0.015701188186207544, 0.015701188186207544, 0.03581539406927659, 0.2029538997259007, 0.03581539406927659, 0.17907697034638298, 0.48947705228011346, 0.023876929379517728, 0.031001428492271152, 0.80603714079905, 0.062002856984542304, 0.062002856984542304, 0.018560158305517736, 0.8649033770371265, 0.03340828494993193, 0.018560158305517736, 0.0037120316611035475, 0.05568047491655321, 0.8223621165386322, 0.09137356850429247, 0.06547389474975152, 0.02976086124988705, 0.047617377999819285, 0.6904519809973796, 0.10118692824961598, 0.005952172249977411, 0.05356955024979669, 0.9622269862752092, 0.018680977591312722, 0.06849691783481332, 0.05604293277393817, 0.12453985060875149, 0.4109815070088799, 0.20549075350443996, 0.006226992530437575, 0.006226992530437575, 0.07472391036525089, 0.031134962652187872, 0.013922802995782453, 0.013922802995782453, 0.3619928778903438, 0.08353681797469473, 0.05569121198312981, 0.05569121198312981, 0.09745962097047717, 0.30630166590721397, 0.2720157132246618, 0.6800392830616545, 0.038048770539384005, 0.20292677621004804, 0.012682923513128002, 0.06341461756564001, 0.49463401701199206, 0.19024385269692004, 0.012682923513128002, 0.06009165527599233, 0.06009165527599233, 0.7210998633119079, 0.06009165527599233, 0.927608843698673, 0.07421701190356997, 0.8163871309392697, 0.037108505951784984, 0.10960293176772058, 0.767220522374044, 0.9837244390851319, 0.00840790118876181, 0.9224845321836115, 0.897787233878257, 0.04565657098456685, 0.9283502766861926, 0.023313927306676557, 0.12822660018672108, 0.025645320037344214, 0.2378020585281009, 0.023313927306676557, 0.26577877129611277, 0.22381370214409496, 0.06061621099735905, 0.013988356384005935, 0.5882735794502146, 0.009288530201845493, 0.08050059508266094, 0.07121206488081545, 0.009288530201845493, 0.05573118121107296, 0.006192353467896996, 0.13003942282583691, 0.03405794407343348, 0.021673237137639485, 0.8197983674631221, 0.1366330612438537, 0.01707913265548171, 0.7938517228787095, 0.031754068915148384, 0.13760096529897634, 0.021169379276765588, 0.135560408892206, 0.11991882325079761, 0.5683109449711713, 0.06256634256563354, 0.03649703316328623, 0.010427723760938923, 0.03128317128281677, 0.010427723760938923, 0.026069309402347307, 0.008415313019246137, 0.7279245761647909, 0.012622969528869205, 0.012622969528869205, 0.07573781717321523, 0.004207656509623068, 0.12622969528869205, 0.02945359556736148, 0.917023433548345, 0.039870584067319345, 0.2717367320022894, 0.013095746120592262, 0.1898883187485878, 0.013095746120592262, 0.07530054019340551, 0.33721546260525076, 0.03601330183162872, 0.019643619180888392, 0.016369682650740326, 0.02946542877133259, 0.06169043399722115, 0.9253565099583173, 0.17078223334730908, 0.11385482223153938, 0.028463705557884845, 0.028463705557884845, 0.5977378167155818, 0.05692741111576969, 0.012013282058967093, 0.012013282058967093, 0.05405976926535192, 0.28831876941521023, 0.3483851797100457, 0.12613946161915449, 0.024026564117934187, 0.0780863333832861, 0.006006641029483547, 0.048053128235868374, 0.9407395697609172, 0.8642230346433091, 0.12985579521262464, 0.8224200363466226, 0.04328526507087488, 0.9852921228854887, 0.009707311555522057, 0.0048536557777610284, 0.3738388843823832, 0.03468608205609741, 0.5665393402495911, 0.015416036469376627, 0.0038540091173441568, 0.939563883899722, 0.09115937126786285, 0.7748546557768342, 0.13673905690179428, 0.7959302557022037, 0.18950720373861993, 0.9034457093934524, 0.060229713959563495, 0.8941448926695108, 0.9626617942472735, 0.03641794659987713, 0.004202070761524284, 0.00700345126920714, 0.26192907746834704, 0.07703796396127853, 0.033616566092194274, 0.015407592792255707, 0.26192907746834704, 0.030815185584511413, 0.271733909245237, 0.9255861387185729, 0.9265794528214085, 0.21716637102738975, 0.21716637102738975, 0.06447126639875633, 0.00678644909460593, 0.10518996096639191, 0.11197641006099784, 0.1357289818921186, 0.05429159275684744, 0.07125771549336227, 0.010179673641908894, 0.9651686951741649, 0.026810241532615693, 0.09009545428425438, 0.8108590885582894, 0.21815997412238117, 0.2820116738655171, 0.07449364970032528, 0.06030438309073951, 0.0425677998287573, 0.0762673080265235, 0.1188351078552808, 0.030152191545369755, 0.07271999137412706, 0.024831216566775092, 0.06346863888901716, 0.8123985777794196, 0.03808118333341029, 0.06346863888901716, 0.025387455555606862, 0.8852882870574122, 0.10416928070795167, 0.014297744410895326, 0.05106337289605474, 0.34110333094564566, 0.10621181562379385, 0.010212674579210948, 0.0776163268020032, 0.1960833519208502, 0.059233512559423496, 0.04085069831684379, 0.02697109236632419, 0.02697109236632419, 0.41355674961697086, 0.29668201602956606, 0.06293254885475644, 0.02697109236632419, 0.13485546183162095, 0.008990364122108062, 0.4312811693279996, 0.3888600707055734, 0.08484219724485237, 0.07777201414111468, 0.007070183103737698, 0.014140366207475396, 0.00468930084201411, 0.21570783873264907, 0.05627161010416932, 0.00937860168402822, 0.02344650421007055, 0.5064444909375239, 0.11723252105035276, 0.06565021178819754, 0.00937860168402822, 0.018048314093536987, 0.517385004014727, 0.07820936107199361, 0.030080523489228312, 0.0661771516763023, 0.12633819865475893, 0.08422546576983928, 0.08422546576983928, 0.9352782054636384, 0.006633178762153464, 0.003316589381076732, 0.006633178762153464, 0.006633178762153464, 0.03979907257292078, 0.8800240410848319, 0.07889986984839029, 0.07889986984839029, 0.7889986984839028, 0.8786099795909366, 0.10842097980507198, 0.7589468586355039, 0.8543036132432918, 0.9313963982237531, 0.03104654660745844, 0.03104654660745844, 0.961828528702517, 0.9145060541282172, 0.07424093532499572, 0.40090105075497684, 0.004454456119499742, 0.004454456119499742, 0.005939274825999657, 0.026726736716998458, 0.07572575403149563, 0.007424093532499571, 0.11136140298749357, 0.28657001035448343, 0.10548372412509227, 0.3288610222723465, 0.15512312371337098, 0.031024624742674197, 0.037229549691209035, 0.2357871480443239, 0.01240984989706968, 0.07445909938241807, 0.018614774845604518, 0.30142135258703395, 0.533283931500137, 0.11593128945655153, 0.04637251578262061, 0.8116745876979362, 0.08324731217408617, 0.8324731217408616, 0.6328475650579453, 0.029013068885178003, 0.11061232512474115, 0.06165277138100326, 0.007253267221294501, 0.043519603327767005, 0.032639702495825255, 0.05802613777035601, 0.016319851247912628, 0.009066584026618127, 0.8846639610755265, 0.3184118316540093, 0.016758517455474176, 0.6368236633080187, 0.8436493224252121, 0.9146994026380056, 0.011726915418435969, 0.07036149251061583, 0.8846018040197199, 0.9402279792244445, 0.5457899706568838, 0.007871970730628132, 0.07609571706273861, 0.09708763901108029, 0.005247980487085422, 0.05772778535793964, 0.013119951217713553, 0.1259515316900501, 0.02886389267896982, 0.04460783414022609, 0.7693790617363518, 0.8070946976449759, 0.8843233996325366, 0.018233095617009226, 0.17321440836158764, 0.7931396593399014, 0.009116547808504613, 0.699821982343002, 0.2624332433786257, 0.02186943694821881, 0.8618011193775406, 0.8132645992809711, 0.027705546701959613, 0.027705546701959613, 0.027705546701959613, 0.8865774944627076, 0.05262667197350991, 0.2368200238807946, 0.15788001592052972, 0.5525800557218541, 0.8134814087306584, 0.7232758965040781, 0.12054598275067968, 0.004440556571877108, 0.07104890515003373, 0.09991252286723493, 0.6683037640675048, 0.13321669715631324, 0.008881113143754216, 0.01110139142969277, 0.002220278285938554, 0.04147742550409655, 0.829548510081931, 0.0829548510081931, 0.8664801699488663, 0.01274558580035778, 0.015931982250447223, 0.9495461421266546, 0.003186396450089445, 0.003186396450089445, 0.01274558580035778, 0.8893992652577765, 0.7723535478283672, 0.11608732413024321, 0.19952508834885552, 0.4117472277744564, 0.036277288790701, 0.07436844202093705, 0.036277288790701, 0.07799617090000716, 0.0108831866372103, 0.016324779955815452, 0.0181386443953505, 0.26727642743431007, 0.04009146411514651, 0.13363821371715504, 0.013363821371715504, 0.3474593556646031, 0.013363821371715504, 0.16036585646058604, 0.013363821371715504, 0.913683915581426, 0.8649236040111796, 0.9570098963426632, 0.07871004772940339, 0.1399289737411616, 0.0174911217176452, 0.19677511932350847, 0.09620116944704858, 0.27111238662350057, 0.07433726729999209, 0.04810058472352429, 0.030609463005879096, 0.04810058472352429, 0.894689436080149, 0.04066770164000677, 0.04066770164000677, 0.8344078195044053, 0.2984762497506047, 0.011939049990024188, 0.6805258494313787, 0.7907100482629895, 0.3008152318728815, 0.017027277275823482, 0.034054554551646965, 0.19865156821794064, 0.1305424591146467, 0.3064909909648227, 0.011351518183882322, 0.3748093192307374, 0.6124932777673026, 0.12530627468591066, 0.05012250987436426, 0.12530627468591066, 0.02506125493718213, 0.07518376481154639, 0.5764088635551889, 0.8970509801855874, 0.8850243972850212, 0.10495918232784625, 0.17993002684773643, 0.0664027480033313, 0.10067513406956681, 0.28060516091730325, 0.19492419575171446, 0.049266554970213546, 0.004284048258279439, 0.021420241291397194, 0.11973798687757196, 0.04789519475102878, 0.02394759737551439, 0.790270713391975, 0.9839607103681568, 0.004187066852630455, 0.004187066852630455, 0.004187066852630455, 0.027695189518175012, 0.027695189518175012, 0.06231417641589377, 0.2700280978022063, 0.02077139213863126, 0.07616177117498128, 0.19386632662722508, 0.04846658165680627, 0.2769518951817501, 0.045495530376397086, 0.012998722964684881, 0.10398978371747905, 0.019498084447027324, 0.10398978371747905, 0.11698850668216393, 0.5199489185873952, 0.012998722964684881, 0.0649936148234244, 0.8845885000504605, 0.11830495709709556, 0.17648772288255238, 0.11636553157091366, 0.054303914733093046, 0.1357597868327326, 0.09891070183527662, 0.009697127630909472, 0.22691278656328165, 0.023273106314182734, 0.03878851052363789, 0.8334126814147194, 0.10136100179368207, 0.045049334130525365, 0.4129062668704805, 0.03529113392055389, 0.056465814272886224, 0.08116960801727395, 0.017645566960276946, 0.010587340176166167, 0.18704300977893562, 0.07764049462521856, 0.0317620205284985, 0.09175694819344012, 0.8232991286080096, 0.8803057962846506, 0.03521223185138602, 0.07042446370277204, 0.8619798574832684, 0.7221461341639084, 0.4953189481909535, 0.13399205589360141, 0.08280407948480986, 0.04516586153716901, 0.04516586153716901, 0.07979302204899859, 0.034627160511829576, 0.01204422974324507, 0.02408845948649014, 0.04817691897298028, 0.8109238000440862], \"Term\": [\".\", \".\", \".\", \".\", \".\", \".\", \".\", \".\", \".\", \".\", \"abe\", \"abe\", \"abeshinzo\", \"accumulate\", \"acid\", \"additionally\", \"additionally\", \"administration\", \"administration\", \"administration\", \"administration\", \"administration\", \"administration\", \"administration\", \"administration\", \"administration\", \"administration\", \"advantage\", \"advantage\", \"agent\", \"agent\", \"agent\", \"agent\", \"agony\", \"agricultural\", \"agricultural\", \"aide\", \"alabama\", \"alabama\", \"alabama\", \"alabama\", \"alien\", \"aluminum\", \"aluminum\", \"amendment\", \"amendment\", \"amendment\", \"amendment\", \"amendment\", \"america\", \"america\", \"america\", \"america\", \"america\", \"america\", \"america\", \"america\", \"america\", \"america\", \"americafirst\", \"americafirst\", \"americafirst\", \"american\", \"american\", \"american\", \"american\", \"american\", \"american\", \"american\", \"american\", \"american\", \"american\", \"angela\", \"angry\", \"angry\", \"angry\", \"angry\", \"angry\", \"angry\", \"aoc\", \"apprehend\", \"arabia\", \"arabia\", \"arkansas\", \"army\", \"army\", \"army\", \"army\", \"army\", \"asylum\", \"attack\", \"attack\", \"attack\", \"attack\", \"attack\", \"attack\", \"attack\", \"attack\", \"attack\", \"auto\", \"bad\", \"bad\", \"bad\", \"bad\", \"bad\", \"bad\", \"bad\", \"bad\", \"bad\", \"balderson\", \"baldwin\", \"ballot\", \"bank\", \"bank\", \"bank\", \"bank\", \"barbara\", \"barletta\", \"bay\", \"beloved\", \"beto\", \"big\", \"big\", \"big\", \"big\", \"big\", \"big\", \"big\", \"big\", \"big\", \"big\", \"bigleaguetruth\", \"bigleaguetruth\", \"bill\", \"bill\", \"bill\", \"bill\", \"bill\", \"bill\", \"bill\", \"billion\", \"billion\", \"billion\", \"billion\", \"billy\", \"billy\", \"birth\", \"birthday\", \"bless\", \"bless\", \"blumenthal\", \"boo\", \"book\", \"book\", \"book\", \"book\", \"book\", \"book\", \"book\", \"book\", \"border\", \"border\", \"border\", \"border\", \"border\", \"border\", \"border\", \"border\", \"boris\", \"boston\", \"brandon\", \"brave\", \"brave\", \"brave\", \"brave\", \"brennan\", \"brennan\", \"brennan\", \"brian\", \"brian\", \"brian\", \"briefing\", \"broward\", \"build\", \"build\", \"build\", \"build\", \"build\", \"build\", \"build\", \"build\", \"bush\", \"bush\", \"bush\", \"bush\", \"business\", \"business\", \"business\", \"business\", \"business\", \"business\", \"business\", \"business\", \"businessman\", \"businessman\", \"california\", \"california\", \"california\", \"california\", \"california\", \"california\", \"calm\", \"calm\", \"campaign\", \"campaign\", \"campaign\", \"campaign\", \"campaign\", \"campaign\", \"campaign\", \"campaign\", \"campaign\", \"caravan\", \"carolina\", \"carolina\", \"carolina\", \"carolina\", \"census\", \"ceo\", \"ceo\", \"ceo\", \"ceo\", \"chain\", \"chain\", \"chancellor\", \"change\", \"change\", \"change\", \"change\", \"change\", \"change\", \"change\", \"change\", \"charlotte\", \"cherish\", \"cherish\", \"china\", \"china\", \"china\", \"christian\", \"chrysler\", \"cincinnati\", \"cindy\", \"cleveland\", \"clinton\", \"clinton\", \"clinton\", \"clinton\", \"clinton\", \"clinton\", \"cnn\", \"cnn\", \"cnn\", \"cnn\", \"cnn\", \"cnn\", \"coach\", \"colleague\", \"collude\", \"collusion\", \"collusion\", \"collusion\", \"collusion\", \"collusion\", \"come\", \"come\", \"come\", \"come\", \"come\", \"come\", \"come\", \"come\", \"come\", \"come\", \"comey\", \"comey\", \"comey\", \"comey\", \"company\", \"company\", \"company\", \"company\", \"company\", \"company\", \"company\", \"complete\", \"complete\", \"complete\", \"complete\", \"complete\", \"complete\", \"complete\", \"complete\", \"condolence\", \"condolence\", \"condolence\", \"condolence\", \"conference\", \"conference\", \"conference\", \"conference\", \"conference\", \"conference\", \"conflicted\", \"congratulation\", \"congratulation\", \"congratulation\", \"congratulation\", \"congratulation\", \"congratulation\", \"congratulation\", \"congratulation\", \"congratulation\", \"congress\", \"congress\", \"congress\", \"congress\", \"congress\", \"congress\", \"congress\", \"congress\", \"congress\", \"congressman\", \"congressman\", \"congressman\", \"congressman\", \"congressman\", \"congresswoman\", \"congresswoman\", \"congresswoman\", \"congresswoman\", \"connecticut\", \"conspiracy\", \"consumer\", \"consumer\", \"consumer\", \"convention\", \"corrupt\", \"corrupt\", \"corrupt\", \"corrupt\", \"corrupt\", \"corrupt\", \"corrupt\", \"corrupt\", \"councel\", \"country\", \"country\", \"country\", \"country\", \"country\", \"country\", \"country\", \"country\", \"country\", \"country\", \"cox\", \"cox\", \"crazy\", \"crazy\", \"crazy\", \"crazy\", \"crazy\", \"crazy\", \"crazy\", \"crime\", \"crime\", \"crime\", \"crime\", \"crime\", \"crime\", \"crime\", \"crime\", \"criminal\", \"criminal\", \"criminal\", \"criminal\", \"criminal\", \"criminal\", \"criminal\", \"criminal\", \"crisis\", \"crisis\", \"crisis\", \"crisis\", \"crisis\", \"crooked\", \"crooked\", \"crooked\", \"crooked\", \"cross\", \"crowd\", \"crowd\", \"crowd\", \"crown\", \"cumming\", \"currency\", \"cut\", \"cut\", \"cut\", \"cut\", \"cut\", \"d.c\", \"d.c\", \"d.c\", \"d.c\", \"d.c\", \"da\", \"daca\", \"daca\", \"daca\", \"dave\", \"day\", \"day\", \"day\", \"day\", \"day\", \"day\", \"day\", \"day\", \"day\", \"day\", \"dayton\", \"dayton\", \"deal\", \"deal\", \"deal\", \"deal\", \"deal\", \"deal\", \"deal\", \"deal\", \"deal\", \"debate\", \"debate\", \"debate\", \"debate\", \"debate\", \"debate\", \"debate\", \"debate\", \"debatenight\", \"debatenight\", \"deductible\", \"deficit\", \"delete\", \"delusion\", \"democrat\", \"democrat\", \"democrat\", \"democrat\", \"democrat\", \"democrat\", \"democrat\", \"democrat\", \"democrats\", \"democrats\", \"democrats\", \"democrats\", \"democrats\", \"democrats\", \"democrats\", \"democrats\", \"democrats\", \"denuclearization\", \"denuclearization\", \"denuclearization\", \"deplete\", \"derby\", \"desantis\", \"detain\", \"develop\", \"develop\", \"develop\", \"digenova\", \"dinner\", \"dinner\", \"director\", \"director\", \"director\", \"director\", \"director\", \"disclosure\", \"dishonest\", \"dishonest\", \"dishonest\", \"dishonest\", \"dishonest\", \"dishonest\", \"dishonest\", \"dishonesty\", \"disrespect\", \"disrespect\", \"district\", \"district\", \"district\", \"district\", \"district\", \"dollar\", \"dollar\", \"dollar\", \"dollar\", \"dollar\", \"dollar\", \"dollar\", \"donald\", \"donald\", \"donald\", \"donald\", \"donald\", \"donald\", \"donnabrazile\", \"dossier\", \"dossier\", \"dossier\", \"drain\", \"draintheswamp\", \"draintheswamp\", \"draintheswamp\", \"draintheswamp\", \"draintheswamp\", \"draintheswamp\", \"drug\", \"drug\", \"drug\", \"drug\", \"drug\", \"drug\", \"drug\", \"drug\", \"drug\", \"economy\", \"economy\", \"economy\", \"economy\", \"economy\", \"economy\", \"economy\", \"economy\", \"economy\", \"egypt\", \"egypt\", \"election\", \"election\", \"election\", \"election\", \"election\", \"election\", \"election\", \"election\", \"election\", \"elijah\", \"elijah\", \"email\", \"email\", \"email\", \"emmanuelmacron\", \"emmanuelmacron\", \"endorsement\", \"endorsement\", \"endorsement\", \"endorsement\", \"enforcement\", \"enforcement\", \"enforcement\", \"enforcement\", \"enforcement\", \"enforcement\", \"enjoy\", \"enjoy\", \"enjoy\", \"enjoy\", \"enjoy\", \"envy\", \"eradicate\", \"ethanol\", \"evidence\", \"evidence\", \"excuse\", \"excuse\", \"excuse\", \"existent\", \"expedition\", \"eye\", \"eye\", \"fabricate\", \"fact\", \"fact\", \"fact\", \"fact\", \"fact\", \"fact\", \"fact\", \"fact\", \"fact\", \"fact\", \"fail\", \"fail\", \"fail\", \"fail\", \"fail\", \"fail\", \"fail\", \"fake\", \"fake\", \"fake\", \"fake\", \"fake\", \"fake\", \"fake\", \"fake\", \"fake\", \"false\", \"false\", \"false\", \"false\", \"false\", \"false\", \"family\", \"family\", \"family\", \"family\", \"family\", \"family\", \"family\", \"family\", \"family\", \"fantastic\", \"fantastic\", \"fantastic\", \"fantastic\", \"fantastic\", \"fantastic\", \"farmer\", \"farmer\", \"farmer\", \"farmer\", \"fat\", \"fayetteville\", \"fbi\", \"fbi\", \"fbi\", \"fbi\", \"fbi\", \"fed\", \"fed\", \"feed\", \"feed\", \"fighter\", \"fighter\", \"fighter\", \"fighter\", \"fighter\", \"filibuster\", \"finding\", \"fire\", \"fire\", \"fire\", \"fire\", \"fire\", \"fire\", \"fire\", \"fire\", \"fire\", \"firework\", \"fishing\", \"fix\", \"fix\", \"fix\", \"fix\", \"fix\", \"fix\", \"florida\", \"florida\", \"florida\", \"florida\", \"florida\", \"florida\", \"florida\", \"florida\", \"florida\", \"flotus\", \"flotus\", \"forward\", \"forward\", \"forward\", \"forward\", \"forward\", \"forward\", \"forward\", \"forward\", \"foxnew\", \"foxnew\", \"foxnew\", \"foxnew\", \"foxnew\", \"foxnew\", \"foxnew\", \"foxnew\", \"foxnew\", \"france\", \"france\", \"france\", \"france\", \"fred\", \"freedom\", \"freedom\", \"freedom\", \"freedom\", \"freedom\", \"freedom\", \"friday\", \"friday\", \"friday\", \"friend\", \"friend\", \"friend\", \"friend\", \"friend\", \"friend\", \"friend\", \"fusion\", \"gas\", \"gas\", \"gas\", \"gdp\", \"gdp\", \"gee\", \"general\", \"general\", \"general\", \"general\", \"general\", \"general\", \"general\", \"general\", \"general\", \"general\", \"george\", \"george\", \"get\", \"get\", \"get\", \"get\", \"get\", \"get\", \"get\", \"get\", \"get\", \"get\", \"gina\", \"give\", \"give\", \"give\", \"give\", \"give\", \"give\", \"give\", \"give\", \"give\", \"give\", \"globe\", \"go\", \"go\", \"go\", \"go\", \"go\", \"go\", \"go\", \"go\", \"go\", \"go\", \"god\", \"god\", \"good\", \"good\", \"good\", \"good\", \"good\", \"good\", \"good\", \"good\", \"good\", \"good\", \"governor\", \"governor\", \"governor\", \"governor\", \"governor\", \"gps\", \"graham\", \"graham\", \"graham\", \"graham\", \"gratitude\", \"great\", \"great\", \"great\", \"great\", \"great\", \"great\", \"great\", \"great\", \"great\", \"great\", \"greet\", \"grid\", \"growth\", \"growth\", \"growth\", \"growth\", \"guatemala\", \"guy\", \"guy\", \"guy\", \"guy\", \"guy\", \"guy\", \"guy\", \"guy\", \"guy\", \"h.w\", \"hampshire\", \"hampshire\", \"happen\", \"happen\", \"happen\", \"happen\", \"happen\", \"happen\", \"happen\", \"happen\", \"happen\", \"happen\", \"happy\", \"happy\", \"happy\", \"happy\", \"happy\", \"happy\", \"happy\", \"hard\", \"hard\", \"hard\", \"hard\", \"hard\", \"hard\", \"hard\", \"hard\", \"hard\", \"hard\", \"harley\", \"haspel\", \"hate\", \"hate\", \"hate\", \"hate\", \"hate\", \"healthcare\", \"healthcare\", \"healthcare\", \"healthcare\", \"heed\", \"heed\", \"high\", \"high\", \"high\", \"high\", \"high\", \"high\", \"high\", \"high\", \"high\", \"high\", \"hillary\", \"hillary\", \"hillary\", \"hillary\", \"hillary\", \"hillary\", \"hillary\", \"hillaryclinton\", \"hillaryclinton\", \"hillaryclinton\", \"hoax\", \"hoax\", \"homeland\", \"homeland\", \"honduras\", \"honor\", \"honor\", \"honor\", \"honor\", \"honor\", \"honor\", \"host\", \"host\", \"house\", \"house\", \"house\", \"house\", \"house\", \"house\", \"house\", \"house\", \"house\", \"humanitarian\", \"humanitarian\", \"hunt\", \"hunt\", \"hunt\", \"hunt\", \"icymi\", \"icymi\", \"icymi\", \"illegal\", \"illegal\", \"illegal\", \"illegal\", \"illegal\", \"illegal\", \"illegal\", \"illicit\", \"immigrant\", \"immigrant\", \"immigration\", \"immigration\", \"immigration\", \"immigration\", \"immigration\", \"incorrect\", \"incredible\", \"incredible\", \"incredible\", \"incredible\", \"incredible\", \"incredible\", \"incredible\", \"infiltrate\", \"inflation\", \"intellectual\", \"interview\", \"interview\", \"interview\", \"interview\", \"interview\", \"interview\", \"invest\", \"iowa\", \"iowa\", \"iran\", \"iran\", \"iran\", \"iran\", \"iran\", \"iranians\", \"israel\", \"israel\", \"israel\", \"israel\", \"israel\", \"israel\", \"israel\", \"italy\", \"j\", \"j\", \"j\", \"j\", \"j\", \"jackson\", \"jackson\", \"james\", \"james\", \"james\", \"james\", \"james\", \"james\", \"japan\", \"japan\", \"japan\", \"japan\", \"jimhagedornmn\", \"job\", \"job\", \"job\", \"job\", \"job\", \"job\", \"job\", \"job\", \"job\", \"job\", \"jobless\", \"john\", \"john\", \"john\", \"john\", \"john\", \"john\", \"john\", \"john\", \"john\", \"join\", \"join\", \"join\", \"join\", \"join\", \"join\", \"join\", \"join\", \"joint\", \"joint\", \"joint\", \"jong\", \"jong\", \"jong\", \"judy\", \"jump\", \"justice\", \"justice\", \"justice\", \"justice\", \"justice\", \"justice\", \"justice\", \"justice\", \"justice\", \"kanye\", \"kanye\", \"karen\", \"katie\", \"keith\", \"keller\", \"kelly\", \"kelly\", \"kemp\", \"kim\", \"kim\", \"kim\", \"kim\", \"kim\", \"kneel\", \"knight\", \"know\", \"know\", \"know\", \"know\", \"know\", \"know\", \"know\", \"know\", \"know\", \"know\", \"korea\", \"korea\", \"korea\", \"korea\", \"korea\", \"korean\", \"lady\", \"lady\", \"lady\", \"lady\", \"land\", \"land\", \"land\", \"land\", \"land\", \"land\", \"language\", \"language\", \"lavar\", \"law\", \"law\", \"law\", \"law\", \"law\", \"law\", \"law\", \"law\", \"law\", \"law\", \"lawyer\", \"lawyer\", \"lawyer\", \"lawyer\", \"lawyer\", \"lawyer\", \"lawyer\", \"leak\", \"leak\", \"leak\", \"leaker\", \"leave\", \"leave\", \"leave\", \"leave\", \"leave\", \"leave\", \"leave\", \"leave\", \"leave\", \"leave\", \"liar\", \"lie\", \"lie\", \"lie\", \"lie\", \"lie\", \"lie\", \"life\", \"life\", \"life\", \"life\", \"life\", \"life\", \"life\", \"life\", \"life\", \"life\", \"like\", \"like\", \"like\", \"like\", \"like\", \"like\", \"like\", \"like\", \"like\", \"like\", \"lisa\", \"lisa\", \"live\", \"live\", \"live\", \"live\", \"live\", \"live\", \"live\", \"live\", \"look\", \"look\", \"look\", \"look\", \"look\", \"look\", \"look\", \"look\", \"look\", \"look\", \"loophole\", \"lopez\", \"lottery\", \"lou\", \"lou\", \"lou\", \"love\", \"love\", \"love\", \"love\", \"love\", \"love\", \"love\", \"love\", \"love\", \"love\", \"lover\", \"lover\", \"low\", \"low\", \"low\", \"low\", \"low\", \"low\", \"low\", \"low\", \"low\", \"low\", \"luther\", \"luther\", \"maga\", \"maga\", \"maga\", \"maga\", \"maga\", \"maga\", \"maga\", \"mail\", \"makeamericagreatagain\", \"makeamericagreatagain\", \"makeamericagreatagain\", \"man\", \"man\", \"man\", \"man\", \"man\", \"man\", \"man\", \"man\", \"manufacturer\", \"market\", \"market\", \"market\", \"market\", \"marklevinshow\", \"marsha\", \"mattis\", \"mattis\", \"mccabe\", \"mcconnell\", \"mcgahn\", \"meddling\", \"medium\", \"medium\", \"medium\", \"medium\", \"medium\", \"medium\", \"medium\", \"medium\", \"medium\", \"medium\", \"meet\", \"meet\", \"meet\", \"meet\", \"meet\", \"meet\", \"meet\", \"meet\", \"meet\", \"meet\", \"meeting\", \"meeting\", \"meeting\", \"meeting\", \"meeting\", \"meeting\", \"meeting\", \"megan\", \"melania\", \"melania\", \"melania\", \"melbourne\", \"meltdown\", \"memos\", \"merit\", \"merkel\", \"mexico\", \"mexico\", \"mexico\", \"mexico\", \"michigan\", \"michigan\", \"michigan\", \"michigan\", \"michigan\", \"migrant\", \"migration\", \"military\", \"military\", \"military\", \"military\", \"military\", \"military\", \"military\", \"military\", \"military\", \"military\", \"minister\", \"minister\", \"minnesota\", \"minnesota\", \"misdemeanor\", \"mississippi\", \"mississippi\", \"mitch\", \"mob\", \"model\", \"montana\", \"montana\", \"morning\", \"morning\", \"morning\", \"morning\", \"morning\", \"morning\", \"morning\", \"morning\", \"morning\", \"mourn\", \"mourn\", \"mourn\", \"mr\", \"mr\", \"mr\", \"mr\", \"mueller\", \"mueller\", \"mueller\", \"mueller\", \"mueller\", \"murphy\", \"nadler\", \"nang\", \"nation\", \"nation\", \"nation\", \"nation\", \"nation\", \"nation\", \"nation\", \"nation\", \"nation\", \"nation\", \"national\", \"national\", \"national\", \"national\", \"national\", \"national\", \"national\", \"national\", \"national\", \"need\", \"need\", \"need\", \"need\", \"need\", \"need\", \"need\", \"need\", \"need\", \"need\", \"new\", \"new\", \"new\", \"new\", \"new\", \"new\", \"new\", \"new\", \"new\", \"new\", \"news\", \"news\", \"news\", \"news\", \"news\", \"news\", \"news\", \"news\", \"news\", \"nfl\", \"nfl\", \"night\", \"night\", \"night\", \"night\", \"night\", \"night\", \"night\", \"night\", \"north\", \"north\", \"north\", \"north\", \"north\", \"north\", \"north\", \"oath\", \"obama\", \"obama\", \"obama\", \"obama\", \"obama\", \"obama\", \"obama\", \"obama\", \"obamacare\", \"obamacare\", \"obamacare\", \"obamacare\", \"obrador\", \"obstruction\", \"obstruction\", \"obstruction\", \"obstruction\", \"officer\", \"officer\", \"officer\", \"officer\", \"officer\", \"ohio\", \"ohio\", \"ohio\", \"ohio\", \"ohio\", \"ohio\", \"ohr\", \"ohr\", \"ohr\", \"oil\", \"oil\", \"oil\", \"oil\", \"opec\", \"open\", \"open\", \"open\", \"open\", \"open\", \"open\", \"open\", \"open\", \"open\", \"optimism\", \"optimism\", \"oreillyfactor\", \"orlando\", \"orlando\", \"orlando\", \"otto\", \"overflow\", \"owner\", \"owner\", \"p.m\", \"p.m\", \"p.m\", \"p.m\", \"p.m\", \"pack\", \"pack\", \"page\", \"page\", \"panama\", \"paper\", \"party\", \"party\", \"party\", \"party\", \"party\", \"party\", \"party\", \"party\", \"party\", \"paso\", \"paso\", \"paso\", \"paso\", \"pass\", \"pass\", \"pass\", \"pass\", \"pass\", \"pass\", \"pass\", \"pass\", \"passage\", \"path\", \"path\", \"path\", \"path\", \"patrol\", \"patrol\", \"pay\", \"pay\", \"pay\", \"pay\", \"pay\", \"pay\", \"pay\", \"pay\", \"pay\", \"pay\", \"peace\", \"peace\", \"peace\", \"peace\", \"peace\", \"pelosi\", \"pelosi\", \"pelosi\", \"pelosi\", \"pelosi\", \"pence\", \"pence\", \"pence\", \"pennsylvania\", \"pennsylvania\", \"pennsylvania\", \"people\", \"people\", \"people\", \"people\", \"people\", \"people\", \"people\", \"people\", \"people\", \"people\", \"peter\", \"peter\", \"peter\", \"peter\", \"peter\", \"peter\", \"petestauber\", \"philadelphia\", \"phony\", \"phony\", \"phony\", \"phony\", \"phony\", \"pirro\", \"pm\", \"pm\", \"pm\", \"police\", \"police\", \"police\", \"police\", \"police\", \"policy\", \"policy\", \"policy\", \"policy\", \"policy\", \"policy\", \"pray\", \"pray\", \"pray\", \"prayer\", \"prayer\", \"prayer\", \"prayer\", \"prayer\", \"prayer\", \"prayer\", \"precious\", \"premium\", \"president\", \"president\", \"president\", \"president\", \"president\", \"president\", \"president\", \"president\", \"president\", \"president\", \"presidential\", \"presidential\", \"presidential\", \"presidential\", \"presidential\", \"presidential\", \"presidential\", \"presidential\", \"press\", \"press\", \"press\", \"press\", \"press\", \"press\", \"press\", \"prime\", \"prime\", \"product\", \"product\", \"proof\", \"property\", \"puerto\", \"puerto\", \"pump\", \"pundit\", \"putin\", \"putin\", \"putin\", \"quantitative\", \"rally\", \"rally\", \"rally\", \"rally\", \"rally\", \"rally\", \"rally\", \"rally\", \"rally\", \"ralph\", \"rampant\", \"rand\", \"rate\", \"rate\", \"rate\", \"rate\", \"rate\", \"reciprocal\", \"refinery\", \"reform\", \"reform\", \"reform\", \"remembrance\", \"remembrance\", \"reno\", \"repeal\", \"repeal\", \"repeal\", \"replace\", \"replace\", \"replace\", \"replace\", \"replace\", \"replace\", \"report\", \"report\", \"report\", \"report\", \"report\", \"report\", \"report\", \"report\", \"report\", \"reporting\", \"reporting\", \"reporting\", \"reporting\", \"republican\", \"republican\", \"republican\", \"republican\", \"republican\", \"republican\", \"republican\", \"republicans\", \"republicans\", \"republicans\", \"republicans\", \"republicans\", \"republicans\", \"republicans\", \"requirement\", \"reserve\", \"reserve\", \"reset\", \"responder\", \"responder\", \"responder\", \"rex\", \"ricardorossello\", \"rick\", \"rick\", \"rick\", \"rico\", \"rico\", \"rig\", \"rig\", \"roar\", \"roll\", \"ron\", \"ron\", \"ron\", \"rosendale\", \"roy\", \"run\", \"run\", \"run\", \"run\", \"run\", \"run\", \"run\", \"run\", \"run\", \"run\", \"russia\", \"russia\", \"russia\", \"russia\", \"russia\", \"russia\", \"russia\", \"russia\", \"russia\", \"russian\", \"russian\", \"russians\", \"russians\", \"russians\", \"saccone\", \"safety\", \"safety\", \"safety\", \"safety\", \"safety\", \"safety\", \"sanctuary\", \"sanctuary\", \"sanctuary\", \"sanctuary\", \"sanford\", \"saturday\", \"saturday\", \"saturday\", \"saudi\", \"saudi\", \"saudi\", \"saudi\", \"say\", \"say\", \"say\", \"say\", \"say\", \"say\", \"say\", \"say\", \"say\", \"say\", \"scam\", \"scam\", \"scam\", \"scene\", \"scheme\", \"scheme\", \"schiff\", \"schiff\", \"schumer\", \"schumer\", \"schumer\", \"schumer\", \"schumer\", \"schumer\", \"schumer\", \"scott\", \"scott\", \"scott\", \"scott\", \"scott\", \"sean\", \"second\", \"second\", \"second\", \"second\", \"second\", \"second\", \"second\", \"second\", \"second\", \"secretary\", \"secretary\", \"secretary\", \"secretary\", \"secretary\", \"secretary\", \"secure\", \"secure\", \"secure\", \"secure\", \"security\", \"security\", \"security\", \"security\", \"security\", \"security\", \"seldom\", \"seldom\", \"senate\", \"senate\", \"senate\", \"senate\", \"senate\", \"senate\", \"senate\", \"senatemajldr\", \"senator\", \"senator\", \"senator\", \"senator\", \"senator\", \"senator\", \"senator\", \"senator\", \"senator\", \"senator\", \"serve\", \"serve\", \"serve\", \"serve\", \"serve\", \"serve\", \"serve\", \"serve\", \"server\", \"server\", \"service\", \"service\", \"service\", \"service\", \"service\", \"service\", \"service\", \"singapore\", \"singapore\", \"singapore\", \"singapore\", \"soccer\", \"social\", \"social\", \"social\", \"socialist\", \"socialist\", \"southern\", \"southern\", \"speakerryan\", \"spiral\", \"spy\", \"spy\", \"state\", \"state\", \"state\", \"state\", \"state\", \"state\", \"state\", \"state\", \"state\", \"states\", \"states\", \"states\", \"states\", \"states\", \"states\", \"states\", \"states\", \"states\", \"states\", \"steel\", \"steel\", \"steel\", \"stock\", \"stock\", \"stock\", \"stock\", \"stop\", \"stop\", \"stop\", \"stop\", \"stop\", \"stop\", \"stop\", \"stop\", \"stop\", \"story\", \"story\", \"story\", \"story\", \"story\", \"story\", \"story\", \"story\", \"strange\", \"strange\", \"strong\", \"strong\", \"strong\", \"strong\", \"strong\", \"strong\", \"strong\", \"strong\", \"strong\", \"strong\", \"strzok\", \"strzok\", \"summit\", \"summit\", \"summit\", \"summit\", \"summit\", \"summit\", \"support\", \"support\", \"support\", \"support\", \"support\", \"support\", \"support\", \"support\", \"support\", \"support\", \"swamp\", \"sweden\", \"talented\", \"talented\", \"talented\", \"tariff\", \"tariff\", \"tariff\", \"tax\", \"tax\", \"tax\", \"tax\", \"tax\", \"ted\", \"television\", \"television\", \"television\", \"tennessee\", \"tennessee\", \"testimony\", \"testimony\", \"testing\", \"text\", \"thank\", \"thank\", \"thank\", \"thank\", \"thank\", \"thank\", \"thank\", \"thank\", \"thank\", \"thank\", \"theory\", \"theresa\", \"thing\", \"thing\", \"thing\", \"thing\", \"thing\", \"thing\", \"thing\", \"thing\", \"thing\", \"thing\", \"ticket\", \"ticket\", \"tillerson\", \"tillerson\", \"time\", \"time\", \"time\", \"time\", \"time\", \"time\", \"time\", \"time\", \"time\", \"time\", \"times\", \"times\", \"times\", \"times\", \"times\", \"tlaib\", \"today\", \"today\", \"today\", \"today\", \"today\", \"today\", \"today\", \"today\", \"today\", \"today\", \"tomorrow\", \"tomorrow\", \"tomorrow\", \"tomorrow\", \"tomorrow\", \"tomorrow\", \"tomorrow\", \"tomorrow\", \"tonight\", \"tonight\", \"tonight\", \"tonight\", \"tonight\", \"tonight\", \"total\", \"total\", \"total\", \"total\", \"total\", \"total\", \"total\", \"total\", \"total\", \"totally\", \"totally\", \"totally\", \"totally\", \"totally\", \"totally\", \"totally\", \"totally\", \"trade\", \"trade\", \"trade\", \"trade\", \"trade\", \"trade\", \"trafficking\", \"tragedy\", \"tragedy\", \"tragedy\", \"tragic\", \"treason\", \"treason\", \"tribute\", \"trillion\", \"trillion\", \"trillion\", \"troy\", \"troy_balderson\", \"trump\", \"trump\", \"trump\", \"trump\", \"trump\", \"trump\", \"trump\", \"trump\", \"trump\", \"trump\", \"try\", \"try\", \"try\", \"try\", \"try\", \"try\", \"try\", \"try\", \"try\", \"tuesday\", \"tuesday\", \"tuesday\", \"tuesday\", \"type\", \"u.k\", \"u.k\", \"u.s\", \"u.s\", \"u.s\", \"u.s\", \"u.s\", \"u.s\", \"u.s\", \"u.s\", \"u.s\", \"u.s\", \"ultimate\", \"un\", \"un\", \"un\", \"unchecked\", \"unemployment\", \"unemployment\", \"unemployment\", \"unfortunate\", \"unhinge\", \"united\", \"united\", \"united\", \"united\", \"united\", \"united\", \"united\", \"united\", \"united\", \"united\", \"unpopular\", \"v.p\", \"varney\", \"vet\", \"vet\", \"vet\", \"vet\", \"veteran\", \"veteran\", \"veteran\", \"veto\", \"vetting\", \"victim\", \"victim\", \"victim\", \"victim\", \"vietnam\", \"vietnam\", \"vietnam\", \"vietnam\", \"visa\", \"vladimir\", \"vladimir\", \"vote\", \"vote\", \"vote\", \"vote\", \"vote\", \"vote\", \"vote\", \"vote\", \"voting\", \"voting\", \"voting\", \"waiver\", \"wall\", \"wall\", \"wall\", \"wall\", \"wall\", \"wall\", \"wallace\", \"walter\", \"want\", \"want\", \"want\", \"want\", \"want\", \"want\", \"want\", \"want\", \"want\", \"want\", \"war\", \"war\", \"war\", \"war\", \"war\", \"war\", \"war\", \"war\", \"warmbier\", \"wash\", \"washingtonpost\", \"watch\", \"watch\", \"watch\", \"watch\", \"watch\", \"watch\", \"watch\", \"watch\", \"watch\", \"watch\", \"wealth\", \"wealth\", \"wealth\", \"weekly\", \"welcome\", \"welcome\", \"welcome\", \"whitaker\", \"white\", \"white\", \"white\", \"white\", \"white\", \"white\", \"white\", \"whitehouse\", \"whitehouse\", \"wife\", \"wife\", \"wife\", \"wife\", \"wife\", \"wife\", \"wikileaks\", \"wilmington\", \"win\", \"win\", \"win\", \"win\", \"win\", \"win\", \"win\", \"win\", \"win\", \"wish\", \"wish\", \"wish\", \"wish\", \"witch\", \"witch\", \"witch\", \"witch\", \"woman\", \"woman\", \"woman\", \"woman\", \"woman\", \"woman\", \"woman\", \"woman\", \"woman\", \"wonderful\", \"wonderful\", \"wonderful\", \"wonderful\", \"wonderful\", \"wonderful\", \"wonderful\", \"wonderful\", \"wonderful\", \"woodward\", \"work\", \"work\", \"work\", \"work\", \"work\", \"work\", \"work\", \"work\", \"work\", \"work\", \"worker\", \"worker\", \"worker\", \"world\", \"world\", \"world\", \"world\", \"world\", \"world\", \"world\", \"world\", \"world\", \"world\", \"worship\", \"xi\", \"xi\", \"xi\", \"yale\", \"yates\", \"year\", \"year\", \"year\", \"year\", \"year\", \"year\", \"year\", \"year\", \"year\", \"year\", \"zealand\"]}, \"R\": 30, \"lambda.step\": 0.01, \"plot.opts\": {\"xlab\": \"PC1\", \"ylab\": \"PC2\"}, \"topic.order\": [6, 10, 8, 7, 3, 1, 4, 5, 2, 9]};\n",
       "\n",
       "function LDAvis_load_lib(url, callback){\n",
       "  var s = document.createElement('script');\n",
       "  s.src = url;\n",
       "  s.async = true;\n",
       "  s.onreadystatechange = s.onload = callback;\n",
       "  s.onerror = function(){console.warn(\"failed to load library \" + url);};\n",
       "  document.getElementsByTagName(\"head\")[0].appendChild(s);\n",
       "}\n",
       "\n",
       "if(typeof(LDAvis) !== \"undefined\"){\n",
       "   // already loaded: just create the visualization\n",
       "   !function(LDAvis){\n",
       "       new LDAvis(\"#\" + \"ldavis_el18469140655888383216460316232\", ldavis_el18469140655888383216460316232_data);\n",
       "   }(LDAvis);\n",
       "}else if(typeof define === \"function\" && define.amd){\n",
       "   // require.js is available: use it to load d3/LDAvis\n",
       "   require.config({paths: {d3: \"https://d3js.org/d3.v5\"}});\n",
       "   require([\"d3\"], function(d3){\n",
       "      window.d3 = d3;\n",
       "      LDAvis_load_lib(\"https://cdn.jsdelivr.net/gh/bmabey/pyLDAvis@3.2.2/pyLDAvis/js/ldavis.v3.0.0.js\", function(){\n",
       "        new LDAvis(\"#\" + \"ldavis_el18469140655888383216460316232\", ldavis_el18469140655888383216460316232_data);\n",
       "      });\n",
       "    });\n",
       "}else{\n",
       "    // require.js not available: dynamically load d3 & LDAvis\n",
       "    LDAvis_load_lib(\"https://d3js.org/d3.v5.js\", function(){\n",
       "         LDAvis_load_lib(\"https://cdn.jsdelivr.net/gh/bmabey/pyLDAvis@3.2.2/pyLDAvis/js/ldavis.v3.0.0.js\", function(){\n",
       "                 new LDAvis(\"#\" + \"ldavis_el18469140655888383216460316232\", ldavis_el18469140655888383216460316232_data);\n",
       "            })\n",
       "         });\n",
       "}\n",
       "</script>"
      ],
      "text/plain": [
       "<IPython.core.display.HTML object>"
      ]
     },
     "execution_count": 40,
     "metadata": {},
     "output_type": "execute_result"
    }
   ],
   "source": [
    "# display the topics we've found\n",
    "with warnings.catch_warnings():\n",
    "    warnings.simplefilter(\"ignore\")\n",
    "    vis_data1 = gensimvis.prepare(lda_model, bow_corpus, dictionary)\n",
    "pyLDAvis.display(vis_data1)"
   ]
  },
  {
   "cell_type": "markdown",
   "metadata": {},
   "source": [
    "## Sentiment Analysis"
   ]
  },
  {
   "cell_type": "code",
   "execution_count": 41,
   "metadata": {},
   "outputs": [],
   "source": [
    "def sentiment_analyzer(sentences, pos_cutoff = 0.7, neg_cutoff = -0.7):\n",
    "    \"\"\"\n",
    "    Given a list of tweets, return those that contain strong positive/negative sentiments\n",
    "    Args:\n",
    "        sentences: a list containing the indices of tweets in text_data\n",
    "        pos_cutoff: tweets with sentiment scores >= pos_cutoff are classified as positive\n",
    "        neg_cutoff: tweets with sentiment scores <= neg_cutoff are classified as negative\n",
    "    Returns:\n",
    "        pos: a list containing the indices of tweets that are classified as positive\n",
    "        neg: a list containing the indices of tweets that are classified as negative\n",
    "    \"\"\"\n",
    "    analyser  = SentimentIntensityAnalyzer()\n",
    "    pos, neg  = [], []\n",
    "    for i in sentences:\n",
    "        score = analyser.polarity_scores(text_data[i])\n",
    "        #print(\"{:-<40} {}\".format(s, str(score)))\n",
    "        if score['compound']   >= pos_cutoff: # positive comments\n",
    "            pos.append(i)\n",
    "        elif score['compound'] <= neg_cutoff: # negative comments\n",
    "            neg.append(i)\n",
    "    return (pos, neg)"
   ]
  },
  {
   "cell_type": "code",
   "execution_count": 42,
   "metadata": {},
   "outputs": [],
   "source": [
    "pos, neg = sentiment_analyzer(np.arange(len(text_data)))"
   ]
  },
  {
   "cell_type": "code",
   "execution_count": 43,
   "metadata": {},
   "outputs": [
    {
     "data": {
      "text/plain": [
       "1076"
      ]
     },
     "execution_count": 43,
     "metadata": {},
     "output_type": "execute_result"
    }
   ],
   "source": [
    "len(neg)"
   ]
  },
  {
   "cell_type": "code",
   "execution_count": 44,
   "metadata": {},
   "outputs": [
    {
     "data": {
      "text/plain": [
       "2573"
      ]
     },
     "execution_count": 44,
     "metadata": {},
     "output_type": "execute_result"
    }
   ],
   "source": [
    "len(pos)"
   ]
  },
  {
   "cell_type": "code",
   "execution_count": 45,
   "metadata": {},
   "outputs": [
    {
     "data": {
      "text/plain": [
       "8411"
      ]
     },
     "execution_count": 45,
     "metadata": {},
     "output_type": "execute_result"
    }
   ],
   "source": [
    "len(text_data)"
   ]
  },
  {
   "cell_type": "code",
   "execution_count": 46,
   "metadata": {},
   "outputs": [
    {
     "data": {
      "text/plain": [
       "'We are all united by the same love of Country the same devotion to family and the same profound faith that America is blessed by the eternal grace of ALMIGHTY GOD! Bound by these convictions we will campaign for every vote &amp; we will WIN the Great State of NEW MEXICO in 2020! '"
      ]
     },
     "execution_count": 46,
     "metadata": {},
     "output_type": "execute_result"
    }
   ],
   "source": [
    "# Positive sentence example\n",
    "text_data[pos[20]]"
   ]
  },
  {
   "cell_type": "code",
   "execution_count": 47,
   "metadata": {},
   "outputs": [
    {
     "data": {
      "text/plain": [
       "'The New York Times is now blaming an editor for the horrible mistake they made in trying to destroy or influence Justice Brett Kavanaugh. It wasn’t the editor the Times knew everything. They are sick and desperate losing in so many ways!'"
      ]
     },
     "execution_count": 47,
     "metadata": {},
     "output_type": "execute_result"
    }
   ],
   "source": [
    "# Negtive sentence example\n",
    "\n",
    "text_data[neg[10]]"
   ]
  },
  {
   "cell_type": "markdown",
   "metadata": {},
   "source": [
    "# Movie review example"
   ]
  },
  {
   "cell_type": "code",
   "execution_count": 48,
   "metadata": {},
   "outputs": [
    {
     "name": "stderr",
     "output_type": "stream",
     "text": [
      "[nltk_data] Downloading package movie_reviews to\n",
      "[nltk_data]     /home/ilai0/nltk_data...\n",
      "[nltk_data]   Unzipping corpora/movie_reviews.zip.\n"
     ]
    },
    {
     "data": {
      "text/plain": [
       "True"
      ]
     },
     "execution_count": 48,
     "metadata": {},
     "output_type": "execute_result"
    }
   ],
   "source": [
    "import nltk\n",
    "from nltk.corpus import movie_reviews\n",
    "nltk.download('movie_reviews')"
   ]
  },
  {
   "cell_type": "code",
   "execution_count": 49,
   "metadata": {},
   "outputs": [],
   "source": [
    "data = dict(pos = movie_reviews.fileids('pos'),\n",
    "            neg = movie_reviews.fileids('neg'))"
   ]
  },
  {
   "cell_type": "code",
   "execution_count": 50,
   "metadata": {},
   "outputs": [],
   "source": [
    "def get_review_text (clf,file_id,start=0,end=None):\n",
    "    words = list(movie_reviews.words(data[clf][file_id]))\n",
    "    return ' '.join(words[start:end])"
   ]
  },
  {
   "cell_type": "code",
   "execution_count": 51,
   "metadata": {},
   "outputs": [
    {
     "name": "stdout",
     "output_type": "stream",
     "text": [
      "films adapted from comic books have had plenty of success , whether they ' re about superheroes ( batman , superman , spawn ) , or geared toward kids ( casper ) or the arthouse crowd ( ghost world ) , but there ' s never really been a comic book like from hell before . for starters , it was created by alan moore ( and eddie campbell ) , who brought the medium to a whole new level in the mid ' 80s with a 12 - part series called the watchmen .\n"
     ]
    }
   ],
   "source": [
    "# Positive movie example\n",
    "print(get_review_text('pos',0,end=95))"
   ]
  },
  {
   "cell_type": "code",
   "execution_count": 52,
   "metadata": {},
   "outputs": [
    {
     "name": "stdout",
     "output_type": "stream",
     "text": [
      "critique : a mind - fuck movie for the teen generation that touches on a very cool idea , but presents it in a very bad package . which is what makes this review an even harder one to write , since i generally applaud films which attempt to break the mold , mess with your head and such ( lost highway & memento ) , but there are good and bad ways of making all types of films , and these folks just didn ' t snag this one correctly . they seem to have taken this pretty neat concept , but executed it terribly . so what are the problems with the movie ? well , its main problem is that it ' s simply too jumbled .\n"
     ]
    }
   ],
   "source": [
    "# Negative movice example\n",
    "print(get_review_text('neg',0,start=61,end=191))"
   ]
  },
  {
   "cell_type": "code",
   "execution_count": 53,
   "metadata": {},
   "outputs": [],
   "source": [
    "def unigram_features (words):\n",
    "    \"\"\"\n",
    "    This is the simplest possible feature representation of a document.\n",
    "\n",
    "    Each word is a feature.\n",
    "    \"\"\"\n",
    "    return dict((word, True) for word in words)\n",
    "\n",
    "\n",
    "def extract_features (corpus, file_ids, cls, feature_extractor=unigram_features):\n",
    "    \"\"\"\n",
    "    Turn a set of files all belonging to one class into a list\n",
    "    of (feature dictionary, cls) pairs, to be used in testing or training\n",
    "    a classifier.\n",
    "    \"\"\"\n",
    "    return [(feature_extractor(corpus.words(i)), cls) for i in file_ids]\n",
    "\n",
    "\n",
    "def get_words_from_corpus (corpus, file_ids):\n",
    "\n",
    "    for file_id in file_ids:\n",
    "        words = corpus.words(file_id)\n",
    "        for word in words:\n",
    "            yield word\n"
   ]
  },
  {
   "cell_type": "code",
   "execution_count": 54,
   "metadata": {},
   "outputs": [],
   "source": [
    "# Use 70% as training data and 30% as test data\n",
    "test_start_index = 700\n",
    "\n",
    "\n",
    "# Training set\n",
    "neg_training = extract_features(movie_reviews, data['neg'][:test_start_index], 'neg',\n",
    "                                feature_extractor=unigram_features)\n",
    "\n",
    "pos_training = extract_features(movie_reviews, data['pos'][:test_start_index],'pos',\n",
    "                                feature_extractor=unigram_features)\n",
    "\n",
    "train_set = pos_training + neg_training\n",
    "\n",
    "# Test set\n",
    "neg_test = extract_features(movie_reviews, data['neg'][test_start_index:], 'neg',\n",
    "                                feature_extractor=unigram_features)\n",
    "\n",
    "pos_test = extract_features(movie_reviews, data['pos'][test_start_index:],'pos',\n",
    "                                feature_extractor=unigram_features)\n",
    "\n",
    "test_set = pos_test + neg_test"
   ]
  },
  {
   "cell_type": "markdown",
   "metadata": {},
   "source": [
    "## Naive Bayes Classifier"
   ]
  },
  {
   "cell_type": "code",
   "execution_count": 56,
   "metadata": {},
   "outputs": [],
   "source": [
    "from nltk.classify import NaiveBayesClassifier\n",
    "\n",
    "classifier = NaiveBayesClassifier.train(train_set)"
   ]
  },
  {
   "cell_type": "code",
   "execution_count": 57,
   "metadata": {},
   "outputs": [
    {
     "name": "stdout",
     "output_type": "stream",
     "text": [
      "****Positive review****\n",
      "films adapted from comic books have had plenty of success , whether they ' re about superheroes ( batman , superman , spawn ) , or geared toward kids ( casper ) or the arthouse crowd ( ghost world ) , but there ' s never really been a comic book like from hell before . for starters , it was created by alan moore ( and eddie campbell ) , who brought the medium to a whole new level in the mid ' 80s with a 12 - part series called the watchmen .\n",
      "\n",
      ". . . . . . \n",
      "\n",
      "****Negative review****\n",
      ", but cinematographer peter deming ( don ' t say a word ) ably captures the dreariness of victorian - era london and helped make the flashy killing scenes remind me of the crazy flashbacks in twin peaks , even though the violence in the film pales in comparison to that in the black - and - white comic . oscar winner martin childs ' ( shakespeare in love ) production design turns the original prague surroundings into one creepy place . even the acting in from hell is solid , with the dreamy depp turning in a typically strong performance and deftly handling a british accent . ians holm ( joe gould ' s secret ) and richardson ( 102 dalmatians ) log in great supporting roles , but the big surprise here is graham . i cringed the first time she opened her mouth , imagining her attempt at an irish accent , but it actually wasn ' t half bad . the film , however , is all good . 2 : 00 - r for strong violence / gore , sexuality , language and drug content\n"
     ]
    }
   ],
   "source": [
    "# Conflict comments in one review (difficuly in the task)\n",
    "\n",
    "# Positive review\n",
    "print(\"****Positive review****\")\n",
    "print (get_review_text('pos',0,end=95))\n",
    "\n",
    "print ('\\n. . . . . . \\n')\n",
    "\n",
    "print(\"****Negative review****\")\n",
    "\n",
    "# Negative review at the same time\n",
    "print (get_review_text('pos',0,start=-190))"
   ]
  },
  {
   "cell_type": "code",
   "execution_count": 59,
   "metadata": {},
   "outputs": [
    {
     "data": {
      "text/plain": [
       "'pos'"
      ]
     },
     "execution_count": 59,
     "metadata": {},
     "output_type": "execute_result"
    }
   ],
   "source": [
    "classifier.classify(train_set[0][0])"
   ]
  },
  {
   "cell_type": "markdown",
   "metadata": {},
   "source": [
    "### Most informative features"
   ]
  },
  {
   "cell_type": "code",
   "execution_count": 60,
   "metadata": {},
   "outputs": [
    {
     "name": "stdout",
     "output_type": "stream",
     "text": [
      "Most Informative Features\n",
      "             outstanding = True              pos : neg    =     17.8 : 1.0\n",
      "              vulnerable = True              pos : neg    =     12.3 : 1.0\n",
      "               insulting = True              neg : pos    =     11.7 : 1.0\n",
      "             uninvolving = True              neg : pos    =     11.7 : 1.0\n",
      "                  avoids = True              pos : neg    =     11.0 : 1.0\n",
      "               ludicrous = True              neg : pos    =     11.0 : 1.0\n",
      "                 idiotic = True              neg : pos    =      9.8 : 1.0\n",
      "                flawless = True              pos : neg    =      9.8 : 1.0\n",
      "               affecting = True              pos : neg    =      9.7 : 1.0\n",
      "                riveting = True              pos : neg    =      9.7 : 1.0\n"
     ]
    }
   ],
   "source": [
    "classifier.show_most_informative_features()"
   ]
  },
  {
   "cell_type": "code",
   "execution_count": 61,
   "metadata": {},
   "outputs": [],
   "source": [
    "from sklearn.metrics import precision_score, recall_score,accuracy_score\n",
    "\n",
    "def do_evaluation (pairs, pos_label='pos'):\n",
    "    predicted, actual = zip(*pairs)\n",
    "    (precision, recall,accuracy) = (precision_score(actual,predicted,pos_label=pos_label),\n",
    "                                    recall_score(actual,predicted,pos_label=pos_label),\n",
    "                                    accuracy_score(actual,predicted))\n",
    "\n",
    "    print_results(precision, recall, accuracy, pos_label)\n",
    "    \n",
    "\n",
    "def print_results (precision, recall, accuracy, pos_label):\n",
    "    banner =  'Evaluation with pos label = %s' % pos_label\n",
    "    print('\\n')\n",
    "    print(banner)\n",
    "    print ('=' * len(banner))\n",
    "    print ('{0:10s} {1:.1f}'.format('Precision',precision*100))\n",
    "    print ('{0:10s} {1:.1f}'.format('Recall',recall*100))\n",
    "    print ('{0:10s} {1:.1f}'.format('Accuracy',accuracy*100))\n"
   ]
  },
  {
   "cell_type": "code",
   "execution_count": 62,
   "metadata": {},
   "outputs": [
    {
     "name": "stdout",
     "output_type": "stream",
     "text": [
      "0.72\n"
     ]
    }
   ],
   "source": [
    "pairs = [(classifier.classify(example), actual)\n",
    "            for (example, actual) in test_set]\n",
    "temp =np.array([pairs[i][0]==pairs[i][1]for i in range(len(pairs))])\n",
    "acc = np.sum(temp)/temp.shape[0]\n",
    "print(acc)"
   ]
  },
  {
   "cell_type": "markdown",
   "metadata": {},
   "source": [
    "## Logistic regression"
   ]
  },
  {
   "cell_type": "code",
   "execution_count": 63,
   "metadata": {},
   "outputs": [],
   "source": [
    "from nltk.classify.scikitlearn import SklearnClassifier\n",
    "from sklearn.linear_model import LogisticRegression\n",
    "\n",
    "classifier = SklearnClassifier(LogisticRegression()).train(train_set)"
   ]
  },
  {
   "cell_type": "code",
   "execution_count": 64,
   "metadata": {},
   "outputs": [
    {
     "name": "stdout",
     "output_type": "stream",
     "text": [
      "0.8816666666666667\n"
     ]
    }
   ],
   "source": [
    "pairs = [(classifier.classify(example), actual)\n",
    "            for (example, actual) in test_set]\n",
    "temp =np.array([pairs[i][0]==pairs[i][1]for i in range(len(pairs))])\n",
    "acc = np.sum(temp)/temp.shape[0]\n",
    "print(acc)"
   ]
  },
  {
   "cell_type": "markdown",
   "metadata": {},
   "source": [
    "# Hotel review example"
   ]
  },
  {
   "cell_type": "markdown",
   "metadata": {},
   "source": [
    "http://kavita-ganesan.com/entity-ranking-data/#.YoQAR5qZPjg"
   ]
  },
  {
   "cell_type": "markdown",
   "metadata": {},
   "source": [
    "# Word2vec"
   ]
  },
  {
   "cell_type": "code",
   "execution_count": 96,
   "metadata": {},
   "outputs": [],
   "source": [
    "# Use truncated SVD to reduce dimension\n",
    "def reduce_to_k_dim(M, k=2):  \n",
    "    n_iters = 10     # Use this parameter in your call to `TruncatedSVD`\n",
    "    M_reduced = None\n",
    "    print(\"Running Truncated SVD over %i words...\" % (M.shape[0]))\n",
    "\n",
    "    from sklearn.decomposition import TruncatedSVD\n",
    "    svd = TruncatedSVD(n_components = k, n_iter = n_iters,random_state = 1)\n",
    "    #a   = svd.fit(M)\n",
    "    M_reduced = svd.fit_transform(M)\n",
    "    print(\"Done.\")\n",
    "    return M_reduced"
   ]
  },
  {
   "cell_type": "code",
   "execution_count": 97,
   "metadata": {},
   "outputs": [],
   "source": [
    "def get_matrix_of_vectors(wv_from_bin):\n",
    "    import random\n",
    "    words = list(wv_from_bin.key_to_index.keys())\n",
    "    print(\"Shuffling words ...\")\n",
    "    random.shuffle(words)\n",
    "    print(\"Putting %i words into word2Ind and matrix M...\" % len(words))\n",
    "    word2Ind = {}\n",
    "    M = []\n",
    "    curInd = 0\n",
    "    for w in words:\n",
    "        try:\n",
    "            M.append(wv_from_bin.word_vec(w))\n",
    "            word2Ind[w] = curInd\n",
    "            curInd += 1\n",
    "        except KeyError:\n",
    "            continue\n",
    "    M = np.stack(M)\n",
    "    print(\"Done.\")\n",
    "    return M, word2Ind"
   ]
  },
  {
   "cell_type": "code",
   "execution_count": 98,
   "metadata": {},
   "outputs": [],
   "source": [
    "def plot_embeddings(M_reduced, word2Ind, words):\n",
    "    import matplotlib.pyplot as plt\n",
    "    plt.figure(figsize = (12,8))\n",
    "    for i,word in enumerate(words):\n",
    "        x = M_reduced[(word2Ind.get(word),0)]\n",
    "        y = M_reduced[(word2Ind.get(word),1)]\n",
    "        plt.scatter(x, y, marker='x', color='red')\n",
    "        plt.text(x+0.01, y+0.01, word, fontsize=18)\n",
    "\n",
    "    plt.show()"
   ]
  },
  {
   "cell_type": "code",
   "execution_count": 99,
   "metadata": {},
   "outputs": [
    {
     "name": "stdout",
     "output_type": "stream",
     "text": [
      "b\"Oct 12 2009 \\tNice trendy hotel location not too bad.\\tI stayed in this hotel for one night. As this is a fairly new place some of the taxi drivers did not know where it was and/or did not want to drive there. Once I have eventually arrived at the hotel, I was very pleasantly surprised with the decor of the lobby/ground floor area. It was very stylish and modern. I found the reception's staff geeting me with 'Aloha' a bit out of place, but I guess they are briefed to say that to keep up the coroporate image.As I have a Starwood Preferred Guest member, I was given a small gift upon-check in. It was only a couple of fridge magnets in a gift box, but nevertheless a nice gesture.My room was nice and roomy, there are tea and coffee facilities in each room and you get two complimentary bottles of water plus some toiletries by 'bliss'.The location is not great. It is at the last metro stop and you then need to take a taxi, but if you are not planning on going to see the historic sites in Beijing, then you will be ok.I chose to have some breakfast in the hotel, which was really tasty and there was a good selection of dishes. There are a couple of computers to use in the communal area, as well as a pool table. There is also a small swimming pool and a gym area.I would definitely stay in this hotel again, but only if I did not plan to travel to central Beijing, as it can take a long time. The location is ok if you plan to do a lot of shopping, as there is a big shopping centre just few minutes away from the hotel and there are plenty of eating options around, including restaurants that serve a dog meat!\\t\\r\\n\"\n"
     ]
    }
   ],
   "source": [
    "import gzip\n",
    "import logging\n",
    "\n",
    "data_file=_DATA_DIR+\"reviews_data.txt.gz\"\n",
    "\n",
    "with gzip.open (_DATA_DIR+'reviews_data.txt.gz', 'rb') as f:\n",
    "    for i,line in enumerate (f):\n",
    "        print(line)\n",
    "        break"
   ]
  },
  {
   "cell_type": "code",
   "execution_count": 100,
   "metadata": {},
   "outputs": [],
   "source": [
    "def read_input(input_file):\n",
    "    \"\"\"This method reads the input file which is in gzip format\"\"\"\n",
    "    \n",
    "    \n",
    "    with gzip.open (input_file, 'rb') as f:\n",
    "        for i, line in enumerate (f): \n",
    "\n",
    "            # do some pre-processing and return a list of words for each review text\n",
    "            yield gensim.utils.simple_preprocess (line)\n",
    "\n",
    "# read the tokenized reviews into a list\n",
    "# each review item becomes a serries of words\n",
    "# so this becomes a list of lists\n",
    "documents = list (read_input (data_file))"
   ]
  },
  {
   "cell_type": "code",
   "execution_count": 101,
   "metadata": {},
   "outputs": [
    {
     "data": {
      "text/plain": [
       "(303494685, 415193550)"
      ]
     },
     "execution_count": 101,
     "metadata": {},
     "output_type": "execute_result"
    }
   ],
   "source": [
    "model = gensim.models.Word2Vec (documents, window=10, min_count=2, workers=10)\n",
    "model.train(documents,total_examples=len(documents),epochs=10)"
   ]
  },
  {
   "cell_type": "code",
   "execution_count": 102,
   "metadata": {},
   "outputs": [
    {
     "data": {
      "text/plain": [
       "[('filthy', 0.8889460563659668),\n",
       " ('stained', 0.8082396984100342),\n",
       " ('unclean', 0.8022788166999817),\n",
       " ('grubby', 0.7974606156349182),\n",
       " ('dusty', 0.7963510751724243),\n",
       " ('smelly', 0.7929028272628784),\n",
       " ('dingy', 0.7699029445648193),\n",
       " ('grimy', 0.7560853958129883),\n",
       " ('soiled', 0.7536424994468689),\n",
       " ('disgusting', 0.7458583116531372)]"
      ]
     },
     "execution_count": 102,
     "metadata": {},
     "output_type": "execute_result"
    }
   ],
   "source": [
    "w1 = \"dirty\"\n",
    "model.wv.most_similar (positive=w1)"
   ]
  },
  {
   "cell_type": "code",
   "execution_count": 103,
   "metadata": {},
   "outputs": [
    {
     "data": {
      "text/plain": [
       "[('courteous', 0.9336776733398438),\n",
       " ('friendly', 0.8685598373413086),\n",
       " ('cordial', 0.8514259457588196),\n",
       " ('curteous', 0.827193558216095),\n",
       " ('professional', 0.8222639560699463),\n",
       " ('attentive', 0.819309651851654)]"
      ]
     },
     "execution_count": 103,
     "metadata": {},
     "output_type": "execute_result"
    }
   ],
   "source": [
    "# look up top 6 words similar to 'polite'\n",
    "w1 = [\"polite\"]\n",
    "model.wv.most_similar (positive=w1,topn=6)"
   ]
  },
  {
   "cell_type": "code",
   "execution_count": 104,
   "metadata": {},
   "outputs": [
    {
     "data": {
      "text/plain": [
       "[('germany', 0.7368361353874207),\n",
       " ('canada', 0.7156102657318115),\n",
       " ('spain', 0.6930522918701172),\n",
       " ('england', 0.6686482429504395),\n",
       " ('russia', 0.6552983522415161),\n",
       " ('mexico', 0.6542390584945679)]"
      ]
     },
     "execution_count": 104,
     "metadata": {},
     "output_type": "execute_result"
    }
   ],
   "source": [
    "# look up top 6 words similar to 'france'\n",
    "w1 = [\"france\"]\n",
    "model.wv.most_similar (positive=w1,topn=6)"
   ]
  },
  {
   "cell_type": "code",
   "execution_count": 105,
   "metadata": {},
   "outputs": [
    {
     "data": {
      "text/plain": [
       "[('duvet', 0.7731807827949524),\n",
       " ('mattress', 0.7619080543518066),\n",
       " ('quilt', 0.7378724217414856),\n",
       " ('matress', 0.733214795589447),\n",
       " ('blanket', 0.7317253947257996),\n",
       " ('pillowcase', 0.730722188949585),\n",
       " ('pillowcases', 0.6667075753211975),\n",
       " ('foam', 0.6657423377037048),\n",
       " ('pillows', 0.664311945438385),\n",
       " ('sheets', 0.6577041149139404)]"
      ]
     },
     "execution_count": 105,
     "metadata": {},
     "output_type": "execute_result"
    }
   ],
   "source": [
    "# get everything related to stuff on the bed\n",
    "w1 = [\"bed\",'sheet','pillow']\n",
    "w2 = ['couch']\n",
    "model.wv.most_similar (positive=w1,negative=w2,topn=10)"
   ]
  },
  {
   "cell_type": "code",
   "execution_count": 106,
   "metadata": {},
   "outputs": [
    {
     "data": {
      "text/plain": [
       "[('beds', 0.4494054913520813),\n",
       " ('conditiona', 0.38032662868499756),\n",
       " ('paned', 0.3704121708869934),\n",
       " ('bedlinens', 0.36778679490089417),\n",
       " ('bedgood', 0.36244529485702515),\n",
       " ('decker', 0.3618466258049011),\n",
       " ('deckers', 0.34756702184677124),\n",
       " ('glazing', 0.34623438119888306),\n",
       " ('fivestar', 0.34439337253570557),\n",
       " ('tempuratures', 0.3399982452392578)]"
      ]
     },
     "execution_count": 106,
     "metadata": {},
     "output_type": "execute_result"
    }
   ],
   "source": [
    "# get everything related to stuff on the bed\n",
    "w1 = ['bed']\n",
    "w2 = ['couch']\n",
    "model.wv.most_similar (positive=w1,negative=w2,topn=10)"
   ]
  },
  {
   "cell_type": "code",
   "execution_count": 107,
   "metadata": {},
   "outputs": [
    {
     "data": {
      "text/plain": [
       "'france'"
      ]
     },
     "execution_count": 107,
     "metadata": {},
     "output_type": "execute_result"
    }
   ],
   "source": [
    "# Which one is the odd one out in this list?\n",
    "model.wv.doesnt_match([\"cat\",\"dog\",\"france\"])"
   ]
  },
  {
   "cell_type": "code",
   "execution_count": 108,
   "metadata": {},
   "outputs": [
    {
     "data": {
      "text/plain": [
       "'shower'"
      ]
     },
     "execution_count": 108,
     "metadata": {},
     "output_type": "execute_result"
    }
   ],
   "source": [
    "# Which one is the odd one out in this list?\n",
    "model.wv.doesnt_match([\"bed\",\"pillow\",\"duvet\",\"shower\"])"
   ]
  },
  {
   "cell_type": "code",
   "execution_count": 109,
   "metadata": {},
   "outputs": [
    {
     "data": {
      "text/plain": [
       "<gensim.models.keyedvectors.Word2VecKeyedVectors at 0x7fed004b39e8>"
      ]
     },
     "execution_count": 109,
     "metadata": {},
     "output_type": "execute_result"
    }
   ],
   "source": [
    "model.wv"
   ]
  },
  {
   "cell_type": "code",
   "execution_count": 110,
   "metadata": {},
   "outputs": [
    {
     "ename": "AttributeError",
     "evalue": "'Word2VecKeyedVectors' object has no attribute 'key_to_index'",
     "output_type": "error",
     "traceback": [
      "\u001b[0;31m---------------------------------------------------------------------------\u001b[0m",
      "\u001b[0;31mAttributeError\u001b[0m                            Traceback (most recent call last)",
      "\u001b[0;32m<ipython-input-110-6651b60d6e1a>\u001b[0m in \u001b[0;36m<module>\u001b[0;34m\u001b[0m\n\u001b[0;32m----> 1\u001b[0;31m \u001b[0mM\u001b[0m\u001b[0;34m,\u001b[0m \u001b[0mword2Ind\u001b[0m \u001b[0;34m=\u001b[0m \u001b[0mget_matrix_of_vectors\u001b[0m\u001b[0;34m(\u001b[0m\u001b[0mmodel\u001b[0m\u001b[0;34m.\u001b[0m\u001b[0mwv\u001b[0m\u001b[0;34m)\u001b[0m\u001b[0;34m\u001b[0m\u001b[0;34m\u001b[0m\u001b[0m\n\u001b[0m",
      "\u001b[0;32m<ipython-input-97-31dd2633fc65>\u001b[0m in \u001b[0;36mget_matrix_of_vectors\u001b[0;34m(wv_from_bin)\u001b[0m\n\u001b[1;32m      1\u001b[0m \u001b[0;32mdef\u001b[0m \u001b[0mget_matrix_of_vectors\u001b[0m\u001b[0;34m(\u001b[0m\u001b[0mwv_from_bin\u001b[0m\u001b[0;34m)\u001b[0m\u001b[0;34m:\u001b[0m\u001b[0;34m\u001b[0m\u001b[0;34m\u001b[0m\u001b[0m\n\u001b[1;32m      2\u001b[0m     \u001b[0;32mimport\u001b[0m \u001b[0mrandom\u001b[0m\u001b[0;34m\u001b[0m\u001b[0;34m\u001b[0m\u001b[0m\n\u001b[0;32m----> 3\u001b[0;31m     \u001b[0mwords\u001b[0m \u001b[0;34m=\u001b[0m \u001b[0mlist\u001b[0m\u001b[0;34m(\u001b[0m\u001b[0mwv_from_bin\u001b[0m\u001b[0;34m.\u001b[0m\u001b[0mkey_to_index\u001b[0m\u001b[0;34m.\u001b[0m\u001b[0mkeys\u001b[0m\u001b[0;34m(\u001b[0m\u001b[0;34m)\u001b[0m\u001b[0;34m)\u001b[0m\u001b[0;34m\u001b[0m\u001b[0;34m\u001b[0m\u001b[0m\n\u001b[0m\u001b[1;32m      4\u001b[0m     \u001b[0mprint\u001b[0m\u001b[0;34m(\u001b[0m\u001b[0;34m\"Shuffling words ...\"\u001b[0m\u001b[0;34m)\u001b[0m\u001b[0;34m\u001b[0m\u001b[0;34m\u001b[0m\u001b[0m\n\u001b[1;32m      5\u001b[0m     \u001b[0mrandom\u001b[0m\u001b[0;34m.\u001b[0m\u001b[0mshuffle\u001b[0m\u001b[0;34m(\u001b[0m\u001b[0mwords\u001b[0m\u001b[0;34m)\u001b[0m\u001b[0;34m\u001b[0m\u001b[0;34m\u001b[0m\u001b[0m\n",
      "\u001b[0;31mAttributeError\u001b[0m: 'Word2VecKeyedVectors' object has no attribute 'key_to_index'"
     ]
    }
   ],
   "source": [
    "M, word2Ind = get_matrix_of_vectors(model.wv)"
   ]
  },
  {
   "cell_type": "code",
   "execution_count": 83,
   "metadata": {},
   "outputs": [
    {
     "ename": "NameError",
     "evalue": "name 'M' is not defined",
     "output_type": "error",
     "traceback": [
      "\u001b[0;31m---------------------------------------------------------------------------\u001b[0m",
      "\u001b[0;31mNameError\u001b[0m                                 Traceback (most recent call last)",
      "\u001b[0;32m<ipython-input-83-35f9b9e2027c>\u001b[0m in \u001b[0;36m<module>\u001b[0;34m\u001b[0m\n\u001b[1;32m      1\u001b[0m \u001b[0;31m# truncated 2D word2vec matrix\u001b[0m\u001b[0;34m\u001b[0m\u001b[0;34m\u001b[0m\u001b[0;34m\u001b[0m\u001b[0m\n\u001b[0;32m----> 2\u001b[0;31m \u001b[0mM_reduced\u001b[0m \u001b[0;34m=\u001b[0m \u001b[0mreduce_to_k_dim\u001b[0m\u001b[0;34m(\u001b[0m\u001b[0mM\u001b[0m\u001b[0;34m,\u001b[0m \u001b[0mk\u001b[0m\u001b[0;34m=\u001b[0m\u001b[0;36m2\u001b[0m\u001b[0;34m)\u001b[0m\u001b[0;34m\u001b[0m\u001b[0;34m\u001b[0m\u001b[0m\n\u001b[0m",
      "\u001b[0;31mNameError\u001b[0m: name 'M' is not defined"
     ]
    }
   ],
   "source": [
    "# truncated 2D word2vec matrix\n",
    "M_reduced = reduce_to_k_dim(M, k=2)"
   ]
  },
  {
   "cell_type": "code",
   "execution_count": 82,
   "metadata": {},
   "outputs": [
    {
     "ename": "NameError",
     "evalue": "name 'M_reduced' is not defined",
     "output_type": "error",
     "traceback": [
      "\u001b[0;31m---------------------------------------------------------------------------\u001b[0m",
      "\u001b[0;31mNameError\u001b[0m                                 Traceback (most recent call last)",
      "\u001b[0;32m<ipython-input-82-21cacddb6e7f>\u001b[0m in \u001b[0;36m<module>\u001b[0;34m\u001b[0m\n\u001b[1;32m      1\u001b[0m \u001b[0;31m# 2D visualization\u001b[0m\u001b[0;34m\u001b[0m\u001b[0;34m\u001b[0m\u001b[0;34m\u001b[0m\u001b[0m\n\u001b[1;32m      2\u001b[0m \u001b[0mwords\u001b[0m \u001b[0;34m=\u001b[0m \u001b[0;34m[\u001b[0m\u001b[0;34m\"bad\"\u001b[0m\u001b[0;34m,\u001b[0m\u001b[0;34m\"free\"\u001b[0m\u001b[0;34m,\u001b[0m\u001b[0;34m\"wonderful\"\u001b[0m\u001b[0;34m,\u001b[0m\u001b[0;34m\"clean\"\u001b[0m\u001b[0;34m,\u001b[0m\u001b[0;34m\"quiet\"\u001b[0m\u001b[0;34m,\u001b[0m\u001b[0;34m\"impressive\"\u001b[0m\u001b[0;34m,\u001b[0m\u001b[0;34m\"terrible\"\u001b[0m\u001b[0;34m,\u001b[0m\u001b[0;34m\"good\"\u001b[0m\u001b[0;34m]\u001b[0m\u001b[0;34m\u001b[0m\u001b[0;34m\u001b[0m\u001b[0m\n\u001b[0;32m----> 3\u001b[0;31m \u001b[0mplot_embeddings\u001b[0m\u001b[0;34m(\u001b[0m\u001b[0mM_reduced\u001b[0m\u001b[0;34m,\u001b[0m \u001b[0mword2Ind\u001b[0m\u001b[0;34m,\u001b[0m \u001b[0mwords\u001b[0m\u001b[0;34m)\u001b[0m\u001b[0;34m\u001b[0m\u001b[0;34m\u001b[0m\u001b[0m\n\u001b[0m",
      "\u001b[0;31mNameError\u001b[0m: name 'M_reduced' is not defined"
     ]
    }
   ],
   "source": [
    "# 2D visualization\n",
    "words = [\"bad\",\"free\",\"wonderful\",\"clean\",\"quiet\",\"impressive\",\"terrible\",\"good\"]\n",
    "plot_embeddings(M_reduced, word2Ind, words)"
   ]
  },
  {
   "cell_type": "code",
   "execution_count": 79,
   "metadata": {},
   "outputs": [
    {
     "data": {
      "text/plain": [
       "0.5281647145748138"
      ]
     },
     "execution_count": 79,
     "metadata": {},
     "output_type": "execute_result"
    }
   ],
   "source": [
    "model.wv.distance(\"happy\",\"glad\")"
   ]
  },
  {
   "cell_type": "code",
   "execution_count": 80,
   "metadata": {},
   "outputs": [
    {
     "data": {
      "text/plain": [
       "0.7658413201570511"
      ]
     },
     "execution_count": 80,
     "metadata": {},
     "output_type": "execute_result"
    }
   ],
   "source": [
    "model.wv.distance(\"happy\",\"bad\")"
   ]
  },
  {
   "cell_type": "code",
   "execution_count": 81,
   "metadata": {},
   "outputs": [
    {
     "name": "stdout",
     "output_type": "stream",
     "text": [
      "[('king', 0.794317364692688),\n",
      " ('double', 0.7837346196174622),\n",
      " ('twin', 0.7092950344085693),\n",
      " ('kingsize', 0.6979916095733643),\n",
      " ('dbl', 0.6330785751342773),\n",
      " ('kingsized', 0.6218348741531372),\n",
      " ('queensize', 0.617875337600708),\n",
      " ('triple', 0.613437294960022),\n",
      " ('murphy', 0.5789287090301514),\n",
      " ('bunk', 0.5645344257354736)]\n"
     ]
    }
   ],
   "source": [
    "## Analogies: \"man : king :: woman : x\", what is x?\n",
    "pprint.pprint(model.wv.most_similar(positive=['man', 'queen'], negative=['woman']))"
   ]
  },
  {
   "cell_type": "code",
   "execution_count": null,
   "metadata": {},
   "outputs": [],
   "source": []
  }
 ],
 "metadata": {
  "kernelspec": {
   "display_name": "Python 3",
   "language": "python",
   "name": "python3"
  },
  "language_info": {
   "codemirror_mode": {
    "name": "ipython",
    "version": 3
   },
   "file_extension": ".py",
   "mimetype": "text/x-python",
   "name": "python",
   "nbconvert_exporter": "python",
   "pygments_lexer": "ipython3",
   "version": "3.6.8"
  }
 },
 "nbformat": 4,
 "nbformat_minor": 4
}
